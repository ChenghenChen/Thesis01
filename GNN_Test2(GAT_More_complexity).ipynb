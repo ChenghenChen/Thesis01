{
 "cells": [
  {
   "cell_type": "code",
   "execution_count": 35,
   "metadata": {},
   "outputs": [],
   "source": [
    "LANDUSE_NDVI_PATH = \"/home/johnny/Iaacthesis/projects/Geojson/GNN_Read_data/neighborhoods_with_ndvi_numerical.geojson\"\n",
    "OSM_BUILDINGS_PATH = \"/home/johnny/Iaacthesis/projects/Geojson/GNN_Read_data/Taipei_Buildings_fulldata.geojson\"\n",
    "OSM_ROADS_PATH = \"/home/johnny/Iaacthesis/projects/Geojson/GNN_Read_data/taipei_segments_cleaned_verified.geoparquet\"\n",
    "OSM_TREES_PATH = \"/home/johnny/Iaacthesis/projects/Geojson/GNN_Read_data/taipei_land.geoparquet\"\n",
    "OSM_TRANSIT_PATH = \"/home/johnny/Iaacthesis/projects/Geojson/GNN_Read_data/taipei_infrastructure.geoparquet\"\n",
    "URBAN_MASTERPLAN_PATH = \"/home/johnny/Iaacthesis/projects/Geojson/GNN_Read_data/Taipei_urban_masterplan.geojson\"\n",
    "SUBGRAPH_DIR = \"/home/johnny/Iaacthesis/projects/Geojson/GNN_Read_data/subgraphs\"\n",
    "CHECKPOINT_DIR = \"/home/johnny/Iaacthesis/projects/Geojson/GNN_Read_data/checkpoints\""
   ]
  },
  {
   "cell_type": "code",
   "execution_count": 36,
   "metadata": {},
   "outputs": [
    {
     "name": "stdout",
     "output_type": "stream",
     "text": [
      "Stage 1: Loading and preparing data...\n"
     ]
    },
    {
     "name": "stderr",
     "output_type": "stream",
     "text": [
      "Loading files:  17%|█▋        | 1/6 [00:00<00:01,  3.27it/s]"
     ]
    },
    {
     "name": "stdout",
     "output_type": "stream",
     "text": [
      "Validating geometries for neighborhoods...\n",
      "neighborhoods after validation: 456 rows\n",
      "Validating geometries for buildings...\n",
      "buildings after validation: 74306 rows\n",
      "Computing area_m2 for buildings...\n"
     ]
    },
    {
     "name": "stderr",
     "output_type": "stream",
     "text": [
      "Loading files:  67%|██████▋   | 4/6 [00:05<00:02,  1.14s/it]"
     ]
    },
    {
     "name": "stdout",
     "output_type": "stream",
     "text": [
      "Validating geometries for roads...\n",
      "roads after validation: 81444 rows\n",
      "Validating geometries for trees...\n",
      "trees after validation: 3399 rows\n"
     ]
    },
    {
     "name": "stderr",
     "output_type": "stream",
     "text": [
      "Loading files:  83%|████████▎ | 5/6 [00:05<00:00,  1.21it/s]"
     ]
    },
    {
     "name": "stdout",
     "output_type": "stream",
     "text": [
      "Validating geometries for transit...\n",
      "transit after validation: 6844 rows\n"
     ]
    },
    {
     "name": "stderr",
     "output_type": "stream",
     "text": [
      "Loading files: 100%|██████████| 6/6 [00:06<00:00,  1.08s/it]"
     ]
    },
    {
     "name": "stdout",
     "output_type": "stream",
     "text": [
      "Validating geometries for urban_masterplan...\n",
      "urban_masterplan after validation: 15392 rows\n"
     ]
    },
    {
     "name": "stderr",
     "output_type": "stream",
     "text": [
      "\n"
     ]
    },
    {
     "name": "stdout",
     "output_type": "stream",
     "text": [
      "Stage 2: Building graph network...\n"
     ]
    },
    {
     "name": "stderr",
     "output_type": "stream",
     "text": [
      "Building subgraphs: 100%|██████████| 456/456 [00:05<00:00, 79.29it/s] \n"
     ]
    },
    {
     "name": "stdout",
     "output_type": "stream",
     "text": [
      "Stage 3: Calculating rule-based walkability scores...\n"
     ]
    },
    {
     "name": "stderr",
     "output_type": "stream",
     "text": [
      "Calculating walkability: 100%|██████████| 454/454 [01:33<00:00,  4.84it/s]\n"
     ]
    },
    {
     "name": "stdout",
     "output_type": "stream",
     "text": [
      "Columns in nodes_df for subgraph 湖田里 in prepare_gnn_data: ['vertex', 'type', 'lie_name', 'population', 'land_use_residential_percent', 'land_use_commercial_percent', 'land_use_education_percent', 'ndvi_mean', 'tree_count', 'transit_count', 'area_m2', 'length_m', 'road_class', 'walkability_rule']\n",
      "Columns in nodes_df for subgraph 菁山里 in prepare_gnn_data: ['vertex', 'type', 'lie_name', 'population', 'land_use_residential_percent', 'land_use_commercial_percent', 'land_use_education_percent', 'ndvi_mean', 'tree_count', 'transit_count', 'area_m2', 'length_m', 'road_class', 'walkability_rule']\n",
      "Columns in nodes_df for subgraph 大屯里 in prepare_gnn_data: ['vertex', 'type', 'lie_name', 'population', 'land_use_residential_percent', 'land_use_commercial_percent', 'land_use_education_percent', 'ndvi_mean', 'tree_count', 'transit_count', 'area_m2', 'length_m', 'road_class', 'walkability_rule']\n",
      "Columns in nodes_df for subgraph 平等里 in prepare_gnn_data: ['vertex', 'type', 'lie_name', 'population', 'land_use_residential_percent', 'land_use_commercial_percent', 'land_use_education_percent', 'ndvi_mean', 'tree_count', 'transit_count', 'area_m2', 'length_m', 'road_class', 'walkability_rule']\n",
      "Columns in nodes_df for subgraph 泉源里 in prepare_gnn_data: ['vertex', 'type', 'lie_name', 'population', 'land_use_residential_percent', 'land_use_commercial_percent', 'land_use_education_percent', 'ndvi_mean', 'tree_count', 'transit_count', 'area_m2', 'length_m', 'road_class', 'walkability_rule']\n",
      "Columns in nodes_df for subgraph 湖山里 in prepare_gnn_data: ['vertex', 'type', 'lie_name', 'population', 'land_use_residential_percent', 'land_use_commercial_percent', 'land_use_education_percent', 'ndvi_mean', 'tree_count', 'transit_count', 'area_m2', 'length_m', 'road_class', 'walkability_rule']\n",
      "Columns in nodes_df for subgraph 秀山里 in prepare_gnn_data: ['vertex', 'type', 'lie_name', 'population', 'land_use_residential_percent', 'land_use_commercial_percent', 'land_use_education_percent', 'ndvi_mean', 'tree_count', 'transit_count', 'area_m2', 'length_m', 'road_class', 'walkability_rule']\n",
      "Columns in nodes_df for subgraph 陽明里 in prepare_gnn_data: ['vertex', 'type', 'lie_name', 'population', 'land_use_residential_percent', 'land_use_commercial_percent', 'land_use_education_percent', 'ndvi_mean', 'tree_count', 'transit_count', 'area_m2', 'length_m', 'road_class', 'walkability_rule']\n",
      "Columns in nodes_df for subgraph 溪山里 in prepare_gnn_data: ['vertex', 'type', 'lie_name', 'population', 'land_use_residential_percent', 'land_use_commercial_percent', 'land_use_education_percent', 'ndvi_mean', 'tree_count', 'transit_count', 'area_m2', 'length_m', 'road_class', 'walkability_rule']\n",
      "Columns in nodes_df for subgraph 稻香里 in prepare_gnn_data: ['vertex', 'type', 'lie_name', 'population', 'land_use_residential_percent', 'land_use_commercial_percent', 'land_use_education_percent', 'ndvi_mean', 'tree_count', 'transit_count', 'area_m2', 'length_m', 'road_class', 'walkability_rule']\n",
      "Columns in nodes_df for subgraph 開明里 in prepare_gnn_data: ['vertex', 'type', 'lie_name', 'population', 'land_use_residential_percent', 'land_use_commercial_percent', 'land_use_education_percent', 'ndvi_mean', 'tree_count', 'transit_count', 'area_m2', 'length_m', 'road_class', 'walkability_rule']\n",
      "Columns in nodes_df for subgraph 中和里 in prepare_gnn_data: ['vertex', 'type', 'lie_name', 'population', 'land_use_residential_percent', 'land_use_commercial_percent', 'land_use_education_percent', 'ndvi_mean', 'tree_count', 'transit_count', 'area_m2', 'length_m', 'road_class', 'walkability_rule']\n",
      "Columns in nodes_df for subgraph 中心里 in prepare_gnn_data: ['vertex', 'type', 'lie_name', 'population', 'land_use_residential_percent', 'land_use_commercial_percent', 'land_use_education_percent', 'ndvi_mean', 'tree_count', 'transit_count', 'area_m2', 'length_m', 'road_class', 'walkability_rule']\n",
      "Columns in nodes_df for subgraph 桃源里 in prepare_gnn_data: ['vertex', 'type', 'lie_name', 'population', 'land_use_residential_percent', 'land_use_commercial_percent', 'land_use_education_percent', 'ndvi_mean', 'tree_count', 'transit_count', 'area_m2', 'length_m', 'road_class', 'walkability_rule']\n",
      "Columns in nodes_df for subgraph 智仁里 in prepare_gnn_data: ['vertex', 'type', 'lie_name', 'population', 'land_use_residential_percent', 'land_use_commercial_percent', 'land_use_education_percent', 'ndvi_mean', 'tree_count', 'transit_count', 'area_m2', 'length_m', 'road_class', 'walkability_rule']\n",
      "Columns in nodes_df for subgraph 文化里 in prepare_gnn_data: ['vertex', 'type', 'lie_name', 'population', 'land_use_residential_percent', 'land_use_commercial_percent', 'land_use_education_percent', 'ndvi_mean', 'tree_count', 'transit_count', 'area_m2', 'length_m', 'road_class', 'walkability_rule']\n",
      "Columns in nodes_df for subgraph 林泉里 in prepare_gnn_data: ['vertex', 'type', 'lie_name', 'population', 'land_use_residential_percent', 'land_use_commercial_percent', 'land_use_education_percent', 'ndvi_mean', 'tree_count', 'transit_count', 'area_m2', 'length_m', 'road_class', 'walkability_rule']\n",
      "Columns in nodes_df for subgraph 永和里 in prepare_gnn_data: ['vertex', 'type', 'lie_name', 'population', 'land_use_residential_percent', 'land_use_commercial_percent', 'land_use_education_percent', 'ndvi_mean', 'tree_count', 'transit_count', 'area_m2', 'length_m', 'road_class', 'walkability_rule']\n",
      "Columns in nodes_df for subgraph 天母里 in prepare_gnn_data: ['vertex', 'type', 'lie_name', 'population', 'land_use_residential_percent', 'land_use_commercial_percent', 'land_use_education_percent', 'ndvi_mean', 'tree_count', 'transit_count', 'area_m2', 'length_m', 'road_class', 'walkability_rule']\n",
      "Columns in nodes_df for subgraph 公館里 in prepare_gnn_data: ['vertex', 'type', 'lie_name', 'population', 'land_use_residential_percent', 'land_use_commercial_percent', 'land_use_education_percent', 'ndvi_mean', 'tree_count', 'transit_count', 'area_m2', 'length_m', 'road_class', 'walkability_rule']\n",
      "Columns in nodes_df for subgraph 一德里 in prepare_gnn_data: ['vertex', 'type', 'lie_name', 'population', 'land_use_residential_percent', 'land_use_commercial_percent', 'land_use_education_percent', 'ndvi_mean', 'tree_count', 'transit_count', 'area_m2', 'length_m', 'road_class', 'walkability_rule']\n",
      "Columns in nodes_df for subgraph 中庸里 in prepare_gnn_data: ['vertex', 'type', 'lie_name', 'population', 'land_use_residential_percent', 'land_use_commercial_percent', 'land_use_education_percent', 'ndvi_mean', 'tree_count', 'transit_count', 'area_m2', 'length_m', 'road_class', 'walkability_rule']\n",
      "Columns in nodes_df for subgraph 豐年里 in prepare_gnn_data: ['vertex', 'type', 'lie_name', 'population', 'land_use_residential_percent', 'land_use_commercial_percent', 'land_use_education_percent', 'ndvi_mean', 'tree_count', 'transit_count', 'area_m2', 'length_m', 'road_class', 'walkability_rule']\n",
      "Columns in nodes_df for subgraph 新安里 in prepare_gnn_data: ['vertex', 'type', 'lie_name', 'population', 'land_use_residential_percent', 'land_use_commercial_percent', 'land_use_education_percent', 'ndvi_mean', 'tree_count', 'transit_count', 'area_m2', 'length_m', 'road_class', 'walkability_rule']\n",
      "Columns in nodes_df for subgraph 長安里 in prepare_gnn_data: ['vertex', 'type', 'lie_name', 'population', 'land_use_residential_percent', 'land_use_commercial_percent', 'land_use_education_percent', 'ndvi_mean', 'tree_count', 'transit_count', 'area_m2', 'length_m', 'road_class', 'walkability_rule']\n",
      "Columns in nodes_df for subgraph 溫泉里 in prepare_gnn_data: ['vertex', 'type', 'lie_name', 'population', 'land_use_residential_percent', 'land_use_commercial_percent', 'land_use_education_percent', 'ndvi_mean', 'tree_count', 'transit_count', 'area_m2', 'length_m', 'road_class', 'walkability_rule']\n",
      "Columns in nodes_df for subgraph 奇岩里 in prepare_gnn_data: ['vertex', 'type', 'lie_name', 'population', 'land_use_residential_percent', 'land_use_commercial_percent', 'land_use_education_percent', 'ndvi_mean', 'tree_count', 'transit_count', 'area_m2', 'length_m', 'road_class', 'walkability_rule']\n",
      "Columns in nodes_df for subgraph 大同里 in prepare_gnn_data: ['vertex', 'type', 'lie_name', 'population', 'land_use_residential_percent', 'land_use_commercial_percent', 'land_use_education_percent', 'ndvi_mean', 'tree_count', 'transit_count', 'area_m2', 'length_m', 'road_class', 'walkability_rule']\n",
      "Columns in nodes_df for subgraph 東山里 in prepare_gnn_data: ['vertex', 'type', 'lie_name', 'population', 'land_use_residential_percent', 'land_use_commercial_percent', 'land_use_education_percent', 'ndvi_mean', 'tree_count', 'transit_count', 'area_m2', 'length_m', 'road_class', 'walkability_rule']\n",
      "Columns in nodes_df for subgraph 中央里 in prepare_gnn_data: ['vertex', 'type', 'lie_name', 'population', 'land_use_residential_percent', 'land_use_commercial_percent', 'land_use_education_percent', 'ndvi_mean', 'tree_count', 'transit_count', 'area_m2', 'length_m', 'road_class', 'walkability_rule']\n",
      "Columns in nodes_df for subgraph 清江里 in prepare_gnn_data: ['vertex', 'type', 'lie_name', 'population', 'land_use_residential_percent', 'land_use_commercial_percent', 'land_use_education_percent', 'ndvi_mean', 'tree_count', 'transit_count', 'area_m2', 'length_m', 'road_class', 'walkability_rule']\n",
      "Columns in nodes_df for subgraph 永欣里 in prepare_gnn_data: ['vertex', 'type', 'lie_name', 'population', 'land_use_residential_percent', 'land_use_commercial_percent', 'land_use_education_percent', 'ndvi_mean', 'tree_count', 'transit_count', 'area_m2', 'length_m', 'road_class', 'walkability_rule']\n",
      "Columns in nodes_df for subgraph 八仙里 in prepare_gnn_data: ['vertex', 'type', 'lie_name', 'population', 'land_use_residential_percent', 'land_use_commercial_percent', 'land_use_education_percent', 'ndvi_mean', 'tree_count', 'transit_count', 'area_m2', 'length_m', 'road_class', 'walkability_rule']\n",
      "Columns in nodes_df for subgraph 天和里 in prepare_gnn_data: ['vertex', 'type', 'lie_name', 'population', 'land_use_residential_percent', 'land_use_commercial_percent', 'land_use_education_percent', 'ndvi_mean', 'tree_count', 'transit_count', 'area_m2', 'length_m', 'road_class', 'walkability_rule']\n",
      "Columns in nodes_df for subgraph 東華里 in prepare_gnn_data: ['vertex', 'type', 'lie_name', 'population', 'land_use_residential_percent', 'land_use_commercial_percent', 'land_use_education_percent', 'ndvi_mean', 'tree_count', 'transit_count', 'area_m2', 'length_m', 'road_class', 'walkability_rule']\n",
      "Columns in nodes_df for subgraph 天山里 in prepare_gnn_data: ['vertex', 'type', 'lie_name', 'population', 'land_use_residential_percent', 'land_use_commercial_percent', 'land_use_education_percent', 'ndvi_mean', 'tree_count', 'transit_count', 'area_m2', 'length_m', 'road_class', 'walkability_rule']\n",
      "Columns in nodes_df for subgraph 關渡里 in prepare_gnn_data: ['vertex', 'type', 'lie_name', 'population', 'land_use_residential_percent', 'land_use_commercial_percent', 'land_use_education_percent', 'ndvi_mean', 'tree_count', 'transit_count', 'area_m2', 'length_m', 'road_class', 'walkability_rule']\n",
      "Columns in nodes_df for subgraph 天玉里 in prepare_gnn_data: ['vertex', 'type', 'lie_name', 'population', 'land_use_residential_percent', 'land_use_commercial_percent', 'land_use_education_percent', 'ndvi_mean', 'tree_count', 'transit_count', 'area_m2', 'length_m', 'road_class', 'walkability_rule']\n",
      "Columns in nodes_df for subgraph 立農里 in prepare_gnn_data: ['vertex', 'type', 'lie_name', 'population', 'land_use_residential_percent', 'land_use_commercial_percent', 'land_use_education_percent', 'ndvi_mean', 'tree_count', 'transit_count', 'area_m2', 'length_m', 'road_class', 'walkability_rule']\n",
      "Columns in nodes_df for subgraph 芝山里 in prepare_gnn_data: ['vertex', 'type', 'lie_name', 'population', 'land_use_residential_percent', 'land_use_commercial_percent', 'land_use_education_percent', 'ndvi_mean', 'tree_count', 'transit_count', 'area_m2', 'length_m', 'road_class', 'walkability_rule']\n",
      "Columns in nodes_df for subgraph 榮華里 in prepare_gnn_data: ['vertex', 'type', 'lie_name', 'population', 'land_use_residential_percent', 'land_use_commercial_percent', 'land_use_education_percent', 'ndvi_mean', 'tree_count', 'transit_count', 'area_m2', 'length_m', 'road_class', 'walkability_rule']\n",
      "Columns in nodes_df for subgraph 永明里 in prepare_gnn_data: ['vertex', 'type', 'lie_name', 'population', 'land_use_residential_percent', 'land_use_commercial_percent', 'land_use_education_percent', 'ndvi_mean', 'tree_count', 'transit_count', 'area_m2', 'length_m', 'road_class', 'walkability_rule']\n",
      "Columns in nodes_df for subgraph 振華里 in prepare_gnn_data: ['vertex', 'type', 'lie_name', 'population', 'land_use_residential_percent', 'land_use_commercial_percent', 'land_use_education_percent', 'ndvi_mean', 'tree_count', 'transit_count', 'area_m2', 'length_m', 'road_class', 'walkability_rule']\n",
      "Columns in nodes_df for subgraph 吉利里 in prepare_gnn_data: ['vertex', 'type', 'lie_name', 'population', 'land_use_residential_percent', 'land_use_commercial_percent', 'land_use_education_percent', 'ndvi_mean', 'tree_count', 'transit_count', 'area_m2', 'length_m', 'road_class', 'walkability_rule']\n",
      "Columns in nodes_df for subgraph 天壽里 in prepare_gnn_data: ['vertex', 'type', 'lie_name', 'population', 'land_use_residential_percent', 'land_use_commercial_percent', 'land_use_education_percent', 'ndvi_mean', 'tree_count', 'transit_count', 'area_m2', 'length_m', 'road_class', 'walkability_rule']\n",
      "Columns in nodes_df for subgraph 尊賢里 in prepare_gnn_data: ['vertex', 'type', 'lie_name', 'population', 'land_use_residential_percent', 'land_use_commercial_percent', 'land_use_education_percent', 'ndvi_mean', 'tree_count', 'transit_count', 'area_m2', 'length_m', 'road_class', 'walkability_rule']\n",
      "Columns in nodes_df for subgraph 立賢里 in prepare_gnn_data: ['vertex', 'type', 'lie_name', 'population', 'land_use_residential_percent', 'land_use_commercial_percent', 'land_use_education_percent', 'ndvi_mean', 'tree_count', 'transit_count', 'area_m2', 'length_m', 'road_class', 'walkability_rule']\n",
      "Columns in nodes_df for subgraph 天福里 in prepare_gnn_data: ['vertex', 'type', 'lie_name', 'population', 'land_use_residential_percent', 'land_use_commercial_percent', 'land_use_education_percent', 'ndvi_mean', 'tree_count', 'transit_count', 'area_m2', 'length_m', 'road_class', 'walkability_rule']\n",
      "Columns in nodes_df for subgraph 三玉里 in prepare_gnn_data: ['vertex', 'type', 'lie_name', 'population', 'land_use_residential_percent', 'land_use_commercial_percent', 'land_use_education_percent', 'ndvi_mean', 'tree_count', 'transit_count', 'area_m2', 'length_m', 'road_class', 'walkability_rule']\n",
      "Columns in nodes_df for subgraph 天祿里 in prepare_gnn_data: ['vertex', 'type', 'lie_name', 'population', 'land_use_residential_percent', 'land_use_commercial_percent', 'land_use_education_percent', 'ndvi_mean', 'tree_count', 'transit_count', 'area_m2', 'length_m', 'road_class', 'walkability_rule']\n",
      "Columns in nodes_df for subgraph 富洲里 in prepare_gnn_data: ['vertex', 'type', 'lie_name', 'population', 'land_use_residential_percent', 'land_use_commercial_percent', 'land_use_education_percent', 'ndvi_mean', 'tree_count', 'transit_count', 'area_m2', 'length_m', 'road_class', 'walkability_rule']\n",
      "Columns in nodes_df for subgraph 永福里 in prepare_gnn_data: ['vertex', 'type', 'lie_name', 'population', 'land_use_residential_percent', 'land_use_commercial_percent', 'land_use_education_percent', 'ndvi_mean', 'tree_count', 'transit_count', 'area_m2', 'length_m', 'road_class', 'walkability_rule']\n",
      "Columns in nodes_df for subgraph 裕民里 in prepare_gnn_data: ['vertex', 'type', 'lie_name', 'population', 'land_use_residential_percent', 'land_use_commercial_percent', 'land_use_education_percent', 'ndvi_mean', 'tree_count', 'transit_count', 'area_m2', 'length_m', 'road_class', 'walkability_rule']\n",
      "Columns in nodes_df for subgraph 福安里 in prepare_gnn_data: ['vertex', 'type', 'lie_name', 'population', 'land_use_residential_percent', 'land_use_commercial_percent', 'land_use_education_percent', 'ndvi_mean', 'tree_count', 'transit_count', 'area_m2', 'length_m', 'road_class', 'walkability_rule']\n",
      "Columns in nodes_df for subgraph 碧山里 in prepare_gnn_data: ['vertex', 'type', 'lie_name', 'population', 'land_use_residential_percent', 'land_use_commercial_percent', 'land_use_education_percent', 'ndvi_mean', 'tree_count', 'transit_count', 'area_m2', 'length_m', 'road_class', 'walkability_rule']\n",
      "Columns in nodes_df for subgraph 榮光里 in prepare_gnn_data: ['vertex', 'type', 'lie_name', 'population', 'land_use_residential_percent', 'land_use_commercial_percent', 'land_use_education_percent', 'ndvi_mean', 'tree_count', 'transit_count', 'area_m2', 'length_m', 'road_class', 'walkability_rule']\n",
      "Columns in nodes_df for subgraph 吉慶里 in prepare_gnn_data: ['vertex', 'type', 'lie_name', 'population', 'land_use_residential_percent', 'land_use_commercial_percent', 'land_use_education_percent', 'ndvi_mean', 'tree_count', 'transit_count', 'area_m2', 'length_m', 'road_class', 'walkability_rule']\n",
      "Columns in nodes_df for subgraph 福興里 in prepare_gnn_data: ['vertex', 'type', 'lie_name', 'population', 'land_use_residential_percent', 'land_use_commercial_percent', 'land_use_education_percent', 'ndvi_mean', 'tree_count', 'transit_count', 'area_m2', 'length_m', 'road_class', 'walkability_rule']\n",
      "Columns in nodes_df for subgraph 蘭興里 in prepare_gnn_data: ['vertex', 'type', 'lie_name', 'population', 'land_use_residential_percent', 'land_use_commercial_percent', 'land_use_education_percent', 'ndvi_mean', 'tree_count', 'transit_count', 'area_m2', 'length_m', 'road_class', 'walkability_rule']\n",
      "Columns in nodes_df for subgraph 洲美里 in prepare_gnn_data: ['vertex', 'type', 'lie_name', 'population', 'land_use_residential_percent', 'land_use_commercial_percent', 'land_use_education_percent', 'ndvi_mean', 'tree_count', 'transit_count', 'area_m2', 'length_m', 'road_class', 'walkability_rule']\n",
      "Columns in nodes_df for subgraph 臨溪里 in prepare_gnn_data: ['vertex', 'type', 'lie_name', 'population', 'land_use_residential_percent', 'land_use_commercial_percent', 'land_use_education_percent', 'ndvi_mean', 'tree_count', 'transit_count', 'area_m2', 'length_m', 'road_class', 'walkability_rule']\n",
      "Columns in nodes_df for subgraph 翠山里 in prepare_gnn_data: ['vertex', 'type', 'lie_name', 'population', 'land_use_residential_percent', 'land_use_commercial_percent', 'land_use_education_percent', 'ndvi_mean', 'tree_count', 'transit_count', 'area_m2', 'length_m', 'road_class', 'walkability_rule']\n",
      "Columns in nodes_df for subgraph 蘭雅里 in prepare_gnn_data: ['vertex', 'type', 'lie_name', 'population', 'land_use_residential_percent', 'land_use_commercial_percent', 'land_use_education_percent', 'ndvi_mean', 'tree_count', 'transit_count', 'area_m2', 'length_m', 'road_class', 'walkability_rule']\n",
      "Columns in nodes_df for subgraph 石牌里 in prepare_gnn_data: ['vertex', 'type', 'lie_name', 'population', 'land_use_residential_percent', 'land_use_commercial_percent', 'land_use_education_percent', 'ndvi_mean', 'tree_count', 'transit_count', 'area_m2', 'length_m', 'road_class', 'walkability_rule']\n",
      "Columns in nodes_df for subgraph 文林里 in prepare_gnn_data: ['vertex', 'type', 'lie_name', 'population', 'land_use_residential_percent', 'land_use_commercial_percent', 'land_use_education_percent', 'ndvi_mean', 'tree_count', 'transit_count', 'area_m2', 'length_m', 'road_class', 'walkability_rule']\n",
      "Columns in nodes_df for subgraph 聖山里 in prepare_gnn_data: ['vertex', 'type', 'lie_name', 'population', 'land_use_residential_percent', 'land_use_commercial_percent', 'land_use_education_percent', 'ndvi_mean', 'tree_count', 'transit_count', 'area_m2', 'length_m', 'road_class', 'walkability_rule']\n",
      "Columns in nodes_df for subgraph 建民里 in prepare_gnn_data: ['vertex', 'type', 'lie_name', 'population', 'land_use_residential_percent', 'land_use_commercial_percent', 'land_use_education_percent', 'ndvi_mean', 'tree_count', 'transit_count', 'area_m2', 'length_m', 'road_class', 'walkability_rule']\n",
      "Columns in nodes_df for subgraph 內溝里 in prepare_gnn_data: ['vertex', 'type', 'lie_name', 'population', 'land_use_residential_percent', 'land_use_commercial_percent', 'land_use_education_percent', 'ndvi_mean', 'tree_count', 'transit_count', 'area_m2', 'length_m', 'road_class', 'walkability_rule']\n",
      "Columns in nodes_df for subgraph 岩山里 in prepare_gnn_data: ['vertex', 'type', 'lie_name', 'population', 'land_use_residential_percent', 'land_use_commercial_percent', 'land_use_education_percent', 'ndvi_mean', 'tree_count', 'transit_count', 'area_m2', 'length_m', 'road_class', 'walkability_rule']\n",
      "Columns in nodes_df for subgraph 忠誠里 in prepare_gnn_data: ['vertex', 'type', 'lie_name', 'population', 'land_use_residential_percent', 'land_use_commercial_percent', 'land_use_education_percent', 'ndvi_mean', 'tree_count', 'transit_count', 'area_m2', 'length_m', 'road_class', 'walkability_rule']\n",
      "Columns in nodes_df for subgraph 金瑞里 in prepare_gnn_data: ['vertex', 'type', 'lie_name', 'population', 'land_use_residential_percent', 'land_use_commercial_percent', 'land_use_education_percent', 'ndvi_mean', 'tree_count', 'transit_count', 'area_m2', 'length_m', 'road_class', 'walkability_rule']\n",
      "Columns in nodes_df for subgraph 德行里 in prepare_gnn_data: ['vertex', 'type', 'lie_name', 'population', 'land_use_residential_percent', 'land_use_commercial_percent', 'land_use_education_percent', 'ndvi_mean', 'tree_count', 'transit_count', 'area_m2', 'length_m', 'road_class', 'walkability_rule']\n",
      "Columns in nodes_df for subgraph 名山里 in prepare_gnn_data: ['vertex', 'type', 'lie_name', 'population', 'land_use_residential_percent', 'land_use_commercial_percent', 'land_use_education_percent', 'ndvi_mean', 'tree_count', 'transit_count', 'area_m2', 'length_m', 'road_class', 'walkability_rule']\n",
      "Columns in nodes_df for subgraph 大湖里 in prepare_gnn_data: ['vertex', 'type', 'lie_name', 'population', 'land_use_residential_percent', 'land_use_commercial_percent', 'land_use_education_percent', 'ndvi_mean', 'tree_count', 'transit_count', 'area_m2', 'length_m', 'road_class', 'walkability_rule']\n",
      "Columns in nodes_df for subgraph 德華里 in prepare_gnn_data: ['vertex', 'type', 'lie_name', 'population', 'land_use_residential_percent', 'land_use_commercial_percent', 'land_use_education_percent', 'ndvi_mean', 'tree_count', 'transit_count', 'area_m2', 'length_m', 'road_class', 'walkability_rule']\n",
      "Columns in nodes_df for subgraph 福志里 in prepare_gnn_data: ['vertex', 'type', 'lie_name', 'population', 'land_use_residential_percent', 'land_use_commercial_percent', 'land_use_education_percent', 'ndvi_mean', 'tree_count', 'transit_count', 'area_m2', 'length_m', 'road_class', 'walkability_rule']\n",
      "Columns in nodes_df for subgraph 舊佳里 in prepare_gnn_data: ['vertex', 'type', 'lie_name', 'population', 'land_use_residential_percent', 'land_use_commercial_percent', 'land_use_education_percent', 'ndvi_mean', 'tree_count', 'transit_count', 'area_m2', 'length_m', 'road_class', 'walkability_rule']\n",
      "Columns in nodes_df for subgraph 福林里 in prepare_gnn_data: ['vertex', 'type', 'lie_name', 'population', 'land_use_residential_percent', 'land_use_commercial_percent', 'land_use_education_percent', 'ndvi_mean', 'tree_count', 'transit_count', 'area_m2', 'length_m', 'road_class', 'walkability_rule']\n",
      "Columns in nodes_df for subgraph 福佳里 in prepare_gnn_data: ['vertex', 'type', 'lie_name', 'population', 'land_use_residential_percent', 'land_use_commercial_percent', 'land_use_education_percent', 'ndvi_mean', 'tree_count', 'transit_count', 'area_m2', 'length_m', 'road_class', 'walkability_rule']\n",
      "Columns in nodes_df for subgraph 西安里 in prepare_gnn_data: ['vertex', 'type', 'lie_name', 'population', 'land_use_residential_percent', 'land_use_commercial_percent', 'land_use_education_percent', 'ndvi_mean', 'tree_count', 'transit_count', 'area_m2', 'length_m', 'road_class', 'walkability_rule']\n",
      "Columns in nodes_df for subgraph 西康里 in prepare_gnn_data: ['vertex', 'type', 'lie_name', 'population', 'land_use_residential_percent', 'land_use_commercial_percent', 'land_use_education_percent', 'ndvi_mean', 'tree_count', 'transit_count', 'area_m2', 'length_m', 'road_class', 'walkability_rule']\n",
      "Columns in nodes_df for subgraph 後港里 in prepare_gnn_data: ['vertex', 'type', 'lie_name', 'population', 'land_use_residential_percent', 'land_use_commercial_percent', 'land_use_education_percent', 'ndvi_mean', 'tree_count', 'transit_count', 'area_m2', 'length_m', 'road_class', 'walkability_rule']\n",
      "Columns in nodes_df for subgraph 永倫里 in prepare_gnn_data: ['vertex', 'type', 'lie_name', 'population', 'land_use_residential_percent', 'land_use_commercial_percent', 'land_use_education_percent', 'ndvi_mean', 'tree_count', 'transit_count', 'area_m2', 'length_m', 'road_class', 'walkability_rule']\n",
      "Columns in nodes_df for subgraph 社園里 in prepare_gnn_data: ['vertex', 'type', 'lie_name', 'population', 'land_use_residential_percent', 'land_use_commercial_percent', 'land_use_education_percent', 'ndvi_mean', 'tree_count', 'transit_count', 'area_m2', 'length_m', 'road_class', 'walkability_rule']\n",
      "Columns in nodes_df for subgraph 社子里 in prepare_gnn_data: ['vertex', 'type', 'lie_name', 'population', 'land_use_residential_percent', 'land_use_commercial_percent', 'land_use_education_percent', 'ndvi_mean', 'tree_count', 'transit_count', 'area_m2', 'length_m', 'road_class', 'walkability_rule']\n",
      "Columns in nodes_df for subgraph 福德里 in prepare_gnn_data: ['vertex', 'type', 'lie_name', 'population', 'land_use_residential_percent', 'land_use_commercial_percent', 'land_use_education_percent', 'ndvi_mean', 'tree_count', 'transit_count', 'area_m2', 'length_m', 'road_class', 'walkability_rule']\n",
      "Columns in nodes_df for subgraph 港華里 in prepare_gnn_data: ['vertex', 'type', 'lie_name', 'population', 'land_use_residential_percent', 'land_use_commercial_percent', 'land_use_education_percent', 'ndvi_mean', 'tree_count', 'transit_count', 'area_m2', 'length_m', 'road_class', 'walkability_rule']\n",
      "Columns in nodes_df for subgraph 仁勇里 in prepare_gnn_data: ['vertex', 'type', 'lie_name', 'population', 'land_use_residential_percent', 'land_use_commercial_percent', 'land_use_education_percent', 'ndvi_mean', 'tree_count', 'transit_count', 'area_m2', 'length_m', 'road_class', 'walkability_rule']\n",
      "Columns in nodes_df for subgraph 北安里 in prepare_gnn_data: ['vertex', 'type', 'lie_name', 'population', 'land_use_residential_percent', 'land_use_commercial_percent', 'land_use_education_percent', 'ndvi_mean', 'tree_count', 'transit_count', 'area_m2', 'length_m', 'road_class', 'walkability_rule']\n",
      "Columns in nodes_df for subgraph 劍潭里 in prepare_gnn_data: ['vertex', 'type', 'lie_name', 'population', 'land_use_residential_percent', 'land_use_commercial_percent', 'land_use_education_percent', 'ndvi_mean', 'tree_count', 'transit_count', 'area_m2', 'length_m', 'road_class', 'walkability_rule']\n",
      "Columns in nodes_df for subgraph 大直里 in prepare_gnn_data: ['vertex', 'type', 'lie_name', 'population', 'land_use_residential_percent', 'land_use_commercial_percent', 'land_use_education_percent', 'ndvi_mean', 'tree_count', 'transit_count', 'area_m2', 'length_m', 'road_class', 'walkability_rule']\n",
      "Columns in nodes_df for subgraph 安泰里 in prepare_gnn_data: ['vertex', 'type', 'lie_name', 'population', 'land_use_residential_percent', 'land_use_commercial_percent', 'land_use_education_percent', 'ndvi_mean', 'tree_count', 'transit_count', 'area_m2', 'length_m', 'road_class', 'walkability_rule']\n",
      "Columns in nodes_df for subgraph 義信里 in prepare_gnn_data: ['vertex', 'type', 'lie_name', 'population', 'land_use_residential_percent', 'land_use_commercial_percent', 'land_use_education_percent', 'ndvi_mean', 'tree_count', 'transit_count', 'area_m2', 'length_m', 'road_class', 'walkability_rule']\n",
      "Columns in nodes_df for subgraph 港富里 in prepare_gnn_data: ['vertex', 'type', 'lie_name', 'population', 'land_use_residential_percent', 'land_use_commercial_percent', 'land_use_education_percent', 'ndvi_mean', 'tree_count', 'transit_count', 'area_m2', 'length_m', 'road_class', 'walkability_rule']\n",
      "Columns in nodes_df for subgraph 社新里 in prepare_gnn_data: ['vertex', 'type', 'lie_name', 'population', 'land_use_residential_percent', 'land_use_commercial_percent', 'land_use_education_percent', 'ndvi_mean', 'tree_count', 'transit_count', 'area_m2', 'length_m', 'road_class', 'walkability_rule']\n",
      "Columns in nodes_df for subgraph 福中里 in prepare_gnn_data: ['vertex', 'type', 'lie_name', 'population', 'land_use_residential_percent', 'land_use_commercial_percent', 'land_use_education_percent', 'ndvi_mean', 'tree_count', 'transit_count', 'area_m2', 'length_m', 'road_class', 'walkability_rule']\n",
      "Columns in nodes_df for subgraph 湖濱里 in prepare_gnn_data: ['vertex', 'type', 'lie_name', 'population', 'land_use_residential_percent', 'land_use_commercial_percent', 'land_use_education_percent', 'ndvi_mean', 'tree_count', 'transit_count', 'area_m2', 'length_m', 'road_class', 'walkability_rule']\n",
      "Columns in nodes_df for subgraph 葫東里 in prepare_gnn_data: ['vertex', 'type', 'lie_name', 'population', 'land_use_residential_percent', 'land_use_commercial_percent', 'land_use_education_percent', 'ndvi_mean', 'tree_count', 'transit_count', 'area_m2', 'length_m', 'road_class', 'walkability_rule']\n",
      "Columns in nodes_df for subgraph 前港里 in prepare_gnn_data: ['vertex', 'type', 'lie_name', 'population', 'land_use_residential_percent', 'land_use_commercial_percent', 'land_use_education_percent', 'ndvi_mean', 'tree_count', 'transit_count', 'area_m2', 'length_m', 'road_class', 'walkability_rule']\n",
      "Columns in nodes_df for subgraph 秀湖里 in prepare_gnn_data: ['vertex', 'type', 'lie_name', 'population', 'land_use_residential_percent', 'land_use_commercial_percent', 'land_use_education_percent', 'ndvi_mean', 'tree_count', 'transit_count', 'area_m2', 'length_m', 'road_class', 'walkability_rule']\n",
      "Columns in nodes_df for subgraph 金龍里 in prepare_gnn_data: ['vertex', 'type', 'lie_name', 'population', 'land_use_residential_percent', 'land_use_commercial_percent', 'land_use_education_percent', 'ndvi_mean', 'tree_count', 'transit_count', 'area_m2', 'length_m', 'road_class', 'walkability_rule']\n",
      "Columns in nodes_df for subgraph 西湖里 in prepare_gnn_data: ['vertex', 'type', 'lie_name', 'population', 'land_use_residential_percent', 'land_use_commercial_percent', 'land_use_education_percent', 'ndvi_mean', 'tree_count', 'transit_count', 'area_m2', 'length_m', 'road_class', 'walkability_rule']\n",
      "Columns in nodes_df for subgraph 麗山里 in prepare_gnn_data: ['vertex', 'type', 'lie_name', 'population', 'land_use_residential_percent', 'land_use_commercial_percent', 'land_use_education_percent', 'ndvi_mean', 'tree_count', 'transit_count', 'area_m2', 'length_m', 'road_class', 'walkability_rule']\n",
      "Columns in nodes_df for subgraph 葫蘆里 in prepare_gnn_data: ['vertex', 'type', 'lie_name', 'population', 'land_use_residential_percent', 'land_use_commercial_percent', 'land_use_education_percent', 'ndvi_mean', 'tree_count', 'transit_count', 'area_m2', 'length_m', 'road_class', 'walkability_rule']\n",
      "Columns in nodes_df for subgraph 成功里 in prepare_gnn_data: ['vertex', 'type', 'lie_name', 'population', 'land_use_residential_percent', 'land_use_commercial_percent', 'land_use_education_percent', 'ndvi_mean', 'tree_count', 'transit_count', 'area_m2', 'length_m', 'road_class', 'walkability_rule']\n",
      "Columns in nodes_df for subgraph 內湖里 in prepare_gnn_data: ['vertex', 'type', 'lie_name', 'population', 'land_use_residential_percent', 'land_use_commercial_percent', 'land_use_education_percent', 'ndvi_mean', 'tree_count', 'transit_count', 'area_m2', 'length_m', 'road_class', 'walkability_rule']\n",
      "Columns in nodes_df for subgraph 百齡里 in prepare_gnn_data: ['vertex', 'type', 'lie_name', 'population', 'land_use_residential_percent', 'land_use_commercial_percent', 'land_use_education_percent', 'ndvi_mean', 'tree_count', 'transit_count', 'area_m2', 'length_m', 'road_class', 'walkability_rule']\n",
      "Columns in nodes_df for subgraph 金泰里 in prepare_gnn_data: ['vertex', 'type', 'lie_name', 'population', 'land_use_residential_percent', 'land_use_commercial_percent', 'land_use_education_percent', 'ndvi_mean', 'tree_count', 'transit_count', 'area_m2', 'length_m', 'road_class', 'walkability_rule']\n",
      "Columns in nodes_df for subgraph 清白里 in prepare_gnn_data: ['vertex', 'type', 'lie_name', 'population', 'land_use_residential_percent', 'land_use_commercial_percent', 'land_use_education_percent', 'ndvi_mean', 'tree_count', 'transit_count', 'area_m2', 'length_m', 'road_class', 'walkability_rule']\n",
      "Columns in nodes_df for subgraph 承德里 in prepare_gnn_data: ['vertex', 'type', 'lie_name', 'population', 'land_use_residential_percent', 'land_use_commercial_percent', 'land_use_education_percent', 'ndvi_mean', 'tree_count', 'transit_count', 'area_m2', 'length_m', 'road_class', 'walkability_rule']\n",
      "Columns in nodes_df for subgraph 福順里 in prepare_gnn_data: ['vertex', 'type', 'lie_name', 'population', 'land_use_residential_percent', 'land_use_commercial_percent', 'land_use_education_percent', 'ndvi_mean', 'tree_count', 'transit_count', 'area_m2', 'length_m', 'road_class', 'walkability_rule']\n",
      "Columns in nodes_df for subgraph 港都里 in prepare_gnn_data: ['vertex', 'type', 'lie_name', 'population', 'land_use_residential_percent', 'land_use_commercial_percent', 'land_use_education_percent', 'ndvi_mean', 'tree_count', 'transit_count', 'area_m2', 'length_m', 'road_class', 'walkability_rule']\n",
      "Columns in nodes_df for subgraph 福華里 in prepare_gnn_data: ['vertex', 'type', 'lie_name', 'population', 'land_use_residential_percent', 'land_use_commercial_percent', 'land_use_education_percent', 'ndvi_mean', 'tree_count', 'transit_count', 'area_m2', 'length_m', 'road_class', 'walkability_rule']\n",
      "Columns in nodes_df for subgraph 富光里 in prepare_gnn_data: ['vertex', 'type', 'lie_name', 'population', 'land_use_residential_percent', 'land_use_commercial_percent', 'land_use_education_percent', 'ndvi_mean', 'tree_count', 'transit_count', 'area_m2', 'length_m', 'road_class', 'walkability_rule']\n",
      "Columns in nodes_df for subgraph 紫星里 in prepare_gnn_data: ['vertex', 'type', 'lie_name', 'population', 'land_use_residential_percent', 'land_use_commercial_percent', 'land_use_education_percent', 'ndvi_mean', 'tree_count', 'transit_count', 'area_m2', 'length_m', 'road_class', 'walkability_rule']\n",
      "Columns in nodes_df for subgraph 港墘里 in prepare_gnn_data: ['vertex', 'type', 'lie_name', 'population', 'land_use_residential_percent', 'land_use_commercial_percent', 'land_use_education_percent', 'ndvi_mean', 'tree_count', 'transit_count', 'area_m2', 'length_m', 'road_class', 'walkability_rule']\n",
      "Columns in nodes_df for subgraph 金湖里 in prepare_gnn_data: ['vertex', 'type', 'lie_name', 'population', 'land_use_residential_percent', 'land_use_commercial_percent', 'land_use_education_percent', 'ndvi_mean', 'tree_count', 'transit_count', 'area_m2', 'length_m', 'road_class', 'walkability_rule']\n",
      "Columns in nodes_df for subgraph 明勝里 in prepare_gnn_data: ['vertex', 'type', 'lie_name', 'population', 'land_use_residential_percent', 'land_use_commercial_percent', 'land_use_education_percent', 'ndvi_mean', 'tree_count', 'transit_count', 'area_m2', 'length_m', 'road_class', 'walkability_rule']\n",
      "Columns in nodes_df for subgraph 永安里 in prepare_gnn_data: ['vertex', 'type', 'lie_name', 'population', 'land_use_residential_percent', 'land_use_commercial_percent', 'land_use_education_percent', 'ndvi_mean', 'tree_count', 'transit_count', 'area_m2', 'length_m', 'road_class', 'walkability_rule']\n",
      "Columns in nodes_df for subgraph 紫陽里 in prepare_gnn_data: ['vertex', 'type', 'lie_name', 'population', 'land_use_residential_percent', 'land_use_commercial_percent', 'land_use_education_percent', 'ndvi_mean', 'tree_count', 'transit_count', 'area_m2', 'length_m', 'road_class', 'walkability_rule']\n",
      "Columns in nodes_df for subgraph 重慶里 in prepare_gnn_data: ['vertex', 'type', 'lie_name', 'population', 'land_use_residential_percent', 'land_use_commercial_percent', 'land_use_education_percent', 'ndvi_mean', 'tree_count', 'transit_count', 'area_m2', 'length_m', 'road_class', 'walkability_rule']\n",
      "Columns in nodes_df for subgraph 紫雲里 in prepare_gnn_data: ['vertex', 'type', 'lie_name', 'population', 'land_use_residential_percent', 'land_use_commercial_percent', 'land_use_education_percent', 'ndvi_mean', 'tree_count', 'transit_count', 'area_m2', 'length_m', 'road_class', 'walkability_rule']\n",
      "Columns in nodes_df for subgraph 老師里 in prepare_gnn_data: ['vertex', 'type', 'lie_name', 'population', 'land_use_residential_percent', 'land_use_commercial_percent', 'land_use_education_percent', 'ndvi_mean', 'tree_count', 'transit_count', 'area_m2', 'length_m', 'road_class', 'walkability_rule']\n",
      "Columns in nodes_df for subgraph 瑞陽里 in prepare_gnn_data: ['vertex', 'type', 'lie_name', 'population', 'land_use_residential_percent', 'land_use_commercial_percent', 'land_use_education_percent', 'ndvi_mean', 'tree_count', 'transit_count', 'area_m2', 'length_m', 'road_class', 'walkability_rule']\n",
      "Columns in nodes_df for subgraph 康寧里 in prepare_gnn_data: ['vertex', 'type', 'lie_name', 'population', 'land_use_residential_percent', 'land_use_commercial_percent', 'land_use_education_percent', 'ndvi_mean', 'tree_count', 'transit_count', 'area_m2', 'length_m', 'road_class', 'walkability_rule']\n",
      "Columns in nodes_df for subgraph 新庄里 in prepare_gnn_data: ['vertex', 'type', 'lie_name', 'population', 'land_use_residential_percent', 'land_use_commercial_percent', 'land_use_education_percent', 'ndvi_mean', 'tree_count', 'transit_count', 'area_m2', 'length_m', 'road_class', 'walkability_rule']\n",
      "Columns in nodes_df for subgraph 大佳里 in prepare_gnn_data: ['vertex', 'type', 'lie_name', 'population', 'land_use_residential_percent', 'land_use_commercial_percent', 'land_use_education_percent', 'ndvi_mean', 'tree_count', 'transit_count', 'area_m2', 'length_m', 'road_class', 'walkability_rule']\n",
      "Columns in nodes_df for subgraph 寶湖里 in prepare_gnn_data: ['vertex', 'type', 'lie_name', 'population', 'land_use_residential_percent', 'land_use_commercial_percent', 'land_use_education_percent', 'ndvi_mean', 'tree_count', 'transit_count', 'area_m2', 'length_m', 'road_class', 'walkability_rule']\n",
      "Columns in nodes_df for subgraph 圓山里 in prepare_gnn_data: ['vertex', 'type', 'lie_name', 'population', 'land_use_residential_percent', 'land_use_commercial_percent', 'land_use_education_percent', 'ndvi_mean', 'tree_count', 'transit_count', 'area_m2', 'length_m', 'road_class', 'walkability_rule']\n",
      "Columns in nodes_df for subgraph 瑞光里 in prepare_gnn_data: ['vertex', 'type', 'lie_name', 'population', 'land_use_residential_percent', 'land_use_commercial_percent', 'land_use_education_percent', 'ndvi_mean', 'tree_count', 'transit_count', 'area_m2', 'length_m', 'road_class', 'walkability_rule']\n",
      "Columns in nodes_df for subgraph 莊敬里 in prepare_gnn_data: ['vertex', 'type', 'lie_name', 'population', 'land_use_residential_percent', 'land_use_commercial_percent', 'land_use_education_percent', 'ndvi_mean', 'tree_count', 'transit_count', 'area_m2', 'length_m', 'road_class', 'walkability_rule']\n",
      "Columns in nodes_df for subgraph 湖興里 in prepare_gnn_data: ['vertex', 'type', 'lie_name', 'population', 'land_use_residential_percent', 'land_use_commercial_percent', 'land_use_education_percent', 'ndvi_mean', 'tree_count', 'transit_count', 'area_m2', 'length_m', 'road_class', 'walkability_rule']\n",
      "Columns in nodes_df for subgraph 安湖里 in prepare_gnn_data: ['vertex', 'type', 'lie_name', 'population', 'land_use_residential_percent', 'land_use_commercial_percent', 'land_use_education_percent', 'ndvi_mean', 'tree_count', 'transit_count', 'area_m2', 'length_m', 'road_class', 'walkability_rule']\n",
      "Columns in nodes_df for subgraph 東湖里 in prepare_gnn_data: ['vertex', 'type', 'lie_name', 'population', 'land_use_residential_percent', 'land_use_commercial_percent', 'land_use_education_percent', 'ndvi_mean', 'tree_count', 'transit_count', 'area_m2', 'length_m', 'road_class', 'walkability_rule']\n",
      "Columns in nodes_df for subgraph 保安里 in prepare_gnn_data: ['vertex', 'type', 'lie_name', 'population', 'land_use_residential_percent', 'land_use_commercial_percent', 'land_use_education_percent', 'ndvi_mean', 'tree_count', 'transit_count', 'area_m2', 'length_m', 'road_class', 'walkability_rule']\n",
      "Columns in nodes_df for subgraph 樂康里 in prepare_gnn_data: ['vertex', 'type', 'lie_name', 'population', 'land_use_residential_percent', 'land_use_commercial_percent', 'land_use_education_percent', 'ndvi_mean', 'tree_count', 'transit_count', 'area_m2', 'length_m', 'road_class', 'walkability_rule']\n",
      "Columns in nodes_df for subgraph 湖元里 in prepare_gnn_data: ['vertex', 'type', 'lie_name', 'population', 'land_use_residential_percent', 'land_use_commercial_percent', 'land_use_education_percent', 'ndvi_mean', 'tree_count', 'transit_count', 'area_m2', 'length_m', 'road_class', 'walkability_rule']\n",
      "Columns in nodes_df for subgraph 葫洲里 in prepare_gnn_data: ['vertex', 'type', 'lie_name', 'population', 'land_use_residential_percent', 'land_use_commercial_percent', 'land_use_education_percent', 'ndvi_mean', 'tree_count', 'transit_count', 'area_m2', 'length_m', 'road_class', 'walkability_rule']\n",
      "Columns in nodes_df for subgraph 明湖里 in prepare_gnn_data: ['vertex', 'type', 'lie_name', 'population', 'land_use_residential_percent', 'land_use_commercial_percent', 'land_use_education_percent', 'ndvi_mean', 'tree_count', 'transit_count', 'area_m2', 'length_m', 'road_class', 'walkability_rule']\n",
      "Columns in nodes_df for subgraph 鄰江里 in prepare_gnn_data: ['vertex', 'type', 'lie_name', 'population', 'land_use_residential_percent', 'land_use_commercial_percent', 'land_use_education_percent', 'ndvi_mean', 'tree_count', 'transit_count', 'area_m2', 'length_m', 'road_class', 'walkability_rule']\n",
      "Columns in nodes_df for subgraph 至聖里 in prepare_gnn_data: ['vertex', 'type', 'lie_name', 'population', 'land_use_residential_percent', 'land_use_commercial_percent', 'land_use_education_percent', 'ndvi_mean', 'tree_count', 'transit_count', 'area_m2', 'length_m', 'road_class', 'walkability_rule']\n",
      "Columns in nodes_df for subgraph 精忠里 in prepare_gnn_data: ['vertex', 'type', 'lie_name', 'population', 'land_use_residential_percent', 'land_use_commercial_percent', 'land_use_education_percent', 'ndvi_mean', 'tree_count', 'transit_count', 'area_m2', 'length_m', 'road_class', 'walkability_rule']\n",
      "Columns in nodes_df for subgraph 南湖里 in prepare_gnn_data: ['vertex', 'type', 'lie_name', 'population', 'land_use_residential_percent', 'land_use_commercial_percent', 'land_use_education_percent', 'ndvi_mean', 'tree_count', 'transit_count', 'area_m2', 'length_m', 'road_class', 'walkability_rule']\n",
      "Columns in nodes_df for subgraph 國慶里 in prepare_gnn_data: ['vertex', 'type', 'lie_name', 'population', 'land_use_residential_percent', 'land_use_commercial_percent', 'land_use_education_percent', 'ndvi_mean', 'tree_count', 'transit_count', 'area_m2', 'length_m', 'road_class', 'walkability_rule']\n",
      "Columns in nodes_df for subgraph 五分里 in prepare_gnn_data: ['vertex', 'type', 'lie_name', 'population', 'land_use_residential_percent', 'land_use_commercial_percent', 'land_use_education_percent', 'ndvi_mean', 'tree_count', 'transit_count', 'area_m2', 'length_m', 'road_class', 'walkability_rule']\n",
      "Columns in nodes_df for subgraph 國順里 in prepare_gnn_data: ['vertex', 'type', 'lie_name', 'population', 'land_use_residential_percent', 'land_use_commercial_percent', 'land_use_education_percent', 'ndvi_mean', 'tree_count', 'transit_count', 'area_m2', 'length_m', 'road_class', 'walkability_rule']\n",
      "Columns in nodes_df for subgraph 揚雅里 in prepare_gnn_data: ['vertex', 'type', 'lie_name', 'population', 'land_use_residential_percent', 'land_use_commercial_percent', 'land_use_education_percent', 'ndvi_mean', 'tree_count', 'transit_count', 'area_m2', 'length_m', 'road_class', 'walkability_rule']\n",
      "Columns in nodes_df for subgraph 斯文里 in prepare_gnn_data: ['vertex', 'type', 'lie_name', 'population', 'land_use_residential_percent', 'land_use_commercial_percent', 'land_use_education_percent', 'ndvi_mean', 'tree_count', 'transit_count', 'area_m2', 'length_m', 'road_class', 'walkability_rule']\n",
      "Columns in nodes_df for subgraph 集英里 in prepare_gnn_data: ['vertex', 'type', 'lie_name', 'population', 'land_use_residential_percent', 'land_use_commercial_percent', 'land_use_education_percent', 'ndvi_mean', 'tree_count', 'transit_count', 'area_m2', 'length_m', 'road_class', 'walkability_rule']\n",
      "Columns in nodes_df for subgraph 新喜里 in prepare_gnn_data: ['vertex', 'type', 'lie_name', 'population', 'land_use_residential_percent', 'land_use_commercial_percent', 'land_use_education_percent', 'ndvi_mean', 'tree_count', 'transit_count', 'area_m2', 'length_m', 'road_class', 'walkability_rule']\n",
      "Columns in nodes_df for subgraph 行政里 in prepare_gnn_data: ['vertex', 'type', 'lie_name', 'population', 'land_use_residential_percent', 'land_use_commercial_percent', 'land_use_education_percent', 'ndvi_mean', 'tree_count', 'transit_count', 'area_m2', 'length_m', 'road_class', 'walkability_rule']\n",
      "Columns in nodes_df for subgraph 行孝里 in prepare_gnn_data: ['vertex', 'type', 'lie_name', 'population', 'land_use_residential_percent', 'land_use_commercial_percent', 'land_use_education_percent', 'ndvi_mean', 'tree_count', 'transit_count', 'area_m2', 'length_m', 'road_class', 'walkability_rule']\n",
      "Columns in nodes_df for subgraph 行仁里 in prepare_gnn_data: ['vertex', 'type', 'lie_name', 'population', 'land_use_residential_percent', 'land_use_commercial_percent', 'land_use_education_percent', 'ndvi_mean', 'tree_count', 'transit_count', 'area_m2', 'length_m', 'road_class', 'walkability_rule']\n",
      "Columns in nodes_df for subgraph 下埤里 in prepare_gnn_data: ['vertex', 'type', 'lie_name', 'population', 'land_use_residential_percent', 'land_use_commercial_percent', 'land_use_education_percent', 'ndvi_mean', 'tree_count', 'transit_count', 'area_m2', 'length_m', 'road_class', 'walkability_rule']\n",
      "Columns in nodes_df for subgraph 石潭里 in prepare_gnn_data: ['vertex', 'type', 'lie_name', 'population', 'land_use_residential_percent', 'land_use_commercial_percent', 'land_use_education_percent', 'ndvi_mean', 'tree_count', 'transit_count', 'area_m2', 'length_m', 'road_class', 'walkability_rule']\n",
      "Columns in nodes_df for subgraph 民福里 in prepare_gnn_data: ['vertex', 'type', 'lie_name', 'population', 'land_use_residential_percent', 'land_use_commercial_percent', 'land_use_education_percent', 'ndvi_mean', 'tree_count', 'transit_count', 'area_m2', 'length_m', 'road_class', 'walkability_rule']\n",
      "Columns in nodes_df for subgraph 晴光里 in prepare_gnn_data: ['vertex', 'type', 'lie_name', 'population', 'land_use_residential_percent', 'land_use_commercial_percent', 'land_use_education_percent', 'ndvi_mean', 'tree_count', 'transit_count', 'area_m2', 'length_m', 'road_class', 'walkability_rule']\n",
      "Columns in nodes_df for subgraph 蓬萊里 in prepare_gnn_data: ['vertex', 'type', 'lie_name', 'population', 'land_use_residential_percent', 'land_use_commercial_percent', 'land_use_education_percent', 'ndvi_mean', 'tree_count', 'transit_count', 'area_m2', 'length_m', 'road_class', 'walkability_rule']\n",
      "Columns in nodes_df for subgraph 隆和里 in prepare_gnn_data: ['vertex', 'type', 'lie_name', 'population', 'land_use_residential_percent', 'land_use_commercial_percent', 'land_use_education_percent', 'ndvi_mean', 'tree_count', 'transit_count', 'area_m2', 'length_m', 'road_class', 'walkability_rule']\n",
      "Columns in nodes_df for subgraph 景星里 in prepare_gnn_data: ['vertex', 'type', 'lie_name', 'population', 'land_use_residential_percent', 'land_use_commercial_percent', 'land_use_education_percent', 'ndvi_mean', 'tree_count', 'transit_count', 'area_m2', 'length_m', 'road_class', 'walkability_rule']\n",
      "Columns in nodes_df for subgraph 蘆洲里 in prepare_gnn_data: ['vertex', 'type', 'lie_name', 'population', 'land_use_residential_percent', 'land_use_commercial_percent', 'land_use_education_percent', 'ndvi_mean', 'tree_count', 'transit_count', 'area_m2', 'length_m', 'road_class', 'walkability_rule']\n",
      "Columns in nodes_df for subgraph 恆安里 in prepare_gnn_data: ['vertex', 'type', 'lie_name', 'population', 'land_use_residential_percent', 'land_use_commercial_percent', 'land_use_education_percent', 'ndvi_mean', 'tree_count', 'transit_count', 'area_m2', 'length_m', 'road_class', 'walkability_rule']\n",
      "Columns in nodes_df for subgraph 三重里 in prepare_gnn_data: ['vertex', 'type', 'lie_name', 'population', 'land_use_residential_percent', 'land_use_commercial_percent', 'land_use_education_percent', 'ndvi_mean', 'tree_count', 'transit_count', 'area_m2', 'length_m', 'road_class', 'walkability_rule']\n",
      "Columns in nodes_df for subgraph 新福里 in prepare_gnn_data: ['vertex', 'type', 'lie_name', 'population', 'land_use_residential_percent', 'land_use_commercial_percent', 'land_use_education_percent', 'ndvi_mean', 'tree_count', 'transit_count', 'area_m2', 'length_m', 'road_class', 'walkability_rule']\n",
      "Columns in nodes_df for subgraph 新東里 in prepare_gnn_data: ['vertex', 'type', 'lie_name', 'population', 'land_use_residential_percent', 'land_use_commercial_percent', 'land_use_education_percent', 'ndvi_mean', 'tree_count', 'transit_count', 'area_m2', 'length_m', 'road_class', 'walkability_rule']\n",
      "Columns in nodes_df for subgraph 新益里 in prepare_gnn_data: ['vertex', 'type', 'lie_name', 'population', 'land_use_residential_percent', 'land_use_commercial_percent', 'land_use_education_percent', 'ndvi_mean', 'tree_count', 'transit_count', 'area_m2', 'length_m', 'road_class', 'walkability_rule']\n",
      "Columns in nodes_df for subgraph 南芳里 in prepare_gnn_data: ['vertex', 'type', 'lie_name', 'population', 'land_use_residential_percent', 'land_use_commercial_percent', 'land_use_education_percent', 'ndvi_mean', 'tree_count', 'transit_count', 'area_m2', 'length_m', 'road_class', 'walkability_rule']\n",
      "Columns in nodes_df for subgraph 富錦里 in prepare_gnn_data: ['vertex', 'type', 'lie_name', 'population', 'land_use_residential_percent', 'land_use_commercial_percent', 'land_use_education_percent', 'ndvi_mean', 'tree_count', 'transit_count', 'area_m2', 'length_m', 'road_class', 'walkability_rule']\n",
      "Columns in nodes_df for subgraph 三民里 in prepare_gnn_data: ['vertex', 'type', 'lie_name', 'population', 'land_use_residential_percent', 'land_use_commercial_percent', 'land_use_education_percent', 'ndvi_mean', 'tree_count', 'transit_count', 'area_m2', 'length_m', 'road_class', 'walkability_rule']\n",
      "Columns in nodes_df for subgraph 民權里 in prepare_gnn_data: ['vertex', 'type', 'lie_name', 'population', 'land_use_residential_percent', 'land_use_commercial_percent', 'land_use_education_percent', 'ndvi_mean', 'tree_count', 'transit_count', 'area_m2', 'length_m', 'road_class', 'walkability_rule']\n",
      "Columns in nodes_df for subgraph 週美里 in prepare_gnn_data: ['vertex', 'type', 'lie_name', 'population', 'land_use_residential_percent', 'land_use_commercial_percent', 'land_use_education_percent', 'ndvi_mean', 'tree_count', 'transit_count', 'area_m2', 'length_m', 'road_class', 'walkability_rule']\n",
      "Columns in nodes_df for subgraph 聚葉里 in prepare_gnn_data: ['vertex', 'type', 'lie_name', 'population', 'land_use_residential_percent', 'land_use_commercial_percent', 'land_use_education_percent', 'ndvi_mean', 'tree_count', 'transit_count', 'area_m2', 'length_m', 'road_class', 'walkability_rule']\n",
      "Columns in nodes_df for subgraph 新生里 in prepare_gnn_data: ['vertex', 'type', 'lie_name', 'population', 'land_use_residential_percent', 'land_use_commercial_percent', 'land_use_education_percent', 'ndvi_mean', 'tree_count', 'transit_count', 'area_m2', 'length_m', 'road_class', 'walkability_rule']\n",
      "Columns in nodes_df for subgraph 東榮里 in prepare_gnn_data: ['vertex', 'type', 'lie_name', 'population', 'land_use_residential_percent', 'land_use_commercial_percent', 'land_use_education_percent', 'ndvi_mean', 'tree_count', 'transit_count', 'area_m2', 'length_m', 'road_class', 'walkability_rule']\n",
      "Columns in nodes_df for subgraph 松江里 in prepare_gnn_data: ['vertex', 'type', 'lie_name', 'population', 'land_use_residential_percent', 'land_use_commercial_percent', 'land_use_education_percent', 'ndvi_mean', 'tree_count', 'transit_count', 'area_m2', 'length_m', 'road_class', 'walkability_rule']\n",
      "Columns in nodes_df for subgraph 江寧里 in prepare_gnn_data: ['vertex', 'type', 'lie_name', 'population', 'land_use_residential_percent', 'land_use_commercial_percent', 'land_use_education_percent', 'ndvi_mean', 'tree_count', 'transit_count', 'area_m2', 'length_m', 'road_class', 'walkability_rule']\n",
      "Columns in nodes_df for subgraph 民有里 in prepare_gnn_data: ['vertex', 'type', 'lie_name', 'population', 'land_use_residential_percent', 'land_use_commercial_percent', 'land_use_education_percent', 'ndvi_mean', 'tree_count', 'transit_count', 'area_m2', 'length_m', 'road_class', 'walkability_rule']\n",
      "Columns in nodes_df for subgraph 延平里 in prepare_gnn_data: ['vertex', 'type', 'lie_name', 'population', 'land_use_residential_percent', 'land_use_commercial_percent', 'land_use_education_percent', 'ndvi_mean', 'tree_count', 'transit_count', 'area_m2', 'length_m', 'road_class', 'walkability_rule']\n",
      "Columns in nodes_df for subgraph 大有里 in prepare_gnn_data: ['vertex', 'type', 'lie_name', 'population', 'land_use_residential_percent', 'land_use_commercial_percent', 'land_use_education_percent', 'ndvi_mean', 'tree_count', 'transit_count', 'area_m2', 'length_m', 'road_class', 'walkability_rule']\n",
      "Columns in nodes_df for subgraph 南港里 in prepare_gnn_data: ['vertex', 'type', 'lie_name', 'population', 'land_use_residential_percent', 'land_use_commercial_percent', 'land_use_education_percent', 'ndvi_mean', 'tree_count', 'transit_count', 'area_m2', 'length_m', 'road_class', 'walkability_rule']\n",
      "Columns in nodes_df for subgraph 中庄里 in prepare_gnn_data: ['vertex', 'type', 'lie_name', 'population', 'land_use_residential_percent', 'land_use_commercial_percent', 'land_use_education_percent', 'ndvi_mean', 'tree_count', 'transit_count', 'area_m2', 'length_m', 'road_class', 'walkability_rule']\n",
      "Columns in nodes_df for subgraph 雙連里 in prepare_gnn_data: ['vertex', 'type', 'lie_name', 'population', 'land_use_residential_percent', 'land_use_commercial_percent', 'land_use_education_percent', 'ndvi_mean', 'tree_count', 'transit_count', 'area_m2', 'length_m', 'road_class', 'walkability_rule']\n",
      "Columns in nodes_df for subgraph 江山里 in prepare_gnn_data: ['vertex', 'type', 'lie_name', 'population', 'land_use_residential_percent', 'land_use_commercial_percent', 'land_use_education_percent', 'ndvi_mean', 'tree_count', 'transit_count', 'area_m2', 'length_m', 'road_class', 'walkability_rule']\n",
      "Columns in nodes_df for subgraph 聚盛里 in prepare_gnn_data: ['vertex', 'type', 'lie_name', 'population', 'land_use_residential_percent', 'land_use_commercial_percent', 'land_use_education_percent', 'ndvi_mean', 'tree_count', 'transit_count', 'area_m2', 'length_m', 'road_class', 'walkability_rule']\n",
      "Columns in nodes_df for subgraph 重陽里 in prepare_gnn_data: ['vertex', 'type', 'lie_name', 'population', 'land_use_residential_percent', 'land_use_commercial_percent', 'land_use_education_percent', 'ndvi_mean', 'tree_count', 'transit_count', 'area_m2', 'length_m', 'road_class', 'walkability_rule']\n",
      "Columns in nodes_df for subgraph 西新里 in prepare_gnn_data: ['vertex', 'type', 'lie_name', 'population', 'land_use_residential_percent', 'land_use_commercial_percent', 'land_use_education_percent', 'ndvi_mean', 'tree_count', 'transit_count', 'area_m2', 'length_m', 'road_class', 'walkability_rule']\n",
      "Columns in nodes_df for subgraph 富泰里 in prepare_gnn_data: ['vertex', 'type', 'lie_name', 'population', 'land_use_residential_percent', 'land_use_commercial_percent', 'land_use_education_percent', 'ndvi_mean', 'tree_count', 'transit_count', 'area_m2', 'length_m', 'road_class', 'walkability_rule']\n",
      "Columns in nodes_df for subgraph 介壽里 in prepare_gnn_data: ['vertex', 'type', 'lie_name', 'population', 'land_use_residential_percent', 'land_use_commercial_percent', 'land_use_education_percent', 'ndvi_mean', 'tree_count', 'transit_count', 'area_m2', 'length_m', 'road_class', 'walkability_rule']\n",
      "Columns in nodes_df for subgraph 東昌里 in prepare_gnn_data: ['vertex', 'type', 'lie_name', 'population', 'land_use_residential_percent', 'land_use_commercial_percent', 'land_use_education_percent', 'ndvi_mean', 'tree_count', 'transit_count', 'area_m2', 'length_m', 'road_class', 'walkability_rule']\n",
      "Columns in nodes_df for subgraph 東新里 in prepare_gnn_data: ['vertex', 'type', 'lie_name', 'population', 'land_use_residential_percent', 'land_use_commercial_percent', 'land_use_education_percent', 'ndvi_mean', 'tree_count', 'transit_count', 'area_m2', 'length_m', 'road_class', 'walkability_rule']\n",
      "Columns in nodes_df for subgraph 中山里 in prepare_gnn_data: ['vertex', 'type', 'lie_name', 'population', 'land_use_residential_percent', 'land_use_commercial_percent', 'land_use_education_percent', 'ndvi_mean', 'tree_count', 'transit_count', 'area_m2', 'length_m', 'road_class', 'walkability_rule']\n",
      "Columns in nodes_df for subgraph 中原里 in prepare_gnn_data: ['vertex', 'type', 'lie_name', 'population', 'land_use_residential_percent', 'land_use_commercial_percent', 'land_use_education_percent', 'ndvi_mean', 'tree_count', 'transit_count', 'area_m2', 'length_m', 'road_class', 'walkability_rule']\n",
      "Columns in nodes_df for subgraph 中吉里 in prepare_gnn_data: ['vertex', 'type', 'lie_name', 'population', 'land_use_residential_percent', 'land_use_commercial_percent', 'land_use_education_percent', 'ndvi_mean', 'tree_count', 'transit_count', 'area_m2', 'length_m', 'road_class', 'walkability_rule']\n",
      "Columns in nodes_df for subgraph 民安里 in prepare_gnn_data: ['vertex', 'type', 'lie_name', 'population', 'land_use_residential_percent', 'land_use_commercial_percent', 'land_use_education_percent', 'ndvi_mean', 'tree_count', 'transit_count', 'area_m2', 'length_m', 'road_class', 'walkability_rule']\n",
      "Columns in nodes_df for subgraph 行善里 in prepare_gnn_data: ['vertex', 'type', 'lie_name', 'population', 'land_use_residential_percent', 'land_use_commercial_percent', 'land_use_education_percent', 'ndvi_mean', 'tree_count', 'transit_count', 'area_m2', 'length_m', 'road_class', 'walkability_rule']\n",
      "Columns in nodes_df for subgraph 朱馥里 in prepare_gnn_data: ['vertex', 'type', 'lie_name', 'population', 'land_use_residential_percent', 'land_use_commercial_percent', 'land_use_education_percent', 'ndvi_mean', 'tree_count', 'transit_count', 'area_m2', 'length_m', 'road_class', 'walkability_rule']\n",
      "Columns in nodes_df for subgraph 龍洲里 in prepare_gnn_data: ['vertex', 'type', 'lie_name', 'population', 'land_use_residential_percent', 'land_use_commercial_percent', 'land_use_education_percent', 'ndvi_mean', 'tree_count', 'transit_count', 'area_m2', 'length_m', 'road_class', 'walkability_rule']\n",
      "Columns in nodes_df for subgraph 松基里 in prepare_gnn_data: ['vertex', 'type', 'lie_name', 'population', 'land_use_residential_percent', 'land_use_commercial_percent', 'land_use_education_percent', 'ndvi_mean', 'tree_count', 'transit_count', 'area_m2', 'length_m', 'road_class', 'walkability_rule']\n",
      "Columns in nodes_df for subgraph 光能里 in prepare_gnn_data: ['vertex', 'type', 'lie_name', 'population', 'land_use_residential_percent', 'land_use_commercial_percent', 'land_use_education_percent', 'ndvi_mean', 'tree_count', 'transit_count', 'area_m2', 'length_m', 'road_class', 'walkability_rule']\n",
      "Columns in nodes_df for subgraph 鵬程里 in prepare_gnn_data: ['vertex', 'type', 'lie_name', 'population', 'land_use_residential_percent', 'land_use_commercial_percent', 'land_use_education_percent', 'ndvi_mean', 'tree_count', 'transit_count', 'area_m2', 'length_m', 'road_class', 'walkability_rule']\n",
      "Columns in nodes_df for subgraph 星明里 in prepare_gnn_data: ['vertex', 'type', 'lie_name', 'population', 'land_use_residential_percent', 'land_use_commercial_percent', 'land_use_education_percent', 'ndvi_mean', 'tree_count', 'transit_count', 'area_m2', 'length_m', 'road_class', 'walkability_rule']\n",
      "Columns in nodes_df for subgraph 自強里 in prepare_gnn_data: ['vertex', 'type', 'lie_name', 'population', 'land_use_residential_percent', 'land_use_commercial_percent', 'land_use_education_percent', 'ndvi_mean', 'tree_count', 'transit_count', 'area_m2', 'length_m', 'road_class', 'walkability_rule']\n",
      "Columns in nodes_df for subgraph 朝陽里 in prepare_gnn_data: ['vertex', 'type', 'lie_name', 'population', 'land_use_residential_percent', 'land_use_commercial_percent', 'land_use_education_percent', 'ndvi_mean', 'tree_count', 'transit_count', 'area_m2', 'length_m', 'road_class', 'walkability_rule']\n",
      "Columns in nodes_df for subgraph 永樂里 in prepare_gnn_data: ['vertex', 'type', 'lie_name', 'population', 'land_use_residential_percent', 'land_use_commercial_percent', 'land_use_education_percent', 'ndvi_mean', 'tree_count', 'transit_count', 'area_m2', 'length_m', 'road_class', 'walkability_rule']\n",
      "Columns in nodes_df for subgraph 龍田里 in prepare_gnn_data: ['vertex', 'type', 'lie_name', 'population', 'land_use_residential_percent', 'land_use_commercial_percent', 'land_use_education_percent', 'ndvi_mean', 'tree_count', 'transit_count', 'area_m2', 'length_m', 'road_class', 'walkability_rule']\n",
      "Columns in nodes_df for subgraph 中華里 in prepare_gnn_data: ['vertex', 'type', 'lie_name', 'population', 'land_use_residential_percent', 'land_use_commercial_percent', 'land_use_education_percent', 'ndvi_mean', 'tree_count', 'transit_count', 'area_m2', 'length_m', 'road_class', 'walkability_rule']\n",
      "Columns in nodes_df for subgraph 東明里 in prepare_gnn_data: ['vertex', 'type', 'lie_name', 'population', 'land_use_residential_percent', 'land_use_commercial_percent', 'land_use_education_percent', 'ndvi_mean', 'tree_count', 'transit_count', 'area_m2', 'length_m', 'road_class', 'walkability_rule']\n",
      "Columns in nodes_df for subgraph 中南里 in prepare_gnn_data: ['vertex', 'type', 'lie_name', 'population', 'land_use_residential_percent', 'land_use_commercial_percent', 'land_use_education_percent', 'ndvi_mean', 'tree_count', 'transit_count', 'area_m2', 'length_m', 'road_class', 'walkability_rule']\n",
      "Columns in nodes_df for subgraph 新富里 in prepare_gnn_data: ['vertex', 'type', 'lie_name', 'population', 'land_use_residential_percent', 'land_use_commercial_percent', 'land_use_education_percent', 'ndvi_mean', 'tree_count', 'transit_count', 'area_m2', 'length_m', 'road_class', 'walkability_rule']\n",
      "Columns in nodes_df for subgraph 玉成里 in prepare_gnn_data: ['vertex', 'type', 'lie_name', 'population', 'land_use_residential_percent', 'land_use_commercial_percent', 'land_use_education_percent', 'ndvi_mean', 'tree_count', 'transit_count', 'area_m2', 'length_m', 'road_class', 'walkability_rule']\n",
      "Columns in nodes_df for subgraph 康樂里 in prepare_gnn_data: ['vertex', 'type', 'lie_name', 'population', 'land_use_residential_percent', 'land_use_commercial_percent', 'land_use_education_percent', 'ndvi_mean', 'tree_count', 'transit_count', 'area_m2', 'length_m', 'road_class', 'walkability_rule']\n",
      "Columns in nodes_df for subgraph 復華里 in prepare_gnn_data: ['vertex', 'type', 'lie_name', 'population', 'land_use_residential_percent', 'land_use_commercial_percent', 'land_use_education_percent', 'ndvi_mean', 'tree_count', 'transit_count', 'area_m2', 'length_m', 'road_class', 'walkability_rule']\n",
      "Columns in nodes_df for subgraph 中正里 in prepare_gnn_data: ['vertex', 'type', 'lie_name', 'population', 'land_use_residential_percent', 'land_use_commercial_percent', 'land_use_education_percent', 'ndvi_mean', 'tree_count', 'transit_count', 'area_m2', 'length_m', 'road_class', 'walkability_rule']\n",
      "Columns in nodes_df for subgraph 安平里 in prepare_gnn_data: ['vertex', 'type', 'lie_name', 'population', 'land_use_residential_percent', 'land_use_commercial_percent', 'land_use_education_percent', 'ndvi_mean', 'tree_count', 'transit_count', 'area_m2', 'length_m', 'road_class', 'walkability_rule']\n",
      "Columns in nodes_df for subgraph 東光里 in prepare_gnn_data: ['vertex', 'type', 'lie_name', 'population', 'land_use_residential_percent', 'land_use_commercial_percent', 'land_use_education_percent', 'ndvi_mean', 'tree_count', 'transit_count', 'area_m2', 'length_m', 'road_class', 'walkability_rule']\n",
      "Columns in nodes_df for subgraph 建功里 in prepare_gnn_data: ['vertex', 'type', 'lie_name', 'population', 'land_use_residential_percent', 'land_use_commercial_percent', 'land_use_education_percent', 'ndvi_mean', 'tree_count', 'transit_count', 'area_m2', 'length_m', 'road_class', 'walkability_rule']\n",
      "Columns in nodes_df for subgraph 玉泉里 in prepare_gnn_data: ['vertex', 'type', 'lie_name', 'population', 'land_use_residential_percent', 'land_use_commercial_percent', 'land_use_education_percent', 'ndvi_mean', 'tree_count', 'transit_count', 'area_m2', 'length_m', 'road_class', 'walkability_rule']\n",
      "Columns in nodes_df for subgraph 東勢里 in prepare_gnn_data: ['vertex', 'type', 'lie_name', 'population', 'land_use_residential_percent', 'land_use_commercial_percent', 'land_use_education_percent', 'ndvi_mean', 'tree_count', 'transit_count', 'area_m2', 'length_m', 'road_class', 'walkability_rule']\n",
      "Columns in nodes_df for subgraph 建泰里 in prepare_gnn_data: ['vertex', 'type', 'lie_name', 'population', 'land_use_residential_percent', 'land_use_commercial_percent', 'land_use_education_percent', 'ndvi_mean', 'tree_count', 'transit_count', 'area_m2', 'length_m', 'road_class', 'walkability_rule']\n",
      "Columns in nodes_df for subgraph 慈祐里 in prepare_gnn_data: ['vertex', 'type', 'lie_name', 'population', 'land_use_residential_percent', 'land_use_commercial_percent', 'land_use_education_percent', 'ndvi_mean', 'tree_count', 'transit_count', 'area_m2', 'length_m', 'road_class', 'walkability_rule']\n",
      "Columns in nodes_df for subgraph 新光里 in prepare_gnn_data: ['vertex', 'type', 'lie_name', 'population', 'land_use_residential_percent', 'land_use_commercial_percent', 'land_use_education_percent', 'ndvi_mean', 'tree_count', 'transit_count', 'area_m2', 'length_m', 'road_class', 'walkability_rule']\n",
      "Columns in nodes_df for subgraph 正得里 in prepare_gnn_data: ['vertex', 'type', 'lie_name', 'population', 'land_use_residential_percent', 'land_use_commercial_percent', 'land_use_education_percent', 'ndvi_mean', 'tree_count', 'transit_count', 'area_m2', 'length_m', 'road_class', 'walkability_rule']\n",
      "Columns in nodes_df for subgraph 正義里 in prepare_gnn_data: ['vertex', 'type', 'lie_name', 'population', 'land_use_residential_percent', 'land_use_commercial_percent', 'land_use_education_percent', 'ndvi_mean', 'tree_count', 'transit_count', 'area_m2', 'length_m', 'road_class', 'walkability_rule']\n",
      "Columns in nodes_df for subgraph 興亞里 in prepare_gnn_data: ['vertex', 'type', 'lie_name', 'population', 'land_use_residential_percent', 'land_use_commercial_percent', 'land_use_education_percent', 'ndvi_mean', 'tree_count', 'transit_count', 'area_m2', 'length_m', 'road_class', 'walkability_rule']\n",
      "Columns in nodes_df for subgraph 朱園里 in prepare_gnn_data: ['vertex', 'type', 'lie_name', 'population', 'land_use_residential_percent', 'land_use_commercial_percent', 'land_use_education_percent', 'ndvi_mean', 'tree_count', 'transit_count', 'area_m2', 'length_m', 'road_class', 'walkability_rule']\n",
      "Columns in nodes_df for subgraph 力行里 in prepare_gnn_data: ['vertex', 'type', 'lie_name', 'population', 'land_use_residential_percent', 'land_use_commercial_percent', 'land_use_education_percent', 'ndvi_mean', 'tree_count', 'transit_count', 'area_m2', 'length_m', 'road_class', 'walkability_rule']\n",
      "Columns in nodes_df for subgraph 美仁里 in prepare_gnn_data: ['vertex', 'type', 'lie_name', 'population', 'land_use_residential_percent', 'land_use_commercial_percent', 'land_use_education_percent', 'ndvi_mean', 'tree_count', 'transit_count', 'area_m2', 'length_m', 'road_class', 'walkability_rule']\n",
      "Columns in nodes_df for subgraph 復勢里 in prepare_gnn_data: ['vertex', 'type', 'lie_name', 'population', 'land_use_residential_percent', 'land_use_commercial_percent', 'land_use_education_percent', 'ndvi_mean', 'tree_count', 'transit_count', 'area_m2', 'length_m', 'road_class', 'walkability_rule']\n",
      "Columns in nodes_df for subgraph 吉祥里 in prepare_gnn_data: ['vertex', 'type', 'lie_name', 'population', 'land_use_residential_percent', 'land_use_commercial_percent', 'land_use_education_percent', 'ndvi_mean', 'tree_count', 'transit_count', 'area_m2', 'length_m', 'road_class', 'walkability_rule']\n",
      "Columns in nodes_df for subgraph 建明里 in prepare_gnn_data: ['vertex', 'type', 'lie_name', 'population', 'land_use_residential_percent', 'land_use_commercial_percent', 'land_use_education_percent', 'ndvi_mean', 'tree_count', 'transit_count', 'area_m2', 'length_m', 'road_class', 'walkability_rule']\n",
      "Columns in nodes_df for subgraph 新聚里 in prepare_gnn_data: ['vertex', 'type', 'lie_name', 'population', 'land_use_residential_percent', 'land_use_commercial_percent', 'land_use_education_percent', 'ndvi_mean', 'tree_count', 'transit_count', 'area_m2', 'length_m', 'road_class', 'walkability_rule']\n",
      "Columns in nodes_df for subgraph 合成里 in prepare_gnn_data: ['vertex', 'type', 'lie_name', 'population', 'land_use_residential_percent', 'land_use_commercial_percent', 'land_use_education_percent', 'ndvi_mean', 'tree_count', 'transit_count', 'area_m2', 'length_m', 'road_class', 'walkability_rule']\n",
      "Columns in nodes_df for subgraph 光復里 in prepare_gnn_data: ['vertex', 'type', 'lie_name', 'population', 'land_use_residential_percent', 'land_use_commercial_percent', 'land_use_education_percent', 'ndvi_mean', 'tree_count', 'transit_count', 'area_m2', 'length_m', 'road_class', 'walkability_rule']\n",
      "Columns in nodes_df for subgraph 聯成里 in prepare_gnn_data: ['vertex', 'type', 'lie_name', 'population', 'land_use_residential_percent', 'land_use_commercial_percent', 'land_use_education_percent', 'ndvi_mean', 'tree_count', 'transit_count', 'area_m2', 'length_m', 'road_class', 'walkability_rule']\n",
      "Columns in nodes_df for subgraph 永吉里 in prepare_gnn_data: ['vertex', 'type', 'lie_name', 'population', 'land_use_residential_percent', 'land_use_commercial_percent', 'land_use_education_percent', 'ndvi_mean', 'tree_count', 'transit_count', 'area_m2', 'length_m', 'road_class', 'walkability_rule']\n",
      "Columns in nodes_df for subgraph 四育里 in prepare_gnn_data: ['vertex', 'type', 'lie_name', 'population', 'land_use_residential_percent', 'land_use_commercial_percent', 'land_use_education_percent', 'ndvi_mean', 'tree_count', 'transit_count', 'area_m2', 'length_m', 'road_class', 'walkability_rule']\n",
      "Columns in nodes_df for subgraph 雅祥里 in prepare_gnn_data: ['vertex', 'type', 'lie_name', 'population', 'land_use_residential_percent', 'land_use_commercial_percent', 'land_use_education_percent', 'ndvi_mean', 'tree_count', 'transit_count', 'area_m2', 'length_m', 'road_class', 'walkability_rule']\n",
      "Columns in nodes_df for subgraph 福星里 in prepare_gnn_data: ['vertex', 'type', 'lie_name', 'population', 'land_use_residential_percent', 'land_use_commercial_percent', 'land_use_education_percent', 'ndvi_mean', 'tree_count', 'transit_count', 'area_m2', 'length_m', 'road_class', 'walkability_rule']\n",
      "Columns in nodes_df for subgraph 黎明里 in prepare_gnn_data: ['vertex', 'type', 'lie_name', 'population', 'land_use_residential_percent', 'land_use_commercial_percent', 'land_use_education_percent', 'ndvi_mean', 'tree_count', 'transit_count', 'area_m2', 'length_m', 'road_class', 'walkability_rule']\n",
      "Columns in nodes_df for subgraph 中研里 in prepare_gnn_data: ['vertex', 'type', 'lie_name', 'population', 'land_use_residential_percent', 'land_use_commercial_percent', 'land_use_education_percent', 'ndvi_mean', 'tree_count', 'transit_count', 'area_m2', 'length_m', 'road_class', 'walkability_rule']\n",
      "Columns in nodes_df for subgraph 新仁里 in prepare_gnn_data: ['vertex', 'type', 'lie_name', 'population', 'land_use_residential_percent', 'land_use_commercial_percent', 'land_use_education_percent', 'ndvi_mean', 'tree_count', 'transit_count', 'area_m2', 'length_m', 'road_class', 'walkability_rule']\n",
      "Columns in nodes_df for subgraph 正守里 in prepare_gnn_data: ['vertex', 'type', 'lie_name', 'population', 'land_use_residential_percent', 'land_use_commercial_percent', 'land_use_education_percent', 'ndvi_mean', 'tree_count', 'transit_count', 'area_m2', 'length_m', 'road_class', 'walkability_rule']\n",
      "Columns in nodes_df for subgraph 復盛里 in prepare_gnn_data: ['vertex', 'type', 'lie_name', 'population', 'land_use_residential_percent', 'land_use_commercial_percent', 'land_use_education_percent', 'ndvi_mean', 'tree_count', 'transit_count', 'area_m2', 'length_m', 'road_class', 'walkability_rule']\n",
      "Columns in nodes_df for subgraph 五常里 in prepare_gnn_data: ['vertex', 'type', 'lie_name', 'population', 'land_use_residential_percent', 'land_use_commercial_percent', 'land_use_education_percent', 'ndvi_mean', 'tree_count', 'transit_count', 'area_m2', 'length_m', 'road_class', 'walkability_rule']\n",
      "Columns in nodes_df for subgraph 朱崙里 in prepare_gnn_data: ['vertex', 'type', 'lie_name', 'population', 'land_use_residential_percent', 'land_use_commercial_percent', 'land_use_education_percent', 'ndvi_mean', 'tree_count', 'transit_count', 'area_m2', 'length_m', 'road_class', 'walkability_rule']\n",
      "Columns in nodes_df for subgraph 復建里 in prepare_gnn_data: ['vertex', 'type', 'lie_name', 'population', 'land_use_residential_percent', 'land_use_commercial_percent', 'land_use_education_percent', 'ndvi_mean', 'tree_count', 'transit_count', 'area_m2', 'length_m', 'road_class', 'walkability_rule']\n",
      "Columns in nodes_df for subgraph 敦化里 in prepare_gnn_data: ['vertex', 'type', 'lie_name', 'population', 'land_use_residential_percent', 'land_use_commercial_percent', 'land_use_education_percent', 'ndvi_mean', 'tree_count', 'transit_count', 'area_m2', 'length_m', 'road_class', 'walkability_rule']\n",
      "Columns in nodes_df for subgraph 吉仁里 in prepare_gnn_data: ['vertex', 'type', 'lie_name', 'population', 'land_use_residential_percent', 'land_use_commercial_percent', 'land_use_education_percent', 'ndvi_mean', 'tree_count', 'transit_count', 'area_m2', 'length_m', 'road_class', 'walkability_rule']\n",
      "Columns in nodes_df for subgraph 復源里 in prepare_gnn_data: ['vertex', 'type', 'lie_name', 'population', 'land_use_residential_percent', 'land_use_commercial_percent', 'land_use_education_percent', 'ndvi_mean', 'tree_count', 'transit_count', 'area_m2', 'length_m', 'road_class', 'walkability_rule']\n",
      "Columns in nodes_df for subgraph 中崙里 in prepare_gnn_data: ['vertex', 'type', 'lie_name', 'population', 'land_use_residential_percent', 'land_use_commercial_percent', 'land_use_education_percent', 'ndvi_mean', 'tree_count', 'transit_count', 'area_m2', 'length_m', 'road_class', 'walkability_rule']\n",
      "Columns in nodes_df for subgraph 福成里 in prepare_gnn_data: ['vertex', 'type', 'lie_name', 'population', 'land_use_residential_percent', 'land_use_commercial_percent', 'land_use_education_percent', 'ndvi_mean', 'tree_count', 'transit_count', 'area_m2', 'length_m', 'road_class', 'walkability_rule']\n",
      "Columns in nodes_df for subgraph 萬福里 in prepare_gnn_data: ['vertex', 'type', 'lie_name', 'population', 'land_use_residential_percent', 'land_use_commercial_percent', 'land_use_education_percent', 'ndvi_mean', 'tree_count', 'transit_count', 'area_m2', 'length_m', 'road_class', 'walkability_rule']\n",
      "Columns in nodes_df for subgraph 梅花里 in prepare_gnn_data: ['vertex', 'type', 'lie_name', 'population', 'land_use_residential_percent', 'land_use_commercial_percent', 'land_use_education_percent', 'ndvi_mean', 'tree_count', 'transit_count', 'area_m2', 'length_m', 'road_class', 'walkability_rule']\n",
      "Columns in nodes_df for subgraph 埤頭里 in prepare_gnn_data: ['vertex', 'type', 'lie_name', 'population', 'land_use_residential_percent', 'land_use_commercial_percent', 'land_use_education_percent', 'ndvi_mean', 'tree_count', 'transit_count', 'area_m2', 'length_m', 'road_class', 'walkability_rule']\n",
      "Columns in nodes_df for subgraph 成福里 in prepare_gnn_data: ['vertex', 'type', 'lie_name', 'population', 'land_use_residential_percent', 'land_use_commercial_percent', 'land_use_education_percent', 'ndvi_mean', 'tree_count', 'transit_count', 'area_m2', 'length_m', 'road_class', 'walkability_rule']\n",
      "Columns in nodes_df for subgraph 萬壽里 in prepare_gnn_data: ['vertex', 'type', 'lie_name', 'population', 'land_use_residential_percent', 'land_use_commercial_percent', 'land_use_education_percent', 'ndvi_mean', 'tree_count', 'transit_count', 'area_m2', 'length_m', 'road_class', 'walkability_rule']\n",
      "Columns in nodes_df for subgraph 敦厚里 in prepare_gnn_data: ['vertex', 'type', 'lie_name', 'population', 'land_use_residential_percent', 'land_use_commercial_percent', 'land_use_education_percent', 'ndvi_mean', 'tree_count', 'transit_count', 'area_m2', 'length_m', 'road_class', 'walkability_rule']\n",
      "Columns in nodes_df for subgraph 六藝里 in prepare_gnn_data: ['vertex', 'type', 'lie_name', 'population', 'land_use_residential_percent', 'land_use_commercial_percent', 'land_use_education_percent', 'ndvi_mean', 'tree_count', 'transit_count', 'area_m2', 'length_m', 'road_class', 'walkability_rule']\n",
      "Columns in nodes_df for subgraph 五全里 in prepare_gnn_data: ['vertex', 'type', 'lie_name', 'population', 'land_use_residential_percent', 'land_use_commercial_percent', 'land_use_education_percent', 'ndvi_mean', 'tree_count', 'transit_count', 'area_m2', 'length_m', 'road_class', 'walkability_rule']\n",
      "Columns in nodes_df for subgraph 四維里 in prepare_gnn_data: ['vertex', 'type', 'lie_name', 'population', 'land_use_residential_percent', 'land_use_commercial_percent', 'land_use_education_percent', 'ndvi_mean', 'tree_count', 'transit_count', 'area_m2', 'length_m', 'road_class', 'walkability_rule']\n",
      "Columns in nodes_df for subgraph 鴻福里 in prepare_gnn_data: ['vertex', 'type', 'lie_name', 'population', 'land_use_residential_percent', 'land_use_commercial_percent', 'land_use_education_percent', 'ndvi_mean', 'tree_count', 'transit_count', 'area_m2', 'length_m', 'road_class', 'walkability_rule']\n",
      "Columns in nodes_df for subgraph 民輝里 in prepare_gnn_data: ['vertex', 'type', 'lie_name', 'population', 'land_use_residential_percent', 'land_use_commercial_percent', 'land_use_education_percent', 'ndvi_mean', 'tree_count', 'transit_count', 'area_m2', 'length_m', 'road_class', 'walkability_rule']\n",
      "Columns in nodes_df for subgraph 幸福里 in prepare_gnn_data: ['vertex', 'type', 'lie_name', 'population', 'land_use_residential_percent', 'land_use_commercial_percent', 'land_use_education_percent', 'ndvi_mean', 'tree_count', 'transit_count', 'area_m2', 'length_m', 'road_class', 'walkability_rule']\n",
      "Columns in nodes_df for subgraph 永春里 in prepare_gnn_data: ['vertex', 'type', 'lie_name', 'population', 'land_use_residential_percent', 'land_use_commercial_percent', 'land_use_education_percent', 'ndvi_mean', 'tree_count', 'transit_count', 'area_m2', 'length_m', 'road_class', 'walkability_rule']\n",
      "Columns in nodes_df for subgraph 光武里 in prepare_gnn_data: ['vertex', 'type', 'lie_name', 'population', 'land_use_residential_percent', 'land_use_commercial_percent', 'land_use_education_percent', 'ndvi_mean', 'tree_count', 'transit_count', 'area_m2', 'length_m', 'road_class', 'walkability_rule']\n",
      "Columns in nodes_df for subgraph 華聲里 in prepare_gnn_data: ['vertex', 'type', 'lie_name', 'population', 'land_use_residential_percent', 'land_use_commercial_percent', 'land_use_education_percent', 'ndvi_mean', 'tree_count', 'transit_count', 'area_m2', 'length_m', 'road_class', 'walkability_rule']\n",
      "Columns in nodes_df for subgraph 誠安里 in prepare_gnn_data: ['vertex', 'type', 'lie_name', 'population', 'land_use_residential_percent', 'land_use_commercial_percent', 'land_use_education_percent', 'ndvi_mean', 'tree_count', 'transit_count', 'area_m2', 'length_m', 'road_class', 'walkability_rule']\n",
      "Columns in nodes_df for subgraph 建安里 in prepare_gnn_data: ['vertex', 'type', 'lie_name', 'population', 'land_use_residential_percent', 'land_use_commercial_percent', 'land_use_education_percent', 'ndvi_mean', 'tree_count', 'transit_count', 'area_m2', 'length_m', 'road_class', 'walkability_rule']\n",
      "Columns in nodes_df for subgraph 菜園里 in prepare_gnn_data: ['vertex', 'type', 'lie_name', 'population', 'land_use_residential_percent', 'land_use_commercial_percent', 'land_use_education_percent', 'ndvi_mean', 'tree_count', 'transit_count', 'area_m2', 'length_m', 'road_class', 'walkability_rule']\n",
      "Columns in nodes_df for subgraph 昌隆里 in prepare_gnn_data: ['vertex', 'type', 'lie_name', 'population', 'land_use_residential_percent', 'land_use_commercial_percent', 'land_use_education_percent', 'ndvi_mean', 'tree_count', 'transit_count', 'area_m2', 'length_m', 'road_class', 'walkability_rule']\n",
      "Columns in nodes_df for subgraph 車層里 in prepare_gnn_data: ['vertex', 'type', 'lie_name', 'population', 'land_use_residential_percent', 'land_use_commercial_percent', 'land_use_education_percent', 'ndvi_mean', 'tree_count', 'transit_count', 'area_m2', 'length_m', 'road_class', 'walkability_rule']\n",
      "Columns in nodes_df for subgraph 西門里 in prepare_gnn_data: ['vertex', 'type', 'lie_name', 'population', 'land_use_residential_percent', 'land_use_commercial_percent', 'land_use_education_percent', 'ndvi_mean', 'tree_count', 'transit_count', 'area_m2', 'length_m', 'road_class', 'walkability_rule']\n",
      "Columns in nodes_df for subgraph 大道里 in prepare_gnn_data: ['vertex', 'type', 'lie_name', 'population', 'land_use_residential_percent', 'land_use_commercial_percent', 'land_use_education_percent', 'ndvi_mean', 'tree_count', 'transit_count', 'area_m2', 'length_m', 'road_class', 'walkability_rule']\n",
      "Columns in nodes_df for subgraph 興雅里 in prepare_gnn_data: ['vertex', 'type', 'lie_name', 'population', 'land_use_residential_percent', 'land_use_commercial_percent', 'land_use_education_percent', 'ndvi_mean', 'tree_count', 'transit_count', 'area_m2', 'length_m', 'road_class', 'walkability_rule']\n",
      "Columns in nodes_df for subgraph 舊莊里 in prepare_gnn_data: ['vertex', 'type', 'lie_name', 'population', 'land_use_residential_percent', 'land_use_commercial_percent', 'land_use_education_percent', 'ndvi_mean', 'tree_count', 'transit_count', 'area_m2', 'length_m', 'road_class', 'walkability_rule']\n",
      "Columns in nodes_df for subgraph 長春里 in prepare_gnn_data: ['vertex', 'type', 'lie_name', 'population', 'land_use_residential_percent', 'land_use_commercial_percent', 'land_use_education_percent', 'ndvi_mean', 'tree_count', 'transit_count', 'area_m2', 'length_m', 'road_class', 'walkability_rule']\n",
      "Columns in nodes_df for subgraph 東門里 in prepare_gnn_data: ['vertex', 'type', 'lie_name', 'population', 'land_use_residential_percent', 'land_use_commercial_percent', 'land_use_education_percent', 'ndvi_mean', 'tree_count', 'transit_count', 'area_m2', 'length_m', 'road_class', 'walkability_rule']\n",
      "Columns in nodes_df for subgraph 松光里 in prepare_gnn_data: ['vertex', 'type', 'lie_name', 'population', 'land_use_residential_percent', 'land_use_commercial_percent', 'land_use_education_percent', 'ndvi_mean', 'tree_count', 'transit_count', 'area_m2', 'length_m', 'road_class', 'walkability_rule']\n",
      "Columns in nodes_df for subgraph 幸市里 in prepare_gnn_data: ['vertex', 'type', 'lie_name', 'population', 'land_use_residential_percent', 'land_use_commercial_percent', 'land_use_education_percent', 'ndvi_mean', 'tree_count', 'transit_count', 'area_m2', 'length_m', 'road_class', 'walkability_rule']\n",
      "Columns in nodes_df for subgraph 富台里 in prepare_gnn_data: ['vertex', 'type', 'lie_name', 'population', 'land_use_residential_percent', 'land_use_commercial_percent', 'land_use_education_percent', 'ndvi_mean', 'tree_count', 'transit_count', 'area_m2', 'length_m', 'road_class', 'walkability_rule']\n",
      "Columns in nodes_df for subgraph 青山里 in prepare_gnn_data: ['vertex', 'type', 'lie_name', 'population', 'land_use_residential_percent', 'land_use_commercial_percent', 'land_use_education_percent', 'ndvi_mean', 'tree_count', 'transit_count', 'area_m2', 'length_m', 'road_class', 'walkability_rule']\n",
      "Columns in nodes_df for subgraph 建國里 in prepare_gnn_data: ['vertex', 'type', 'lie_name', 'population', 'land_use_residential_percent', 'land_use_commercial_percent', 'land_use_education_percent', 'ndvi_mean', 'tree_count', 'transit_count', 'area_m2', 'length_m', 'road_class', 'walkability_rule']\n",
      "Columns in nodes_df for subgraph 新起里 in prepare_gnn_data: ['vertex', 'type', 'lie_name', 'population', 'land_use_residential_percent', 'land_use_commercial_percent', 'land_use_education_percent', 'ndvi_mean', 'tree_count', 'transit_count', 'area_m2', 'length_m', 'road_class', 'walkability_rule']\n",
      "Columns in nodes_df for subgraph 柳鄉里 in prepare_gnn_data: ['vertex', 'type', 'lie_name', 'population', 'land_use_residential_percent', 'land_use_commercial_percent', 'land_use_education_percent', 'ndvi_mean', 'tree_count', 'transit_count', 'area_m2', 'length_m', 'road_class', 'walkability_rule']\n",
      "Columns in nodes_df for subgraph 中行里 in prepare_gnn_data: ['vertex', 'type', 'lie_name', 'population', 'land_use_residential_percent', 'land_use_commercial_percent', 'land_use_education_percent', 'ndvi_mean', 'tree_count', 'transit_count', 'area_m2', 'length_m', 'road_class', 'walkability_rule']\n",
      "Columns in nodes_df for subgraph 百福里 in prepare_gnn_data: ['vertex', 'type', 'lie_name', 'population', 'land_use_residential_percent', 'land_use_commercial_percent', 'land_use_education_percent', 'ndvi_mean', 'tree_count', 'transit_count', 'area_m2', 'length_m', 'road_class', 'walkability_rule']\n",
      "Columns in nodes_df for subgraph 義村里 in prepare_gnn_data: ['vertex', 'type', 'lie_name', 'population', 'land_use_residential_percent', 'land_use_commercial_percent', 'land_use_education_percent', 'ndvi_mean', 'tree_count', 'transit_count', 'area_m2', 'length_m', 'road_class', 'walkability_rule']\n",
      "Columns in nodes_df for subgraph 仁愛里 in prepare_gnn_data: ['vertex', 'type', 'lie_name', 'population', 'land_use_residential_percent', 'land_use_commercial_percent', 'land_use_education_percent', 'ndvi_mean', 'tree_count', 'transit_count', 'area_m2', 'length_m', 'road_class', 'walkability_rule']\n",
      "Columns in nodes_df for subgraph 建倫里 in prepare_gnn_data: ['vertex', 'type', 'lie_name', 'population', 'land_use_residential_percent', 'land_use_commercial_percent', 'land_use_education_percent', 'ndvi_mean', 'tree_count', 'transit_count', 'area_m2', 'length_m', 'road_class', 'walkability_rule']\n",
      "Columns in nodes_df for subgraph 文北里 in prepare_gnn_data: ['vertex', 'type', 'lie_name', 'population', 'land_use_residential_percent', 'land_use_commercial_percent', 'land_use_education_percent', 'ndvi_mean', 'tree_count', 'transit_count', 'area_m2', 'length_m', 'road_class', 'walkability_rule']\n",
      "Columns in nodes_df for subgraph 仁福里 in prepare_gnn_data: ['vertex', 'type', 'lie_name', 'population', 'land_use_residential_percent', 'land_use_commercial_percent', 'land_use_education_percent', 'ndvi_mean', 'tree_count', 'transit_count', 'area_m2', 'length_m', 'road_class', 'walkability_rule']\n",
      "Columns in nodes_df for subgraph 正聲里 in prepare_gnn_data: ['vertex', 'type', 'lie_name', 'population', 'land_use_residential_percent', 'land_use_commercial_percent', 'land_use_education_percent', 'ndvi_mean', 'tree_count', 'transit_count', 'area_m2', 'length_m', 'road_class', 'walkability_rule']\n",
      "Columns in nodes_df for subgraph 興隆里 in prepare_gnn_data: ['vertex', 'type', 'lie_name', 'population', 'land_use_residential_percent', 'land_use_commercial_percent', 'land_use_education_percent', 'ndvi_mean', 'tree_count', 'transit_count', 'area_m2', 'length_m', 'road_class', 'walkability_rule']\n",
      "Columns in nodes_df for subgraph 廣居里 in prepare_gnn_data: ['vertex', 'type', 'lie_name', 'population', 'land_use_residential_percent', 'land_use_commercial_percent', 'land_use_education_percent', 'ndvi_mean', 'tree_count', 'transit_count', 'area_m2', 'length_m', 'road_class', 'walkability_rule']\n",
      "Columns in nodes_df for subgraph 中坡里 in prepare_gnn_data: ['vertex', 'type', 'lie_name', 'population', 'land_use_residential_percent', 'land_use_commercial_percent', 'land_use_education_percent', 'ndvi_mean', 'tree_count', 'transit_count', 'area_m2', 'length_m', 'road_class', 'walkability_rule']\n",
      "Columns in nodes_df for subgraph 大仁里 in prepare_gnn_data: ['vertex', 'type', 'lie_name', 'population', 'land_use_residential_percent', 'land_use_commercial_percent', 'land_use_education_percent', 'ndvi_mean', 'tree_count', 'transit_count', 'area_m2', 'length_m', 'road_class', 'walkability_rule']\n",
      "Columns in nodes_df for subgraph 富民里 in prepare_gnn_data: ['vertex', 'type', 'lie_name', 'population', 'land_use_residential_percent', 'land_use_commercial_percent', 'land_use_education_percent', 'ndvi_mean', 'tree_count', 'transit_count', 'area_m2', 'length_m', 'road_class', 'walkability_rule']\n",
      "Columns in nodes_df for subgraph 福音里 in prepare_gnn_data: ['vertex', 'type', 'lie_name', 'population', 'land_use_residential_percent', 'land_use_commercial_percent', 'land_use_education_percent', 'ndvi_mean', 'tree_count', 'transit_count', 'area_m2', 'length_m', 'road_class', 'walkability_rule']\n",
      "Columns in nodes_df for subgraph 國業里 in prepare_gnn_data: ['vertex', 'type', 'lie_name', 'population', 'land_use_residential_percent', 'land_use_commercial_percent', 'land_use_education_percent', 'ndvi_mean', 'tree_count', 'transit_count', 'area_m2', 'length_m', 'road_class', 'walkability_rule']\n",
      "Columns in nodes_df for subgraph 仁德里 in prepare_gnn_data: ['vertex', 'type', 'lie_name', 'population', 'land_use_residential_percent', 'land_use_commercial_percent', 'land_use_education_percent', 'ndvi_mean', 'tree_count', 'transit_count', 'area_m2', 'length_m', 'road_class', 'walkability_rule']\n",
      "Columns in nodes_df for subgraph 安康里 in prepare_gnn_data: ['vertex', 'type', 'lie_name', 'population', 'land_use_residential_percent', 'land_use_commercial_percent', 'land_use_education_percent', 'ndvi_mean', 'tree_count', 'transit_count', 'area_m2', 'length_m', 'road_class', 'walkability_rule']\n",
      "Columns in nodes_df for subgraph 西村里 in prepare_gnn_data: ['vertex', 'type', 'lie_name', 'population', 'land_use_residential_percent', 'land_use_commercial_percent', 'land_use_education_percent', 'ndvi_mean', 'tree_count', 'transit_count', 'area_m2', 'length_m', 'road_class', 'walkability_rule']\n",
      "Columns in nodes_df for subgraph 九如里 in prepare_gnn_data: ['vertex', 'type', 'lie_name', 'population', 'land_use_residential_percent', 'land_use_commercial_percent', 'land_use_education_percent', 'ndvi_mean', 'tree_count', 'transit_count', 'area_m2', 'length_m', 'road_class', 'walkability_rule']\n",
      "Columns in nodes_df for subgraph 三愛里 in prepare_gnn_data: ['vertex', 'type', 'lie_name', 'population', 'land_use_residential_percent', 'land_use_commercial_percent', 'land_use_education_percent', 'ndvi_mean', 'tree_count', 'transit_count', 'area_m2', 'length_m', 'road_class', 'walkability_rule']\n",
      "Columns in nodes_df for subgraph 民炤里 in prepare_gnn_data: ['vertex', 'type', 'lie_name', 'population', 'land_use_residential_percent', 'land_use_commercial_percent', 'land_use_education_percent', 'ndvi_mean', 'tree_count', 'transit_count', 'area_m2', 'length_m', 'road_class', 'walkability_rule']\n",
      "Columns in nodes_df for subgraph 和安里 in prepare_gnn_data: ['vertex', 'type', 'lie_name', 'population', 'land_use_residential_percent', 'land_use_commercial_percent', 'land_use_education_percent', 'ndvi_mean', 'tree_count', 'transit_count', 'area_m2', 'length_m', 'road_class', 'walkability_rule']\n",
      "Columns in nodes_df for subgraph 仁慈里 in prepare_gnn_data: ['vertex', 'type', 'lie_name', 'population', 'land_use_residential_percent', 'land_use_commercial_percent', 'land_use_education_percent', 'ndvi_mean', 'tree_count', 'transit_count', 'area_m2', 'length_m', 'road_class', 'walkability_rule']\n",
      "Columns in nodes_df for subgraph 德安里 in prepare_gnn_data: ['vertex', 'type', 'lie_name', 'population', 'land_use_residential_percent', 'land_use_commercial_percent', 'land_use_education_percent', 'ndvi_mean', 'tree_count', 'transit_count', 'area_m2', 'length_m', 'road_class', 'walkability_rule']\n",
      "Columns in nodes_df for subgraph 敦安里 in prepare_gnn_data: ['vertex', 'type', 'lie_name', 'population', 'land_use_residential_percent', 'land_use_commercial_percent', 'land_use_education_percent', 'ndvi_mean', 'tree_count', 'transit_count', 'area_m2', 'length_m', 'road_class', 'walkability_rule']\n",
      "Columns in nodes_df for subgraph 文祥里 in prepare_gnn_data: ['vertex', 'type', 'lie_name', 'population', 'land_use_residential_percent', 'land_use_commercial_percent', 'land_use_education_percent', 'ndvi_mean', 'tree_count', 'transit_count', 'area_m2', 'length_m', 'road_class', 'walkability_rule']\n",
      "Columns in nodes_df for subgraph 敦煌里 in prepare_gnn_data: ['vertex', 'type', 'lie_name', 'population', 'land_use_residential_percent', 'land_use_commercial_percent', 'land_use_education_percent', 'ndvi_mean', 'tree_count', 'transit_count', 'area_m2', 'length_m', 'road_class', 'walkability_rule']\n",
      "Columns in nodes_df for subgraph 光信里 in prepare_gnn_data: ['vertex', 'type', 'lie_name', 'population', 'land_use_residential_percent', 'land_use_commercial_percent', 'land_use_education_percent', 'ndvi_mean', 'tree_count', 'transit_count', 'area_m2', 'length_m', 'road_class', 'walkability_rule']\n",
      "Columns in nodes_df for subgraph 正和里 in prepare_gnn_data: ['vertex', 'type', 'lie_name', 'population', 'land_use_residential_percent', 'land_use_commercial_percent', 'land_use_education_percent', 'ndvi_mean', 'tree_count', 'transit_count', 'area_m2', 'length_m', 'road_class', 'walkability_rule']\n",
      "Columns in nodes_df for subgraph 愛國里 in prepare_gnn_data: ['vertex', 'type', 'lie_name', 'population', 'land_use_residential_percent', 'land_use_commercial_percent', 'land_use_education_percent', 'ndvi_mean', 'tree_count', 'transit_count', 'area_m2', 'length_m', 'road_class', 'walkability_rule']\n",
      "Columns in nodes_df for subgraph 松隆里 in prepare_gnn_data: ['vertex', 'type', 'lie_name', 'population', 'land_use_residential_percent', 'land_use_commercial_percent', 'land_use_education_percent', 'ndvi_mean', 'tree_count', 'transit_count', 'area_m2', 'length_m', 'road_class', 'walkability_rule']\n",
      "Columns in nodes_df for subgraph 南門里 in prepare_gnn_data: ['vertex', 'type', 'lie_name', 'population', 'land_use_residential_percent', 'land_use_commercial_percent', 'land_use_education_percent', 'ndvi_mean', 'tree_count', 'transit_count', 'area_m2', 'length_m', 'road_class', 'walkability_rule']\n",
      "Columns in nodes_df for subgraph 富福里 in prepare_gnn_data: ['vertex', 'type', 'lie_name', 'population', 'land_use_residential_percent', 'land_use_commercial_percent', 'land_use_education_percent', 'ndvi_mean', 'tree_count', 'transit_count', 'area_m2', 'length_m', 'road_class', 'walkability_rule']\n",
      "Columns in nodes_df for subgraph 松友里 in prepare_gnn_data: ['vertex', 'type', 'lie_name', 'population', 'land_use_residential_percent', 'land_use_commercial_percent', 'land_use_education_percent', 'ndvi_mean', 'tree_count', 'transit_count', 'area_m2', 'length_m', 'road_class', 'walkability_rule']\n",
      "Columns in nodes_df for subgraph 光明里 in prepare_gnn_data: ['vertex', 'type', 'lie_name', 'population', 'land_use_residential_percent', 'land_use_commercial_percent', 'land_use_education_percent', 'ndvi_mean', 'tree_count', 'transit_count', 'area_m2', 'length_m', 'road_class', 'walkability_rule']\n",
      "Columns in nodes_df for subgraph 華江里 in prepare_gnn_data: ['vertex', 'type', 'lie_name', 'population', 'land_use_residential_percent', 'land_use_commercial_percent', 'land_use_education_percent', 'ndvi_mean', 'tree_count', 'transit_count', 'area_m2', 'length_m', 'road_class', 'walkability_rule']\n",
      "Columns in nodes_df for subgraph 糖廍里 in prepare_gnn_data: ['vertex', 'type', 'lie_name', 'population', 'land_use_residential_percent', 'land_use_commercial_percent', 'land_use_education_percent', 'ndvi_mean', 'tree_count', 'transit_count', 'area_m2', 'length_m', 'road_class', 'walkability_rule']\n",
      "Columns in nodes_df for subgraph 龍福里 in prepare_gnn_data: ['vertex', 'type', 'lie_name', 'population', 'land_use_residential_percent', 'land_use_commercial_percent', 'land_use_education_percent', 'ndvi_mean', 'tree_count', 'transit_count', 'area_m2', 'length_m', 'road_class', 'walkability_rule']\n",
      "Columns in nodes_df for subgraph 新營里 in prepare_gnn_data: ['vertex', 'type', 'lie_name', 'population', 'land_use_residential_percent', 'land_use_commercial_percent', 'land_use_education_percent', 'ndvi_mean', 'tree_count', 'transit_count', 'area_m2', 'length_m', 'road_class', 'walkability_rule']\n",
      "Columns in nodes_df for subgraph 中興里 in prepare_gnn_data: ['vertex', 'type', 'lie_name', 'population', 'land_use_residential_percent', 'land_use_commercial_percent', 'land_use_education_percent', 'ndvi_mean', 'tree_count', 'transit_count', 'area_m2', 'length_m', 'road_class', 'walkability_rule']\n",
      "Columns in nodes_df for subgraph 永康里 in prepare_gnn_data: ['vertex', 'type', 'lie_name', 'population', 'land_use_residential_percent', 'land_use_commercial_percent', 'land_use_education_percent', 'ndvi_mean', 'tree_count', 'transit_count', 'area_m2', 'length_m', 'road_class', 'walkability_rule']\n",
      "Columns in nodes_df for subgraph 頂碩里 in prepare_gnn_data: ['vertex', 'type', 'lie_name', 'population', 'land_use_residential_percent', 'land_use_commercial_percent', 'land_use_education_percent', 'ndvi_mean', 'tree_count', 'transit_count', 'area_m2', 'length_m', 'road_class', 'walkability_rule']\n",
      "Columns in nodes_df for subgraph 綠堤里 in prepare_gnn_data: ['vertex', 'type', 'lie_name', 'population', 'land_use_residential_percent', 'land_use_commercial_percent', 'land_use_education_percent', 'ndvi_mean', 'tree_count', 'transit_count', 'area_m2', 'length_m', 'road_class', 'walkability_rule']\n",
      "Columns in nodes_df for subgraph 三犁里 in prepare_gnn_data: ['vertex', 'type', 'lie_name', 'population', 'land_use_residential_percent', 'land_use_commercial_percent', 'land_use_education_percent', 'ndvi_mean', 'tree_count', 'transit_count', 'area_m2', 'length_m', 'road_class', 'walkability_rule']\n",
      "Columns in nodes_df for subgraph 福住里 in prepare_gnn_data: ['vertex', 'type', 'lie_name', 'population', 'land_use_residential_percent', 'land_use_commercial_percent', 'land_use_education_percent', 'ndvi_mean', 'tree_count', 'transit_count', 'area_m2', 'length_m', 'road_class', 'walkability_rule']\n",
      "Columns in nodes_df for subgraph 龍門里 in prepare_gnn_data: ['vertex', 'type', 'lie_name', 'population', 'land_use_residential_percent', 'land_use_commercial_percent', 'land_use_education_percent', 'ndvi_mean', 'tree_count', 'transit_count', 'area_m2', 'length_m', 'road_class', 'walkability_rule']\n",
      "Columns in nodes_df for subgraph 龍圖里 in prepare_gnn_data: ['vertex', 'type', 'lie_name', 'population', 'land_use_residential_percent', 'land_use_commercial_percent', 'land_use_education_percent', 'ndvi_mean', 'tree_count', 'transit_count', 'area_m2', 'length_m', 'road_class', 'walkability_rule']\n",
      "Columns in nodes_df for subgraph 住安里 in prepare_gnn_data: ['vertex', 'type', 'lie_name', 'population', 'land_use_residential_percent', 'land_use_commercial_percent', 'land_use_education_percent', 'ndvi_mean', 'tree_count', 'transit_count', 'area_m2', 'length_m', 'road_class', 'walkability_rule']\n",
      "Columns in nodes_df for subgraph 廈安里 in prepare_gnn_data: ['vertex', 'type', 'lie_name', 'population', 'land_use_residential_percent', 'land_use_commercial_percent', 'land_use_education_percent', 'ndvi_mean', 'tree_count', 'transit_count', 'area_m2', 'length_m', 'road_class', 'walkability_rule']\n",
      "Columns in nodes_df for subgraph 義安里 in prepare_gnn_data: ['vertex', 'type', 'lie_name', 'population', 'land_use_residential_percent', 'land_use_commercial_percent', 'land_use_education_percent', 'ndvi_mean', 'tree_count', 'transit_count', 'area_m2', 'length_m', 'road_class', 'walkability_rule']\n",
      "Columns in nodes_df for subgraph 通安里 in prepare_gnn_data: ['vertex', 'type', 'lie_name', 'population', 'land_use_residential_percent', 'land_use_commercial_percent', 'land_use_education_percent', 'ndvi_mean', 'tree_count', 'transit_count', 'area_m2', 'length_m', 'road_class', 'walkability_rule']\n",
      "Columns in nodes_df for subgraph 通化里 in prepare_gnn_data: ['vertex', 'type', 'lie_name', 'population', 'land_use_residential_percent', 'land_use_commercial_percent', 'land_use_education_percent', 'ndvi_mean', 'tree_count', 'transit_count', 'area_m2', 'length_m', 'road_class', 'walkability_rule']\n",
      "Columns in nodes_df for subgraph 景聯里 in prepare_gnn_data: ['vertex', 'type', 'lie_name', 'population', 'land_use_residential_percent', 'land_use_commercial_percent', 'land_use_education_percent', 'ndvi_mean', 'tree_count', 'transit_count', 'area_m2', 'length_m', 'road_class', 'walkability_rule']\n",
      "Columns in nodes_df for subgraph 景新里 in prepare_gnn_data: ['vertex', 'type', 'lie_name', 'population', 'land_use_residential_percent', 'land_use_commercial_percent', 'land_use_education_percent', 'ndvi_mean', 'tree_count', 'transit_count', 'area_m2', 'length_m', 'road_class', 'walkability_rule']\n",
      "Columns in nodes_df for subgraph 三張里 in prepare_gnn_data: ['vertex', 'type', 'lie_name', 'population', 'land_use_residential_percent', 'land_use_commercial_percent', 'land_use_education_percent', 'ndvi_mean', 'tree_count', 'transit_count', 'area_m2', 'length_m', 'road_class', 'walkability_rule']\n",
      "Columns in nodes_df for subgraph 和平里 in prepare_gnn_data: ['vertex', 'type', 'lie_name', 'population', 'land_use_residential_percent', 'land_use_commercial_percent', 'land_use_education_percent', 'ndvi_mean', 'tree_count', 'transit_count', 'area_m2', 'length_m', 'road_class', 'walkability_rule']\n",
      "Columns in nodes_df for subgraph 雙園里 in prepare_gnn_data: ['vertex', 'type', 'lie_name', 'population', 'land_use_residential_percent', 'land_use_commercial_percent', 'land_use_education_percent', 'ndvi_mean', 'tree_count', 'transit_count', 'area_m2', 'length_m', 'road_class', 'walkability_rule']\n",
      "Columns in nodes_df for subgraph 錦泰里 in prepare_gnn_data: ['vertex', 'type', 'lie_name', 'population', 'land_use_residential_percent', 'land_use_commercial_percent', 'land_use_education_percent', 'ndvi_mean', 'tree_count', 'transit_count', 'area_m2', 'length_m', 'road_class', 'walkability_rule']\n",
      "Columns in nodes_df for subgraph 龍光里 in prepare_gnn_data: ['vertex', 'type', 'lie_name', 'population', 'land_use_residential_percent', 'land_use_commercial_percent', 'land_use_education_percent', 'ndvi_mean', 'tree_count', 'transit_count', 'area_m2', 'length_m', 'road_class', 'walkability_rule']\n",
      "Columns in nodes_df for subgraph 南福里 in prepare_gnn_data: ['vertex', 'type', 'lie_name', 'population', 'land_use_residential_percent', 'land_use_commercial_percent', 'land_use_education_percent', 'ndvi_mean', 'tree_count', 'transit_count', 'area_m2', 'length_m', 'road_class', 'walkability_rule']\n",
      "Columns in nodes_df for subgraph 新龍里 in prepare_gnn_data: ['vertex', 'type', 'lie_name', 'population', 'land_use_residential_percent', 'land_use_commercial_percent', 'land_use_education_percent', 'ndvi_mean', 'tree_count', 'transit_count', 'area_m2', 'length_m', 'road_class', 'walkability_rule']\n",
      "Columns in nodes_df for subgraph 龍雲里 in prepare_gnn_data: ['vertex', 'type', 'lie_name', 'population', 'land_use_residential_percent', 'land_use_commercial_percent', 'land_use_education_percent', 'ndvi_mean', 'tree_count', 'transit_count', 'area_m2', 'length_m', 'road_class', 'walkability_rule']\n",
      "Columns in nodes_df for subgraph 龍興里 in prepare_gnn_data: ['vertex', 'type', 'lie_name', 'population', 'land_use_residential_percent', 'land_use_commercial_percent', 'land_use_education_percent', 'ndvi_mean', 'tree_count', 'transit_count', 'area_m2', 'length_m', 'road_class', 'walkability_rule']\n",
      "Columns in nodes_df for subgraph 龍安里 in prepare_gnn_data: ['vertex', 'type', 'lie_name', 'population', 'land_use_residential_percent', 'land_use_commercial_percent', 'land_use_education_percent', 'ndvi_mean', 'tree_count', 'transit_count', 'area_m2', 'length_m', 'road_class', 'walkability_rule']\n",
      "Columns in nodes_df for subgraph 忠勤里 in prepare_gnn_data: ['vertex', 'type', 'lie_name', 'population', 'land_use_residential_percent', 'land_use_commercial_percent', 'land_use_education_percent', 'ndvi_mean', 'tree_count', 'transit_count', 'area_m2', 'length_m', 'road_class', 'walkability_rule']\n",
      "Columns in nodes_df for subgraph 龍陣里 in prepare_gnn_data: ['vertex', 'type', 'lie_name', 'population', 'land_use_residential_percent', 'land_use_commercial_percent', 'land_use_education_percent', 'ndvi_mean', 'tree_count', 'transit_count', 'area_m2', 'length_m', 'road_class', 'walkability_rule']\n",
      "Columns in nodes_df for subgraph 臨江里 in prepare_gnn_data: ['vertex', 'type', 'lie_name', 'population', 'land_use_residential_percent', 'land_use_commercial_percent', 'land_use_education_percent', 'ndvi_mean', 'tree_count', 'transit_count', 'area_m2', 'length_m', 'road_class', 'walkability_rule']\n",
      "Columns in nodes_df for subgraph 錦安里 in prepare_gnn_data: ['vertex', 'type', 'lie_name', 'population', 'land_use_residential_percent', 'land_use_commercial_percent', 'land_use_education_percent', 'ndvi_mean', 'tree_count', 'transit_count', 'area_m2', 'length_m', 'road_class', 'walkability_rule']\n",
      "Columns in nodes_df for subgraph 嘉興里 in prepare_gnn_data: ['vertex', 'type', 'lie_name', 'population', 'land_use_residential_percent', 'land_use_commercial_percent', 'land_use_education_percent', 'ndvi_mean', 'tree_count', 'transit_count', 'area_m2', 'length_m', 'road_class', 'walkability_rule']\n",
      "Columns in nodes_df for subgraph 新忠里 in prepare_gnn_data: ['vertex', 'type', 'lie_name', 'population', 'land_use_residential_percent', 'land_use_commercial_percent', 'land_use_education_percent', 'ndvi_mean', 'tree_count', 'transit_count', 'area_m2', 'length_m', 'road_class', 'walkability_rule']\n",
      "Columns in nodes_df for subgraph 景勤里 in prepare_gnn_data: ['vertex', 'type', 'lie_name', 'population', 'land_use_residential_percent', 'land_use_commercial_percent', 'land_use_education_percent', 'ndvi_mean', 'tree_count', 'transit_count', 'area_m2', 'length_m', 'road_class', 'walkability_rule']\n",
      "Columns in nodes_df for subgraph 錦華里 in prepare_gnn_data: ['vertex', 'type', 'lie_name', 'population', 'land_use_residential_percent', 'land_use_commercial_percent', 'land_use_education_percent', 'ndvi_mean', 'tree_count', 'transit_count', 'area_m2', 'length_m', 'road_class', 'walkability_rule']\n",
      "Columns in nodes_df for subgraph 日善里 in prepare_gnn_data: ['vertex', 'type', 'lie_name', 'population', 'land_use_residential_percent', 'land_use_commercial_percent', 'land_use_education_percent', 'ndvi_mean', 'tree_count', 'transit_count', 'area_m2', 'length_m', 'road_class', 'walkability_rule']\n",
      "Columns in nodes_df for subgraph 新和里 in prepare_gnn_data: ['vertex', 'type', 'lie_name', 'population', 'land_use_residential_percent', 'land_use_commercial_percent', 'land_use_education_percent', 'ndvi_mean', 'tree_count', 'transit_count', 'area_m2', 'length_m', 'road_class', 'walkability_rule']\n",
      "Columns in nodes_df for subgraph 全安里 in prepare_gnn_data: ['vertex', 'type', 'lie_name', 'population', 'land_use_residential_percent', 'land_use_commercial_percent', 'land_use_education_percent', 'ndvi_mean', 'tree_count', 'transit_count', 'area_m2', 'length_m', 'road_class', 'walkability_rule']\n",
      "Columns in nodes_df for subgraph 永功里 in prepare_gnn_data: ['vertex', 'type', 'lie_name', 'population', 'land_use_residential_percent', 'land_use_commercial_percent', 'land_use_education_percent', 'ndvi_mean', 'tree_count', 'transit_count', 'area_m2', 'length_m', 'road_class', 'walkability_rule']\n",
      "Columns in nodes_df for subgraph 永昌里 in prepare_gnn_data: ['vertex', 'type', 'lie_name', 'population', 'land_use_residential_percent', 'land_use_commercial_percent', 'land_use_education_percent', 'ndvi_mean', 'tree_count', 'transit_count', 'area_m2', 'length_m', 'road_class', 'walkability_rule']\n",
      "Columns in nodes_df for subgraph 和德里 in prepare_gnn_data: ['vertex', 'type', 'lie_name', 'population', 'land_use_residential_percent', 'land_use_commercial_percent', 'land_use_education_percent', 'ndvi_mean', 'tree_count', 'transit_count', 'area_m2', 'length_m', 'road_class', 'walkability_rule']\n",
      "Columns in nodes_df for subgraph 龍生里 in prepare_gnn_data: ['vertex', 'type', 'lie_name', 'population', 'land_use_residential_percent', 'land_use_commercial_percent', 'land_use_education_percent', 'ndvi_mean', 'tree_count', 'transit_count', 'area_m2', 'length_m', 'road_class', 'walkability_rule']\n",
      "Columns in nodes_df for subgraph 法治里 in prepare_gnn_data: ['vertex', 'type', 'lie_name', 'population', 'land_use_residential_percent', 'land_use_commercial_percent', 'land_use_education_percent', 'ndvi_mean', 'tree_count', 'transit_count', 'area_m2', 'length_m', 'road_class', 'walkability_rule']\n",
      "Columns in nodes_df for subgraph 群賢里 in prepare_gnn_data: ['vertex', 'type', 'lie_name', 'population', 'land_use_residential_percent', 'land_use_commercial_percent', 'land_use_education_percent', 'ndvi_mean', 'tree_count', 'transit_count', 'area_m2', 'length_m', 'road_class', 'walkability_rule']\n",
      "Columns in nodes_df for subgraph 群英里 in prepare_gnn_data: ['vertex', 'type', 'lie_name', 'population', 'land_use_residential_percent', 'land_use_commercial_percent', 'land_use_education_percent', 'ndvi_mean', 'tree_count', 'transit_count', 'area_m2', 'length_m', 'road_class', 'walkability_rule']\n",
      "Columns in nodes_df for subgraph 忠德里 in prepare_gnn_data: ['vertex', 'type', 'lie_name', 'population', 'land_use_residential_percent', 'land_use_commercial_percent', 'land_use_education_percent', 'ndvi_mean', 'tree_count', 'transit_count', 'area_m2', 'length_m', 'road_class', 'walkability_rule']\n",
      "Columns in nodes_df for subgraph 雙和里 in prepare_gnn_data: ['vertex', 'type', 'lie_name', 'population', 'land_use_residential_percent', 'land_use_commercial_percent', 'land_use_education_percent', 'ndvi_mean', 'tree_count', 'transit_count', 'area_m2', 'length_m', 'road_class', 'walkability_rule']\n",
      "Columns in nodes_df for subgraph 螢雪里 in prepare_gnn_data: ['vertex', 'type', 'lie_name', 'population', 'land_use_residential_percent', 'land_use_commercial_percent', 'land_use_education_percent', 'ndvi_mean', 'tree_count', 'transit_count', 'area_m2', 'length_m', 'road_class', 'walkability_rule']\n",
      "Columns in nodes_df for subgraph 黎順里 in prepare_gnn_data: ['vertex', 'type', 'lie_name', 'population', 'land_use_residential_percent', 'land_use_commercial_percent', 'land_use_education_percent', 'ndvi_mean', 'tree_count', 'transit_count', 'area_m2', 'length_m', 'road_class', 'walkability_rule']\n",
      "Columns in nodes_df for subgraph 螢圃里 in prepare_gnn_data: ['vertex', 'type', 'lie_name', 'population', 'land_use_residential_percent', 'land_use_commercial_percent', 'land_use_education_percent', 'ndvi_mean', 'tree_count', 'transit_count', 'area_m2', 'length_m', 'road_class', 'walkability_rule']\n",
      "Columns in nodes_df for subgraph 板溪里 in prepare_gnn_data: ['vertex', 'type', 'lie_name', 'population', 'land_use_residential_percent', 'land_use_commercial_percent', 'land_use_education_percent', 'ndvi_mean', 'tree_count', 'transit_count', 'area_m2', 'length_m', 'road_class', 'walkability_rule']\n",
      "Columns in nodes_df for subgraph 古莊里 in prepare_gnn_data: ['vertex', 'type', 'lie_name', 'population', 'land_use_residential_percent', 'land_use_commercial_percent', 'land_use_education_percent', 'ndvi_mean', 'tree_count', 'transit_count', 'area_m2', 'length_m', 'road_class', 'walkability_rule']\n",
      "Columns in nodes_df for subgraph 六合里 in prepare_gnn_data: ['vertex', 'type', 'lie_name', 'population', 'land_use_residential_percent', 'land_use_commercial_percent', 'land_use_education_percent', 'ndvi_mean', 'tree_count', 'transit_count', 'area_m2', 'length_m', 'road_class', 'walkability_rule']\n",
      "Columns in nodes_df for subgraph 惠安里 in prepare_gnn_data: ['vertex', 'type', 'lie_name', 'population', 'land_use_residential_percent', 'land_use_commercial_percent', 'land_use_education_percent', 'ndvi_mean', 'tree_count', 'transit_count', 'area_m2', 'length_m', 'road_class', 'walkability_rule']\n",
      "Columns in nodes_df for subgraph 錦德里 in prepare_gnn_data: ['vertex', 'type', 'lie_name', 'population', 'land_use_residential_percent', 'land_use_commercial_percent', 'land_use_education_percent', 'ndvi_mean', 'tree_count', 'transit_count', 'area_m2', 'length_m', 'road_class', 'walkability_rule']\n",
      "Columns in nodes_df for subgraph 凌霄里 in prepare_gnn_data: ['vertex', 'type', 'lie_name', 'population', 'land_use_residential_percent', 'land_use_commercial_percent', 'land_use_education_percent', 'ndvi_mean', 'tree_count', 'transit_count', 'area_m2', 'length_m', 'road_class', 'walkability_rule']\n",
      "Columns in nodes_df for subgraph 龍泉里 in prepare_gnn_data: ['vertex', 'type', 'lie_name', 'population', 'land_use_residential_percent', 'land_use_commercial_percent', 'land_use_education_percent', 'ndvi_mean', 'tree_count', 'transit_count', 'area_m2', 'length_m', 'road_class', 'walkability_rule']\n",
      "Columns in nodes_df for subgraph 龍坡里 in prepare_gnn_data: ['vertex', 'type', 'lie_name', 'population', 'land_use_residential_percent', 'land_use_commercial_percent', 'land_use_education_percent', 'ndvi_mean', 'tree_count', 'transit_count', 'area_m2', 'length_m', 'road_class', 'walkability_rule']\n",
      "Columns in nodes_df for subgraph 全德里 in prepare_gnn_data: ['vertex', 'type', 'lie_name', 'population', 'land_use_residential_percent', 'land_use_commercial_percent', 'land_use_education_percent', 'ndvi_mean', 'tree_count', 'transit_count', 'area_m2', 'length_m', 'road_class', 'walkability_rule']\n",
      "Columns in nodes_df for subgraph 騰雲里 in prepare_gnn_data: ['vertex', 'type', 'lie_name', 'population', 'land_use_residential_percent', 'land_use_commercial_percent', 'land_use_education_percent', 'ndvi_mean', 'tree_count', 'transit_count', 'area_m2', 'length_m', 'road_class', 'walkability_rule']\n",
      "Columns in nodes_df for subgraph 頂東里 in prepare_gnn_data: ['vertex', 'type', 'lie_name', 'population', 'land_use_residential_percent', 'land_use_commercial_percent', 'land_use_education_percent', 'ndvi_mean', 'tree_count', 'transit_count', 'area_m2', 'length_m', 'road_class', 'walkability_rule']\n",
      "Columns in nodes_df for subgraph 忠貞里 in prepare_gnn_data: ['vertex', 'type', 'lie_name', 'population', 'land_use_residential_percent', 'land_use_commercial_percent', 'land_use_education_percent', 'ndvi_mean', 'tree_count', 'transit_count', 'area_m2', 'length_m', 'road_class', 'walkability_rule']\n",
      "Columns in nodes_df for subgraph 龍淵里 in prepare_gnn_data: ['vertex', 'type', 'lie_name', 'population', 'land_use_residential_percent', 'land_use_commercial_percent', 'land_use_education_percent', 'ndvi_mean', 'tree_count', 'transit_count', 'area_m2', 'length_m', 'road_class', 'walkability_rule']\n",
      "Columns in nodes_df for subgraph 壽德里 in prepare_gnn_data: ['vertex', 'type', 'lie_name', 'population', 'land_use_residential_percent', 'land_use_commercial_percent', 'land_use_education_percent', 'ndvi_mean', 'tree_count', 'transit_count', 'area_m2', 'length_m', 'road_class', 'walkability_rule']\n",
      "Columns in nodes_df for subgraph 臥龍里 in prepare_gnn_data: ['vertex', 'type', 'lie_name', 'population', 'land_use_residential_percent', 'land_use_commercial_percent', 'land_use_education_percent', 'ndvi_mean', 'tree_count', 'transit_count', 'area_m2', 'length_m', 'road_class', 'walkability_rule']\n",
      "Columns in nodes_df for subgraph 虎嘯里 in prepare_gnn_data: ['vertex', 'type', 'lie_name', 'population', 'land_use_residential_percent', 'land_use_commercial_percent', 'land_use_education_percent', 'ndvi_mean', 'tree_count', 'transit_count', 'area_m2', 'length_m', 'road_class', 'walkability_rule']\n",
      "Columns in nodes_df for subgraph 孝德里 in prepare_gnn_data: ['vertex', 'type', 'lie_name', 'population', 'land_use_residential_percent', 'land_use_commercial_percent', 'land_use_education_percent', 'ndvi_mean', 'tree_count', 'transit_count', 'area_m2', 'length_m', 'road_class', 'walkability_rule']\n",
      "Columns in nodes_df for subgraph 黎平里 in prepare_gnn_data: ['vertex', 'type', 'lie_name', 'population', 'land_use_residential_percent', 'land_use_commercial_percent', 'land_use_education_percent', 'ndvi_mean', 'tree_count', 'transit_count', 'area_m2', 'length_m', 'road_class', 'walkability_rule']\n",
      "Columns in nodes_df for subgraph 芳和里 in prepare_gnn_data: ['vertex', 'type', 'lie_name', 'population', 'land_use_residential_percent', 'land_use_commercial_percent', 'land_use_education_percent', 'ndvi_mean', 'tree_count', 'transit_count', 'area_m2', 'length_m', 'road_class', 'walkability_rule']\n",
      "Columns in nodes_df for subgraph 保德里 in prepare_gnn_data: ['vertex', 'type', 'lie_name', 'population', 'land_use_residential_percent', 'land_use_commercial_percent', 'land_use_education_percent', 'ndvi_mean', 'tree_count', 'transit_count', 'area_m2', 'length_m', 'road_class', 'walkability_rule']\n",
      "Columns in nodes_df for subgraph 河堤里 in prepare_gnn_data: ['vertex', 'type', 'lie_name', 'population', 'land_use_residential_percent', 'land_use_commercial_percent', 'land_use_education_percent', 'ndvi_mean', 'tree_count', 'transit_count', 'area_m2', 'length_m', 'road_class', 'walkability_rule']\n",
      "Columns in nodes_df for subgraph 泰和里 in prepare_gnn_data: ['vertex', 'type', 'lie_name', 'population', 'land_use_residential_percent', 'land_use_commercial_percent', 'land_use_education_percent', 'ndvi_mean', 'tree_count', 'transit_count', 'area_m2', 'length_m', 'road_class', 'walkability_rule']\n",
      "Columns in nodes_df for subgraph 網溪里 in prepare_gnn_data: ['vertex', 'type', 'lie_name', 'population', 'land_use_residential_percent', 'land_use_commercial_percent', 'land_use_education_percent', 'ndvi_mean', 'tree_count', 'transit_count', 'area_m2', 'length_m', 'road_class', 'walkability_rule']\n",
      "Columns in nodes_df for subgraph 古風里 in prepare_gnn_data: ['vertex', 'type', 'lie_name', 'population', 'land_use_residential_percent', 'land_use_commercial_percent', 'land_use_education_percent', 'ndvi_mean', 'tree_count', 'transit_count', 'area_m2', 'length_m', 'road_class', 'walkability_rule']\n",
      "Columns in nodes_df for subgraph 黎忠里 in prepare_gnn_data: ['vertex', 'type', 'lie_name', 'population', 'land_use_residential_percent', 'land_use_commercial_percent', 'land_use_education_percent', 'ndvi_mean', 'tree_count', 'transit_count', 'area_m2', 'length_m', 'road_class', 'walkability_rule']\n",
      "Columns in nodes_df for subgraph 銘德里 in prepare_gnn_data: ['vertex', 'type', 'lie_name', 'population', 'land_use_residential_percent', 'land_use_commercial_percent', 'land_use_education_percent', 'ndvi_mean', 'tree_count', 'transit_count', 'area_m2', 'length_m', 'road_class', 'walkability_rule']\n",
      "Columns in nodes_df for subgraph 學府里 in prepare_gnn_data: ['vertex', 'type', 'lie_name', 'population', 'land_use_residential_percent', 'land_use_commercial_percent', 'land_use_education_percent', 'ndvi_mean', 'tree_count', 'transit_count', 'area_m2', 'length_m', 'road_class', 'walkability_rule']\n",
      "Columns in nodes_df for subgraph 黎孝里 in prepare_gnn_data: ['vertex', 'type', 'lie_name', 'population', 'land_use_residential_percent', 'land_use_commercial_percent', 'land_use_education_percent', 'ndvi_mean', 'tree_count', 'transit_count', 'area_m2', 'length_m', 'road_class', 'walkability_rule']\n",
      "Columns in nodes_df for subgraph 大學里 in prepare_gnn_data: ['vertex', 'type', 'lie_name', 'population', 'land_use_residential_percent', 'land_use_commercial_percent', 'land_use_education_percent', 'ndvi_mean', 'tree_count', 'transit_count', 'area_m2', 'length_m', 'road_class', 'walkability_rule']\n",
      "Columns in nodes_df for subgraph 日祥里 in prepare_gnn_data: ['vertex', 'type', 'lie_name', 'population', 'land_use_residential_percent', 'land_use_commercial_percent', 'land_use_education_percent', 'ndvi_mean', 'tree_count', 'transit_count', 'area_m2', 'length_m', 'road_class', 'walkability_rule']\n",
      "Columns in nodes_df for subgraph 興德里 in prepare_gnn_data: ['vertex', 'type', 'lie_name', 'population', 'land_use_residential_percent', 'land_use_commercial_percent', 'land_use_education_percent', 'ndvi_mean', 'tree_count', 'transit_count', 'area_m2', 'length_m', 'road_class', 'walkability_rule']\n",
      "Columns in nodes_df for subgraph 榮德里 in prepare_gnn_data: ['vertex', 'type', 'lie_name', 'population', 'land_use_residential_percent', 'land_use_commercial_percent', 'land_use_education_percent', 'ndvi_mean', 'tree_count', 'transit_count', 'area_m2', 'length_m', 'road_class', 'walkability_rule']\n",
      "Columns in nodes_df for subgraph 華中里 in prepare_gnn_data: ['vertex', 'type', 'lie_name', 'population', 'land_use_residential_percent', 'land_use_commercial_percent', 'land_use_education_percent', 'ndvi_mean', 'tree_count', 'transit_count', 'area_m2', 'length_m', 'road_class', 'walkability_rule']\n",
      "Columns in nodes_df for subgraph 林興里 in prepare_gnn_data: ['vertex', 'type', 'lie_name', 'population', 'land_use_residential_percent', 'land_use_commercial_percent', 'land_use_education_percent', 'ndvi_mean', 'tree_count', 'transit_count', 'area_m2', 'length_m', 'road_class', 'walkability_rule']\n",
      "Columns in nodes_df for subgraph 黎和里 in prepare_gnn_data: ['vertex', 'type', 'lie_name', 'population', 'land_use_residential_percent', 'land_use_commercial_percent', 'land_use_education_percent', 'ndvi_mean', 'tree_count', 'transit_count', 'area_m2', 'length_m', 'road_class', 'walkability_rule']\n",
      "Columns in nodes_df for subgraph 黎元里 in prepare_gnn_data: ['vertex', 'type', 'lie_name', 'population', 'land_use_residential_percent', 'land_use_commercial_percent', 'land_use_education_percent', 'ndvi_mean', 'tree_count', 'transit_count', 'area_m2', 'length_m', 'road_class', 'walkability_rule']\n",
      "Columns in nodes_df for subgraph 黎安里 in prepare_gnn_data: ['vertex', 'type', 'lie_name', 'population', 'land_use_residential_percent', 'land_use_commercial_percent', 'land_use_education_percent', 'ndvi_mean', 'tree_count', 'transit_count', 'area_m2', 'length_m', 'road_class', 'walkability_rule']\n",
      "Columns in nodes_df for subgraph 文盛里 in prepare_gnn_data: ['vertex', 'type', 'lie_name', 'population', 'land_use_residential_percent', 'land_use_commercial_percent', 'land_use_education_percent', 'ndvi_mean', 'tree_count', 'transit_count', 'area_m2', 'length_m', 'road_class', 'walkability_rule']\n",
      "Columns in nodes_df for subgraph 富水里 in prepare_gnn_data: ['vertex', 'type', 'lie_name', 'population', 'land_use_residential_percent', 'land_use_commercial_percent', 'land_use_education_percent', 'ndvi_mean', 'tree_count', 'transit_count', 'area_m2', 'length_m', 'road_class', 'walkability_rule']\n",
      "Columns in nodes_df for subgraph 博嘉里 in prepare_gnn_data: ['vertex', 'type', 'lie_name', 'population', 'land_use_residential_percent', 'land_use_commercial_percent', 'land_use_education_percent', 'ndvi_mean', 'tree_count', 'transit_count', 'area_m2', 'length_m', 'road_class', 'walkability_rule']\n",
      "Columns in nodes_df for subgraph 水源里 in prepare_gnn_data: ['vertex', 'type', 'lie_name', 'population', 'land_use_residential_percent', 'land_use_commercial_percent', 'land_use_education_percent', 'ndvi_mean', 'tree_count', 'transit_count', 'area_m2', 'length_m', 'road_class', 'walkability_rule']\n",
      "Columns in nodes_df for subgraph 興昌里 in prepare_gnn_data: ['vertex', 'type', 'lie_name', 'population', 'land_use_residential_percent', 'land_use_commercial_percent', 'land_use_education_percent', 'ndvi_mean', 'tree_count', 'transit_count', 'area_m2', 'length_m', 'road_class', 'walkability_rule']\n",
      "Columns in nodes_df for subgraph 興泰里 in prepare_gnn_data: ['vertex', 'type', 'lie_name', 'population', 'land_use_residential_percent', 'land_use_commercial_percent', 'land_use_education_percent', 'ndvi_mean', 'tree_count', 'transit_count', 'area_m2', 'length_m', 'road_class', 'walkability_rule']\n",
      "Columns in nodes_df for subgraph 萬年里 in prepare_gnn_data: ['vertex', 'type', 'lie_name', 'population', 'land_use_residential_percent', 'land_use_commercial_percent', 'land_use_education_percent', 'ndvi_mean', 'tree_count', 'transit_count', 'area_m2', 'length_m', 'road_class', 'walkability_rule']\n",
      "Columns in nodes_df for subgraph 興旺里 in prepare_gnn_data: ['vertex', 'type', 'lie_name', 'population', 'land_use_residential_percent', 'land_use_commercial_percent', 'land_use_education_percent', 'ndvi_mean', 'tree_count', 'transit_count', 'area_m2', 'length_m', 'road_class', 'walkability_rule']\n",
      "Columns in nodes_df for subgraph 萬盛里 in prepare_gnn_data: ['vertex', 'type', 'lie_name', 'population', 'land_use_residential_percent', 'land_use_commercial_percent', 'land_use_education_percent', 'ndvi_mean', 'tree_count', 'transit_count', 'area_m2', 'length_m', 'road_class', 'walkability_rule']\n",
      "Columns in nodes_df for subgraph 萬美里 in prepare_gnn_data: ['vertex', 'type', 'lie_name', 'population', 'land_use_residential_percent', 'land_use_commercial_percent', 'land_use_education_percent', 'ndvi_mean', 'tree_count', 'transit_count', 'area_m2', 'length_m', 'road_class', 'walkability_rule']\n",
      "Columns in nodes_df for subgraph 萬和里 in prepare_gnn_data: ['vertex', 'type', 'lie_name', 'population', 'land_use_residential_percent', 'land_use_commercial_percent', 'land_use_education_percent', 'ndvi_mean', 'tree_count', 'transit_count', 'area_m2', 'length_m', 'road_class', 'walkability_rule']\n",
      "Columns in nodes_df for subgraph 興邦里 in prepare_gnn_data: ['vertex', 'type', 'lie_name', 'population', 'land_use_residential_percent', 'land_use_commercial_percent', 'land_use_education_percent', 'ndvi_mean', 'tree_count', 'transit_count', 'area_m2', 'length_m', 'road_class', 'walkability_rule']\n",
      "Columns in nodes_df for subgraph 萬興里 in prepare_gnn_data: ['vertex', 'type', 'lie_name', 'population', 'land_use_residential_percent', 'land_use_commercial_percent', 'land_use_education_percent', 'ndvi_mean', 'tree_count', 'transit_count', 'area_m2', 'length_m', 'road_class', 'walkability_rule']\n",
      "Columns in nodes_df for subgraph 萬祥里 in prepare_gnn_data: ['vertex', 'type', 'lie_name', 'population', 'land_use_residential_percent', 'land_use_commercial_percent', 'land_use_education_percent', 'ndvi_mean', 'tree_count', 'transit_count', 'area_m2', 'length_m', 'road_class', 'walkability_rule']\n",
      "Columns in nodes_df for subgraph 興豐里 in prepare_gnn_data: ['vertex', 'type', 'lie_name', 'population', 'land_use_residential_percent', 'land_use_commercial_percent', 'land_use_education_percent', 'ndvi_mean', 'tree_count', 'transit_count', 'area_m2', 'length_m', 'road_class', 'walkability_rule']\n",
      "Columns in nodes_df for subgraph 萬芳里 in prepare_gnn_data: ['vertex', 'type', 'lie_name', 'population', 'land_use_residential_percent', 'land_use_commercial_percent', 'land_use_education_percent', 'ndvi_mean', 'tree_count', 'transit_count', 'area_m2', 'length_m', 'road_class', 'walkability_rule']\n",
      "Columns in nodes_df for subgraph 萬隆里 in prepare_gnn_data: ['vertex', 'type', 'lie_name', 'population', 'land_use_residential_percent', 'land_use_commercial_percent', 'land_use_education_percent', 'ndvi_mean', 'tree_count', 'transit_count', 'area_m2', 'length_m', 'road_class', 'walkability_rule']\n",
      "Columns in nodes_df for subgraph 興光里 in prepare_gnn_data: ['vertex', 'type', 'lie_name', 'population', 'land_use_residential_percent', 'land_use_commercial_percent', 'land_use_education_percent', 'ndvi_mean', 'tree_count', 'transit_count', 'area_m2', 'length_m', 'road_class', 'walkability_rule']\n",
      "Columns in nodes_df for subgraph 萬有里 in prepare_gnn_data: ['vertex', 'type', 'lie_name', 'population', 'land_use_residential_percent', 'land_use_commercial_percent', 'land_use_education_percent', 'ndvi_mean', 'tree_count', 'transit_count', 'area_m2', 'length_m', 'road_class', 'walkability_rule']\n",
      "Columns in nodes_df for subgraph 興業里 in prepare_gnn_data: ['vertex', 'type', 'lie_name', 'population', 'land_use_residential_percent', 'land_use_commercial_percent', 'land_use_education_percent', 'ndvi_mean', 'tree_count', 'transit_count', 'area_m2', 'length_m', 'road_class', 'walkability_rule']\n",
      "Columns in nodes_df for subgraph 興安里 in prepare_gnn_data: ['vertex', 'type', 'lie_name', 'population', 'land_use_residential_percent', 'land_use_commercial_percent', 'land_use_education_percent', 'ndvi_mean', 'tree_count', 'transit_count', 'area_m2', 'length_m', 'road_class', 'walkability_rule']\n",
      "Columns in nodes_df for subgraph 興得里 in prepare_gnn_data: ['vertex', 'type', 'lie_name', 'population', 'land_use_residential_percent', 'land_use_commercial_percent', 'land_use_education_percent', 'ndvi_mean', 'tree_count', 'transit_count', 'area_m2', 'length_m', 'road_class', 'walkability_rule']\n",
      "Columns in nodes_df for subgraph 景仁里 in prepare_gnn_data: ['vertex', 'type', 'lie_name', 'population', 'land_use_residential_percent', 'land_use_commercial_percent', 'land_use_education_percent', 'ndvi_mean', 'tree_count', 'transit_count', 'area_m2', 'length_m', 'road_class', 'walkability_rule']\n",
      "Columns in nodes_df for subgraph 興福里 in prepare_gnn_data: ['vertex', 'type', 'lie_name', 'population', 'land_use_residential_percent', 'land_use_commercial_percent', 'land_use_education_percent', 'ndvi_mean', 'tree_count', 'transit_count', 'area_m2', 'length_m', 'road_class', 'walkability_rule']\n",
      "Columns in nodes_df for subgraph 景華里 in prepare_gnn_data: ['vertex', 'type', 'lie_name', 'population', 'land_use_residential_percent', 'land_use_commercial_percent', 'land_use_education_percent', 'ndvi_mean', 'tree_count', 'transit_count', 'area_m2', 'length_m', 'road_class', 'walkability_rule']\n",
      "Columns in nodes_df for subgraph 景慶里 in prepare_gnn_data: ['vertex', 'type', 'lie_name', 'population', 'land_use_residential_percent', 'land_use_commercial_percent', 'land_use_education_percent', 'ndvi_mean', 'tree_count', 'transit_count', 'area_m2', 'length_m', 'road_class', 'walkability_rule']\n",
      "Columns in nodes_df for subgraph 政大里 in prepare_gnn_data: ['vertex', 'type', 'lie_name', 'population', 'land_use_residential_percent', 'land_use_commercial_percent', 'land_use_education_percent', 'ndvi_mean', 'tree_count', 'transit_count', 'area_m2', 'length_m', 'road_class', 'walkability_rule']\n",
      "Columns in nodes_df for subgraph 興家里 in prepare_gnn_data: ['vertex', 'type', 'lie_name', 'population', 'land_use_residential_percent', 'land_use_commercial_percent', 'land_use_education_percent', 'ndvi_mean', 'tree_count', 'transit_count', 'area_m2', 'length_m', 'road_class', 'walkability_rule']\n",
      "Columns in nodes_df for subgraph 景東里 in prepare_gnn_data: ['vertex', 'type', 'lie_name', 'population', 'land_use_residential_percent', 'land_use_commercial_percent', 'land_use_education_percent', 'ndvi_mean', 'tree_count', 'transit_count', 'area_m2', 'length_m', 'road_class', 'walkability_rule']\n",
      "Columns in nodes_df for subgraph 木柵里 in prepare_gnn_data: ['vertex', 'type', 'lie_name', 'population', 'land_use_residential_percent', 'land_use_commercial_percent', 'land_use_education_percent', 'ndvi_mean', 'tree_count', 'transit_count', 'area_m2', 'length_m', 'road_class', 'walkability_rule']\n",
      "Columns in nodes_df for subgraph 景美里 in prepare_gnn_data: ['vertex', 'type', 'lie_name', 'population', 'land_use_residential_percent', 'land_use_commercial_percent', 'land_use_education_percent', 'ndvi_mean', 'tree_count', 'transit_count', 'area_m2', 'length_m', 'road_class', 'walkability_rule']\n",
      "Columns in nodes_df for subgraph 明興里 in prepare_gnn_data: ['vertex', 'type', 'lie_name', 'population', 'land_use_residential_percent', 'land_use_commercial_percent', 'land_use_education_percent', 'ndvi_mean', 'tree_count', 'transit_count', 'area_m2', 'length_m', 'road_class', 'walkability_rule']\n",
      "Columns in nodes_df for subgraph 華興里 in prepare_gnn_data: ['vertex', 'type', 'lie_name', 'population', 'land_use_residential_percent', 'land_use_commercial_percent', 'land_use_education_percent', 'ndvi_mean', 'tree_count', 'transit_count', 'area_m2', 'length_m', 'road_class', 'walkability_rule']\n",
      "Columns in nodes_df for subgraph 景行里 in prepare_gnn_data: ['vertex', 'type', 'lie_name', 'population', 'land_use_residential_percent', 'land_use_commercial_percent', 'land_use_education_percent', 'ndvi_mean', 'tree_count', 'transit_count', 'area_m2', 'length_m', 'road_class', 'walkability_rule']\n",
      "Columns in nodes_df for subgraph 明義里 in prepare_gnn_data: ['vertex', 'type', 'lie_name', 'population', 'land_use_residential_percent', 'land_use_commercial_percent', 'land_use_education_percent', 'ndvi_mean', 'tree_count', 'transit_count', 'area_m2', 'length_m', 'road_class', 'walkability_rule']\n",
      "Columns in nodes_df for subgraph 木新里 in prepare_gnn_data: ['vertex', 'type', 'lie_name', 'population', 'land_use_residential_percent', 'land_use_commercial_percent', 'land_use_education_percent', 'ndvi_mean', 'tree_count', 'transit_count', 'area_m2', 'length_m', 'road_class', 'walkability_rule']\n",
      "Columns in nodes_df for subgraph 試院里 in prepare_gnn_data: ['vertex', 'type', 'lie_name', 'population', 'land_use_residential_percent', 'land_use_commercial_percent', 'land_use_education_percent', 'ndvi_mean', 'tree_count', 'transit_count', 'area_m2', 'length_m', 'road_class', 'walkability_rule']\n",
      "Columns in nodes_df for subgraph 忠順里 in prepare_gnn_data: ['vertex', 'type', 'lie_name', 'population', 'land_use_residential_percent', 'land_use_commercial_percent', 'land_use_education_percent', 'ndvi_mean', 'tree_count', 'transit_count', 'area_m2', 'length_m', 'road_class', 'walkability_rule']\n",
      "Columns in nodes_df for subgraph 樟林里 in prepare_gnn_data: ['vertex', 'type', 'lie_name', 'population', 'land_use_residential_percent', 'land_use_commercial_percent', 'land_use_education_percent', 'ndvi_mean', 'tree_count', 'transit_count', 'area_m2', 'length_m', 'road_class', 'walkability_rule']\n",
      "Columns in nodes_df for subgraph 指南里 in prepare_gnn_data: ['vertex', 'type', 'lie_name', 'population', 'land_use_residential_percent', 'land_use_commercial_percent', 'land_use_education_percent', 'ndvi_mean', 'tree_count', 'transit_count', 'area_m2', 'length_m', 'road_class', 'walkability_rule']\n",
      "Columns in nodes_df for subgraph 順興里 in prepare_gnn_data: ['vertex', 'type', 'lie_name', 'population', 'land_use_residential_percent', 'land_use_commercial_percent', 'land_use_education_percent', 'ndvi_mean', 'tree_count', 'transit_count', 'area_m2', 'length_m', 'road_class', 'walkability_rule']\n",
      "Columns in nodes_df for subgraph 樟樹里 in prepare_gnn_data: ['vertex', 'type', 'lie_name', 'population', 'land_use_residential_percent', 'land_use_commercial_percent', 'land_use_education_percent', 'ndvi_mean', 'tree_count', 'transit_count', 'area_m2', 'length_m', 'road_class', 'walkability_rule']\n",
      "Columns in nodes_df for subgraph 樟文里 in prepare_gnn_data: ['vertex', 'type', 'lie_name', 'population', 'land_use_residential_percent', 'land_use_commercial_percent', 'land_use_education_percent', 'ndvi_mean', 'tree_count', 'transit_count', 'area_m2', 'length_m', 'road_class', 'walkability_rule']\n",
      "Columns in nodes_df for subgraph 樟腳里 in prepare_gnn_data: ['vertex', 'type', 'lie_name', 'population', 'land_use_residential_percent', 'land_use_commercial_percent', 'land_use_education_percent', 'ndvi_mean', 'tree_count', 'transit_count', 'area_m2', 'length_m', 'road_class', 'walkability_rule']\n",
      "Columns in nodes_df for subgraph 老泉里 in prepare_gnn_data: ['vertex', 'type', 'lie_name', 'population', 'land_use_residential_percent', 'land_use_commercial_percent', 'land_use_education_percent', 'ndvi_mean', 'tree_count', 'transit_count', 'area_m2', 'length_m', 'road_class', 'walkability_rule']\n",
      "Columns in nodes_df for subgraph 樟新里 in prepare_gnn_data: ['vertex', 'type', 'lie_name', 'population', 'land_use_residential_percent', 'land_use_commercial_percent', 'land_use_education_percent', 'ndvi_mean', 'tree_count', 'transit_count', 'area_m2', 'length_m', 'road_class', 'walkability_rule']\n",
      "Stage 4: Training GNN model...\n"
     ]
    },
    {
     "name": "stderr",
     "output_type": "stream",
     "text": [
      "Training GNN:   0%|          | 1/200 [00:01<05:21,  1.62s/it]"
     ]
    },
    {
     "name": "stdout",
     "output_type": "stream",
     "text": [
      "Epoch 1, Train Loss: 0.0001, Validation Loss: 0.0000\n"
     ]
    },
    {
     "name": "stderr",
     "output_type": "stream",
     "text": [
      "Training GNN:   1%|          | 2/200 [00:03<05:18,  1.61s/it]"
     ]
    },
    {
     "name": "stdout",
     "output_type": "stream",
     "text": [
      "Epoch 2, Train Loss: 0.0000, Validation Loss: 0.0000\n"
     ]
    },
    {
     "name": "stderr",
     "output_type": "stream",
     "text": [
      "Training GNN:   2%|▏         | 3/200 [00:04<05:04,  1.54s/it]"
     ]
    },
    {
     "name": "stdout",
     "output_type": "stream",
     "text": [
      "Epoch 3, Train Loss: 0.0000, Validation Loss: 0.0000\n"
     ]
    },
    {
     "name": "stderr",
     "output_type": "stream",
     "text": [
      "Training GNN:   2%|▏         | 4/200 [00:06<05:12,  1.60s/it]"
     ]
    },
    {
     "name": "stdout",
     "output_type": "stream",
     "text": [
      "Epoch 4, Train Loss: 0.0000, Validation Loss: 0.0000\n"
     ]
    },
    {
     "name": "stderr",
     "output_type": "stream",
     "text": [
      "Training GNN:   2%|▎         | 5/200 [00:07<04:53,  1.50s/it]"
     ]
    },
    {
     "name": "stdout",
     "output_type": "stream",
     "text": [
      "Epoch 5, Train Loss: 0.0000, Validation Loss: 0.0000\n"
     ]
    },
    {
     "name": "stderr",
     "output_type": "stream",
     "text": [
      "Training GNN:   3%|▎         | 6/200 [00:09<04:48,  1.49s/it]"
     ]
    },
    {
     "name": "stdout",
     "output_type": "stream",
     "text": [
      "Epoch 6, Train Loss: 0.0000, Validation Loss: 0.0000\n"
     ]
    },
    {
     "name": "stderr",
     "output_type": "stream",
     "text": [
      "Training GNN:   4%|▎         | 7/200 [00:10<04:28,  1.39s/it]"
     ]
    },
    {
     "name": "stdout",
     "output_type": "stream",
     "text": [
      "Epoch 7, Train Loss: 0.0000, Validation Loss: 0.0001\n"
     ]
    },
    {
     "name": "stderr",
     "output_type": "stream",
     "text": [
      "Training GNN:   4%|▍         | 8/200 [00:11<04:20,  1.35s/it]"
     ]
    },
    {
     "name": "stdout",
     "output_type": "stream",
     "text": [
      "Epoch 8, Train Loss: 0.0000, Validation Loss: 0.0000\n"
     ]
    },
    {
     "name": "stderr",
     "output_type": "stream",
     "text": [
      "Training GNN:   4%|▍         | 9/200 [00:12<04:11,  1.32s/it]"
     ]
    },
    {
     "name": "stdout",
     "output_type": "stream",
     "text": [
      "Epoch 9, Train Loss: 0.0000, Validation Loss: 0.0000\n"
     ]
    },
    {
     "name": "stderr",
     "output_type": "stream",
     "text": [
      "Training GNN:   5%|▌         | 10/200 [00:14<04:08,  1.31s/it]"
     ]
    },
    {
     "name": "stdout",
     "output_type": "stream",
     "text": [
      "Epoch 10, Train Loss: 0.0000, Validation Loss: 0.0000\n"
     ]
    },
    {
     "name": "stderr",
     "output_type": "stream",
     "text": [
      "Training GNN:   6%|▌         | 11/200 [00:15<04:06,  1.30s/it]"
     ]
    },
    {
     "name": "stdout",
     "output_type": "stream",
     "text": [
      "Epoch 11, Train Loss: 0.0000, Validation Loss: 0.0000\n"
     ]
    },
    {
     "name": "stderr",
     "output_type": "stream",
     "text": [
      "Training GNN:   6%|▌         | 12/200 [00:16<04:03,  1.30s/it]"
     ]
    },
    {
     "name": "stdout",
     "output_type": "stream",
     "text": [
      "Epoch 12, Train Loss: 0.0000, Validation Loss: 0.0000\n"
     ]
    },
    {
     "name": "stderr",
     "output_type": "stream",
     "text": [
      "Training GNN:   6%|▋         | 13/200 [00:17<03:59,  1.28s/it]"
     ]
    },
    {
     "name": "stdout",
     "output_type": "stream",
     "text": [
      "Epoch 13, Train Loss: 0.0000, Validation Loss: 0.0000\n"
     ]
    },
    {
     "name": "stderr",
     "output_type": "stream",
     "text": [
      "Training GNN:   7%|▋         | 14/200 [00:19<03:57,  1.27s/it]"
     ]
    },
    {
     "name": "stdout",
     "output_type": "stream",
     "text": [
      "Epoch 14, Train Loss: 0.0000, Validation Loss: 0.0000\n"
     ]
    },
    {
     "name": "stderr",
     "output_type": "stream",
     "text": [
      "Training GNN:   8%|▊         | 15/200 [00:20<03:53,  1.26s/it]"
     ]
    },
    {
     "name": "stdout",
     "output_type": "stream",
     "text": [
      "Epoch 15, Train Loss: 0.0000, Validation Loss: 0.0000\n"
     ]
    },
    {
     "name": "stderr",
     "output_type": "stream",
     "text": [
      "Training GNN:   8%|▊         | 16/200 [00:21<03:49,  1.25s/it]"
     ]
    },
    {
     "name": "stdout",
     "output_type": "stream",
     "text": [
      "Epoch 16, Train Loss: 0.0000, Validation Loss: 0.0000\n"
     ]
    },
    {
     "name": "stderr",
     "output_type": "stream",
     "text": [
      "Training GNN:   8%|▊         | 17/200 [00:22<03:48,  1.25s/it]"
     ]
    },
    {
     "name": "stdout",
     "output_type": "stream",
     "text": [
      "Epoch 17, Train Loss: 0.0000, Validation Loss: 0.0000\n"
     ]
    },
    {
     "name": "stderr",
     "output_type": "stream",
     "text": [
      "Training GNN:   9%|▉         | 18/200 [00:24<03:45,  1.24s/it]"
     ]
    },
    {
     "name": "stdout",
     "output_type": "stream",
     "text": [
      "Epoch 18, Train Loss: 0.0000, Validation Loss: 0.0000\n"
     ]
    },
    {
     "name": "stderr",
     "output_type": "stream",
     "text": [
      "Training GNN:  10%|▉         | 19/200 [00:25<03:43,  1.23s/it]"
     ]
    },
    {
     "name": "stdout",
     "output_type": "stream",
     "text": [
      "Epoch 19, Train Loss: 0.0000, Validation Loss: 0.0000\n"
     ]
    },
    {
     "name": "stderr",
     "output_type": "stream",
     "text": [
      "Training GNN:  10%|█         | 20/200 [00:26<03:43,  1.24s/it]"
     ]
    },
    {
     "name": "stdout",
     "output_type": "stream",
     "text": [
      "Epoch 20, Train Loss: 0.0000, Validation Loss: 0.0000\n"
     ]
    },
    {
     "name": "stderr",
     "output_type": "stream",
     "text": [
      "Training GNN:  10%|█         | 21/200 [00:27<03:45,  1.26s/it]"
     ]
    },
    {
     "name": "stdout",
     "output_type": "stream",
     "text": [
      "Epoch 21, Train Loss: 0.0000, Validation Loss: 0.0000\n"
     ]
    },
    {
     "name": "stderr",
     "output_type": "stream",
     "text": [
      "Training GNN:  11%|█         | 22/200 [00:29<03:49,  1.29s/it]"
     ]
    },
    {
     "name": "stdout",
     "output_type": "stream",
     "text": [
      "Epoch 22, Train Loss: 0.0000, Validation Loss: 0.0001\n"
     ]
    },
    {
     "name": "stderr",
     "output_type": "stream",
     "text": [
      "Training GNN:  12%|█▏        | 23/200 [00:30<03:47,  1.28s/it]"
     ]
    },
    {
     "name": "stdout",
     "output_type": "stream",
     "text": [
      "Epoch 23, Train Loss: 0.0000, Validation Loss: 0.0001\n"
     ]
    },
    {
     "name": "stderr",
     "output_type": "stream",
     "text": [
      "Training GNN:  12%|█▏        | 24/200 [00:31<03:47,  1.29s/it]"
     ]
    },
    {
     "name": "stdout",
     "output_type": "stream",
     "text": [
      "Epoch 24, Train Loss: 0.0000, Validation Loss: 0.0000\n"
     ]
    },
    {
     "name": "stderr",
     "output_type": "stream",
     "text": [
      "Training GNN:  12%|█▎        | 25/200 [00:33<03:46,  1.29s/it]"
     ]
    },
    {
     "name": "stdout",
     "output_type": "stream",
     "text": [
      "Epoch 25, Train Loss: 0.0000, Validation Loss: 0.0001\n"
     ]
    },
    {
     "name": "stderr",
     "output_type": "stream",
     "text": [
      "Training GNN:  13%|█▎        | 26/200 [00:34<03:49,  1.32s/it]"
     ]
    },
    {
     "name": "stdout",
     "output_type": "stream",
     "text": [
      "Epoch 26, Train Loss: 0.0000, Validation Loss: 0.0000\n"
     ]
    },
    {
     "name": "stderr",
     "output_type": "stream",
     "text": [
      "Training GNN:  14%|█▎        | 27/200 [00:35<03:46,  1.31s/it]"
     ]
    },
    {
     "name": "stdout",
     "output_type": "stream",
     "text": [
      "Epoch 27, Train Loss: 0.0000, Validation Loss: 0.0001\n"
     ]
    },
    {
     "name": "stderr",
     "output_type": "stream",
     "text": [
      "Training GNN:  14%|█▍        | 28/200 [00:37<03:45,  1.31s/it]"
     ]
    },
    {
     "name": "stdout",
     "output_type": "stream",
     "text": [
      "Epoch 28, Train Loss: 0.0000, Validation Loss: 0.0000\n"
     ]
    },
    {
     "name": "stderr",
     "output_type": "stream",
     "text": [
      "Training GNN:  14%|█▍        | 29/200 [00:38<03:41,  1.29s/it]"
     ]
    },
    {
     "name": "stdout",
     "output_type": "stream",
     "text": [
      "Epoch 29, Train Loss: 0.0000, Validation Loss: 0.0000\n"
     ]
    },
    {
     "name": "stderr",
     "output_type": "stream",
     "text": [
      "Training GNN:  15%|█▌        | 30/200 [00:39<03:38,  1.29s/it]"
     ]
    },
    {
     "name": "stdout",
     "output_type": "stream",
     "text": [
      "Epoch 30, Train Loss: 0.0000, Validation Loss: 0.0000\n"
     ]
    },
    {
     "name": "stderr",
     "output_type": "stream",
     "text": [
      "Training GNN:  16%|█▌        | 31/200 [00:40<03:37,  1.29s/it]"
     ]
    },
    {
     "name": "stdout",
     "output_type": "stream",
     "text": [
      "Epoch 31, Train Loss: 0.0000, Validation Loss: 0.0000\n"
     ]
    },
    {
     "name": "stderr",
     "output_type": "stream",
     "text": [
      "Training GNN:  16%|█▌        | 32/200 [00:42<03:35,  1.28s/it]"
     ]
    },
    {
     "name": "stdout",
     "output_type": "stream",
     "text": [
      "Epoch 32, Train Loss: 0.0000, Validation Loss: 0.0000\n"
     ]
    },
    {
     "name": "stderr",
     "output_type": "stream",
     "text": [
      "Training GNN:  16%|█▋        | 33/200 [00:43<03:34,  1.29s/it]"
     ]
    },
    {
     "name": "stdout",
     "output_type": "stream",
     "text": [
      "Epoch 33, Train Loss: 0.0000, Validation Loss: 0.0000\n"
     ]
    },
    {
     "name": "stderr",
     "output_type": "stream",
     "text": [
      "Training GNN:  17%|█▋        | 34/200 [00:44<03:37,  1.31s/it]"
     ]
    },
    {
     "name": "stdout",
     "output_type": "stream",
     "text": [
      "Epoch 34, Train Loss: 0.0000, Validation Loss: 0.0000\n"
     ]
    },
    {
     "name": "stderr",
     "output_type": "stream",
     "text": [
      "Training GNN:  18%|█▊        | 35/200 [00:46<03:33,  1.29s/it]"
     ]
    },
    {
     "name": "stdout",
     "output_type": "stream",
     "text": [
      "Epoch 35, Train Loss: 0.0000, Validation Loss: 0.0000\n"
     ]
    },
    {
     "name": "stderr",
     "output_type": "stream",
     "text": [
      "Training GNN:  18%|█▊        | 36/200 [00:47<03:32,  1.29s/it]"
     ]
    },
    {
     "name": "stdout",
     "output_type": "stream",
     "text": [
      "Epoch 36, Train Loss: 0.0000, Validation Loss: 0.0000\n"
     ]
    },
    {
     "name": "stderr",
     "output_type": "stream",
     "text": [
      "Training GNN:  18%|█▊        | 37/200 [00:48<03:33,  1.31s/it]"
     ]
    },
    {
     "name": "stdout",
     "output_type": "stream",
     "text": [
      "Epoch 37, Train Loss: 0.0000, Validation Loss: 0.0001\n"
     ]
    },
    {
     "name": "stderr",
     "output_type": "stream",
     "text": [
      "Training GNN:  19%|█▉        | 38/200 [00:49<03:25,  1.27s/it]"
     ]
    },
    {
     "name": "stdout",
     "output_type": "stream",
     "text": [
      "Epoch 38, Train Loss: 0.0000, Validation Loss: 0.0000\n"
     ]
    },
    {
     "name": "stderr",
     "output_type": "stream",
     "text": [
      "Training GNN:  20%|█▉        | 39/200 [00:51<03:27,  1.29s/it]"
     ]
    },
    {
     "name": "stdout",
     "output_type": "stream",
     "text": [
      "Epoch 39, Train Loss: 0.0000, Validation Loss: 0.0000\n"
     ]
    },
    {
     "name": "stderr",
     "output_type": "stream",
     "text": [
      "Training GNN:  20%|██        | 40/200 [00:53<03:46,  1.41s/it]"
     ]
    },
    {
     "name": "stdout",
     "output_type": "stream",
     "text": [
      "Epoch 40, Train Loss: 0.0000, Validation Loss: 0.0000\n"
     ]
    },
    {
     "name": "stderr",
     "output_type": "stream",
     "text": [
      "Training GNN:  20%|██        | 41/200 [00:54<03:37,  1.37s/it]"
     ]
    },
    {
     "name": "stdout",
     "output_type": "stream",
     "text": [
      "Epoch 41, Train Loss: 0.0000, Validation Loss: 0.0000\n"
     ]
    },
    {
     "name": "stderr",
     "output_type": "stream",
     "text": [
      "Training GNN:  21%|██        | 42/200 [00:55<03:33,  1.35s/it]"
     ]
    },
    {
     "name": "stdout",
     "output_type": "stream",
     "text": [
      "Epoch 42, Train Loss: 0.0000, Validation Loss: 0.0000\n"
     ]
    },
    {
     "name": "stderr",
     "output_type": "stream",
     "text": [
      "Training GNN:  22%|██▏       | 43/200 [00:56<03:33,  1.36s/it]"
     ]
    },
    {
     "name": "stdout",
     "output_type": "stream",
     "text": [
      "Epoch 43, Train Loss: 0.0000, Validation Loss: 0.0000\n"
     ]
    },
    {
     "name": "stderr",
     "output_type": "stream",
     "text": [
      "Training GNN:  22%|██▏       | 44/200 [00:58<03:46,  1.45s/it]"
     ]
    },
    {
     "name": "stdout",
     "output_type": "stream",
     "text": [
      "Epoch 44, Train Loss: 0.0000, Validation Loss: 0.0000\n"
     ]
    },
    {
     "name": "stderr",
     "output_type": "stream",
     "text": [
      "Training GNN:  22%|██▎       | 45/200 [01:00<03:51,  1.49s/it]"
     ]
    },
    {
     "name": "stdout",
     "output_type": "stream",
     "text": [
      "Epoch 45, Train Loss: 0.0000, Validation Loss: 0.0000\n"
     ]
    },
    {
     "name": "stderr",
     "output_type": "stream",
     "text": [
      "Training GNN:  23%|██▎       | 46/200 [01:01<03:41,  1.44s/it]"
     ]
    },
    {
     "name": "stdout",
     "output_type": "stream",
     "text": [
      "Epoch 46, Train Loss: 0.0000, Validation Loss: 0.0000\n"
     ]
    },
    {
     "name": "stderr",
     "output_type": "stream",
     "text": [
      "Training GNN:  24%|██▎       | 47/200 [01:02<03:27,  1.36s/it]"
     ]
    },
    {
     "name": "stdout",
     "output_type": "stream",
     "text": [
      "Epoch 47, Train Loss: 0.0000, Validation Loss: 0.0000\n"
     ]
    },
    {
     "name": "stderr",
     "output_type": "stream",
     "text": [
      "Training GNN:  24%|██▍       | 48/200 [01:04<03:24,  1.35s/it]"
     ]
    },
    {
     "name": "stdout",
     "output_type": "stream",
     "text": [
      "Epoch 48, Train Loss: 0.0000, Validation Loss: 0.0000\n"
     ]
    },
    {
     "name": "stderr",
     "output_type": "stream",
     "text": [
      "Training GNN:  24%|██▍       | 49/200 [01:05<03:18,  1.31s/it]"
     ]
    },
    {
     "name": "stdout",
     "output_type": "stream",
     "text": [
      "Epoch 49, Train Loss: 0.0000, Validation Loss: 0.0000\n"
     ]
    },
    {
     "name": "stderr",
     "output_type": "stream",
     "text": [
      "Training GNN:  25%|██▌       | 50/200 [01:06<03:11,  1.28s/it]"
     ]
    },
    {
     "name": "stdout",
     "output_type": "stream",
     "text": [
      "Epoch 50, Train Loss: 0.0000, Validation Loss: 0.0000\n"
     ]
    },
    {
     "name": "stderr",
     "output_type": "stream",
     "text": [
      "Training GNN:  26%|██▌       | 51/200 [01:07<03:08,  1.27s/it]"
     ]
    },
    {
     "name": "stdout",
     "output_type": "stream",
     "text": [
      "Epoch 51, Train Loss: 0.0000, Validation Loss: 0.0000\n"
     ]
    },
    {
     "name": "stderr",
     "output_type": "stream",
     "text": [
      "Training GNN:  26%|██▌       | 52/200 [01:08<03:06,  1.26s/it]"
     ]
    },
    {
     "name": "stdout",
     "output_type": "stream",
     "text": [
      "Epoch 52, Train Loss: 0.0000, Validation Loss: 0.0001\n"
     ]
    },
    {
     "name": "stderr",
     "output_type": "stream",
     "text": [
      "Training GNN:  26%|██▋       | 53/200 [01:10<03:09,  1.29s/it]"
     ]
    },
    {
     "name": "stdout",
     "output_type": "stream",
     "text": [
      "Epoch 53, Train Loss: 0.0000, Validation Loss: 0.0001\n"
     ]
    },
    {
     "name": "stderr",
     "output_type": "stream",
     "text": [
      "Training GNN:  27%|██▋       | 54/200 [01:11<03:08,  1.29s/it]"
     ]
    },
    {
     "name": "stdout",
     "output_type": "stream",
     "text": [
      "Epoch 54, Train Loss: 0.0000, Validation Loss: 0.0000\n"
     ]
    },
    {
     "name": "stderr",
     "output_type": "stream",
     "text": [
      "Training GNN:  28%|██▊       | 55/200 [01:12<03:05,  1.28s/it]"
     ]
    },
    {
     "name": "stdout",
     "output_type": "stream",
     "text": [
      "Epoch 55, Train Loss: 0.0000, Validation Loss: 0.0000\n"
     ]
    },
    {
     "name": "stderr",
     "output_type": "stream",
     "text": [
      "Training GNN:  28%|██▊       | 56/200 [01:14<03:10,  1.32s/it]"
     ]
    },
    {
     "name": "stdout",
     "output_type": "stream",
     "text": [
      "Epoch 56, Train Loss: 0.0000, Validation Loss: 0.0001\n"
     ]
    },
    {
     "name": "stderr",
     "output_type": "stream",
     "text": [
      "Training GNN:  28%|██▊       | 57/200 [01:15<03:08,  1.32s/it]"
     ]
    },
    {
     "name": "stdout",
     "output_type": "stream",
     "text": [
      "Epoch 57, Train Loss: 0.0000, Validation Loss: 0.0000\n"
     ]
    },
    {
     "name": "stderr",
     "output_type": "stream",
     "text": [
      "Training GNN:  29%|██▉       | 58/200 [01:16<02:58,  1.26s/it]"
     ]
    },
    {
     "name": "stdout",
     "output_type": "stream",
     "text": [
      "Epoch 58, Train Loss: 0.0000, Validation Loss: 0.0001\n"
     ]
    },
    {
     "name": "stderr",
     "output_type": "stream",
     "text": [
      "Training GNN:  30%|██▉       | 59/200 [01:17<02:55,  1.25s/it]"
     ]
    },
    {
     "name": "stdout",
     "output_type": "stream",
     "text": [
      "Epoch 59, Train Loss: 0.0000, Validation Loss: 0.0001\n"
     ]
    },
    {
     "name": "stderr",
     "output_type": "stream",
     "text": [
      "Training GNN:  30%|███       | 60/200 [01:19<03:00,  1.29s/it]"
     ]
    },
    {
     "name": "stdout",
     "output_type": "stream",
     "text": [
      "Epoch 60, Train Loss: 0.0000, Validation Loss: 0.0000\n"
     ]
    },
    {
     "name": "stderr",
     "output_type": "stream",
     "text": [
      "Training GNN:  30%|███       | 61/200 [01:20<03:08,  1.35s/it]"
     ]
    },
    {
     "name": "stdout",
     "output_type": "stream",
     "text": [
      "Epoch 61, Train Loss: 0.0000, Validation Loss: 0.0000\n"
     ]
    },
    {
     "name": "stderr",
     "output_type": "stream",
     "text": [
      "Training GNN:  31%|███       | 62/200 [01:22<03:07,  1.36s/it]"
     ]
    },
    {
     "name": "stdout",
     "output_type": "stream",
     "text": [
      "Epoch 62, Train Loss: 0.0000, Validation Loss: 0.0000\n"
     ]
    },
    {
     "name": "stderr",
     "output_type": "stream",
     "text": [
      "Training GNN:  32%|███▏      | 63/200 [01:23<03:00,  1.31s/it]"
     ]
    },
    {
     "name": "stdout",
     "output_type": "stream",
     "text": [
      "Epoch 63, Train Loss: 0.0000, Validation Loss: 0.0001\n"
     ]
    },
    {
     "name": "stderr",
     "output_type": "stream",
     "text": [
      "Training GNN:  32%|███▏      | 64/200 [01:24<02:53,  1.27s/it]"
     ]
    },
    {
     "name": "stdout",
     "output_type": "stream",
     "text": [
      "Epoch 64, Train Loss: 0.0000, Validation Loss: 0.0001\n"
     ]
    },
    {
     "name": "stderr",
     "output_type": "stream",
     "text": [
      "Training GNN:  32%|███▎      | 65/200 [01:25<02:49,  1.26s/it]"
     ]
    },
    {
     "name": "stdout",
     "output_type": "stream",
     "text": [
      "Epoch 65, Train Loss: 0.0000, Validation Loss: 0.0000\n"
     ]
    },
    {
     "name": "stderr",
     "output_type": "stream",
     "text": [
      "Training GNN:  33%|███▎      | 66/200 [01:26<02:47,  1.25s/it]"
     ]
    },
    {
     "name": "stdout",
     "output_type": "stream",
     "text": [
      "Epoch 66, Train Loss: 0.0000, Validation Loss: 0.0001\n"
     ]
    },
    {
     "name": "stderr",
     "output_type": "stream",
     "text": [
      "Training GNN:  34%|███▎      | 67/200 [01:28<02:47,  1.26s/it]"
     ]
    },
    {
     "name": "stdout",
     "output_type": "stream",
     "text": [
      "Epoch 67, Train Loss: 0.0000, Validation Loss: 0.0001\n"
     ]
    },
    {
     "name": "stderr",
     "output_type": "stream",
     "text": [
      "Training GNN:  34%|███▍      | 68/200 [01:29<02:49,  1.29s/it]"
     ]
    },
    {
     "name": "stdout",
     "output_type": "stream",
     "text": [
      "Epoch 68, Train Loss: 0.0000, Validation Loss: 0.0000\n"
     ]
    },
    {
     "name": "stderr",
     "output_type": "stream",
     "text": [
      "Training GNN:  34%|███▍      | 69/200 [01:31<02:54,  1.34s/it]"
     ]
    },
    {
     "name": "stdout",
     "output_type": "stream",
     "text": [
      "Epoch 69, Train Loss: 0.0000, Validation Loss: 0.0001\n"
     ]
    },
    {
     "name": "stderr",
     "output_type": "stream",
     "text": [
      "Training GNN:  35%|███▌      | 70/200 [01:32<02:50,  1.31s/it]"
     ]
    },
    {
     "name": "stdout",
     "output_type": "stream",
     "text": [
      "Epoch 70, Train Loss: 0.0000, Validation Loss: 0.0000\n"
     ]
    },
    {
     "name": "stderr",
     "output_type": "stream",
     "text": [
      "Training GNN:  36%|███▌      | 71/200 [01:33<02:47,  1.30s/it]"
     ]
    },
    {
     "name": "stdout",
     "output_type": "stream",
     "text": [
      "Epoch 71, Train Loss: 0.0000, Validation Loss: 0.0001\n"
     ]
    },
    {
     "name": "stderr",
     "output_type": "stream",
     "text": [
      "Training GNN:  36%|███▌      | 72/200 [01:34<02:45,  1.29s/it]"
     ]
    },
    {
     "name": "stdout",
     "output_type": "stream",
     "text": [
      "Epoch 72, Train Loss: 0.0000, Validation Loss: 0.0001\n"
     ]
    },
    {
     "name": "stderr",
     "output_type": "stream",
     "text": [
      "Training GNN:  36%|███▋      | 73/200 [01:36<02:48,  1.33s/it]"
     ]
    },
    {
     "name": "stdout",
     "output_type": "stream",
     "text": [
      "Epoch 73, Train Loss: 0.0000, Validation Loss: 0.0000\n"
     ]
    },
    {
     "name": "stderr",
     "output_type": "stream",
     "text": [
      "Training GNN:  37%|███▋      | 74/200 [01:37<02:51,  1.36s/it]"
     ]
    },
    {
     "name": "stdout",
     "output_type": "stream",
     "text": [
      "Epoch 74, Train Loss: 0.0000, Validation Loss: 0.0000\n"
     ]
    },
    {
     "name": "stderr",
     "output_type": "stream",
     "text": [
      "Training GNN:  38%|███▊      | 75/200 [01:39<02:58,  1.43s/it]"
     ]
    },
    {
     "name": "stdout",
     "output_type": "stream",
     "text": [
      "Epoch 75, Train Loss: 0.0000, Validation Loss: 0.0000\n"
     ]
    },
    {
     "name": "stderr",
     "output_type": "stream",
     "text": [
      "Training GNN:  38%|███▊      | 76/200 [01:40<03:02,  1.47s/it]"
     ]
    },
    {
     "name": "stdout",
     "output_type": "stream",
     "text": [
      "Epoch 76, Train Loss: 0.0000, Validation Loss: 0.0000\n"
     ]
    },
    {
     "name": "stderr",
     "output_type": "stream",
     "text": [
      "Training GNN:  38%|███▊      | 77/200 [01:42<03:06,  1.51s/it]"
     ]
    },
    {
     "name": "stdout",
     "output_type": "stream",
     "text": [
      "Epoch 77, Train Loss: 0.0000, Validation Loss: 0.0000\n"
     ]
    },
    {
     "name": "stderr",
     "output_type": "stream",
     "text": [
      "Training GNN:  39%|███▉      | 78/200 [01:44<03:09,  1.55s/it]"
     ]
    },
    {
     "name": "stdout",
     "output_type": "stream",
     "text": [
      "Epoch 78, Train Loss: 0.0000, Validation Loss: 0.0001\n"
     ]
    },
    {
     "name": "stderr",
     "output_type": "stream",
     "text": [
      "Training GNN:  40%|███▉      | 79/200 [01:45<03:03,  1.52s/it]"
     ]
    },
    {
     "name": "stdout",
     "output_type": "stream",
     "text": [
      "Epoch 79, Train Loss: 0.0000, Validation Loss: 0.0000\n"
     ]
    },
    {
     "name": "stderr",
     "output_type": "stream",
     "text": [
      "Training GNN:  40%|████      | 80/200 [01:47<03:02,  1.52s/it]"
     ]
    },
    {
     "name": "stdout",
     "output_type": "stream",
     "text": [
      "Epoch 80, Train Loss: 0.0000, Validation Loss: 0.0001\n"
     ]
    },
    {
     "name": "stderr",
     "output_type": "stream",
     "text": [
      "Training GNN:  40%|████      | 81/200 [01:48<03:06,  1.57s/it]"
     ]
    },
    {
     "name": "stdout",
     "output_type": "stream",
     "text": [
      "Epoch 81, Train Loss: 0.0000, Validation Loss: 0.0000\n"
     ]
    },
    {
     "name": "stderr",
     "output_type": "stream",
     "text": [
      "Training GNN:  41%|████      | 82/200 [01:50<03:02,  1.55s/it]"
     ]
    },
    {
     "name": "stdout",
     "output_type": "stream",
     "text": [
      "Epoch 82, Train Loss: 0.0000, Validation Loss: 0.0001\n"
     ]
    },
    {
     "name": "stderr",
     "output_type": "stream",
     "text": [
      "Training GNN:  42%|████▏     | 83/200 [01:51<03:01,  1.55s/it]"
     ]
    },
    {
     "name": "stdout",
     "output_type": "stream",
     "text": [
      "Epoch 83, Train Loss: 0.0000, Validation Loss: 0.0001\n"
     ]
    },
    {
     "name": "stderr",
     "output_type": "stream",
     "text": [
      "Training GNN:  42%|████▏     | 84/200 [01:53<02:47,  1.45s/it]"
     ]
    },
    {
     "name": "stdout",
     "output_type": "stream",
     "text": [
      "Epoch 84, Train Loss: 0.0000, Validation Loss: 0.0000\n"
     ]
    },
    {
     "name": "stderr",
     "output_type": "stream",
     "text": [
      "Training GNN:  42%|████▎     | 85/200 [01:54<02:42,  1.42s/it]"
     ]
    },
    {
     "name": "stdout",
     "output_type": "stream",
     "text": [
      "Epoch 85, Train Loss: 0.0000, Validation Loss: 0.0000\n"
     ]
    },
    {
     "name": "stderr",
     "output_type": "stream",
     "text": [
      "Training GNN:  43%|████▎     | 86/200 [01:55<02:35,  1.37s/it]"
     ]
    },
    {
     "name": "stdout",
     "output_type": "stream",
     "text": [
      "Epoch 86, Train Loss: 0.0000, Validation Loss: 0.0000\n"
     ]
    },
    {
     "name": "stderr",
     "output_type": "stream",
     "text": [
      "Training GNN:  44%|████▎     | 87/200 [01:57<02:38,  1.40s/it]"
     ]
    },
    {
     "name": "stdout",
     "output_type": "stream",
     "text": [
      "Epoch 87, Train Loss: 0.0000, Validation Loss: 0.0000\n"
     ]
    },
    {
     "name": "stderr",
     "output_type": "stream",
     "text": [
      "Training GNN:  44%|████▍     | 88/200 [01:58<02:37,  1.41s/it]"
     ]
    },
    {
     "name": "stdout",
     "output_type": "stream",
     "text": [
      "Epoch 88, Train Loss: 0.0000, Validation Loss: 0.0001\n"
     ]
    },
    {
     "name": "stderr",
     "output_type": "stream",
     "text": [
      "Training GNN:  44%|████▍     | 89/200 [01:59<02:30,  1.36s/it]"
     ]
    },
    {
     "name": "stdout",
     "output_type": "stream",
     "text": [
      "Epoch 89, Train Loss: 0.0000, Validation Loss: 0.0000\n"
     ]
    },
    {
     "name": "stderr",
     "output_type": "stream",
     "text": [
      "Training GNN:  45%|████▌     | 90/200 [02:00<02:19,  1.26s/it]"
     ]
    },
    {
     "name": "stdout",
     "output_type": "stream",
     "text": [
      "Epoch 90, Train Loss: 0.0000, Validation Loss: 0.0000\n"
     ]
    },
    {
     "name": "stderr",
     "output_type": "stream",
     "text": [
      "Training GNN:  46%|████▌     | 91/200 [02:01<02:14,  1.23s/it]"
     ]
    },
    {
     "name": "stdout",
     "output_type": "stream",
     "text": [
      "Epoch 91, Train Loss: 0.0000, Validation Loss: 0.0000\n"
     ]
    },
    {
     "name": "stderr",
     "output_type": "stream",
     "text": [
      "Training GNN:  46%|████▌     | 92/200 [02:03<02:18,  1.28s/it]"
     ]
    },
    {
     "name": "stdout",
     "output_type": "stream",
     "text": [
      "Epoch 92, Train Loss: 0.0000, Validation Loss: 0.0000\n"
     ]
    },
    {
     "name": "stderr",
     "output_type": "stream",
     "text": [
      "Training GNN:  46%|████▋     | 93/200 [02:04<02:19,  1.30s/it]"
     ]
    },
    {
     "name": "stdout",
     "output_type": "stream",
     "text": [
      "Epoch 93, Train Loss: 0.0000, Validation Loss: 0.0000\n"
     ]
    },
    {
     "name": "stderr",
     "output_type": "stream",
     "text": [
      "Training GNN:  47%|████▋     | 94/200 [02:06<02:18,  1.31s/it]"
     ]
    },
    {
     "name": "stdout",
     "output_type": "stream",
     "text": [
      "Epoch 94, Train Loss: 0.0000, Validation Loss: 0.0001\n"
     ]
    },
    {
     "name": "stderr",
     "output_type": "stream",
     "text": [
      "Training GNN:  48%|████▊     | 95/200 [02:07<02:20,  1.34s/it]"
     ]
    },
    {
     "name": "stdout",
     "output_type": "stream",
     "text": [
      "Epoch 95, Train Loss: 0.0000, Validation Loss: 0.0001\n"
     ]
    },
    {
     "name": "stderr",
     "output_type": "stream",
     "text": [
      "Training GNN:  48%|████▊     | 96/200 [02:08<02:24,  1.39s/it]"
     ]
    },
    {
     "name": "stdout",
     "output_type": "stream",
     "text": [
      "Epoch 96, Train Loss: 0.0000, Validation Loss: 0.0000\n"
     ]
    },
    {
     "name": "stderr",
     "output_type": "stream",
     "text": [
      "Training GNN:  48%|████▊     | 97/200 [02:10<02:29,  1.45s/it]"
     ]
    },
    {
     "name": "stdout",
     "output_type": "stream",
     "text": [
      "Epoch 97, Train Loss: 0.0000, Validation Loss: 0.0000\n"
     ]
    },
    {
     "name": "stderr",
     "output_type": "stream",
     "text": [
      "Training GNN:  49%|████▉     | 98/200 [02:12<02:27,  1.45s/it]"
     ]
    },
    {
     "name": "stdout",
     "output_type": "stream",
     "text": [
      "Epoch 98, Train Loss: 0.0000, Validation Loss: 0.0001\n"
     ]
    },
    {
     "name": "stderr",
     "output_type": "stream",
     "text": [
      "Training GNN:  50%|████▉     | 99/200 [02:13<02:26,  1.45s/it]"
     ]
    },
    {
     "name": "stdout",
     "output_type": "stream",
     "text": [
      "Epoch 99, Train Loss: 0.0001, Validation Loss: 0.0001\n"
     ]
    },
    {
     "name": "stderr",
     "output_type": "stream",
     "text": [
      "Training GNN:  50%|█████     | 100/200 [02:15<02:28,  1.49s/it]"
     ]
    },
    {
     "name": "stdout",
     "output_type": "stream",
     "text": [
      "Epoch 100, Train Loss: 0.0000, Validation Loss: 0.0000\n"
     ]
    },
    {
     "name": "stderr",
     "output_type": "stream",
     "text": [
      "Training GNN:  50%|█████     | 101/200 [02:16<02:26,  1.48s/it]"
     ]
    },
    {
     "name": "stdout",
     "output_type": "stream",
     "text": [
      "Epoch 101, Train Loss: 0.0000, Validation Loss: 0.0000\n"
     ]
    },
    {
     "name": "stderr",
     "output_type": "stream",
     "text": [
      "Training GNN:  51%|█████     | 102/200 [02:17<02:20,  1.43s/it]"
     ]
    },
    {
     "name": "stdout",
     "output_type": "stream",
     "text": [
      "Epoch 102, Train Loss: 0.0000, Validation Loss: 0.0000\n"
     ]
    },
    {
     "name": "stderr",
     "output_type": "stream",
     "text": [
      "Training GNN:  52%|█████▏    | 103/200 [02:19<02:18,  1.43s/it]"
     ]
    },
    {
     "name": "stdout",
     "output_type": "stream",
     "text": [
      "Epoch 103, Train Loss: 0.0000, Validation Loss: 0.0000\n"
     ]
    },
    {
     "name": "stderr",
     "output_type": "stream",
     "text": [
      "Training GNN:  52%|█████▏    | 104/200 [02:20<02:15,  1.41s/it]"
     ]
    },
    {
     "name": "stdout",
     "output_type": "stream",
     "text": [
      "Epoch 104, Train Loss: 0.0000, Validation Loss: 0.0000\n"
     ]
    },
    {
     "name": "stderr",
     "output_type": "stream",
     "text": [
      "Training GNN:  52%|█████▎    | 105/200 [02:22<02:13,  1.41s/it]"
     ]
    },
    {
     "name": "stdout",
     "output_type": "stream",
     "text": [
      "Epoch 105, Train Loss: 0.0000, Validation Loss: 0.0000\n"
     ]
    },
    {
     "name": "stderr",
     "output_type": "stream",
     "text": [
      "Training GNN:  53%|█████▎    | 106/200 [02:23<02:18,  1.48s/it]"
     ]
    },
    {
     "name": "stdout",
     "output_type": "stream",
     "text": [
      "Epoch 106, Train Loss: 0.0000, Validation Loss: 0.0001\n"
     ]
    },
    {
     "name": "stderr",
     "output_type": "stream",
     "text": [
      "Training GNN:  54%|█████▎    | 107/200 [02:25<02:20,  1.51s/it]"
     ]
    },
    {
     "name": "stdout",
     "output_type": "stream",
     "text": [
      "Epoch 107, Train Loss: 0.0000, Validation Loss: 0.0001\n"
     ]
    },
    {
     "name": "stderr",
     "output_type": "stream",
     "text": [
      "Training GNN:  54%|█████▍    | 108/200 [02:26<02:10,  1.42s/it]"
     ]
    },
    {
     "name": "stdout",
     "output_type": "stream",
     "text": [
      "Epoch 108, Train Loss: 0.0000, Validation Loss: 0.0000\n"
     ]
    },
    {
     "name": "stderr",
     "output_type": "stream",
     "text": [
      "Training GNN:  55%|█████▍    | 109/200 [02:27<02:02,  1.35s/it]"
     ]
    },
    {
     "name": "stdout",
     "output_type": "stream",
     "text": [
      "Epoch 109, Train Loss: 0.0001, Validation Loss: 0.0001\n"
     ]
    },
    {
     "name": "stderr",
     "output_type": "stream",
     "text": [
      "Training GNN:  55%|█████▌    | 110/200 [02:28<01:57,  1.31s/it]"
     ]
    },
    {
     "name": "stdout",
     "output_type": "stream",
     "text": [
      "Epoch 110, Train Loss: 0.0000, Validation Loss: 0.0001\n"
     ]
    },
    {
     "name": "stderr",
     "output_type": "stream",
     "text": [
      "Training GNN:  56%|█████▌    | 111/200 [02:30<02:00,  1.36s/it]"
     ]
    },
    {
     "name": "stdout",
     "output_type": "stream",
     "text": [
      "Epoch 111, Train Loss: 0.0000, Validation Loss: 0.0000\n"
     ]
    },
    {
     "name": "stderr",
     "output_type": "stream",
     "text": [
      "Training GNN:  56%|█████▌    | 112/200 [02:31<02:05,  1.42s/it]"
     ]
    },
    {
     "name": "stdout",
     "output_type": "stream",
     "text": [
      "Epoch 112, Train Loss: 0.0000, Validation Loss: 0.0000\n"
     ]
    },
    {
     "name": "stderr",
     "output_type": "stream",
     "text": [
      "Training GNN:  56%|█████▋    | 113/200 [02:33<02:07,  1.47s/it]"
     ]
    },
    {
     "name": "stdout",
     "output_type": "stream",
     "text": [
      "Epoch 113, Train Loss: 0.0000, Validation Loss: 0.0001\n"
     ]
    },
    {
     "name": "stderr",
     "output_type": "stream",
     "text": [
      "Training GNN:  57%|█████▋    | 114/200 [02:34<02:05,  1.45s/it]"
     ]
    },
    {
     "name": "stdout",
     "output_type": "stream",
     "text": [
      "Epoch 114, Train Loss: 0.0000, Validation Loss: 0.0000\n"
     ]
    },
    {
     "name": "stderr",
     "output_type": "stream",
     "text": [
      "Training GNN:  57%|█████▊    | 115/200 [02:36<01:55,  1.35s/it]"
     ]
    },
    {
     "name": "stdout",
     "output_type": "stream",
     "text": [
      "Epoch 115, Train Loss: 0.0000, Validation Loss: 0.0000\n"
     ]
    },
    {
     "name": "stderr",
     "output_type": "stream",
     "text": [
      "Training GNN:  58%|█████▊    | 116/200 [02:37<01:49,  1.30s/it]"
     ]
    },
    {
     "name": "stdout",
     "output_type": "stream",
     "text": [
      "Epoch 116, Train Loss: 0.0000, Validation Loss: 0.0000\n"
     ]
    },
    {
     "name": "stderr",
     "output_type": "stream",
     "text": [
      "Training GNN:  58%|█████▊    | 117/200 [02:38<01:50,  1.33s/it]"
     ]
    },
    {
     "name": "stdout",
     "output_type": "stream",
     "text": [
      "Epoch 117, Train Loss: 0.0000, Validation Loss: 0.0000\n"
     ]
    },
    {
     "name": "stderr",
     "output_type": "stream",
     "text": [
      "Training GNN:  59%|█████▉    | 118/200 [02:39<01:49,  1.34s/it]"
     ]
    },
    {
     "name": "stdout",
     "output_type": "stream",
     "text": [
      "Epoch 118, Train Loss: 0.0000, Validation Loss: 0.0000\n"
     ]
    },
    {
     "name": "stderr",
     "output_type": "stream",
     "text": [
      "Training GNN:  60%|█████▉    | 119/200 [02:41<01:49,  1.36s/it]"
     ]
    },
    {
     "name": "stdout",
     "output_type": "stream",
     "text": [
      "Epoch 119, Train Loss: 0.0000, Validation Loss: 0.0000\n"
     ]
    },
    {
     "name": "stderr",
     "output_type": "stream",
     "text": [
      "Training GNN:  60%|██████    | 120/200 [02:42<01:50,  1.39s/it]"
     ]
    },
    {
     "name": "stdout",
     "output_type": "stream",
     "text": [
      "Epoch 120, Train Loss: 0.0000, Validation Loss: 0.0000\n"
     ]
    },
    {
     "name": "stderr",
     "output_type": "stream",
     "text": [
      "Training GNN:  60%|██████    | 121/200 [02:44<01:52,  1.42s/it]"
     ]
    },
    {
     "name": "stdout",
     "output_type": "stream",
     "text": [
      "Epoch 121, Train Loss: 0.0000, Validation Loss: 0.0000\n"
     ]
    },
    {
     "name": "stderr",
     "output_type": "stream",
     "text": [
      "Training GNN:  61%|██████    | 122/200 [02:45<01:52,  1.44s/it]"
     ]
    },
    {
     "name": "stdout",
     "output_type": "stream",
     "text": [
      "Epoch 122, Train Loss: 0.0000, Validation Loss: 0.0000\n"
     ]
    },
    {
     "name": "stderr",
     "output_type": "stream",
     "text": [
      "Training GNN:  62%|██████▏   | 123/200 [02:47<01:48,  1.41s/it]"
     ]
    },
    {
     "name": "stdout",
     "output_type": "stream",
     "text": [
      "Epoch 123, Train Loss: 0.0000, Validation Loss: 0.0000\n"
     ]
    },
    {
     "name": "stderr",
     "output_type": "stream",
     "text": [
      "Training GNN:  62%|██████▏   | 124/200 [02:48<01:45,  1.39s/it]"
     ]
    },
    {
     "name": "stdout",
     "output_type": "stream",
     "text": [
      "Epoch 124, Train Loss: 0.0000, Validation Loss: 0.0000\n"
     ]
    },
    {
     "name": "stderr",
     "output_type": "stream",
     "text": [
      "Training GNN:  62%|██████▎   | 125/200 [02:49<01:42,  1.36s/it]"
     ]
    },
    {
     "name": "stdout",
     "output_type": "stream",
     "text": [
      "Epoch 125, Train Loss: 0.0000, Validation Loss: 0.0001\n"
     ]
    },
    {
     "name": "stderr",
     "output_type": "stream",
     "text": [
      "Training GNN:  63%|██████▎   | 126/200 [02:51<01:39,  1.34s/it]"
     ]
    },
    {
     "name": "stdout",
     "output_type": "stream",
     "text": [
      "Epoch 126, Train Loss: 0.0000, Validation Loss: 0.0001\n"
     ]
    },
    {
     "name": "stderr",
     "output_type": "stream",
     "text": [
      "Training GNN:  64%|██████▎   | 127/200 [02:52<01:37,  1.34s/it]"
     ]
    },
    {
     "name": "stdout",
     "output_type": "stream",
     "text": [
      "Epoch 127, Train Loss: 0.0000, Validation Loss: 0.0000\n"
     ]
    },
    {
     "name": "stderr",
     "output_type": "stream",
     "text": [
      "Training GNN:  64%|██████▍   | 128/200 [02:53<01:36,  1.34s/it]"
     ]
    },
    {
     "name": "stdout",
     "output_type": "stream",
     "text": [
      "Epoch 128, Train Loss: 0.0000, Validation Loss: 0.0001\n"
     ]
    },
    {
     "name": "stderr",
     "output_type": "stream",
     "text": [
      "Training GNN:  64%|██████▍   | 129/200 [02:55<01:34,  1.33s/it]"
     ]
    },
    {
     "name": "stdout",
     "output_type": "stream",
     "text": [
      "Epoch 129, Train Loss: 0.0000, Validation Loss: 0.0000\n"
     ]
    },
    {
     "name": "stderr",
     "output_type": "stream",
     "text": [
      "Training GNN:  65%|██████▌   | 130/200 [02:56<01:34,  1.35s/it]"
     ]
    },
    {
     "name": "stdout",
     "output_type": "stream",
     "text": [
      "Epoch 130, Train Loss: 0.0000, Validation Loss: 0.0001\n"
     ]
    },
    {
     "name": "stderr",
     "output_type": "stream",
     "text": [
      "Training GNN:  66%|██████▌   | 131/200 [02:57<01:32,  1.34s/it]"
     ]
    },
    {
     "name": "stdout",
     "output_type": "stream",
     "text": [
      "Epoch 131, Train Loss: 0.0000, Validation Loss: 0.0000\n"
     ]
    },
    {
     "name": "stderr",
     "output_type": "stream",
     "text": [
      "Training GNN:  66%|██████▌   | 132/200 [02:58<01:29,  1.32s/it]"
     ]
    },
    {
     "name": "stdout",
     "output_type": "stream",
     "text": [
      "Epoch 132, Train Loss: 0.0000, Validation Loss: 0.0000\n"
     ]
    },
    {
     "name": "stderr",
     "output_type": "stream",
     "text": [
      "Training GNN:  66%|██████▋   | 133/200 [03:00<01:26,  1.30s/it]"
     ]
    },
    {
     "name": "stdout",
     "output_type": "stream",
     "text": [
      "Epoch 133, Train Loss: 0.0000, Validation Loss: 0.0001\n"
     ]
    },
    {
     "name": "stderr",
     "output_type": "stream",
     "text": [
      "Training GNN:  67%|██████▋   | 134/200 [03:01<01:24,  1.28s/it]"
     ]
    },
    {
     "name": "stdout",
     "output_type": "stream",
     "text": [
      "Epoch 134, Train Loss: 0.0000, Validation Loss: 0.0000\n"
     ]
    },
    {
     "name": "stderr",
     "output_type": "stream",
     "text": [
      "Training GNN:  68%|██████▊   | 135/200 [03:02<01:24,  1.30s/it]"
     ]
    },
    {
     "name": "stdout",
     "output_type": "stream",
     "text": [
      "Epoch 135, Train Loss: 0.0000, Validation Loss: 0.0001\n"
     ]
    },
    {
     "name": "stderr",
     "output_type": "stream",
     "text": [
      "Training GNN:  68%|██████▊   | 136/200 [03:04<01:28,  1.38s/it]"
     ]
    },
    {
     "name": "stdout",
     "output_type": "stream",
     "text": [
      "Epoch 136, Train Loss: 0.0000, Validation Loss: 0.0000\n"
     ]
    },
    {
     "name": "stderr",
     "output_type": "stream",
     "text": [
      "Training GNN:  68%|██████▊   | 137/200 [03:05<01:28,  1.41s/it]"
     ]
    },
    {
     "name": "stdout",
     "output_type": "stream",
     "text": [
      "Epoch 137, Train Loss: 0.0000, Validation Loss: 0.0001\n"
     ]
    },
    {
     "name": "stderr",
     "output_type": "stream",
     "text": [
      "Training GNN:  69%|██████▉   | 138/200 [03:07<01:29,  1.44s/it]"
     ]
    },
    {
     "name": "stdout",
     "output_type": "stream",
     "text": [
      "Epoch 138, Train Loss: 0.0000, Validation Loss: 0.0001\n"
     ]
    },
    {
     "name": "stderr",
     "output_type": "stream",
     "text": [
      "Training GNN:  70%|██████▉   | 139/200 [03:08<01:28,  1.45s/it]"
     ]
    },
    {
     "name": "stdout",
     "output_type": "stream",
     "text": [
      "Epoch 139, Train Loss: 0.0000, Validation Loss: 0.0000\n"
     ]
    },
    {
     "name": "stderr",
     "output_type": "stream",
     "text": [
      "Training GNN:  70%|███████   | 140/200 [03:10<01:26,  1.44s/it]"
     ]
    },
    {
     "name": "stdout",
     "output_type": "stream",
     "text": [
      "Epoch 140, Train Loss: 0.0000, Validation Loss: 0.0000\n"
     ]
    },
    {
     "name": "stderr",
     "output_type": "stream",
     "text": [
      "Training GNN:  70%|███████   | 141/200 [03:11<01:24,  1.43s/it]"
     ]
    },
    {
     "name": "stdout",
     "output_type": "stream",
     "text": [
      "Epoch 141, Train Loss: 0.0000, Validation Loss: 0.0000\n"
     ]
    },
    {
     "name": "stderr",
     "output_type": "stream",
     "text": [
      "Training GNN:  71%|███████   | 142/200 [03:13<01:21,  1.41s/it]"
     ]
    },
    {
     "name": "stdout",
     "output_type": "stream",
     "text": [
      "Epoch 142, Train Loss: 0.0000, Validation Loss: 0.0000\n"
     ]
    },
    {
     "name": "stderr",
     "output_type": "stream",
     "text": [
      "Training GNN:  72%|███████▏  | 143/200 [03:14<01:20,  1.41s/it]"
     ]
    },
    {
     "name": "stdout",
     "output_type": "stream",
     "text": [
      "Epoch 143, Train Loss: 0.0000, Validation Loss: 0.0000\n"
     ]
    },
    {
     "name": "stderr",
     "output_type": "stream",
     "text": [
      "Training GNN:  72%|███████▏  | 144/200 [03:15<01:19,  1.42s/it]"
     ]
    },
    {
     "name": "stdout",
     "output_type": "stream",
     "text": [
      "Epoch 144, Train Loss: 0.0000, Validation Loss: 0.0000\n"
     ]
    },
    {
     "name": "stderr",
     "output_type": "stream",
     "text": [
      "Training GNN:  72%|███████▎  | 145/200 [03:17<01:18,  1.42s/it]"
     ]
    },
    {
     "name": "stdout",
     "output_type": "stream",
     "text": [
      "Epoch 145, Train Loss: 0.0000, Validation Loss: 0.0001\n"
     ]
    },
    {
     "name": "stderr",
     "output_type": "stream",
     "text": [
      "Training GNN:  73%|███████▎  | 146/200 [03:18<01:15,  1.41s/it]"
     ]
    },
    {
     "name": "stdout",
     "output_type": "stream",
     "text": [
      "Epoch 146, Train Loss: 0.0000, Validation Loss: 0.0000\n"
     ]
    },
    {
     "name": "stderr",
     "output_type": "stream",
     "text": [
      "Training GNN:  74%|███████▎  | 147/200 [03:20<01:14,  1.40s/it]"
     ]
    },
    {
     "name": "stdout",
     "output_type": "stream",
     "text": [
      "Epoch 147, Train Loss: 0.0000, Validation Loss: 0.0001\n"
     ]
    },
    {
     "name": "stderr",
     "output_type": "stream",
     "text": [
      "Training GNN:  74%|███████▍  | 148/200 [03:21<01:12,  1.40s/it]"
     ]
    },
    {
     "name": "stdout",
     "output_type": "stream",
     "text": [
      "Epoch 148, Train Loss: 0.0000, Validation Loss: 0.0000\n"
     ]
    },
    {
     "name": "stderr",
     "output_type": "stream",
     "text": [
      "Training GNN:  74%|███████▍  | 149/200 [03:22<01:10,  1.38s/it]"
     ]
    },
    {
     "name": "stdout",
     "output_type": "stream",
     "text": [
      "Epoch 149, Train Loss: 0.0000, Validation Loss: 0.0001\n"
     ]
    },
    {
     "name": "stderr",
     "output_type": "stream",
     "text": [
      "Training GNN:  75%|███████▌  | 150/200 [03:24<01:10,  1.40s/it]"
     ]
    },
    {
     "name": "stdout",
     "output_type": "stream",
     "text": [
      "Epoch 150, Train Loss: 0.0000, Validation Loss: 0.0001\n"
     ]
    },
    {
     "name": "stderr",
     "output_type": "stream",
     "text": [
      "Training GNN:  76%|███████▌  | 151/200 [03:25<01:09,  1.41s/it]"
     ]
    },
    {
     "name": "stdout",
     "output_type": "stream",
     "text": [
      "Epoch 151, Train Loss: 0.0000, Validation Loss: 0.0000\n"
     ]
    },
    {
     "name": "stderr",
     "output_type": "stream",
     "text": [
      "Training GNN:  76%|███████▌  | 152/200 [03:27<01:07,  1.41s/it]"
     ]
    },
    {
     "name": "stdout",
     "output_type": "stream",
     "text": [
      "Epoch 152, Train Loss: 0.0000, Validation Loss: 0.0000\n"
     ]
    },
    {
     "name": "stderr",
     "output_type": "stream",
     "text": [
      "Training GNN:  76%|███████▋  | 153/200 [03:28<01:06,  1.41s/it]"
     ]
    },
    {
     "name": "stdout",
     "output_type": "stream",
     "text": [
      "Epoch 153, Train Loss: 0.0000, Validation Loss: 0.0000\n"
     ]
    },
    {
     "name": "stderr",
     "output_type": "stream",
     "text": [
      "Training GNN:  77%|███████▋  | 154/200 [03:29<01:05,  1.41s/it]"
     ]
    },
    {
     "name": "stdout",
     "output_type": "stream",
     "text": [
      "Epoch 154, Train Loss: 0.0000, Validation Loss: 0.0001\n"
     ]
    },
    {
     "name": "stderr",
     "output_type": "stream",
     "text": [
      "Training GNN:  78%|███████▊  | 155/200 [03:31<01:04,  1.43s/it]"
     ]
    },
    {
     "name": "stdout",
     "output_type": "stream",
     "text": [
      "Epoch 155, Train Loss: 0.0000, Validation Loss: 0.0000\n"
     ]
    },
    {
     "name": "stderr",
     "output_type": "stream",
     "text": [
      "Training GNN:  78%|███████▊  | 156/200 [03:32<01:02,  1.42s/it]"
     ]
    },
    {
     "name": "stdout",
     "output_type": "stream",
     "text": [
      "Epoch 156, Train Loss: 0.0000, Validation Loss: 0.0000\n"
     ]
    },
    {
     "name": "stderr",
     "output_type": "stream",
     "text": [
      "Training GNN:  78%|███████▊  | 157/200 [03:34<00:59,  1.39s/it]"
     ]
    },
    {
     "name": "stdout",
     "output_type": "stream",
     "text": [
      "Epoch 157, Train Loss: 0.0000, Validation Loss: 0.0001\n"
     ]
    },
    {
     "name": "stderr",
     "output_type": "stream",
     "text": [
      "Training GNN:  79%|███████▉  | 158/200 [03:35<00:58,  1.38s/it]"
     ]
    },
    {
     "name": "stdout",
     "output_type": "stream",
     "text": [
      "Epoch 158, Train Loss: 0.0000, Validation Loss: 0.0000\n"
     ]
    },
    {
     "name": "stderr",
     "output_type": "stream",
     "text": [
      "Training GNN:  80%|███████▉  | 159/200 [03:36<00:58,  1.42s/it]"
     ]
    },
    {
     "name": "stdout",
     "output_type": "stream",
     "text": [
      "Epoch 159, Train Loss: 0.0000, Validation Loss: 0.0000\n"
     ]
    },
    {
     "name": "stderr",
     "output_type": "stream",
     "text": [
      "Training GNN:  80%|████████  | 160/200 [03:38<00:55,  1.39s/it]"
     ]
    },
    {
     "name": "stdout",
     "output_type": "stream",
     "text": [
      "Epoch 160, Train Loss: 0.0000, Validation Loss: 0.0001\n"
     ]
    },
    {
     "name": "stderr",
     "output_type": "stream",
     "text": [
      "Training GNN:  80%|████████  | 161/200 [03:39<00:53,  1.37s/it]"
     ]
    },
    {
     "name": "stdout",
     "output_type": "stream",
     "text": [
      "Epoch 161, Train Loss: 0.0000, Validation Loss: 0.0001\n"
     ]
    },
    {
     "name": "stderr",
     "output_type": "stream",
     "text": [
      "Training GNN:  81%|████████  | 162/200 [03:40<00:51,  1.36s/it]"
     ]
    },
    {
     "name": "stdout",
     "output_type": "stream",
     "text": [
      "Epoch 162, Train Loss: 0.0000, Validation Loss: 0.0001\n"
     ]
    },
    {
     "name": "stderr",
     "output_type": "stream",
     "text": [
      "Training GNN:  82%|████████▏ | 163/200 [03:42<00:51,  1.38s/it]"
     ]
    },
    {
     "name": "stdout",
     "output_type": "stream",
     "text": [
      "Epoch 163, Train Loss: 0.0000, Validation Loss: 0.0000\n"
     ]
    },
    {
     "name": "stderr",
     "output_type": "stream",
     "text": [
      "Training GNN:  82%|████████▏ | 164/200 [03:43<00:49,  1.38s/it]"
     ]
    },
    {
     "name": "stdout",
     "output_type": "stream",
     "text": [
      "Epoch 164, Train Loss: 0.0000, Validation Loss: 0.0001\n"
     ]
    },
    {
     "name": "stderr",
     "output_type": "stream",
     "text": [
      "Training GNN:  82%|████████▎ | 165/200 [03:45<00:48,  1.38s/it]"
     ]
    },
    {
     "name": "stdout",
     "output_type": "stream",
     "text": [
      "Epoch 165, Train Loss: 0.0000, Validation Loss: 0.0000\n"
     ]
    },
    {
     "name": "stderr",
     "output_type": "stream",
     "text": [
      "Training GNN:  83%|████████▎ | 166/200 [03:46<00:46,  1.38s/it]"
     ]
    },
    {
     "name": "stdout",
     "output_type": "stream",
     "text": [
      "Epoch 166, Train Loss: 0.0000, Validation Loss: 0.0000\n"
     ]
    },
    {
     "name": "stderr",
     "output_type": "stream",
     "text": [
      "Training GNN:  84%|████████▎ | 167/200 [03:47<00:45,  1.38s/it]"
     ]
    },
    {
     "name": "stdout",
     "output_type": "stream",
     "text": [
      "Epoch 167, Train Loss: 0.0000, Validation Loss: 0.0000\n"
     ]
    },
    {
     "name": "stderr",
     "output_type": "stream",
     "text": [
      "Training GNN:  84%|████████▍ | 168/200 [03:49<00:43,  1.37s/it]"
     ]
    },
    {
     "name": "stdout",
     "output_type": "stream",
     "text": [
      "Epoch 168, Train Loss: 0.0000, Validation Loss: 0.0000\n"
     ]
    },
    {
     "name": "stderr",
     "output_type": "stream",
     "text": [
      "Training GNN:  84%|████████▍ | 169/200 [03:50<00:42,  1.37s/it]"
     ]
    },
    {
     "name": "stdout",
     "output_type": "stream",
     "text": [
      "Epoch 169, Train Loss: 0.0000, Validation Loss: 0.0000\n"
     ]
    },
    {
     "name": "stderr",
     "output_type": "stream",
     "text": [
      "Training GNN:  85%|████████▌ | 170/200 [03:51<00:40,  1.37s/it]"
     ]
    },
    {
     "name": "stdout",
     "output_type": "stream",
     "text": [
      "Epoch 170, Train Loss: 0.0000, Validation Loss: 0.0000\n"
     ]
    },
    {
     "name": "stderr",
     "output_type": "stream",
     "text": [
      "Training GNN:  86%|████████▌ | 171/200 [03:53<00:39,  1.38s/it]"
     ]
    },
    {
     "name": "stdout",
     "output_type": "stream",
     "text": [
      "Epoch 171, Train Loss: 0.0000, Validation Loss: 0.0000\n"
     ]
    },
    {
     "name": "stderr",
     "output_type": "stream",
     "text": [
      "Training GNN:  86%|████████▌ | 172/200 [03:54<00:38,  1.37s/it]"
     ]
    },
    {
     "name": "stdout",
     "output_type": "stream",
     "text": [
      "Epoch 172, Train Loss: 0.0000, Validation Loss: 0.0000\n"
     ]
    },
    {
     "name": "stderr",
     "output_type": "stream",
     "text": [
      "Training GNN:  86%|████████▋ | 173/200 [03:56<00:37,  1.40s/it]"
     ]
    },
    {
     "name": "stdout",
     "output_type": "stream",
     "text": [
      "Epoch 173, Train Loss: 0.0000, Validation Loss: 0.0000\n"
     ]
    },
    {
     "name": "stderr",
     "output_type": "stream",
     "text": [
      "Training GNN:  87%|████████▋ | 174/200 [03:57<00:36,  1.39s/it]"
     ]
    },
    {
     "name": "stdout",
     "output_type": "stream",
     "text": [
      "Epoch 174, Train Loss: 0.0001, Validation Loss: 0.0000\n"
     ]
    },
    {
     "name": "stderr",
     "output_type": "stream",
     "text": [
      "Training GNN:  88%|████████▊ | 175/200 [03:58<00:34,  1.39s/it]"
     ]
    },
    {
     "name": "stdout",
     "output_type": "stream",
     "text": [
      "Epoch 175, Train Loss: 0.0000, Validation Loss: 0.0000\n"
     ]
    },
    {
     "name": "stderr",
     "output_type": "stream",
     "text": [
      "Training GNN:  88%|████████▊ | 176/200 [04:00<00:34,  1.42s/it]"
     ]
    },
    {
     "name": "stdout",
     "output_type": "stream",
     "text": [
      "Epoch 176, Train Loss: 0.0000, Validation Loss: 0.0000\n"
     ]
    },
    {
     "name": "stderr",
     "output_type": "stream",
     "text": [
      "Training GNN:  88%|████████▊ | 177/200 [04:01<00:33,  1.45s/it]"
     ]
    },
    {
     "name": "stdout",
     "output_type": "stream",
     "text": [
      "Epoch 177, Train Loss: 0.0000, Validation Loss: 0.0000\n"
     ]
    },
    {
     "name": "stderr",
     "output_type": "stream",
     "text": [
      "Training GNN:  89%|████████▉ | 178/200 [04:03<00:33,  1.51s/it]"
     ]
    },
    {
     "name": "stdout",
     "output_type": "stream",
     "text": [
      "Epoch 178, Train Loss: 0.0000, Validation Loss: 0.0001\n"
     ]
    },
    {
     "name": "stderr",
     "output_type": "stream",
     "text": [
      "Training GNN:  90%|████████▉ | 179/200 [04:04<00:30,  1.47s/it]"
     ]
    },
    {
     "name": "stdout",
     "output_type": "stream",
     "text": [
      "Epoch 179, Train Loss: 0.0000, Validation Loss: 0.0000\n"
     ]
    },
    {
     "name": "stderr",
     "output_type": "stream",
     "text": [
      "Training GNN:  90%|█████████ | 180/200 [04:06<00:27,  1.40s/it]"
     ]
    },
    {
     "name": "stdout",
     "output_type": "stream",
     "text": [
      "Epoch 180, Train Loss: 0.0000, Validation Loss: 0.0000\n"
     ]
    },
    {
     "name": "stderr",
     "output_type": "stream",
     "text": [
      "Training GNN:  90%|█████████ | 181/200 [04:07<00:25,  1.33s/it]"
     ]
    },
    {
     "name": "stdout",
     "output_type": "stream",
     "text": [
      "Epoch 181, Train Loss: 0.0000, Validation Loss: 0.0000\n"
     ]
    },
    {
     "name": "stderr",
     "output_type": "stream",
     "text": [
      "Training GNN:  91%|█████████ | 182/200 [04:08<00:24,  1.34s/it]"
     ]
    },
    {
     "name": "stdout",
     "output_type": "stream",
     "text": [
      "Epoch 182, Train Loss: 0.0000, Validation Loss: 0.0000\n"
     ]
    },
    {
     "name": "stderr",
     "output_type": "stream",
     "text": [
      "Training GNN:  92%|█████████▏| 183/200 [04:10<00:23,  1.38s/it]"
     ]
    },
    {
     "name": "stdout",
     "output_type": "stream",
     "text": [
      "Epoch 183, Train Loss: 0.0000, Validation Loss: 0.0000\n"
     ]
    },
    {
     "name": "stderr",
     "output_type": "stream",
     "text": [
      "Training GNN:  92%|█████████▏| 184/200 [04:11<00:23,  1.47s/it]"
     ]
    },
    {
     "name": "stdout",
     "output_type": "stream",
     "text": [
      "Epoch 184, Train Loss: 0.0000, Validation Loss: 0.0000\n"
     ]
    },
    {
     "name": "stderr",
     "output_type": "stream",
     "text": [
      "Training GNN:  92%|█████████▎| 185/200 [04:13<00:21,  1.44s/it]"
     ]
    },
    {
     "name": "stdout",
     "output_type": "stream",
     "text": [
      "Epoch 185, Train Loss: 0.0000, Validation Loss: 0.0001\n"
     ]
    },
    {
     "name": "stderr",
     "output_type": "stream",
     "text": [
      "Training GNN:  93%|█████████▎| 186/200 [04:14<00:20,  1.46s/it]"
     ]
    },
    {
     "name": "stdout",
     "output_type": "stream",
     "text": [
      "Epoch 186, Train Loss: 0.0000, Validation Loss: 0.0000\n"
     ]
    },
    {
     "name": "stderr",
     "output_type": "stream",
     "text": [
      "Training GNN:  94%|█████████▎| 187/200 [04:15<00:17,  1.38s/it]"
     ]
    },
    {
     "name": "stdout",
     "output_type": "stream",
     "text": [
      "Epoch 187, Train Loss: 0.0000, Validation Loss: 0.0000\n"
     ]
    },
    {
     "name": "stderr",
     "output_type": "stream",
     "text": [
      "Training GNN:  94%|█████████▍| 188/200 [04:17<00:15,  1.33s/it]"
     ]
    },
    {
     "name": "stdout",
     "output_type": "stream",
     "text": [
      "Epoch 188, Train Loss: 0.0000, Validation Loss: 0.0000\n"
     ]
    },
    {
     "name": "stderr",
     "output_type": "stream",
     "text": [
      "Training GNN:  94%|█████████▍| 189/200 [04:18<00:14,  1.33s/it]"
     ]
    },
    {
     "name": "stdout",
     "output_type": "stream",
     "text": [
      "Epoch 189, Train Loss: 0.0000, Validation Loss: 0.0000\n"
     ]
    },
    {
     "name": "stderr",
     "output_type": "stream",
     "text": [
      "Training GNN:  95%|█████████▌| 190/200 [04:19<00:13,  1.31s/it]"
     ]
    },
    {
     "name": "stdout",
     "output_type": "stream",
     "text": [
      "Epoch 190, Train Loss: 0.0000, Validation Loss: 0.0001\n"
     ]
    },
    {
     "name": "stderr",
     "output_type": "stream",
     "text": [
      "Training GNN:  96%|█████████▌| 191/200 [04:21<00:11,  1.31s/it]"
     ]
    },
    {
     "name": "stdout",
     "output_type": "stream",
     "text": [
      "Epoch 191, Train Loss: 0.0000, Validation Loss: 0.0001\n"
     ]
    },
    {
     "name": "stderr",
     "output_type": "stream",
     "text": [
      "Training GNN:  96%|█████████▌| 192/200 [04:22<00:10,  1.31s/it]"
     ]
    },
    {
     "name": "stdout",
     "output_type": "stream",
     "text": [
      "Epoch 192, Train Loss: 0.0000, Validation Loss: 0.0001\n"
     ]
    },
    {
     "name": "stderr",
     "output_type": "stream",
     "text": [
      "Training GNN:  96%|█████████▋| 193/200 [04:23<00:09,  1.32s/it]"
     ]
    },
    {
     "name": "stdout",
     "output_type": "stream",
     "text": [
      "Epoch 193, Train Loss: 0.0000, Validation Loss: 0.0000\n"
     ]
    },
    {
     "name": "stderr",
     "output_type": "stream",
     "text": [
      "Training GNN:  97%|█████████▋| 194/200 [04:25<00:08,  1.34s/it]"
     ]
    },
    {
     "name": "stdout",
     "output_type": "stream",
     "text": [
      "Epoch 194, Train Loss: 0.0000, Validation Loss: 0.0000\n"
     ]
    },
    {
     "name": "stderr",
     "output_type": "stream",
     "text": [
      "Training GNN:  98%|█████████▊| 195/200 [04:26<00:06,  1.34s/it]"
     ]
    },
    {
     "name": "stdout",
     "output_type": "stream",
     "text": [
      "Epoch 195, Train Loss: 0.0000, Validation Loss: 0.0000\n"
     ]
    },
    {
     "name": "stderr",
     "output_type": "stream",
     "text": [
      "Training GNN:  98%|█████████▊| 196/200 [04:27<00:05,  1.32s/it]"
     ]
    },
    {
     "name": "stdout",
     "output_type": "stream",
     "text": [
      "Epoch 196, Train Loss: 0.0000, Validation Loss: 0.0000\n"
     ]
    },
    {
     "name": "stderr",
     "output_type": "stream",
     "text": [
      "Training GNN:  98%|█████████▊| 197/200 [04:29<00:03,  1.31s/it]"
     ]
    },
    {
     "name": "stdout",
     "output_type": "stream",
     "text": [
      "Epoch 197, Train Loss: 0.0001, Validation Loss: 0.0000\n"
     ]
    },
    {
     "name": "stderr",
     "output_type": "stream",
     "text": [
      "Training GNN:  99%|█████████▉| 198/200 [04:30<00:02,  1.30s/it]"
     ]
    },
    {
     "name": "stdout",
     "output_type": "stream",
     "text": [
      "Epoch 198, Train Loss: 0.0000, Validation Loss: 0.0000\n"
     ]
    },
    {
     "name": "stderr",
     "output_type": "stream",
     "text": [
      "Training GNN: 100%|█████████▉| 199/200 [04:31<00:01,  1.28s/it]"
     ]
    },
    {
     "name": "stdout",
     "output_type": "stream",
     "text": [
      "Epoch 199, Train Loss: 0.0000, Validation Loss: 0.0001\n"
     ]
    },
    {
     "name": "stderr",
     "output_type": "stream",
     "text": [
      "Training GNN: 100%|██████████| 200/200 [04:32<00:00,  1.36s/it]"
     ]
    },
    {
     "name": "stdout",
     "output_type": "stream",
     "text": [
      "Epoch 200, Train Loss: 0.0000, Validation Loss: 0.0000\n",
      "Columns in nodes_df for subgraph 湖田里 in prepare_gnn_data: ['vertex', 'type', 'lie_name', 'population', 'land_use_residential_percent', 'land_use_commercial_percent', 'land_use_education_percent', 'ndvi_mean', 'tree_count', 'transit_count', 'area_m2', 'length_m', 'road_class', 'walkability_rule']\n"
     ]
    },
    {
     "name": "stderr",
     "output_type": "stream",
     "text": [
      "\n"
     ]
    },
    {
     "name": "stdout",
     "output_type": "stream",
     "text": [
      "Columns in nodes_df for subgraph 菁山里 in prepare_gnn_data: ['vertex', 'type', 'lie_name', 'population', 'land_use_residential_percent', 'land_use_commercial_percent', 'land_use_education_percent', 'ndvi_mean', 'tree_count', 'transit_count', 'area_m2', 'length_m', 'road_class', 'walkability_rule']\n",
      "Columns in nodes_df for subgraph 大屯里 in prepare_gnn_data: ['vertex', 'type', 'lie_name', 'population', 'land_use_residential_percent', 'land_use_commercial_percent', 'land_use_education_percent', 'ndvi_mean', 'tree_count', 'transit_count', 'area_m2', 'length_m', 'road_class', 'walkability_rule']\n",
      "Columns in nodes_df for subgraph 平等里 in prepare_gnn_data: ['vertex', 'type', 'lie_name', 'population', 'land_use_residential_percent', 'land_use_commercial_percent', 'land_use_education_percent', 'ndvi_mean', 'tree_count', 'transit_count', 'area_m2', 'length_m', 'road_class', 'walkability_rule']\n",
      "Columns in nodes_df for subgraph 泉源里 in prepare_gnn_data: ['vertex', 'type', 'lie_name', 'population', 'land_use_residential_percent', 'land_use_commercial_percent', 'land_use_education_percent', 'ndvi_mean', 'tree_count', 'transit_count', 'area_m2', 'length_m', 'road_class', 'walkability_rule']\n",
      "Columns in nodes_df for subgraph 湖山里 in prepare_gnn_data: ['vertex', 'type', 'lie_name', 'population', 'land_use_residential_percent', 'land_use_commercial_percent', 'land_use_education_percent', 'ndvi_mean', 'tree_count', 'transit_count', 'area_m2', 'length_m', 'road_class', 'walkability_rule']\n",
      "Columns in nodes_df for subgraph 秀山里 in prepare_gnn_data: ['vertex', 'type', 'lie_name', 'population', 'land_use_residential_percent', 'land_use_commercial_percent', 'land_use_education_percent', 'ndvi_mean', 'tree_count', 'transit_count', 'area_m2', 'length_m', 'road_class', 'walkability_rule']\n",
      "Columns in nodes_df for subgraph 陽明里 in prepare_gnn_data: ['vertex', 'type', 'lie_name', 'population', 'land_use_residential_percent', 'land_use_commercial_percent', 'land_use_education_percent', 'ndvi_mean', 'tree_count', 'transit_count', 'area_m2', 'length_m', 'road_class', 'walkability_rule']\n",
      "Columns in nodes_df for subgraph 溪山里 in prepare_gnn_data: ['vertex', 'type', 'lie_name', 'population', 'land_use_residential_percent', 'land_use_commercial_percent', 'land_use_education_percent', 'ndvi_mean', 'tree_count', 'transit_count', 'area_m2', 'length_m', 'road_class', 'walkability_rule']\n",
      "Columns in nodes_df for subgraph 稻香里 in prepare_gnn_data: ['vertex', 'type', 'lie_name', 'population', 'land_use_residential_percent', 'land_use_commercial_percent', 'land_use_education_percent', 'ndvi_mean', 'tree_count', 'transit_count', 'area_m2', 'length_m', 'road_class', 'walkability_rule']\n",
      "Columns in nodes_df for subgraph 開明里 in prepare_gnn_data: ['vertex', 'type', 'lie_name', 'population', 'land_use_residential_percent', 'land_use_commercial_percent', 'land_use_education_percent', 'ndvi_mean', 'tree_count', 'transit_count', 'area_m2', 'length_m', 'road_class', 'walkability_rule']\n",
      "Columns in nodes_df for subgraph 中和里 in prepare_gnn_data: ['vertex', 'type', 'lie_name', 'population', 'land_use_residential_percent', 'land_use_commercial_percent', 'land_use_education_percent', 'ndvi_mean', 'tree_count', 'transit_count', 'area_m2', 'length_m', 'road_class', 'walkability_rule']\n",
      "Columns in nodes_df for subgraph 中心里 in prepare_gnn_data: ['vertex', 'type', 'lie_name', 'population', 'land_use_residential_percent', 'land_use_commercial_percent', 'land_use_education_percent', 'ndvi_mean', 'tree_count', 'transit_count', 'area_m2', 'length_m', 'road_class', 'walkability_rule']\n",
      "Columns in nodes_df for subgraph 桃源里 in prepare_gnn_data: ['vertex', 'type', 'lie_name', 'population', 'land_use_residential_percent', 'land_use_commercial_percent', 'land_use_education_percent', 'ndvi_mean', 'tree_count', 'transit_count', 'area_m2', 'length_m', 'road_class', 'walkability_rule']\n",
      "Columns in nodes_df for subgraph 智仁里 in prepare_gnn_data: ['vertex', 'type', 'lie_name', 'population', 'land_use_residential_percent', 'land_use_commercial_percent', 'land_use_education_percent', 'ndvi_mean', 'tree_count', 'transit_count', 'area_m2', 'length_m', 'road_class', 'walkability_rule']\n",
      "Columns in nodes_df for subgraph 文化里 in prepare_gnn_data: ['vertex', 'type', 'lie_name', 'population', 'land_use_residential_percent', 'land_use_commercial_percent', 'land_use_education_percent', 'ndvi_mean', 'tree_count', 'transit_count', 'area_m2', 'length_m', 'road_class', 'walkability_rule']\n",
      "Columns in nodes_df for subgraph 林泉里 in prepare_gnn_data: ['vertex', 'type', 'lie_name', 'population', 'land_use_residential_percent', 'land_use_commercial_percent', 'land_use_education_percent', 'ndvi_mean', 'tree_count', 'transit_count', 'area_m2', 'length_m', 'road_class', 'walkability_rule']\n",
      "Columns in nodes_df for subgraph 永和里 in prepare_gnn_data: ['vertex', 'type', 'lie_name', 'population', 'land_use_residential_percent', 'land_use_commercial_percent', 'land_use_education_percent', 'ndvi_mean', 'tree_count', 'transit_count', 'area_m2', 'length_m', 'road_class', 'walkability_rule']\n",
      "Columns in nodes_df for subgraph 天母里 in prepare_gnn_data: ['vertex', 'type', 'lie_name', 'population', 'land_use_residential_percent', 'land_use_commercial_percent', 'land_use_education_percent', 'ndvi_mean', 'tree_count', 'transit_count', 'area_m2', 'length_m', 'road_class', 'walkability_rule']\n",
      "Columns in nodes_df for subgraph 公館里 in prepare_gnn_data: ['vertex', 'type', 'lie_name', 'population', 'land_use_residential_percent', 'land_use_commercial_percent', 'land_use_education_percent', 'ndvi_mean', 'tree_count', 'transit_count', 'area_m2', 'length_m', 'road_class', 'walkability_rule']\n",
      "Columns in nodes_df for subgraph 一德里 in prepare_gnn_data: ['vertex', 'type', 'lie_name', 'population', 'land_use_residential_percent', 'land_use_commercial_percent', 'land_use_education_percent', 'ndvi_mean', 'tree_count', 'transit_count', 'area_m2', 'length_m', 'road_class', 'walkability_rule']\n",
      "Columns in nodes_df for subgraph 中庸里 in prepare_gnn_data: ['vertex', 'type', 'lie_name', 'population', 'land_use_residential_percent', 'land_use_commercial_percent', 'land_use_education_percent', 'ndvi_mean', 'tree_count', 'transit_count', 'area_m2', 'length_m', 'road_class', 'walkability_rule']\n",
      "Columns in nodes_df for subgraph 豐年里 in prepare_gnn_data: ['vertex', 'type', 'lie_name', 'population', 'land_use_residential_percent', 'land_use_commercial_percent', 'land_use_education_percent', 'ndvi_mean', 'tree_count', 'transit_count', 'area_m2', 'length_m', 'road_class', 'walkability_rule']\n",
      "Columns in nodes_df for subgraph 新安里 in prepare_gnn_data: ['vertex', 'type', 'lie_name', 'population', 'land_use_residential_percent', 'land_use_commercial_percent', 'land_use_education_percent', 'ndvi_mean', 'tree_count', 'transit_count', 'area_m2', 'length_m', 'road_class', 'walkability_rule']\n",
      "Columns in nodes_df for subgraph 長安里 in prepare_gnn_data: ['vertex', 'type', 'lie_name', 'population', 'land_use_residential_percent', 'land_use_commercial_percent', 'land_use_education_percent', 'ndvi_mean', 'tree_count', 'transit_count', 'area_m2', 'length_m', 'road_class', 'walkability_rule']\n",
      "Columns in nodes_df for subgraph 溫泉里 in prepare_gnn_data: ['vertex', 'type', 'lie_name', 'population', 'land_use_residential_percent', 'land_use_commercial_percent', 'land_use_education_percent', 'ndvi_mean', 'tree_count', 'transit_count', 'area_m2', 'length_m', 'road_class', 'walkability_rule']\n",
      "Columns in nodes_df for subgraph 奇岩里 in prepare_gnn_data: ['vertex', 'type', 'lie_name', 'population', 'land_use_residential_percent', 'land_use_commercial_percent', 'land_use_education_percent', 'ndvi_mean', 'tree_count', 'transit_count', 'area_m2', 'length_m', 'road_class', 'walkability_rule']\n",
      "Columns in nodes_df for subgraph 大同里 in prepare_gnn_data: ['vertex', 'type', 'lie_name', 'population', 'land_use_residential_percent', 'land_use_commercial_percent', 'land_use_education_percent', 'ndvi_mean', 'tree_count', 'transit_count', 'area_m2', 'length_m', 'road_class', 'walkability_rule']\n",
      "Columns in nodes_df for subgraph 東山里 in prepare_gnn_data: ['vertex', 'type', 'lie_name', 'population', 'land_use_residential_percent', 'land_use_commercial_percent', 'land_use_education_percent', 'ndvi_mean', 'tree_count', 'transit_count', 'area_m2', 'length_m', 'road_class', 'walkability_rule']\n",
      "Columns in nodes_df for subgraph 中央里 in prepare_gnn_data: ['vertex', 'type', 'lie_name', 'population', 'land_use_residential_percent', 'land_use_commercial_percent', 'land_use_education_percent', 'ndvi_mean', 'tree_count', 'transit_count', 'area_m2', 'length_m', 'road_class', 'walkability_rule']\n",
      "Columns in nodes_df for subgraph 清江里 in prepare_gnn_data: ['vertex', 'type', 'lie_name', 'population', 'land_use_residential_percent', 'land_use_commercial_percent', 'land_use_education_percent', 'ndvi_mean', 'tree_count', 'transit_count', 'area_m2', 'length_m', 'road_class', 'walkability_rule']\n",
      "Columns in nodes_df for subgraph 永欣里 in prepare_gnn_data: ['vertex', 'type', 'lie_name', 'population', 'land_use_residential_percent', 'land_use_commercial_percent', 'land_use_education_percent', 'ndvi_mean', 'tree_count', 'transit_count', 'area_m2', 'length_m', 'road_class', 'walkability_rule']\n",
      "Columns in nodes_df for subgraph 八仙里 in prepare_gnn_data: ['vertex', 'type', 'lie_name', 'population', 'land_use_residential_percent', 'land_use_commercial_percent', 'land_use_education_percent', 'ndvi_mean', 'tree_count', 'transit_count', 'area_m2', 'length_m', 'road_class', 'walkability_rule']\n",
      "Columns in nodes_df for subgraph 天和里 in prepare_gnn_data: ['vertex', 'type', 'lie_name', 'population', 'land_use_residential_percent', 'land_use_commercial_percent', 'land_use_education_percent', 'ndvi_mean', 'tree_count', 'transit_count', 'area_m2', 'length_m', 'road_class', 'walkability_rule']\n",
      "Columns in nodes_df for subgraph 東華里 in prepare_gnn_data: ['vertex', 'type', 'lie_name', 'population', 'land_use_residential_percent', 'land_use_commercial_percent', 'land_use_education_percent', 'ndvi_mean', 'tree_count', 'transit_count', 'area_m2', 'length_m', 'road_class', 'walkability_rule']\n",
      "Columns in nodes_df for subgraph 天山里 in prepare_gnn_data: ['vertex', 'type', 'lie_name', 'population', 'land_use_residential_percent', 'land_use_commercial_percent', 'land_use_education_percent', 'ndvi_mean', 'tree_count', 'transit_count', 'area_m2', 'length_m', 'road_class', 'walkability_rule']\n",
      "Columns in nodes_df for subgraph 關渡里 in prepare_gnn_data: ['vertex', 'type', 'lie_name', 'population', 'land_use_residential_percent', 'land_use_commercial_percent', 'land_use_education_percent', 'ndvi_mean', 'tree_count', 'transit_count', 'area_m2', 'length_m', 'road_class', 'walkability_rule']\n",
      "Columns in nodes_df for subgraph 天玉里 in prepare_gnn_data: ['vertex', 'type', 'lie_name', 'population', 'land_use_residential_percent', 'land_use_commercial_percent', 'land_use_education_percent', 'ndvi_mean', 'tree_count', 'transit_count', 'area_m2', 'length_m', 'road_class', 'walkability_rule']\n",
      "Columns in nodes_df for subgraph 立農里 in prepare_gnn_data: ['vertex', 'type', 'lie_name', 'population', 'land_use_residential_percent', 'land_use_commercial_percent', 'land_use_education_percent', 'ndvi_mean', 'tree_count', 'transit_count', 'area_m2', 'length_m', 'road_class', 'walkability_rule']\n",
      "Columns in nodes_df for subgraph 芝山里 in prepare_gnn_data: ['vertex', 'type', 'lie_name', 'population', 'land_use_residential_percent', 'land_use_commercial_percent', 'land_use_education_percent', 'ndvi_mean', 'tree_count', 'transit_count', 'area_m2', 'length_m', 'road_class', 'walkability_rule']\n",
      "Columns in nodes_df for subgraph 榮華里 in prepare_gnn_data: ['vertex', 'type', 'lie_name', 'population', 'land_use_residential_percent', 'land_use_commercial_percent', 'land_use_education_percent', 'ndvi_mean', 'tree_count', 'transit_count', 'area_m2', 'length_m', 'road_class', 'walkability_rule']\n",
      "Columns in nodes_df for subgraph 永明里 in prepare_gnn_data: ['vertex', 'type', 'lie_name', 'population', 'land_use_residential_percent', 'land_use_commercial_percent', 'land_use_education_percent', 'ndvi_mean', 'tree_count', 'transit_count', 'area_m2', 'length_m', 'road_class', 'walkability_rule']\n",
      "Columns in nodes_df for subgraph 振華里 in prepare_gnn_data: ['vertex', 'type', 'lie_name', 'population', 'land_use_residential_percent', 'land_use_commercial_percent', 'land_use_education_percent', 'ndvi_mean', 'tree_count', 'transit_count', 'area_m2', 'length_m', 'road_class', 'walkability_rule']\n",
      "Columns in nodes_df for subgraph 吉利里 in prepare_gnn_data: ['vertex', 'type', 'lie_name', 'population', 'land_use_residential_percent', 'land_use_commercial_percent', 'land_use_education_percent', 'ndvi_mean', 'tree_count', 'transit_count', 'area_m2', 'length_m', 'road_class', 'walkability_rule']\n",
      "Columns in nodes_df for subgraph 天壽里 in prepare_gnn_data: ['vertex', 'type', 'lie_name', 'population', 'land_use_residential_percent', 'land_use_commercial_percent', 'land_use_education_percent', 'ndvi_mean', 'tree_count', 'transit_count', 'area_m2', 'length_m', 'road_class', 'walkability_rule']\n",
      "Columns in nodes_df for subgraph 尊賢里 in prepare_gnn_data: ['vertex', 'type', 'lie_name', 'population', 'land_use_residential_percent', 'land_use_commercial_percent', 'land_use_education_percent', 'ndvi_mean', 'tree_count', 'transit_count', 'area_m2', 'length_m', 'road_class', 'walkability_rule']\n",
      "Columns in nodes_df for subgraph 立賢里 in prepare_gnn_data: ['vertex', 'type', 'lie_name', 'population', 'land_use_residential_percent', 'land_use_commercial_percent', 'land_use_education_percent', 'ndvi_mean', 'tree_count', 'transit_count', 'area_m2', 'length_m', 'road_class', 'walkability_rule']\n",
      "Columns in nodes_df for subgraph 天福里 in prepare_gnn_data: ['vertex', 'type', 'lie_name', 'population', 'land_use_residential_percent', 'land_use_commercial_percent', 'land_use_education_percent', 'ndvi_mean', 'tree_count', 'transit_count', 'area_m2', 'length_m', 'road_class', 'walkability_rule']\n",
      "Columns in nodes_df for subgraph 三玉里 in prepare_gnn_data: ['vertex', 'type', 'lie_name', 'population', 'land_use_residential_percent', 'land_use_commercial_percent', 'land_use_education_percent', 'ndvi_mean', 'tree_count', 'transit_count', 'area_m2', 'length_m', 'road_class', 'walkability_rule']\n",
      "Columns in nodes_df for subgraph 天祿里 in prepare_gnn_data: ['vertex', 'type', 'lie_name', 'population', 'land_use_residential_percent', 'land_use_commercial_percent', 'land_use_education_percent', 'ndvi_mean', 'tree_count', 'transit_count', 'area_m2', 'length_m', 'road_class', 'walkability_rule']\n",
      "Columns in nodes_df for subgraph 富洲里 in prepare_gnn_data: ['vertex', 'type', 'lie_name', 'population', 'land_use_residential_percent', 'land_use_commercial_percent', 'land_use_education_percent', 'ndvi_mean', 'tree_count', 'transit_count', 'area_m2', 'length_m', 'road_class', 'walkability_rule']\n",
      "Columns in nodes_df for subgraph 永福里 in prepare_gnn_data: ['vertex', 'type', 'lie_name', 'population', 'land_use_residential_percent', 'land_use_commercial_percent', 'land_use_education_percent', 'ndvi_mean', 'tree_count', 'transit_count', 'area_m2', 'length_m', 'road_class', 'walkability_rule']\n",
      "Columns in nodes_df for subgraph 裕民里 in prepare_gnn_data: ['vertex', 'type', 'lie_name', 'population', 'land_use_residential_percent', 'land_use_commercial_percent', 'land_use_education_percent', 'ndvi_mean', 'tree_count', 'transit_count', 'area_m2', 'length_m', 'road_class', 'walkability_rule']\n",
      "Columns in nodes_df for subgraph 福安里 in prepare_gnn_data: ['vertex', 'type', 'lie_name', 'population', 'land_use_residential_percent', 'land_use_commercial_percent', 'land_use_education_percent', 'ndvi_mean', 'tree_count', 'transit_count', 'area_m2', 'length_m', 'road_class', 'walkability_rule']\n",
      "Columns in nodes_df for subgraph 碧山里 in prepare_gnn_data: ['vertex', 'type', 'lie_name', 'population', 'land_use_residential_percent', 'land_use_commercial_percent', 'land_use_education_percent', 'ndvi_mean', 'tree_count', 'transit_count', 'area_m2', 'length_m', 'road_class', 'walkability_rule']\n",
      "Columns in nodes_df for subgraph 榮光里 in prepare_gnn_data: ['vertex', 'type', 'lie_name', 'population', 'land_use_residential_percent', 'land_use_commercial_percent', 'land_use_education_percent', 'ndvi_mean', 'tree_count', 'transit_count', 'area_m2', 'length_m', 'road_class', 'walkability_rule']\n",
      "Columns in nodes_df for subgraph 吉慶里 in prepare_gnn_data: ['vertex', 'type', 'lie_name', 'population', 'land_use_residential_percent', 'land_use_commercial_percent', 'land_use_education_percent', 'ndvi_mean', 'tree_count', 'transit_count', 'area_m2', 'length_m', 'road_class', 'walkability_rule']\n",
      "Columns in nodes_df for subgraph 福興里 in prepare_gnn_data: ['vertex', 'type', 'lie_name', 'population', 'land_use_residential_percent', 'land_use_commercial_percent', 'land_use_education_percent', 'ndvi_mean', 'tree_count', 'transit_count', 'area_m2', 'length_m', 'road_class', 'walkability_rule']\n",
      "Columns in nodes_df for subgraph 蘭興里 in prepare_gnn_data: ['vertex', 'type', 'lie_name', 'population', 'land_use_residential_percent', 'land_use_commercial_percent', 'land_use_education_percent', 'ndvi_mean', 'tree_count', 'transit_count', 'area_m2', 'length_m', 'road_class', 'walkability_rule']\n",
      "Columns in nodes_df for subgraph 洲美里 in prepare_gnn_data: ['vertex', 'type', 'lie_name', 'population', 'land_use_residential_percent', 'land_use_commercial_percent', 'land_use_education_percent', 'ndvi_mean', 'tree_count', 'transit_count', 'area_m2', 'length_m', 'road_class', 'walkability_rule']\n",
      "Columns in nodes_df for subgraph 臨溪里 in prepare_gnn_data: ['vertex', 'type', 'lie_name', 'population', 'land_use_residential_percent', 'land_use_commercial_percent', 'land_use_education_percent', 'ndvi_mean', 'tree_count', 'transit_count', 'area_m2', 'length_m', 'road_class', 'walkability_rule']\n",
      "Columns in nodes_df for subgraph 翠山里 in prepare_gnn_data: ['vertex', 'type', 'lie_name', 'population', 'land_use_residential_percent', 'land_use_commercial_percent', 'land_use_education_percent', 'ndvi_mean', 'tree_count', 'transit_count', 'area_m2', 'length_m', 'road_class', 'walkability_rule']\n",
      "Columns in nodes_df for subgraph 蘭雅里 in prepare_gnn_data: ['vertex', 'type', 'lie_name', 'population', 'land_use_residential_percent', 'land_use_commercial_percent', 'land_use_education_percent', 'ndvi_mean', 'tree_count', 'transit_count', 'area_m2', 'length_m', 'road_class', 'walkability_rule']\n",
      "Columns in nodes_df for subgraph 石牌里 in prepare_gnn_data: ['vertex', 'type', 'lie_name', 'population', 'land_use_residential_percent', 'land_use_commercial_percent', 'land_use_education_percent', 'ndvi_mean', 'tree_count', 'transit_count', 'area_m2', 'length_m', 'road_class', 'walkability_rule']\n",
      "Columns in nodes_df for subgraph 文林里 in prepare_gnn_data: ['vertex', 'type', 'lie_name', 'population', 'land_use_residential_percent', 'land_use_commercial_percent', 'land_use_education_percent', 'ndvi_mean', 'tree_count', 'transit_count', 'area_m2', 'length_m', 'road_class', 'walkability_rule']\n",
      "Columns in nodes_df for subgraph 聖山里 in prepare_gnn_data: ['vertex', 'type', 'lie_name', 'population', 'land_use_residential_percent', 'land_use_commercial_percent', 'land_use_education_percent', 'ndvi_mean', 'tree_count', 'transit_count', 'area_m2', 'length_m', 'road_class', 'walkability_rule']\n",
      "Columns in nodes_df for subgraph 建民里 in prepare_gnn_data: ['vertex', 'type', 'lie_name', 'population', 'land_use_residential_percent', 'land_use_commercial_percent', 'land_use_education_percent', 'ndvi_mean', 'tree_count', 'transit_count', 'area_m2', 'length_m', 'road_class', 'walkability_rule']\n",
      "Columns in nodes_df for subgraph 內溝里 in prepare_gnn_data: ['vertex', 'type', 'lie_name', 'population', 'land_use_residential_percent', 'land_use_commercial_percent', 'land_use_education_percent', 'ndvi_mean', 'tree_count', 'transit_count', 'area_m2', 'length_m', 'road_class', 'walkability_rule']\n",
      "Columns in nodes_df for subgraph 岩山里 in prepare_gnn_data: ['vertex', 'type', 'lie_name', 'population', 'land_use_residential_percent', 'land_use_commercial_percent', 'land_use_education_percent', 'ndvi_mean', 'tree_count', 'transit_count', 'area_m2', 'length_m', 'road_class', 'walkability_rule']\n",
      "Columns in nodes_df for subgraph 忠誠里 in prepare_gnn_data: ['vertex', 'type', 'lie_name', 'population', 'land_use_residential_percent', 'land_use_commercial_percent', 'land_use_education_percent', 'ndvi_mean', 'tree_count', 'transit_count', 'area_m2', 'length_m', 'road_class', 'walkability_rule']\n",
      "Columns in nodes_df for subgraph 金瑞里 in prepare_gnn_data: ['vertex', 'type', 'lie_name', 'population', 'land_use_residential_percent', 'land_use_commercial_percent', 'land_use_education_percent', 'ndvi_mean', 'tree_count', 'transit_count', 'area_m2', 'length_m', 'road_class', 'walkability_rule']\n",
      "Columns in nodes_df for subgraph 德行里 in prepare_gnn_data: ['vertex', 'type', 'lie_name', 'population', 'land_use_residential_percent', 'land_use_commercial_percent', 'land_use_education_percent', 'ndvi_mean', 'tree_count', 'transit_count', 'area_m2', 'length_m', 'road_class', 'walkability_rule']\n",
      "Columns in nodes_df for subgraph 名山里 in prepare_gnn_data: ['vertex', 'type', 'lie_name', 'population', 'land_use_residential_percent', 'land_use_commercial_percent', 'land_use_education_percent', 'ndvi_mean', 'tree_count', 'transit_count', 'area_m2', 'length_m', 'road_class', 'walkability_rule']\n",
      "Columns in nodes_df for subgraph 大湖里 in prepare_gnn_data: ['vertex', 'type', 'lie_name', 'population', 'land_use_residential_percent', 'land_use_commercial_percent', 'land_use_education_percent', 'ndvi_mean', 'tree_count', 'transit_count', 'area_m2', 'length_m', 'road_class', 'walkability_rule']\n",
      "Columns in nodes_df for subgraph 德華里 in prepare_gnn_data: ['vertex', 'type', 'lie_name', 'population', 'land_use_residential_percent', 'land_use_commercial_percent', 'land_use_education_percent', 'ndvi_mean', 'tree_count', 'transit_count', 'area_m2', 'length_m', 'road_class', 'walkability_rule']\n",
      "Columns in nodes_df for subgraph 福志里 in prepare_gnn_data: ['vertex', 'type', 'lie_name', 'population', 'land_use_residential_percent', 'land_use_commercial_percent', 'land_use_education_percent', 'ndvi_mean', 'tree_count', 'transit_count', 'area_m2', 'length_m', 'road_class', 'walkability_rule']\n",
      "Columns in nodes_df for subgraph 舊佳里 in prepare_gnn_data: ['vertex', 'type', 'lie_name', 'population', 'land_use_residential_percent', 'land_use_commercial_percent', 'land_use_education_percent', 'ndvi_mean', 'tree_count', 'transit_count', 'area_m2', 'length_m', 'road_class', 'walkability_rule']\n",
      "Columns in nodes_df for subgraph 福林里 in prepare_gnn_data: ['vertex', 'type', 'lie_name', 'population', 'land_use_residential_percent', 'land_use_commercial_percent', 'land_use_education_percent', 'ndvi_mean', 'tree_count', 'transit_count', 'area_m2', 'length_m', 'road_class', 'walkability_rule']\n",
      "Columns in nodes_df for subgraph 福佳里 in prepare_gnn_data: ['vertex', 'type', 'lie_name', 'population', 'land_use_residential_percent', 'land_use_commercial_percent', 'land_use_education_percent', 'ndvi_mean', 'tree_count', 'transit_count', 'area_m2', 'length_m', 'road_class', 'walkability_rule']\n",
      "Columns in nodes_df for subgraph 西安里 in prepare_gnn_data: ['vertex', 'type', 'lie_name', 'population', 'land_use_residential_percent', 'land_use_commercial_percent', 'land_use_education_percent', 'ndvi_mean', 'tree_count', 'transit_count', 'area_m2', 'length_m', 'road_class', 'walkability_rule']\n",
      "Columns in nodes_df for subgraph 西康里 in prepare_gnn_data: ['vertex', 'type', 'lie_name', 'population', 'land_use_residential_percent', 'land_use_commercial_percent', 'land_use_education_percent', 'ndvi_mean', 'tree_count', 'transit_count', 'area_m2', 'length_m', 'road_class', 'walkability_rule']\n",
      "Columns in nodes_df for subgraph 後港里 in prepare_gnn_data: ['vertex', 'type', 'lie_name', 'population', 'land_use_residential_percent', 'land_use_commercial_percent', 'land_use_education_percent', 'ndvi_mean', 'tree_count', 'transit_count', 'area_m2', 'length_m', 'road_class', 'walkability_rule']\n",
      "Columns in nodes_df for subgraph 永倫里 in prepare_gnn_data: ['vertex', 'type', 'lie_name', 'population', 'land_use_residential_percent', 'land_use_commercial_percent', 'land_use_education_percent', 'ndvi_mean', 'tree_count', 'transit_count', 'area_m2', 'length_m', 'road_class', 'walkability_rule']\n",
      "Columns in nodes_df for subgraph 社園里 in prepare_gnn_data: ['vertex', 'type', 'lie_name', 'population', 'land_use_residential_percent', 'land_use_commercial_percent', 'land_use_education_percent', 'ndvi_mean', 'tree_count', 'transit_count', 'area_m2', 'length_m', 'road_class', 'walkability_rule']\n",
      "Columns in nodes_df for subgraph 社子里 in prepare_gnn_data: ['vertex', 'type', 'lie_name', 'population', 'land_use_residential_percent', 'land_use_commercial_percent', 'land_use_education_percent', 'ndvi_mean', 'tree_count', 'transit_count', 'area_m2', 'length_m', 'road_class', 'walkability_rule']\n",
      "Columns in nodes_df for subgraph 福德里 in prepare_gnn_data: ['vertex', 'type', 'lie_name', 'population', 'land_use_residential_percent', 'land_use_commercial_percent', 'land_use_education_percent', 'ndvi_mean', 'tree_count', 'transit_count', 'area_m2', 'length_m', 'road_class', 'walkability_rule']\n",
      "Columns in nodes_df for subgraph 港華里 in prepare_gnn_data: ['vertex', 'type', 'lie_name', 'population', 'land_use_residential_percent', 'land_use_commercial_percent', 'land_use_education_percent', 'ndvi_mean', 'tree_count', 'transit_count', 'area_m2', 'length_m', 'road_class', 'walkability_rule']\n",
      "Columns in nodes_df for subgraph 仁勇里 in prepare_gnn_data: ['vertex', 'type', 'lie_name', 'population', 'land_use_residential_percent', 'land_use_commercial_percent', 'land_use_education_percent', 'ndvi_mean', 'tree_count', 'transit_count', 'area_m2', 'length_m', 'road_class', 'walkability_rule']\n",
      "Columns in nodes_df for subgraph 北安里 in prepare_gnn_data: ['vertex', 'type', 'lie_name', 'population', 'land_use_residential_percent', 'land_use_commercial_percent', 'land_use_education_percent', 'ndvi_mean', 'tree_count', 'transit_count', 'area_m2', 'length_m', 'road_class', 'walkability_rule']\n",
      "Columns in nodes_df for subgraph 劍潭里 in prepare_gnn_data: ['vertex', 'type', 'lie_name', 'population', 'land_use_residential_percent', 'land_use_commercial_percent', 'land_use_education_percent', 'ndvi_mean', 'tree_count', 'transit_count', 'area_m2', 'length_m', 'road_class', 'walkability_rule']\n",
      "Columns in nodes_df for subgraph 大直里 in prepare_gnn_data: ['vertex', 'type', 'lie_name', 'population', 'land_use_residential_percent', 'land_use_commercial_percent', 'land_use_education_percent', 'ndvi_mean', 'tree_count', 'transit_count', 'area_m2', 'length_m', 'road_class', 'walkability_rule']\n",
      "Columns in nodes_df for subgraph 安泰里 in prepare_gnn_data: ['vertex', 'type', 'lie_name', 'population', 'land_use_residential_percent', 'land_use_commercial_percent', 'land_use_education_percent', 'ndvi_mean', 'tree_count', 'transit_count', 'area_m2', 'length_m', 'road_class', 'walkability_rule']\n",
      "Columns in nodes_df for subgraph 義信里 in prepare_gnn_data: ['vertex', 'type', 'lie_name', 'population', 'land_use_residential_percent', 'land_use_commercial_percent', 'land_use_education_percent', 'ndvi_mean', 'tree_count', 'transit_count', 'area_m2', 'length_m', 'road_class', 'walkability_rule']\n",
      "Columns in nodes_df for subgraph 港富里 in prepare_gnn_data: ['vertex', 'type', 'lie_name', 'population', 'land_use_residential_percent', 'land_use_commercial_percent', 'land_use_education_percent', 'ndvi_mean', 'tree_count', 'transit_count', 'area_m2', 'length_m', 'road_class', 'walkability_rule']\n",
      "Columns in nodes_df for subgraph 社新里 in prepare_gnn_data: ['vertex', 'type', 'lie_name', 'population', 'land_use_residential_percent', 'land_use_commercial_percent', 'land_use_education_percent', 'ndvi_mean', 'tree_count', 'transit_count', 'area_m2', 'length_m', 'road_class', 'walkability_rule']\n",
      "Columns in nodes_df for subgraph 福中里 in prepare_gnn_data: ['vertex', 'type', 'lie_name', 'population', 'land_use_residential_percent', 'land_use_commercial_percent', 'land_use_education_percent', 'ndvi_mean', 'tree_count', 'transit_count', 'area_m2', 'length_m', 'road_class', 'walkability_rule']\n",
      "Columns in nodes_df for subgraph 湖濱里 in prepare_gnn_data: ['vertex', 'type', 'lie_name', 'population', 'land_use_residential_percent', 'land_use_commercial_percent', 'land_use_education_percent', 'ndvi_mean', 'tree_count', 'transit_count', 'area_m2', 'length_m', 'road_class', 'walkability_rule']\n",
      "Columns in nodes_df for subgraph 葫東里 in prepare_gnn_data: ['vertex', 'type', 'lie_name', 'population', 'land_use_residential_percent', 'land_use_commercial_percent', 'land_use_education_percent', 'ndvi_mean', 'tree_count', 'transit_count', 'area_m2', 'length_m', 'road_class', 'walkability_rule']\n",
      "Columns in nodes_df for subgraph 前港里 in prepare_gnn_data: ['vertex', 'type', 'lie_name', 'population', 'land_use_residential_percent', 'land_use_commercial_percent', 'land_use_education_percent', 'ndvi_mean', 'tree_count', 'transit_count', 'area_m2', 'length_m', 'road_class', 'walkability_rule']\n",
      "Columns in nodes_df for subgraph 秀湖里 in prepare_gnn_data: ['vertex', 'type', 'lie_name', 'population', 'land_use_residential_percent', 'land_use_commercial_percent', 'land_use_education_percent', 'ndvi_mean', 'tree_count', 'transit_count', 'area_m2', 'length_m', 'road_class', 'walkability_rule']\n",
      "Columns in nodes_df for subgraph 金龍里 in prepare_gnn_data: ['vertex', 'type', 'lie_name', 'population', 'land_use_residential_percent', 'land_use_commercial_percent', 'land_use_education_percent', 'ndvi_mean', 'tree_count', 'transit_count', 'area_m2', 'length_m', 'road_class', 'walkability_rule']\n",
      "Columns in nodes_df for subgraph 西湖里 in prepare_gnn_data: ['vertex', 'type', 'lie_name', 'population', 'land_use_residential_percent', 'land_use_commercial_percent', 'land_use_education_percent', 'ndvi_mean', 'tree_count', 'transit_count', 'area_m2', 'length_m', 'road_class', 'walkability_rule']\n",
      "Columns in nodes_df for subgraph 麗山里 in prepare_gnn_data: ['vertex', 'type', 'lie_name', 'population', 'land_use_residential_percent', 'land_use_commercial_percent', 'land_use_education_percent', 'ndvi_mean', 'tree_count', 'transit_count', 'area_m2', 'length_m', 'road_class', 'walkability_rule']\n",
      "Columns in nodes_df for subgraph 葫蘆里 in prepare_gnn_data: ['vertex', 'type', 'lie_name', 'population', 'land_use_residential_percent', 'land_use_commercial_percent', 'land_use_education_percent', 'ndvi_mean', 'tree_count', 'transit_count', 'area_m2', 'length_m', 'road_class', 'walkability_rule']\n",
      "Columns in nodes_df for subgraph 成功里 in prepare_gnn_data: ['vertex', 'type', 'lie_name', 'population', 'land_use_residential_percent', 'land_use_commercial_percent', 'land_use_education_percent', 'ndvi_mean', 'tree_count', 'transit_count', 'area_m2', 'length_m', 'road_class', 'walkability_rule']\n",
      "Columns in nodes_df for subgraph 內湖里 in prepare_gnn_data: ['vertex', 'type', 'lie_name', 'population', 'land_use_residential_percent', 'land_use_commercial_percent', 'land_use_education_percent', 'ndvi_mean', 'tree_count', 'transit_count', 'area_m2', 'length_m', 'road_class', 'walkability_rule']\n",
      "Columns in nodes_df for subgraph 百齡里 in prepare_gnn_data: ['vertex', 'type', 'lie_name', 'population', 'land_use_residential_percent', 'land_use_commercial_percent', 'land_use_education_percent', 'ndvi_mean', 'tree_count', 'transit_count', 'area_m2', 'length_m', 'road_class', 'walkability_rule']\n",
      "Columns in nodes_df for subgraph 金泰里 in prepare_gnn_data: ['vertex', 'type', 'lie_name', 'population', 'land_use_residential_percent', 'land_use_commercial_percent', 'land_use_education_percent', 'ndvi_mean', 'tree_count', 'transit_count', 'area_m2', 'length_m', 'road_class', 'walkability_rule']\n",
      "Columns in nodes_df for subgraph 清白里 in prepare_gnn_data: ['vertex', 'type', 'lie_name', 'population', 'land_use_residential_percent', 'land_use_commercial_percent', 'land_use_education_percent', 'ndvi_mean', 'tree_count', 'transit_count', 'area_m2', 'length_m', 'road_class', 'walkability_rule']\n",
      "Columns in nodes_df for subgraph 承德里 in prepare_gnn_data: ['vertex', 'type', 'lie_name', 'population', 'land_use_residential_percent', 'land_use_commercial_percent', 'land_use_education_percent', 'ndvi_mean', 'tree_count', 'transit_count', 'area_m2', 'length_m', 'road_class', 'walkability_rule']\n",
      "Columns in nodes_df for subgraph 福順里 in prepare_gnn_data: ['vertex', 'type', 'lie_name', 'population', 'land_use_residential_percent', 'land_use_commercial_percent', 'land_use_education_percent', 'ndvi_mean', 'tree_count', 'transit_count', 'area_m2', 'length_m', 'road_class', 'walkability_rule']\n",
      "Columns in nodes_df for subgraph 港都里 in prepare_gnn_data: ['vertex', 'type', 'lie_name', 'population', 'land_use_residential_percent', 'land_use_commercial_percent', 'land_use_education_percent', 'ndvi_mean', 'tree_count', 'transit_count', 'area_m2', 'length_m', 'road_class', 'walkability_rule']\n",
      "Columns in nodes_df for subgraph 福華里 in prepare_gnn_data: ['vertex', 'type', 'lie_name', 'population', 'land_use_residential_percent', 'land_use_commercial_percent', 'land_use_education_percent', 'ndvi_mean', 'tree_count', 'transit_count', 'area_m2', 'length_m', 'road_class', 'walkability_rule']\n",
      "Columns in nodes_df for subgraph 富光里 in prepare_gnn_data: ['vertex', 'type', 'lie_name', 'population', 'land_use_residential_percent', 'land_use_commercial_percent', 'land_use_education_percent', 'ndvi_mean', 'tree_count', 'transit_count', 'area_m2', 'length_m', 'road_class', 'walkability_rule']\n",
      "Columns in nodes_df for subgraph 紫星里 in prepare_gnn_data: ['vertex', 'type', 'lie_name', 'population', 'land_use_residential_percent', 'land_use_commercial_percent', 'land_use_education_percent', 'ndvi_mean', 'tree_count', 'transit_count', 'area_m2', 'length_m', 'road_class', 'walkability_rule']\n",
      "Columns in nodes_df for subgraph 港墘里 in prepare_gnn_data: ['vertex', 'type', 'lie_name', 'population', 'land_use_residential_percent', 'land_use_commercial_percent', 'land_use_education_percent', 'ndvi_mean', 'tree_count', 'transit_count', 'area_m2', 'length_m', 'road_class', 'walkability_rule']\n",
      "Columns in nodes_df for subgraph 金湖里 in prepare_gnn_data: ['vertex', 'type', 'lie_name', 'population', 'land_use_residential_percent', 'land_use_commercial_percent', 'land_use_education_percent', 'ndvi_mean', 'tree_count', 'transit_count', 'area_m2', 'length_m', 'road_class', 'walkability_rule']\n",
      "Columns in nodes_df for subgraph 明勝里 in prepare_gnn_data: ['vertex', 'type', 'lie_name', 'population', 'land_use_residential_percent', 'land_use_commercial_percent', 'land_use_education_percent', 'ndvi_mean', 'tree_count', 'transit_count', 'area_m2', 'length_m', 'road_class', 'walkability_rule']\n",
      "Columns in nodes_df for subgraph 永安里 in prepare_gnn_data: ['vertex', 'type', 'lie_name', 'population', 'land_use_residential_percent', 'land_use_commercial_percent', 'land_use_education_percent', 'ndvi_mean', 'tree_count', 'transit_count', 'area_m2', 'length_m', 'road_class', 'walkability_rule']\n",
      "Columns in nodes_df for subgraph 紫陽里 in prepare_gnn_data: ['vertex', 'type', 'lie_name', 'population', 'land_use_residential_percent', 'land_use_commercial_percent', 'land_use_education_percent', 'ndvi_mean', 'tree_count', 'transit_count', 'area_m2', 'length_m', 'road_class', 'walkability_rule']\n",
      "Columns in nodes_df for subgraph 重慶里 in prepare_gnn_data: ['vertex', 'type', 'lie_name', 'population', 'land_use_residential_percent', 'land_use_commercial_percent', 'land_use_education_percent', 'ndvi_mean', 'tree_count', 'transit_count', 'area_m2', 'length_m', 'road_class', 'walkability_rule']\n",
      "Columns in nodes_df for subgraph 紫雲里 in prepare_gnn_data: ['vertex', 'type', 'lie_name', 'population', 'land_use_residential_percent', 'land_use_commercial_percent', 'land_use_education_percent', 'ndvi_mean', 'tree_count', 'transit_count', 'area_m2', 'length_m', 'road_class', 'walkability_rule']\n",
      "Columns in nodes_df for subgraph 老師里 in prepare_gnn_data: ['vertex', 'type', 'lie_name', 'population', 'land_use_residential_percent', 'land_use_commercial_percent', 'land_use_education_percent', 'ndvi_mean', 'tree_count', 'transit_count', 'area_m2', 'length_m', 'road_class', 'walkability_rule']\n",
      "Columns in nodes_df for subgraph 瑞陽里 in prepare_gnn_data: ['vertex', 'type', 'lie_name', 'population', 'land_use_residential_percent', 'land_use_commercial_percent', 'land_use_education_percent', 'ndvi_mean', 'tree_count', 'transit_count', 'area_m2', 'length_m', 'road_class', 'walkability_rule']\n",
      "Columns in nodes_df for subgraph 康寧里 in prepare_gnn_data: ['vertex', 'type', 'lie_name', 'population', 'land_use_residential_percent', 'land_use_commercial_percent', 'land_use_education_percent', 'ndvi_mean', 'tree_count', 'transit_count', 'area_m2', 'length_m', 'road_class', 'walkability_rule']\n",
      "Columns in nodes_df for subgraph 新庄里 in prepare_gnn_data: ['vertex', 'type', 'lie_name', 'population', 'land_use_residential_percent', 'land_use_commercial_percent', 'land_use_education_percent', 'ndvi_mean', 'tree_count', 'transit_count', 'area_m2', 'length_m', 'road_class', 'walkability_rule']\n",
      "Columns in nodes_df for subgraph 大佳里 in prepare_gnn_data: ['vertex', 'type', 'lie_name', 'population', 'land_use_residential_percent', 'land_use_commercial_percent', 'land_use_education_percent', 'ndvi_mean', 'tree_count', 'transit_count', 'area_m2', 'length_m', 'road_class', 'walkability_rule']\n",
      "Columns in nodes_df for subgraph 寶湖里 in prepare_gnn_data: ['vertex', 'type', 'lie_name', 'population', 'land_use_residential_percent', 'land_use_commercial_percent', 'land_use_education_percent', 'ndvi_mean', 'tree_count', 'transit_count', 'area_m2', 'length_m', 'road_class', 'walkability_rule']\n",
      "Columns in nodes_df for subgraph 圓山里 in prepare_gnn_data: ['vertex', 'type', 'lie_name', 'population', 'land_use_residential_percent', 'land_use_commercial_percent', 'land_use_education_percent', 'ndvi_mean', 'tree_count', 'transit_count', 'area_m2', 'length_m', 'road_class', 'walkability_rule']\n",
      "Columns in nodes_df for subgraph 瑞光里 in prepare_gnn_data: ['vertex', 'type', 'lie_name', 'population', 'land_use_residential_percent', 'land_use_commercial_percent', 'land_use_education_percent', 'ndvi_mean', 'tree_count', 'transit_count', 'area_m2', 'length_m', 'road_class', 'walkability_rule']\n",
      "Columns in nodes_df for subgraph 莊敬里 in prepare_gnn_data: ['vertex', 'type', 'lie_name', 'population', 'land_use_residential_percent', 'land_use_commercial_percent', 'land_use_education_percent', 'ndvi_mean', 'tree_count', 'transit_count', 'area_m2', 'length_m', 'road_class', 'walkability_rule']\n",
      "Columns in nodes_df for subgraph 湖興里 in prepare_gnn_data: ['vertex', 'type', 'lie_name', 'population', 'land_use_residential_percent', 'land_use_commercial_percent', 'land_use_education_percent', 'ndvi_mean', 'tree_count', 'transit_count', 'area_m2', 'length_m', 'road_class', 'walkability_rule']\n",
      "Columns in nodes_df for subgraph 安湖里 in prepare_gnn_data: ['vertex', 'type', 'lie_name', 'population', 'land_use_residential_percent', 'land_use_commercial_percent', 'land_use_education_percent', 'ndvi_mean', 'tree_count', 'transit_count', 'area_m2', 'length_m', 'road_class', 'walkability_rule']\n",
      "Columns in nodes_df for subgraph 東湖里 in prepare_gnn_data: ['vertex', 'type', 'lie_name', 'population', 'land_use_residential_percent', 'land_use_commercial_percent', 'land_use_education_percent', 'ndvi_mean', 'tree_count', 'transit_count', 'area_m2', 'length_m', 'road_class', 'walkability_rule']\n",
      "Columns in nodes_df for subgraph 保安里 in prepare_gnn_data: ['vertex', 'type', 'lie_name', 'population', 'land_use_residential_percent', 'land_use_commercial_percent', 'land_use_education_percent', 'ndvi_mean', 'tree_count', 'transit_count', 'area_m2', 'length_m', 'road_class', 'walkability_rule']\n",
      "Columns in nodes_df for subgraph 樂康里 in prepare_gnn_data: ['vertex', 'type', 'lie_name', 'population', 'land_use_residential_percent', 'land_use_commercial_percent', 'land_use_education_percent', 'ndvi_mean', 'tree_count', 'transit_count', 'area_m2', 'length_m', 'road_class', 'walkability_rule']\n",
      "Columns in nodes_df for subgraph 湖元里 in prepare_gnn_data: ['vertex', 'type', 'lie_name', 'population', 'land_use_residential_percent', 'land_use_commercial_percent', 'land_use_education_percent', 'ndvi_mean', 'tree_count', 'transit_count', 'area_m2', 'length_m', 'road_class', 'walkability_rule']\n",
      "Columns in nodes_df for subgraph 葫洲里 in prepare_gnn_data: ['vertex', 'type', 'lie_name', 'population', 'land_use_residential_percent', 'land_use_commercial_percent', 'land_use_education_percent', 'ndvi_mean', 'tree_count', 'transit_count', 'area_m2', 'length_m', 'road_class', 'walkability_rule']\n",
      "Columns in nodes_df for subgraph 明湖里 in prepare_gnn_data: ['vertex', 'type', 'lie_name', 'population', 'land_use_residential_percent', 'land_use_commercial_percent', 'land_use_education_percent', 'ndvi_mean', 'tree_count', 'transit_count', 'area_m2', 'length_m', 'road_class', 'walkability_rule']\n",
      "Columns in nodes_df for subgraph 鄰江里 in prepare_gnn_data: ['vertex', 'type', 'lie_name', 'population', 'land_use_residential_percent', 'land_use_commercial_percent', 'land_use_education_percent', 'ndvi_mean', 'tree_count', 'transit_count', 'area_m2', 'length_m', 'road_class', 'walkability_rule']\n",
      "Columns in nodes_df for subgraph 至聖里 in prepare_gnn_data: ['vertex', 'type', 'lie_name', 'population', 'land_use_residential_percent', 'land_use_commercial_percent', 'land_use_education_percent', 'ndvi_mean', 'tree_count', 'transit_count', 'area_m2', 'length_m', 'road_class', 'walkability_rule']\n",
      "Columns in nodes_df for subgraph 精忠里 in prepare_gnn_data: ['vertex', 'type', 'lie_name', 'population', 'land_use_residential_percent', 'land_use_commercial_percent', 'land_use_education_percent', 'ndvi_mean', 'tree_count', 'transit_count', 'area_m2', 'length_m', 'road_class', 'walkability_rule']\n",
      "Columns in nodes_df for subgraph 南湖里 in prepare_gnn_data: ['vertex', 'type', 'lie_name', 'population', 'land_use_residential_percent', 'land_use_commercial_percent', 'land_use_education_percent', 'ndvi_mean', 'tree_count', 'transit_count', 'area_m2', 'length_m', 'road_class', 'walkability_rule']\n",
      "Columns in nodes_df for subgraph 國慶里 in prepare_gnn_data: ['vertex', 'type', 'lie_name', 'population', 'land_use_residential_percent', 'land_use_commercial_percent', 'land_use_education_percent', 'ndvi_mean', 'tree_count', 'transit_count', 'area_m2', 'length_m', 'road_class', 'walkability_rule']\n",
      "Columns in nodes_df for subgraph 五分里 in prepare_gnn_data: ['vertex', 'type', 'lie_name', 'population', 'land_use_residential_percent', 'land_use_commercial_percent', 'land_use_education_percent', 'ndvi_mean', 'tree_count', 'transit_count', 'area_m2', 'length_m', 'road_class', 'walkability_rule']\n",
      "Columns in nodes_df for subgraph 國順里 in prepare_gnn_data: ['vertex', 'type', 'lie_name', 'population', 'land_use_residential_percent', 'land_use_commercial_percent', 'land_use_education_percent', 'ndvi_mean', 'tree_count', 'transit_count', 'area_m2', 'length_m', 'road_class', 'walkability_rule']\n",
      "Columns in nodes_df for subgraph 揚雅里 in prepare_gnn_data: ['vertex', 'type', 'lie_name', 'population', 'land_use_residential_percent', 'land_use_commercial_percent', 'land_use_education_percent', 'ndvi_mean', 'tree_count', 'transit_count', 'area_m2', 'length_m', 'road_class', 'walkability_rule']\n",
      "Columns in nodes_df for subgraph 斯文里 in prepare_gnn_data: ['vertex', 'type', 'lie_name', 'population', 'land_use_residential_percent', 'land_use_commercial_percent', 'land_use_education_percent', 'ndvi_mean', 'tree_count', 'transit_count', 'area_m2', 'length_m', 'road_class', 'walkability_rule']\n",
      "Columns in nodes_df for subgraph 集英里 in prepare_gnn_data: ['vertex', 'type', 'lie_name', 'population', 'land_use_residential_percent', 'land_use_commercial_percent', 'land_use_education_percent', 'ndvi_mean', 'tree_count', 'transit_count', 'area_m2', 'length_m', 'road_class', 'walkability_rule']\n",
      "Columns in nodes_df for subgraph 新喜里 in prepare_gnn_data: ['vertex', 'type', 'lie_name', 'population', 'land_use_residential_percent', 'land_use_commercial_percent', 'land_use_education_percent', 'ndvi_mean', 'tree_count', 'transit_count', 'area_m2', 'length_m', 'road_class', 'walkability_rule']\n",
      "Columns in nodes_df for subgraph 行政里 in prepare_gnn_data: ['vertex', 'type', 'lie_name', 'population', 'land_use_residential_percent', 'land_use_commercial_percent', 'land_use_education_percent', 'ndvi_mean', 'tree_count', 'transit_count', 'area_m2', 'length_m', 'road_class', 'walkability_rule']\n",
      "Columns in nodes_df for subgraph 行孝里 in prepare_gnn_data: ['vertex', 'type', 'lie_name', 'population', 'land_use_residential_percent', 'land_use_commercial_percent', 'land_use_education_percent', 'ndvi_mean', 'tree_count', 'transit_count', 'area_m2', 'length_m', 'road_class', 'walkability_rule']\n",
      "Columns in nodes_df for subgraph 行仁里 in prepare_gnn_data: ['vertex', 'type', 'lie_name', 'population', 'land_use_residential_percent', 'land_use_commercial_percent', 'land_use_education_percent', 'ndvi_mean', 'tree_count', 'transit_count', 'area_m2', 'length_m', 'road_class', 'walkability_rule']\n",
      "Columns in nodes_df for subgraph 下埤里 in prepare_gnn_data: ['vertex', 'type', 'lie_name', 'population', 'land_use_residential_percent', 'land_use_commercial_percent', 'land_use_education_percent', 'ndvi_mean', 'tree_count', 'transit_count', 'area_m2', 'length_m', 'road_class', 'walkability_rule']\n",
      "Columns in nodes_df for subgraph 石潭里 in prepare_gnn_data: ['vertex', 'type', 'lie_name', 'population', 'land_use_residential_percent', 'land_use_commercial_percent', 'land_use_education_percent', 'ndvi_mean', 'tree_count', 'transit_count', 'area_m2', 'length_m', 'road_class', 'walkability_rule']\n",
      "Columns in nodes_df for subgraph 民福里 in prepare_gnn_data: ['vertex', 'type', 'lie_name', 'population', 'land_use_residential_percent', 'land_use_commercial_percent', 'land_use_education_percent', 'ndvi_mean', 'tree_count', 'transit_count', 'area_m2', 'length_m', 'road_class', 'walkability_rule']\n",
      "Columns in nodes_df for subgraph 晴光里 in prepare_gnn_data: ['vertex', 'type', 'lie_name', 'population', 'land_use_residential_percent', 'land_use_commercial_percent', 'land_use_education_percent', 'ndvi_mean', 'tree_count', 'transit_count', 'area_m2', 'length_m', 'road_class', 'walkability_rule']\n",
      "Columns in nodes_df for subgraph 蓬萊里 in prepare_gnn_data: ['vertex', 'type', 'lie_name', 'population', 'land_use_residential_percent', 'land_use_commercial_percent', 'land_use_education_percent', 'ndvi_mean', 'tree_count', 'transit_count', 'area_m2', 'length_m', 'road_class', 'walkability_rule']\n",
      "Columns in nodes_df for subgraph 隆和里 in prepare_gnn_data: ['vertex', 'type', 'lie_name', 'population', 'land_use_residential_percent', 'land_use_commercial_percent', 'land_use_education_percent', 'ndvi_mean', 'tree_count', 'transit_count', 'area_m2', 'length_m', 'road_class', 'walkability_rule']\n",
      "Columns in nodes_df for subgraph 景星里 in prepare_gnn_data: ['vertex', 'type', 'lie_name', 'population', 'land_use_residential_percent', 'land_use_commercial_percent', 'land_use_education_percent', 'ndvi_mean', 'tree_count', 'transit_count', 'area_m2', 'length_m', 'road_class', 'walkability_rule']\n",
      "Columns in nodes_df for subgraph 蘆洲里 in prepare_gnn_data: ['vertex', 'type', 'lie_name', 'population', 'land_use_residential_percent', 'land_use_commercial_percent', 'land_use_education_percent', 'ndvi_mean', 'tree_count', 'transit_count', 'area_m2', 'length_m', 'road_class', 'walkability_rule']\n",
      "Columns in nodes_df for subgraph 恆安里 in prepare_gnn_data: ['vertex', 'type', 'lie_name', 'population', 'land_use_residential_percent', 'land_use_commercial_percent', 'land_use_education_percent', 'ndvi_mean', 'tree_count', 'transit_count', 'area_m2', 'length_m', 'road_class', 'walkability_rule']\n",
      "Columns in nodes_df for subgraph 三重里 in prepare_gnn_data: ['vertex', 'type', 'lie_name', 'population', 'land_use_residential_percent', 'land_use_commercial_percent', 'land_use_education_percent', 'ndvi_mean', 'tree_count', 'transit_count', 'area_m2', 'length_m', 'road_class', 'walkability_rule']\n",
      "Columns in nodes_df for subgraph 新福里 in prepare_gnn_data: ['vertex', 'type', 'lie_name', 'population', 'land_use_residential_percent', 'land_use_commercial_percent', 'land_use_education_percent', 'ndvi_mean', 'tree_count', 'transit_count', 'area_m2', 'length_m', 'road_class', 'walkability_rule']\n",
      "Columns in nodes_df for subgraph 新東里 in prepare_gnn_data: ['vertex', 'type', 'lie_name', 'population', 'land_use_residential_percent', 'land_use_commercial_percent', 'land_use_education_percent', 'ndvi_mean', 'tree_count', 'transit_count', 'area_m2', 'length_m', 'road_class', 'walkability_rule']\n",
      "Columns in nodes_df for subgraph 新益里 in prepare_gnn_data: ['vertex', 'type', 'lie_name', 'population', 'land_use_residential_percent', 'land_use_commercial_percent', 'land_use_education_percent', 'ndvi_mean', 'tree_count', 'transit_count', 'area_m2', 'length_m', 'road_class', 'walkability_rule']\n",
      "Columns in nodes_df for subgraph 南芳里 in prepare_gnn_data: ['vertex', 'type', 'lie_name', 'population', 'land_use_residential_percent', 'land_use_commercial_percent', 'land_use_education_percent', 'ndvi_mean', 'tree_count', 'transit_count', 'area_m2', 'length_m', 'road_class', 'walkability_rule']\n",
      "Columns in nodes_df for subgraph 富錦里 in prepare_gnn_data: ['vertex', 'type', 'lie_name', 'population', 'land_use_residential_percent', 'land_use_commercial_percent', 'land_use_education_percent', 'ndvi_mean', 'tree_count', 'transit_count', 'area_m2', 'length_m', 'road_class', 'walkability_rule']\n",
      "Columns in nodes_df for subgraph 三民里 in prepare_gnn_data: ['vertex', 'type', 'lie_name', 'population', 'land_use_residential_percent', 'land_use_commercial_percent', 'land_use_education_percent', 'ndvi_mean', 'tree_count', 'transit_count', 'area_m2', 'length_m', 'road_class', 'walkability_rule']\n",
      "Columns in nodes_df for subgraph 民權里 in prepare_gnn_data: ['vertex', 'type', 'lie_name', 'population', 'land_use_residential_percent', 'land_use_commercial_percent', 'land_use_education_percent', 'ndvi_mean', 'tree_count', 'transit_count', 'area_m2', 'length_m', 'road_class', 'walkability_rule']\n",
      "Columns in nodes_df for subgraph 週美里 in prepare_gnn_data: ['vertex', 'type', 'lie_name', 'population', 'land_use_residential_percent', 'land_use_commercial_percent', 'land_use_education_percent', 'ndvi_mean', 'tree_count', 'transit_count', 'area_m2', 'length_m', 'road_class', 'walkability_rule']\n",
      "Columns in nodes_df for subgraph 聚葉里 in prepare_gnn_data: ['vertex', 'type', 'lie_name', 'population', 'land_use_residential_percent', 'land_use_commercial_percent', 'land_use_education_percent', 'ndvi_mean', 'tree_count', 'transit_count', 'area_m2', 'length_m', 'road_class', 'walkability_rule']\n",
      "Columns in nodes_df for subgraph 新生里 in prepare_gnn_data: ['vertex', 'type', 'lie_name', 'population', 'land_use_residential_percent', 'land_use_commercial_percent', 'land_use_education_percent', 'ndvi_mean', 'tree_count', 'transit_count', 'area_m2', 'length_m', 'road_class', 'walkability_rule']\n",
      "Columns in nodes_df for subgraph 東榮里 in prepare_gnn_data: ['vertex', 'type', 'lie_name', 'population', 'land_use_residential_percent', 'land_use_commercial_percent', 'land_use_education_percent', 'ndvi_mean', 'tree_count', 'transit_count', 'area_m2', 'length_m', 'road_class', 'walkability_rule']\n",
      "Columns in nodes_df for subgraph 松江里 in prepare_gnn_data: ['vertex', 'type', 'lie_name', 'population', 'land_use_residential_percent', 'land_use_commercial_percent', 'land_use_education_percent', 'ndvi_mean', 'tree_count', 'transit_count', 'area_m2', 'length_m', 'road_class', 'walkability_rule']\n",
      "Columns in nodes_df for subgraph 江寧里 in prepare_gnn_data: ['vertex', 'type', 'lie_name', 'population', 'land_use_residential_percent', 'land_use_commercial_percent', 'land_use_education_percent', 'ndvi_mean', 'tree_count', 'transit_count', 'area_m2', 'length_m', 'road_class', 'walkability_rule']\n",
      "Columns in nodes_df for subgraph 民有里 in prepare_gnn_data: ['vertex', 'type', 'lie_name', 'population', 'land_use_residential_percent', 'land_use_commercial_percent', 'land_use_education_percent', 'ndvi_mean', 'tree_count', 'transit_count', 'area_m2', 'length_m', 'road_class', 'walkability_rule']\n",
      "Columns in nodes_df for subgraph 延平里 in prepare_gnn_data: ['vertex', 'type', 'lie_name', 'population', 'land_use_residential_percent', 'land_use_commercial_percent', 'land_use_education_percent', 'ndvi_mean', 'tree_count', 'transit_count', 'area_m2', 'length_m', 'road_class', 'walkability_rule']\n",
      "Columns in nodes_df for subgraph 大有里 in prepare_gnn_data: ['vertex', 'type', 'lie_name', 'population', 'land_use_residential_percent', 'land_use_commercial_percent', 'land_use_education_percent', 'ndvi_mean', 'tree_count', 'transit_count', 'area_m2', 'length_m', 'road_class', 'walkability_rule']\n",
      "Columns in nodes_df for subgraph 南港里 in prepare_gnn_data: ['vertex', 'type', 'lie_name', 'population', 'land_use_residential_percent', 'land_use_commercial_percent', 'land_use_education_percent', 'ndvi_mean', 'tree_count', 'transit_count', 'area_m2', 'length_m', 'road_class', 'walkability_rule']\n",
      "Columns in nodes_df for subgraph 中庄里 in prepare_gnn_data: ['vertex', 'type', 'lie_name', 'population', 'land_use_residential_percent', 'land_use_commercial_percent', 'land_use_education_percent', 'ndvi_mean', 'tree_count', 'transit_count', 'area_m2', 'length_m', 'road_class', 'walkability_rule']\n",
      "Columns in nodes_df for subgraph 雙連里 in prepare_gnn_data: ['vertex', 'type', 'lie_name', 'population', 'land_use_residential_percent', 'land_use_commercial_percent', 'land_use_education_percent', 'ndvi_mean', 'tree_count', 'transit_count', 'area_m2', 'length_m', 'road_class', 'walkability_rule']\n",
      "Columns in nodes_df for subgraph 江山里 in prepare_gnn_data: ['vertex', 'type', 'lie_name', 'population', 'land_use_residential_percent', 'land_use_commercial_percent', 'land_use_education_percent', 'ndvi_mean', 'tree_count', 'transit_count', 'area_m2', 'length_m', 'road_class', 'walkability_rule']\n",
      "Columns in nodes_df for subgraph 聚盛里 in prepare_gnn_data: ['vertex', 'type', 'lie_name', 'population', 'land_use_residential_percent', 'land_use_commercial_percent', 'land_use_education_percent', 'ndvi_mean', 'tree_count', 'transit_count', 'area_m2', 'length_m', 'road_class', 'walkability_rule']\n",
      "Columns in nodes_df for subgraph 重陽里 in prepare_gnn_data: ['vertex', 'type', 'lie_name', 'population', 'land_use_residential_percent', 'land_use_commercial_percent', 'land_use_education_percent', 'ndvi_mean', 'tree_count', 'transit_count', 'area_m2', 'length_m', 'road_class', 'walkability_rule']\n",
      "Columns in nodes_df for subgraph 西新里 in prepare_gnn_data: ['vertex', 'type', 'lie_name', 'population', 'land_use_residential_percent', 'land_use_commercial_percent', 'land_use_education_percent', 'ndvi_mean', 'tree_count', 'transit_count', 'area_m2', 'length_m', 'road_class', 'walkability_rule']\n",
      "Columns in nodes_df for subgraph 富泰里 in prepare_gnn_data: ['vertex', 'type', 'lie_name', 'population', 'land_use_residential_percent', 'land_use_commercial_percent', 'land_use_education_percent', 'ndvi_mean', 'tree_count', 'transit_count', 'area_m2', 'length_m', 'road_class', 'walkability_rule']\n",
      "Columns in nodes_df for subgraph 介壽里 in prepare_gnn_data: ['vertex', 'type', 'lie_name', 'population', 'land_use_residential_percent', 'land_use_commercial_percent', 'land_use_education_percent', 'ndvi_mean', 'tree_count', 'transit_count', 'area_m2', 'length_m', 'road_class', 'walkability_rule']\n",
      "Columns in nodes_df for subgraph 東昌里 in prepare_gnn_data: ['vertex', 'type', 'lie_name', 'population', 'land_use_residential_percent', 'land_use_commercial_percent', 'land_use_education_percent', 'ndvi_mean', 'tree_count', 'transit_count', 'area_m2', 'length_m', 'road_class', 'walkability_rule']\n",
      "Columns in nodes_df for subgraph 東新里 in prepare_gnn_data: ['vertex', 'type', 'lie_name', 'population', 'land_use_residential_percent', 'land_use_commercial_percent', 'land_use_education_percent', 'ndvi_mean', 'tree_count', 'transit_count', 'area_m2', 'length_m', 'road_class', 'walkability_rule']\n",
      "Columns in nodes_df for subgraph 中山里 in prepare_gnn_data: ['vertex', 'type', 'lie_name', 'population', 'land_use_residential_percent', 'land_use_commercial_percent', 'land_use_education_percent', 'ndvi_mean', 'tree_count', 'transit_count', 'area_m2', 'length_m', 'road_class', 'walkability_rule']\n",
      "Columns in nodes_df for subgraph 中原里 in prepare_gnn_data: ['vertex', 'type', 'lie_name', 'population', 'land_use_residential_percent', 'land_use_commercial_percent', 'land_use_education_percent', 'ndvi_mean', 'tree_count', 'transit_count', 'area_m2', 'length_m', 'road_class', 'walkability_rule']\n",
      "Columns in nodes_df for subgraph 中吉里 in prepare_gnn_data: ['vertex', 'type', 'lie_name', 'population', 'land_use_residential_percent', 'land_use_commercial_percent', 'land_use_education_percent', 'ndvi_mean', 'tree_count', 'transit_count', 'area_m2', 'length_m', 'road_class', 'walkability_rule']\n",
      "Columns in nodes_df for subgraph 民安里 in prepare_gnn_data: ['vertex', 'type', 'lie_name', 'population', 'land_use_residential_percent', 'land_use_commercial_percent', 'land_use_education_percent', 'ndvi_mean', 'tree_count', 'transit_count', 'area_m2', 'length_m', 'road_class', 'walkability_rule']\n",
      "Columns in nodes_df for subgraph 行善里 in prepare_gnn_data: ['vertex', 'type', 'lie_name', 'population', 'land_use_residential_percent', 'land_use_commercial_percent', 'land_use_education_percent', 'ndvi_mean', 'tree_count', 'transit_count', 'area_m2', 'length_m', 'road_class', 'walkability_rule']\n",
      "Columns in nodes_df for subgraph 朱馥里 in prepare_gnn_data: ['vertex', 'type', 'lie_name', 'population', 'land_use_residential_percent', 'land_use_commercial_percent', 'land_use_education_percent', 'ndvi_mean', 'tree_count', 'transit_count', 'area_m2', 'length_m', 'road_class', 'walkability_rule']\n",
      "Columns in nodes_df for subgraph 龍洲里 in prepare_gnn_data: ['vertex', 'type', 'lie_name', 'population', 'land_use_residential_percent', 'land_use_commercial_percent', 'land_use_education_percent', 'ndvi_mean', 'tree_count', 'transit_count', 'area_m2', 'length_m', 'road_class', 'walkability_rule']\n",
      "Columns in nodes_df for subgraph 松基里 in prepare_gnn_data: ['vertex', 'type', 'lie_name', 'population', 'land_use_residential_percent', 'land_use_commercial_percent', 'land_use_education_percent', 'ndvi_mean', 'tree_count', 'transit_count', 'area_m2', 'length_m', 'road_class', 'walkability_rule']\n",
      "Columns in nodes_df for subgraph 光能里 in prepare_gnn_data: ['vertex', 'type', 'lie_name', 'population', 'land_use_residential_percent', 'land_use_commercial_percent', 'land_use_education_percent', 'ndvi_mean', 'tree_count', 'transit_count', 'area_m2', 'length_m', 'road_class', 'walkability_rule']\n",
      "Columns in nodes_df for subgraph 鵬程里 in prepare_gnn_data: ['vertex', 'type', 'lie_name', 'population', 'land_use_residential_percent', 'land_use_commercial_percent', 'land_use_education_percent', 'ndvi_mean', 'tree_count', 'transit_count', 'area_m2', 'length_m', 'road_class', 'walkability_rule']\n",
      "Columns in nodes_df for subgraph 星明里 in prepare_gnn_data: ['vertex', 'type', 'lie_name', 'population', 'land_use_residential_percent', 'land_use_commercial_percent', 'land_use_education_percent', 'ndvi_mean', 'tree_count', 'transit_count', 'area_m2', 'length_m', 'road_class', 'walkability_rule']\n",
      "Columns in nodes_df for subgraph 自強里 in prepare_gnn_data: ['vertex', 'type', 'lie_name', 'population', 'land_use_residential_percent', 'land_use_commercial_percent', 'land_use_education_percent', 'ndvi_mean', 'tree_count', 'transit_count', 'area_m2', 'length_m', 'road_class', 'walkability_rule']\n",
      "Columns in nodes_df for subgraph 朝陽里 in prepare_gnn_data: ['vertex', 'type', 'lie_name', 'population', 'land_use_residential_percent', 'land_use_commercial_percent', 'land_use_education_percent', 'ndvi_mean', 'tree_count', 'transit_count', 'area_m2', 'length_m', 'road_class', 'walkability_rule']\n",
      "Columns in nodes_df for subgraph 永樂里 in prepare_gnn_data: ['vertex', 'type', 'lie_name', 'population', 'land_use_residential_percent', 'land_use_commercial_percent', 'land_use_education_percent', 'ndvi_mean', 'tree_count', 'transit_count', 'area_m2', 'length_m', 'road_class', 'walkability_rule']\n",
      "Columns in nodes_df for subgraph 龍田里 in prepare_gnn_data: ['vertex', 'type', 'lie_name', 'population', 'land_use_residential_percent', 'land_use_commercial_percent', 'land_use_education_percent', 'ndvi_mean', 'tree_count', 'transit_count', 'area_m2', 'length_m', 'road_class', 'walkability_rule']\n",
      "Columns in nodes_df for subgraph 中華里 in prepare_gnn_data: ['vertex', 'type', 'lie_name', 'population', 'land_use_residential_percent', 'land_use_commercial_percent', 'land_use_education_percent', 'ndvi_mean', 'tree_count', 'transit_count', 'area_m2', 'length_m', 'road_class', 'walkability_rule']\n",
      "Columns in nodes_df for subgraph 東明里 in prepare_gnn_data: ['vertex', 'type', 'lie_name', 'population', 'land_use_residential_percent', 'land_use_commercial_percent', 'land_use_education_percent', 'ndvi_mean', 'tree_count', 'transit_count', 'area_m2', 'length_m', 'road_class', 'walkability_rule']\n",
      "Columns in nodes_df for subgraph 中南里 in prepare_gnn_data: ['vertex', 'type', 'lie_name', 'population', 'land_use_residential_percent', 'land_use_commercial_percent', 'land_use_education_percent', 'ndvi_mean', 'tree_count', 'transit_count', 'area_m2', 'length_m', 'road_class', 'walkability_rule']\n",
      "Columns in nodes_df for subgraph 新富里 in prepare_gnn_data: ['vertex', 'type', 'lie_name', 'population', 'land_use_residential_percent', 'land_use_commercial_percent', 'land_use_education_percent', 'ndvi_mean', 'tree_count', 'transit_count', 'area_m2', 'length_m', 'road_class', 'walkability_rule']\n",
      "Columns in nodes_df for subgraph 玉成里 in prepare_gnn_data: ['vertex', 'type', 'lie_name', 'population', 'land_use_residential_percent', 'land_use_commercial_percent', 'land_use_education_percent', 'ndvi_mean', 'tree_count', 'transit_count', 'area_m2', 'length_m', 'road_class', 'walkability_rule']\n",
      "Columns in nodes_df for subgraph 康樂里 in prepare_gnn_data: ['vertex', 'type', 'lie_name', 'population', 'land_use_residential_percent', 'land_use_commercial_percent', 'land_use_education_percent', 'ndvi_mean', 'tree_count', 'transit_count', 'area_m2', 'length_m', 'road_class', 'walkability_rule']\n",
      "Columns in nodes_df for subgraph 復華里 in prepare_gnn_data: ['vertex', 'type', 'lie_name', 'population', 'land_use_residential_percent', 'land_use_commercial_percent', 'land_use_education_percent', 'ndvi_mean', 'tree_count', 'transit_count', 'area_m2', 'length_m', 'road_class', 'walkability_rule']\n",
      "Columns in nodes_df for subgraph 中正里 in prepare_gnn_data: ['vertex', 'type', 'lie_name', 'population', 'land_use_residential_percent', 'land_use_commercial_percent', 'land_use_education_percent', 'ndvi_mean', 'tree_count', 'transit_count', 'area_m2', 'length_m', 'road_class', 'walkability_rule']\n",
      "Columns in nodes_df for subgraph 安平里 in prepare_gnn_data: ['vertex', 'type', 'lie_name', 'population', 'land_use_residential_percent', 'land_use_commercial_percent', 'land_use_education_percent', 'ndvi_mean', 'tree_count', 'transit_count', 'area_m2', 'length_m', 'road_class', 'walkability_rule']\n",
      "Columns in nodes_df for subgraph 東光里 in prepare_gnn_data: ['vertex', 'type', 'lie_name', 'population', 'land_use_residential_percent', 'land_use_commercial_percent', 'land_use_education_percent', 'ndvi_mean', 'tree_count', 'transit_count', 'area_m2', 'length_m', 'road_class', 'walkability_rule']\n",
      "Columns in nodes_df for subgraph 建功里 in prepare_gnn_data: ['vertex', 'type', 'lie_name', 'population', 'land_use_residential_percent', 'land_use_commercial_percent', 'land_use_education_percent', 'ndvi_mean', 'tree_count', 'transit_count', 'area_m2', 'length_m', 'road_class', 'walkability_rule']\n",
      "Columns in nodes_df for subgraph 玉泉里 in prepare_gnn_data: ['vertex', 'type', 'lie_name', 'population', 'land_use_residential_percent', 'land_use_commercial_percent', 'land_use_education_percent', 'ndvi_mean', 'tree_count', 'transit_count', 'area_m2', 'length_m', 'road_class', 'walkability_rule']\n",
      "Columns in nodes_df for subgraph 東勢里 in prepare_gnn_data: ['vertex', 'type', 'lie_name', 'population', 'land_use_residential_percent', 'land_use_commercial_percent', 'land_use_education_percent', 'ndvi_mean', 'tree_count', 'transit_count', 'area_m2', 'length_m', 'road_class', 'walkability_rule']\n",
      "Columns in nodes_df for subgraph 建泰里 in prepare_gnn_data: ['vertex', 'type', 'lie_name', 'population', 'land_use_residential_percent', 'land_use_commercial_percent', 'land_use_education_percent', 'ndvi_mean', 'tree_count', 'transit_count', 'area_m2', 'length_m', 'road_class', 'walkability_rule']\n",
      "Columns in nodes_df for subgraph 慈祐里 in prepare_gnn_data: ['vertex', 'type', 'lie_name', 'population', 'land_use_residential_percent', 'land_use_commercial_percent', 'land_use_education_percent', 'ndvi_mean', 'tree_count', 'transit_count', 'area_m2', 'length_m', 'road_class', 'walkability_rule']\n",
      "Columns in nodes_df for subgraph 新光里 in prepare_gnn_data: ['vertex', 'type', 'lie_name', 'population', 'land_use_residential_percent', 'land_use_commercial_percent', 'land_use_education_percent', 'ndvi_mean', 'tree_count', 'transit_count', 'area_m2', 'length_m', 'road_class', 'walkability_rule']\n",
      "Columns in nodes_df for subgraph 正得里 in prepare_gnn_data: ['vertex', 'type', 'lie_name', 'population', 'land_use_residential_percent', 'land_use_commercial_percent', 'land_use_education_percent', 'ndvi_mean', 'tree_count', 'transit_count', 'area_m2', 'length_m', 'road_class', 'walkability_rule']\n",
      "Columns in nodes_df for subgraph 正義里 in prepare_gnn_data: ['vertex', 'type', 'lie_name', 'population', 'land_use_residential_percent', 'land_use_commercial_percent', 'land_use_education_percent', 'ndvi_mean', 'tree_count', 'transit_count', 'area_m2', 'length_m', 'road_class', 'walkability_rule']\n",
      "Columns in nodes_df for subgraph 興亞里 in prepare_gnn_data: ['vertex', 'type', 'lie_name', 'population', 'land_use_residential_percent', 'land_use_commercial_percent', 'land_use_education_percent', 'ndvi_mean', 'tree_count', 'transit_count', 'area_m2', 'length_m', 'road_class', 'walkability_rule']\n",
      "Columns in nodes_df for subgraph 朱園里 in prepare_gnn_data: ['vertex', 'type', 'lie_name', 'population', 'land_use_residential_percent', 'land_use_commercial_percent', 'land_use_education_percent', 'ndvi_mean', 'tree_count', 'transit_count', 'area_m2', 'length_m', 'road_class', 'walkability_rule']\n",
      "Columns in nodes_df for subgraph 力行里 in prepare_gnn_data: ['vertex', 'type', 'lie_name', 'population', 'land_use_residential_percent', 'land_use_commercial_percent', 'land_use_education_percent', 'ndvi_mean', 'tree_count', 'transit_count', 'area_m2', 'length_m', 'road_class', 'walkability_rule']\n",
      "Columns in nodes_df for subgraph 美仁里 in prepare_gnn_data: ['vertex', 'type', 'lie_name', 'population', 'land_use_residential_percent', 'land_use_commercial_percent', 'land_use_education_percent', 'ndvi_mean', 'tree_count', 'transit_count', 'area_m2', 'length_m', 'road_class', 'walkability_rule']\n",
      "Columns in nodes_df for subgraph 復勢里 in prepare_gnn_data: ['vertex', 'type', 'lie_name', 'population', 'land_use_residential_percent', 'land_use_commercial_percent', 'land_use_education_percent', 'ndvi_mean', 'tree_count', 'transit_count', 'area_m2', 'length_m', 'road_class', 'walkability_rule']\n",
      "Columns in nodes_df for subgraph 吉祥里 in prepare_gnn_data: ['vertex', 'type', 'lie_name', 'population', 'land_use_residential_percent', 'land_use_commercial_percent', 'land_use_education_percent', 'ndvi_mean', 'tree_count', 'transit_count', 'area_m2', 'length_m', 'road_class', 'walkability_rule']\n",
      "Columns in nodes_df for subgraph 建明里 in prepare_gnn_data: ['vertex', 'type', 'lie_name', 'population', 'land_use_residential_percent', 'land_use_commercial_percent', 'land_use_education_percent', 'ndvi_mean', 'tree_count', 'transit_count', 'area_m2', 'length_m', 'road_class', 'walkability_rule']\n",
      "Columns in nodes_df for subgraph 新聚里 in prepare_gnn_data: ['vertex', 'type', 'lie_name', 'population', 'land_use_residential_percent', 'land_use_commercial_percent', 'land_use_education_percent', 'ndvi_mean', 'tree_count', 'transit_count', 'area_m2', 'length_m', 'road_class', 'walkability_rule']\n",
      "Columns in nodes_df for subgraph 合成里 in prepare_gnn_data: ['vertex', 'type', 'lie_name', 'population', 'land_use_residential_percent', 'land_use_commercial_percent', 'land_use_education_percent', 'ndvi_mean', 'tree_count', 'transit_count', 'area_m2', 'length_m', 'road_class', 'walkability_rule']\n",
      "Columns in nodes_df for subgraph 光復里 in prepare_gnn_data: ['vertex', 'type', 'lie_name', 'population', 'land_use_residential_percent', 'land_use_commercial_percent', 'land_use_education_percent', 'ndvi_mean', 'tree_count', 'transit_count', 'area_m2', 'length_m', 'road_class', 'walkability_rule']\n",
      "Columns in nodes_df for subgraph 聯成里 in prepare_gnn_data: ['vertex', 'type', 'lie_name', 'population', 'land_use_residential_percent', 'land_use_commercial_percent', 'land_use_education_percent', 'ndvi_mean', 'tree_count', 'transit_count', 'area_m2', 'length_m', 'road_class', 'walkability_rule']\n",
      "Columns in nodes_df for subgraph 永吉里 in prepare_gnn_data: ['vertex', 'type', 'lie_name', 'population', 'land_use_residential_percent', 'land_use_commercial_percent', 'land_use_education_percent', 'ndvi_mean', 'tree_count', 'transit_count', 'area_m2', 'length_m', 'road_class', 'walkability_rule']\n",
      "Columns in nodes_df for subgraph 四育里 in prepare_gnn_data: ['vertex', 'type', 'lie_name', 'population', 'land_use_residential_percent', 'land_use_commercial_percent', 'land_use_education_percent', 'ndvi_mean', 'tree_count', 'transit_count', 'area_m2', 'length_m', 'road_class', 'walkability_rule']\n",
      "Columns in nodes_df for subgraph 雅祥里 in prepare_gnn_data: ['vertex', 'type', 'lie_name', 'population', 'land_use_residential_percent', 'land_use_commercial_percent', 'land_use_education_percent', 'ndvi_mean', 'tree_count', 'transit_count', 'area_m2', 'length_m', 'road_class', 'walkability_rule']\n",
      "Columns in nodes_df for subgraph 福星里 in prepare_gnn_data: ['vertex', 'type', 'lie_name', 'population', 'land_use_residential_percent', 'land_use_commercial_percent', 'land_use_education_percent', 'ndvi_mean', 'tree_count', 'transit_count', 'area_m2', 'length_m', 'road_class', 'walkability_rule']\n",
      "Columns in nodes_df for subgraph 黎明里 in prepare_gnn_data: ['vertex', 'type', 'lie_name', 'population', 'land_use_residential_percent', 'land_use_commercial_percent', 'land_use_education_percent', 'ndvi_mean', 'tree_count', 'transit_count', 'area_m2', 'length_m', 'road_class', 'walkability_rule']\n",
      "Columns in nodes_df for subgraph 中研里 in prepare_gnn_data: ['vertex', 'type', 'lie_name', 'population', 'land_use_residential_percent', 'land_use_commercial_percent', 'land_use_education_percent', 'ndvi_mean', 'tree_count', 'transit_count', 'area_m2', 'length_m', 'road_class', 'walkability_rule']\n",
      "Columns in nodes_df for subgraph 新仁里 in prepare_gnn_data: ['vertex', 'type', 'lie_name', 'population', 'land_use_residential_percent', 'land_use_commercial_percent', 'land_use_education_percent', 'ndvi_mean', 'tree_count', 'transit_count', 'area_m2', 'length_m', 'road_class', 'walkability_rule']\n",
      "Columns in nodes_df for subgraph 正守里 in prepare_gnn_data: ['vertex', 'type', 'lie_name', 'population', 'land_use_residential_percent', 'land_use_commercial_percent', 'land_use_education_percent', 'ndvi_mean', 'tree_count', 'transit_count', 'area_m2', 'length_m', 'road_class', 'walkability_rule']\n",
      "Columns in nodes_df for subgraph 復盛里 in prepare_gnn_data: ['vertex', 'type', 'lie_name', 'population', 'land_use_residential_percent', 'land_use_commercial_percent', 'land_use_education_percent', 'ndvi_mean', 'tree_count', 'transit_count', 'area_m2', 'length_m', 'road_class', 'walkability_rule']\n",
      "Columns in nodes_df for subgraph 五常里 in prepare_gnn_data: ['vertex', 'type', 'lie_name', 'population', 'land_use_residential_percent', 'land_use_commercial_percent', 'land_use_education_percent', 'ndvi_mean', 'tree_count', 'transit_count', 'area_m2', 'length_m', 'road_class', 'walkability_rule']\n",
      "Columns in nodes_df for subgraph 朱崙里 in prepare_gnn_data: ['vertex', 'type', 'lie_name', 'population', 'land_use_residential_percent', 'land_use_commercial_percent', 'land_use_education_percent', 'ndvi_mean', 'tree_count', 'transit_count', 'area_m2', 'length_m', 'road_class', 'walkability_rule']\n",
      "Columns in nodes_df for subgraph 復建里 in prepare_gnn_data: ['vertex', 'type', 'lie_name', 'population', 'land_use_residential_percent', 'land_use_commercial_percent', 'land_use_education_percent', 'ndvi_mean', 'tree_count', 'transit_count', 'area_m2', 'length_m', 'road_class', 'walkability_rule']\n",
      "Columns in nodes_df for subgraph 敦化里 in prepare_gnn_data: ['vertex', 'type', 'lie_name', 'population', 'land_use_residential_percent', 'land_use_commercial_percent', 'land_use_education_percent', 'ndvi_mean', 'tree_count', 'transit_count', 'area_m2', 'length_m', 'road_class', 'walkability_rule']\n",
      "Columns in nodes_df for subgraph 吉仁里 in prepare_gnn_data: ['vertex', 'type', 'lie_name', 'population', 'land_use_residential_percent', 'land_use_commercial_percent', 'land_use_education_percent', 'ndvi_mean', 'tree_count', 'transit_count', 'area_m2', 'length_m', 'road_class', 'walkability_rule']\n",
      "Columns in nodes_df for subgraph 復源里 in prepare_gnn_data: ['vertex', 'type', 'lie_name', 'population', 'land_use_residential_percent', 'land_use_commercial_percent', 'land_use_education_percent', 'ndvi_mean', 'tree_count', 'transit_count', 'area_m2', 'length_m', 'road_class', 'walkability_rule']\n",
      "Columns in nodes_df for subgraph 中崙里 in prepare_gnn_data: ['vertex', 'type', 'lie_name', 'population', 'land_use_residential_percent', 'land_use_commercial_percent', 'land_use_education_percent', 'ndvi_mean', 'tree_count', 'transit_count', 'area_m2', 'length_m', 'road_class', 'walkability_rule']\n",
      "Columns in nodes_df for subgraph 福成里 in prepare_gnn_data: ['vertex', 'type', 'lie_name', 'population', 'land_use_residential_percent', 'land_use_commercial_percent', 'land_use_education_percent', 'ndvi_mean', 'tree_count', 'transit_count', 'area_m2', 'length_m', 'road_class', 'walkability_rule']\n",
      "Columns in nodes_df for subgraph 萬福里 in prepare_gnn_data: ['vertex', 'type', 'lie_name', 'population', 'land_use_residential_percent', 'land_use_commercial_percent', 'land_use_education_percent', 'ndvi_mean', 'tree_count', 'transit_count', 'area_m2', 'length_m', 'road_class', 'walkability_rule']\n",
      "Columns in nodes_df for subgraph 梅花里 in prepare_gnn_data: ['vertex', 'type', 'lie_name', 'population', 'land_use_residential_percent', 'land_use_commercial_percent', 'land_use_education_percent', 'ndvi_mean', 'tree_count', 'transit_count', 'area_m2', 'length_m', 'road_class', 'walkability_rule']\n",
      "Columns in nodes_df for subgraph 埤頭里 in prepare_gnn_data: ['vertex', 'type', 'lie_name', 'population', 'land_use_residential_percent', 'land_use_commercial_percent', 'land_use_education_percent', 'ndvi_mean', 'tree_count', 'transit_count', 'area_m2', 'length_m', 'road_class', 'walkability_rule']\n",
      "Columns in nodes_df for subgraph 成福里 in prepare_gnn_data: ['vertex', 'type', 'lie_name', 'population', 'land_use_residential_percent', 'land_use_commercial_percent', 'land_use_education_percent', 'ndvi_mean', 'tree_count', 'transit_count', 'area_m2', 'length_m', 'road_class', 'walkability_rule']\n",
      "Columns in nodes_df for subgraph 萬壽里 in prepare_gnn_data: ['vertex', 'type', 'lie_name', 'population', 'land_use_residential_percent', 'land_use_commercial_percent', 'land_use_education_percent', 'ndvi_mean', 'tree_count', 'transit_count', 'area_m2', 'length_m', 'road_class', 'walkability_rule']\n",
      "Columns in nodes_df for subgraph 敦厚里 in prepare_gnn_data: ['vertex', 'type', 'lie_name', 'population', 'land_use_residential_percent', 'land_use_commercial_percent', 'land_use_education_percent', 'ndvi_mean', 'tree_count', 'transit_count', 'area_m2', 'length_m', 'road_class', 'walkability_rule']\n",
      "Columns in nodes_df for subgraph 六藝里 in prepare_gnn_data: ['vertex', 'type', 'lie_name', 'population', 'land_use_residential_percent', 'land_use_commercial_percent', 'land_use_education_percent', 'ndvi_mean', 'tree_count', 'transit_count', 'area_m2', 'length_m', 'road_class', 'walkability_rule']\n",
      "Columns in nodes_df for subgraph 五全里 in prepare_gnn_data: ['vertex', 'type', 'lie_name', 'population', 'land_use_residential_percent', 'land_use_commercial_percent', 'land_use_education_percent', 'ndvi_mean', 'tree_count', 'transit_count', 'area_m2', 'length_m', 'road_class', 'walkability_rule']\n",
      "Columns in nodes_df for subgraph 四維里 in prepare_gnn_data: ['vertex', 'type', 'lie_name', 'population', 'land_use_residential_percent', 'land_use_commercial_percent', 'land_use_education_percent', 'ndvi_mean', 'tree_count', 'transit_count', 'area_m2', 'length_m', 'road_class', 'walkability_rule']\n",
      "Columns in nodes_df for subgraph 鴻福里 in prepare_gnn_data: ['vertex', 'type', 'lie_name', 'population', 'land_use_residential_percent', 'land_use_commercial_percent', 'land_use_education_percent', 'ndvi_mean', 'tree_count', 'transit_count', 'area_m2', 'length_m', 'road_class', 'walkability_rule']\n",
      "Columns in nodes_df for subgraph 民輝里 in prepare_gnn_data: ['vertex', 'type', 'lie_name', 'population', 'land_use_residential_percent', 'land_use_commercial_percent', 'land_use_education_percent', 'ndvi_mean', 'tree_count', 'transit_count', 'area_m2', 'length_m', 'road_class', 'walkability_rule']\n",
      "Columns in nodes_df for subgraph 幸福里 in prepare_gnn_data: ['vertex', 'type', 'lie_name', 'population', 'land_use_residential_percent', 'land_use_commercial_percent', 'land_use_education_percent', 'ndvi_mean', 'tree_count', 'transit_count', 'area_m2', 'length_m', 'road_class', 'walkability_rule']\n",
      "Columns in nodes_df for subgraph 永春里 in prepare_gnn_data: ['vertex', 'type', 'lie_name', 'population', 'land_use_residential_percent', 'land_use_commercial_percent', 'land_use_education_percent', 'ndvi_mean', 'tree_count', 'transit_count', 'area_m2', 'length_m', 'road_class', 'walkability_rule']\n",
      "Columns in nodes_df for subgraph 光武里 in prepare_gnn_data: ['vertex', 'type', 'lie_name', 'population', 'land_use_residential_percent', 'land_use_commercial_percent', 'land_use_education_percent', 'ndvi_mean', 'tree_count', 'transit_count', 'area_m2', 'length_m', 'road_class', 'walkability_rule']\n",
      "Columns in nodes_df for subgraph 華聲里 in prepare_gnn_data: ['vertex', 'type', 'lie_name', 'population', 'land_use_residential_percent', 'land_use_commercial_percent', 'land_use_education_percent', 'ndvi_mean', 'tree_count', 'transit_count', 'area_m2', 'length_m', 'road_class', 'walkability_rule']\n",
      "Columns in nodes_df for subgraph 誠安里 in prepare_gnn_data: ['vertex', 'type', 'lie_name', 'population', 'land_use_residential_percent', 'land_use_commercial_percent', 'land_use_education_percent', 'ndvi_mean', 'tree_count', 'transit_count', 'area_m2', 'length_m', 'road_class', 'walkability_rule']\n",
      "Columns in nodes_df for subgraph 建安里 in prepare_gnn_data: ['vertex', 'type', 'lie_name', 'population', 'land_use_residential_percent', 'land_use_commercial_percent', 'land_use_education_percent', 'ndvi_mean', 'tree_count', 'transit_count', 'area_m2', 'length_m', 'road_class', 'walkability_rule']\n",
      "Columns in nodes_df for subgraph 菜園里 in prepare_gnn_data: ['vertex', 'type', 'lie_name', 'population', 'land_use_residential_percent', 'land_use_commercial_percent', 'land_use_education_percent', 'ndvi_mean', 'tree_count', 'transit_count', 'area_m2', 'length_m', 'road_class', 'walkability_rule']\n",
      "Columns in nodes_df for subgraph 昌隆里 in prepare_gnn_data: ['vertex', 'type', 'lie_name', 'population', 'land_use_residential_percent', 'land_use_commercial_percent', 'land_use_education_percent', 'ndvi_mean', 'tree_count', 'transit_count', 'area_m2', 'length_m', 'road_class', 'walkability_rule']\n",
      "Columns in nodes_df for subgraph 車層里 in prepare_gnn_data: ['vertex', 'type', 'lie_name', 'population', 'land_use_residential_percent', 'land_use_commercial_percent', 'land_use_education_percent', 'ndvi_mean', 'tree_count', 'transit_count', 'area_m2', 'length_m', 'road_class', 'walkability_rule']\n",
      "Columns in nodes_df for subgraph 西門里 in prepare_gnn_data: ['vertex', 'type', 'lie_name', 'population', 'land_use_residential_percent', 'land_use_commercial_percent', 'land_use_education_percent', 'ndvi_mean', 'tree_count', 'transit_count', 'area_m2', 'length_m', 'road_class', 'walkability_rule']\n",
      "Columns in nodes_df for subgraph 大道里 in prepare_gnn_data: ['vertex', 'type', 'lie_name', 'population', 'land_use_residential_percent', 'land_use_commercial_percent', 'land_use_education_percent', 'ndvi_mean', 'tree_count', 'transit_count', 'area_m2', 'length_m', 'road_class', 'walkability_rule']\n",
      "Columns in nodes_df for subgraph 興雅里 in prepare_gnn_data: ['vertex', 'type', 'lie_name', 'population', 'land_use_residential_percent', 'land_use_commercial_percent', 'land_use_education_percent', 'ndvi_mean', 'tree_count', 'transit_count', 'area_m2', 'length_m', 'road_class', 'walkability_rule']\n",
      "Columns in nodes_df for subgraph 舊莊里 in prepare_gnn_data: ['vertex', 'type', 'lie_name', 'population', 'land_use_residential_percent', 'land_use_commercial_percent', 'land_use_education_percent', 'ndvi_mean', 'tree_count', 'transit_count', 'area_m2', 'length_m', 'road_class', 'walkability_rule']\n",
      "Columns in nodes_df for subgraph 長春里 in prepare_gnn_data: ['vertex', 'type', 'lie_name', 'population', 'land_use_residential_percent', 'land_use_commercial_percent', 'land_use_education_percent', 'ndvi_mean', 'tree_count', 'transit_count', 'area_m2', 'length_m', 'road_class', 'walkability_rule']\n",
      "Columns in nodes_df for subgraph 東門里 in prepare_gnn_data: ['vertex', 'type', 'lie_name', 'population', 'land_use_residential_percent', 'land_use_commercial_percent', 'land_use_education_percent', 'ndvi_mean', 'tree_count', 'transit_count', 'area_m2', 'length_m', 'road_class', 'walkability_rule']\n",
      "Columns in nodes_df for subgraph 松光里 in prepare_gnn_data: ['vertex', 'type', 'lie_name', 'population', 'land_use_residential_percent', 'land_use_commercial_percent', 'land_use_education_percent', 'ndvi_mean', 'tree_count', 'transit_count', 'area_m2', 'length_m', 'road_class', 'walkability_rule']\n",
      "Columns in nodes_df for subgraph 幸市里 in prepare_gnn_data: ['vertex', 'type', 'lie_name', 'population', 'land_use_residential_percent', 'land_use_commercial_percent', 'land_use_education_percent', 'ndvi_mean', 'tree_count', 'transit_count', 'area_m2', 'length_m', 'road_class', 'walkability_rule']\n",
      "Columns in nodes_df for subgraph 富台里 in prepare_gnn_data: ['vertex', 'type', 'lie_name', 'population', 'land_use_residential_percent', 'land_use_commercial_percent', 'land_use_education_percent', 'ndvi_mean', 'tree_count', 'transit_count', 'area_m2', 'length_m', 'road_class', 'walkability_rule']\n",
      "Columns in nodes_df for subgraph 青山里 in prepare_gnn_data: ['vertex', 'type', 'lie_name', 'population', 'land_use_residential_percent', 'land_use_commercial_percent', 'land_use_education_percent', 'ndvi_mean', 'tree_count', 'transit_count', 'area_m2', 'length_m', 'road_class', 'walkability_rule']\n",
      "Columns in nodes_df for subgraph 建國里 in prepare_gnn_data: ['vertex', 'type', 'lie_name', 'population', 'land_use_residential_percent', 'land_use_commercial_percent', 'land_use_education_percent', 'ndvi_mean', 'tree_count', 'transit_count', 'area_m2', 'length_m', 'road_class', 'walkability_rule']\n",
      "Columns in nodes_df for subgraph 新起里 in prepare_gnn_data: ['vertex', 'type', 'lie_name', 'population', 'land_use_residential_percent', 'land_use_commercial_percent', 'land_use_education_percent', 'ndvi_mean', 'tree_count', 'transit_count', 'area_m2', 'length_m', 'road_class', 'walkability_rule']\n",
      "Columns in nodes_df for subgraph 柳鄉里 in prepare_gnn_data: ['vertex', 'type', 'lie_name', 'population', 'land_use_residential_percent', 'land_use_commercial_percent', 'land_use_education_percent', 'ndvi_mean', 'tree_count', 'transit_count', 'area_m2', 'length_m', 'road_class', 'walkability_rule']\n",
      "Columns in nodes_df for subgraph 中行里 in prepare_gnn_data: ['vertex', 'type', 'lie_name', 'population', 'land_use_residential_percent', 'land_use_commercial_percent', 'land_use_education_percent', 'ndvi_mean', 'tree_count', 'transit_count', 'area_m2', 'length_m', 'road_class', 'walkability_rule']\n",
      "Columns in nodes_df for subgraph 百福里 in prepare_gnn_data: ['vertex', 'type', 'lie_name', 'population', 'land_use_residential_percent', 'land_use_commercial_percent', 'land_use_education_percent', 'ndvi_mean', 'tree_count', 'transit_count', 'area_m2', 'length_m', 'road_class', 'walkability_rule']\n",
      "Columns in nodes_df for subgraph 義村里 in prepare_gnn_data: ['vertex', 'type', 'lie_name', 'population', 'land_use_residential_percent', 'land_use_commercial_percent', 'land_use_education_percent', 'ndvi_mean', 'tree_count', 'transit_count', 'area_m2', 'length_m', 'road_class', 'walkability_rule']\n",
      "Columns in nodes_df for subgraph 仁愛里 in prepare_gnn_data: ['vertex', 'type', 'lie_name', 'population', 'land_use_residential_percent', 'land_use_commercial_percent', 'land_use_education_percent', 'ndvi_mean', 'tree_count', 'transit_count', 'area_m2', 'length_m', 'road_class', 'walkability_rule']\n",
      "Columns in nodes_df for subgraph 建倫里 in prepare_gnn_data: ['vertex', 'type', 'lie_name', 'population', 'land_use_residential_percent', 'land_use_commercial_percent', 'land_use_education_percent', 'ndvi_mean', 'tree_count', 'transit_count', 'area_m2', 'length_m', 'road_class', 'walkability_rule']\n",
      "Columns in nodes_df for subgraph 文北里 in prepare_gnn_data: ['vertex', 'type', 'lie_name', 'population', 'land_use_residential_percent', 'land_use_commercial_percent', 'land_use_education_percent', 'ndvi_mean', 'tree_count', 'transit_count', 'area_m2', 'length_m', 'road_class', 'walkability_rule']\n",
      "Columns in nodes_df for subgraph 仁福里 in prepare_gnn_data: ['vertex', 'type', 'lie_name', 'population', 'land_use_residential_percent', 'land_use_commercial_percent', 'land_use_education_percent', 'ndvi_mean', 'tree_count', 'transit_count', 'area_m2', 'length_m', 'road_class', 'walkability_rule']\n",
      "Columns in nodes_df for subgraph 正聲里 in prepare_gnn_data: ['vertex', 'type', 'lie_name', 'population', 'land_use_residential_percent', 'land_use_commercial_percent', 'land_use_education_percent', 'ndvi_mean', 'tree_count', 'transit_count', 'area_m2', 'length_m', 'road_class', 'walkability_rule']\n",
      "Columns in nodes_df for subgraph 興隆里 in prepare_gnn_data: ['vertex', 'type', 'lie_name', 'population', 'land_use_residential_percent', 'land_use_commercial_percent', 'land_use_education_percent', 'ndvi_mean', 'tree_count', 'transit_count', 'area_m2', 'length_m', 'road_class', 'walkability_rule']\n",
      "Columns in nodes_df for subgraph 廣居里 in prepare_gnn_data: ['vertex', 'type', 'lie_name', 'population', 'land_use_residential_percent', 'land_use_commercial_percent', 'land_use_education_percent', 'ndvi_mean', 'tree_count', 'transit_count', 'area_m2', 'length_m', 'road_class', 'walkability_rule']\n",
      "Columns in nodes_df for subgraph 中坡里 in prepare_gnn_data: ['vertex', 'type', 'lie_name', 'population', 'land_use_residential_percent', 'land_use_commercial_percent', 'land_use_education_percent', 'ndvi_mean', 'tree_count', 'transit_count', 'area_m2', 'length_m', 'road_class', 'walkability_rule']\n",
      "Columns in nodes_df for subgraph 大仁里 in prepare_gnn_data: ['vertex', 'type', 'lie_name', 'population', 'land_use_residential_percent', 'land_use_commercial_percent', 'land_use_education_percent', 'ndvi_mean', 'tree_count', 'transit_count', 'area_m2', 'length_m', 'road_class', 'walkability_rule']\n",
      "Columns in nodes_df for subgraph 富民里 in prepare_gnn_data: ['vertex', 'type', 'lie_name', 'population', 'land_use_residential_percent', 'land_use_commercial_percent', 'land_use_education_percent', 'ndvi_mean', 'tree_count', 'transit_count', 'area_m2', 'length_m', 'road_class', 'walkability_rule']\n",
      "Columns in nodes_df for subgraph 福音里 in prepare_gnn_data: ['vertex', 'type', 'lie_name', 'population', 'land_use_residential_percent', 'land_use_commercial_percent', 'land_use_education_percent', 'ndvi_mean', 'tree_count', 'transit_count', 'area_m2', 'length_m', 'road_class', 'walkability_rule']\n",
      "Columns in nodes_df for subgraph 國業里 in prepare_gnn_data: ['vertex', 'type', 'lie_name', 'population', 'land_use_residential_percent', 'land_use_commercial_percent', 'land_use_education_percent', 'ndvi_mean', 'tree_count', 'transit_count', 'area_m2', 'length_m', 'road_class', 'walkability_rule']\n",
      "Columns in nodes_df for subgraph 仁德里 in prepare_gnn_data: ['vertex', 'type', 'lie_name', 'population', 'land_use_residential_percent', 'land_use_commercial_percent', 'land_use_education_percent', 'ndvi_mean', 'tree_count', 'transit_count', 'area_m2', 'length_m', 'road_class', 'walkability_rule']\n",
      "Columns in nodes_df for subgraph 安康里 in prepare_gnn_data: ['vertex', 'type', 'lie_name', 'population', 'land_use_residential_percent', 'land_use_commercial_percent', 'land_use_education_percent', 'ndvi_mean', 'tree_count', 'transit_count', 'area_m2', 'length_m', 'road_class', 'walkability_rule']\n",
      "Columns in nodes_df for subgraph 西村里 in prepare_gnn_data: ['vertex', 'type', 'lie_name', 'population', 'land_use_residential_percent', 'land_use_commercial_percent', 'land_use_education_percent', 'ndvi_mean', 'tree_count', 'transit_count', 'area_m2', 'length_m', 'road_class', 'walkability_rule']\n",
      "Columns in nodes_df for subgraph 九如里 in prepare_gnn_data: ['vertex', 'type', 'lie_name', 'population', 'land_use_residential_percent', 'land_use_commercial_percent', 'land_use_education_percent', 'ndvi_mean', 'tree_count', 'transit_count', 'area_m2', 'length_m', 'road_class', 'walkability_rule']\n",
      "Columns in nodes_df for subgraph 三愛里 in prepare_gnn_data: ['vertex', 'type', 'lie_name', 'population', 'land_use_residential_percent', 'land_use_commercial_percent', 'land_use_education_percent', 'ndvi_mean', 'tree_count', 'transit_count', 'area_m2', 'length_m', 'road_class', 'walkability_rule']\n",
      "Columns in nodes_df for subgraph 民炤里 in prepare_gnn_data: ['vertex', 'type', 'lie_name', 'population', 'land_use_residential_percent', 'land_use_commercial_percent', 'land_use_education_percent', 'ndvi_mean', 'tree_count', 'transit_count', 'area_m2', 'length_m', 'road_class', 'walkability_rule']\n",
      "Columns in nodes_df for subgraph 和安里 in prepare_gnn_data: ['vertex', 'type', 'lie_name', 'population', 'land_use_residential_percent', 'land_use_commercial_percent', 'land_use_education_percent', 'ndvi_mean', 'tree_count', 'transit_count', 'area_m2', 'length_m', 'road_class', 'walkability_rule']\n",
      "Columns in nodes_df for subgraph 仁慈里 in prepare_gnn_data: ['vertex', 'type', 'lie_name', 'population', 'land_use_residential_percent', 'land_use_commercial_percent', 'land_use_education_percent', 'ndvi_mean', 'tree_count', 'transit_count', 'area_m2', 'length_m', 'road_class', 'walkability_rule']\n",
      "Columns in nodes_df for subgraph 德安里 in prepare_gnn_data: ['vertex', 'type', 'lie_name', 'population', 'land_use_residential_percent', 'land_use_commercial_percent', 'land_use_education_percent', 'ndvi_mean', 'tree_count', 'transit_count', 'area_m2', 'length_m', 'road_class', 'walkability_rule']\n",
      "Columns in nodes_df for subgraph 敦安里 in prepare_gnn_data: ['vertex', 'type', 'lie_name', 'population', 'land_use_residential_percent', 'land_use_commercial_percent', 'land_use_education_percent', 'ndvi_mean', 'tree_count', 'transit_count', 'area_m2', 'length_m', 'road_class', 'walkability_rule']\n",
      "Columns in nodes_df for subgraph 文祥里 in prepare_gnn_data: ['vertex', 'type', 'lie_name', 'population', 'land_use_residential_percent', 'land_use_commercial_percent', 'land_use_education_percent', 'ndvi_mean', 'tree_count', 'transit_count', 'area_m2', 'length_m', 'road_class', 'walkability_rule']\n",
      "Columns in nodes_df for subgraph 敦煌里 in prepare_gnn_data: ['vertex', 'type', 'lie_name', 'population', 'land_use_residential_percent', 'land_use_commercial_percent', 'land_use_education_percent', 'ndvi_mean', 'tree_count', 'transit_count', 'area_m2', 'length_m', 'road_class', 'walkability_rule']\n",
      "Columns in nodes_df for subgraph 光信里 in prepare_gnn_data: ['vertex', 'type', 'lie_name', 'population', 'land_use_residential_percent', 'land_use_commercial_percent', 'land_use_education_percent', 'ndvi_mean', 'tree_count', 'transit_count', 'area_m2', 'length_m', 'road_class', 'walkability_rule']\n",
      "Columns in nodes_df for subgraph 正和里 in prepare_gnn_data: ['vertex', 'type', 'lie_name', 'population', 'land_use_residential_percent', 'land_use_commercial_percent', 'land_use_education_percent', 'ndvi_mean', 'tree_count', 'transit_count', 'area_m2', 'length_m', 'road_class', 'walkability_rule']\n",
      "Columns in nodes_df for subgraph 愛國里 in prepare_gnn_data: ['vertex', 'type', 'lie_name', 'population', 'land_use_residential_percent', 'land_use_commercial_percent', 'land_use_education_percent', 'ndvi_mean', 'tree_count', 'transit_count', 'area_m2', 'length_m', 'road_class', 'walkability_rule']\n",
      "Columns in nodes_df for subgraph 松隆里 in prepare_gnn_data: ['vertex', 'type', 'lie_name', 'population', 'land_use_residential_percent', 'land_use_commercial_percent', 'land_use_education_percent', 'ndvi_mean', 'tree_count', 'transit_count', 'area_m2', 'length_m', 'road_class', 'walkability_rule']\n",
      "Columns in nodes_df for subgraph 南門里 in prepare_gnn_data: ['vertex', 'type', 'lie_name', 'population', 'land_use_residential_percent', 'land_use_commercial_percent', 'land_use_education_percent', 'ndvi_mean', 'tree_count', 'transit_count', 'area_m2', 'length_m', 'road_class', 'walkability_rule']\n",
      "Columns in nodes_df for subgraph 富福里 in prepare_gnn_data: ['vertex', 'type', 'lie_name', 'population', 'land_use_residential_percent', 'land_use_commercial_percent', 'land_use_education_percent', 'ndvi_mean', 'tree_count', 'transit_count', 'area_m2', 'length_m', 'road_class', 'walkability_rule']\n",
      "Columns in nodes_df for subgraph 松友里 in prepare_gnn_data: ['vertex', 'type', 'lie_name', 'population', 'land_use_residential_percent', 'land_use_commercial_percent', 'land_use_education_percent', 'ndvi_mean', 'tree_count', 'transit_count', 'area_m2', 'length_m', 'road_class', 'walkability_rule']\n",
      "Columns in nodes_df for subgraph 光明里 in prepare_gnn_data: ['vertex', 'type', 'lie_name', 'population', 'land_use_residential_percent', 'land_use_commercial_percent', 'land_use_education_percent', 'ndvi_mean', 'tree_count', 'transit_count', 'area_m2', 'length_m', 'road_class', 'walkability_rule']\n",
      "Columns in nodes_df for subgraph 華江里 in prepare_gnn_data: ['vertex', 'type', 'lie_name', 'population', 'land_use_residential_percent', 'land_use_commercial_percent', 'land_use_education_percent', 'ndvi_mean', 'tree_count', 'transit_count', 'area_m2', 'length_m', 'road_class', 'walkability_rule']\n",
      "Columns in nodes_df for subgraph 糖廍里 in prepare_gnn_data: ['vertex', 'type', 'lie_name', 'population', 'land_use_residential_percent', 'land_use_commercial_percent', 'land_use_education_percent', 'ndvi_mean', 'tree_count', 'transit_count', 'area_m2', 'length_m', 'road_class', 'walkability_rule']\n",
      "Columns in nodes_df for subgraph 龍福里 in prepare_gnn_data: ['vertex', 'type', 'lie_name', 'population', 'land_use_residential_percent', 'land_use_commercial_percent', 'land_use_education_percent', 'ndvi_mean', 'tree_count', 'transit_count', 'area_m2', 'length_m', 'road_class', 'walkability_rule']\n",
      "Columns in nodes_df for subgraph 新營里 in prepare_gnn_data: ['vertex', 'type', 'lie_name', 'population', 'land_use_residential_percent', 'land_use_commercial_percent', 'land_use_education_percent', 'ndvi_mean', 'tree_count', 'transit_count', 'area_m2', 'length_m', 'road_class', 'walkability_rule']\n",
      "Columns in nodes_df for subgraph 中興里 in prepare_gnn_data: ['vertex', 'type', 'lie_name', 'population', 'land_use_residential_percent', 'land_use_commercial_percent', 'land_use_education_percent', 'ndvi_mean', 'tree_count', 'transit_count', 'area_m2', 'length_m', 'road_class', 'walkability_rule']\n",
      "Columns in nodes_df for subgraph 永康里 in prepare_gnn_data: ['vertex', 'type', 'lie_name', 'population', 'land_use_residential_percent', 'land_use_commercial_percent', 'land_use_education_percent', 'ndvi_mean', 'tree_count', 'transit_count', 'area_m2', 'length_m', 'road_class', 'walkability_rule']\n",
      "Columns in nodes_df for subgraph 頂碩里 in prepare_gnn_data: ['vertex', 'type', 'lie_name', 'population', 'land_use_residential_percent', 'land_use_commercial_percent', 'land_use_education_percent', 'ndvi_mean', 'tree_count', 'transit_count', 'area_m2', 'length_m', 'road_class', 'walkability_rule']\n",
      "Columns in nodes_df for subgraph 綠堤里 in prepare_gnn_data: ['vertex', 'type', 'lie_name', 'population', 'land_use_residential_percent', 'land_use_commercial_percent', 'land_use_education_percent', 'ndvi_mean', 'tree_count', 'transit_count', 'area_m2', 'length_m', 'road_class', 'walkability_rule']\n",
      "Columns in nodes_df for subgraph 三犁里 in prepare_gnn_data: ['vertex', 'type', 'lie_name', 'population', 'land_use_residential_percent', 'land_use_commercial_percent', 'land_use_education_percent', 'ndvi_mean', 'tree_count', 'transit_count', 'area_m2', 'length_m', 'road_class', 'walkability_rule']\n",
      "Columns in nodes_df for subgraph 福住里 in prepare_gnn_data: ['vertex', 'type', 'lie_name', 'population', 'land_use_residential_percent', 'land_use_commercial_percent', 'land_use_education_percent', 'ndvi_mean', 'tree_count', 'transit_count', 'area_m2', 'length_m', 'road_class', 'walkability_rule']\n",
      "Columns in nodes_df for subgraph 龍門里 in prepare_gnn_data: ['vertex', 'type', 'lie_name', 'population', 'land_use_residential_percent', 'land_use_commercial_percent', 'land_use_education_percent', 'ndvi_mean', 'tree_count', 'transit_count', 'area_m2', 'length_m', 'road_class', 'walkability_rule']\n",
      "Columns in nodes_df for subgraph 龍圖里 in prepare_gnn_data: ['vertex', 'type', 'lie_name', 'population', 'land_use_residential_percent', 'land_use_commercial_percent', 'land_use_education_percent', 'ndvi_mean', 'tree_count', 'transit_count', 'area_m2', 'length_m', 'road_class', 'walkability_rule']\n",
      "Columns in nodes_df for subgraph 住安里 in prepare_gnn_data: ['vertex', 'type', 'lie_name', 'population', 'land_use_residential_percent', 'land_use_commercial_percent', 'land_use_education_percent', 'ndvi_mean', 'tree_count', 'transit_count', 'area_m2', 'length_m', 'road_class', 'walkability_rule']\n",
      "Columns in nodes_df for subgraph 廈安里 in prepare_gnn_data: ['vertex', 'type', 'lie_name', 'population', 'land_use_residential_percent', 'land_use_commercial_percent', 'land_use_education_percent', 'ndvi_mean', 'tree_count', 'transit_count', 'area_m2', 'length_m', 'road_class', 'walkability_rule']\n",
      "Columns in nodes_df for subgraph 義安里 in prepare_gnn_data: ['vertex', 'type', 'lie_name', 'population', 'land_use_residential_percent', 'land_use_commercial_percent', 'land_use_education_percent', 'ndvi_mean', 'tree_count', 'transit_count', 'area_m2', 'length_m', 'road_class', 'walkability_rule']\n",
      "Columns in nodes_df for subgraph 通安里 in prepare_gnn_data: ['vertex', 'type', 'lie_name', 'population', 'land_use_residential_percent', 'land_use_commercial_percent', 'land_use_education_percent', 'ndvi_mean', 'tree_count', 'transit_count', 'area_m2', 'length_m', 'road_class', 'walkability_rule']\n",
      "Columns in nodes_df for subgraph 通化里 in prepare_gnn_data: ['vertex', 'type', 'lie_name', 'population', 'land_use_residential_percent', 'land_use_commercial_percent', 'land_use_education_percent', 'ndvi_mean', 'tree_count', 'transit_count', 'area_m2', 'length_m', 'road_class', 'walkability_rule']\n",
      "Columns in nodes_df for subgraph 景聯里 in prepare_gnn_data: ['vertex', 'type', 'lie_name', 'population', 'land_use_residential_percent', 'land_use_commercial_percent', 'land_use_education_percent', 'ndvi_mean', 'tree_count', 'transit_count', 'area_m2', 'length_m', 'road_class', 'walkability_rule']\n",
      "Columns in nodes_df for subgraph 景新里 in prepare_gnn_data: ['vertex', 'type', 'lie_name', 'population', 'land_use_residential_percent', 'land_use_commercial_percent', 'land_use_education_percent', 'ndvi_mean', 'tree_count', 'transit_count', 'area_m2', 'length_m', 'road_class', 'walkability_rule']\n",
      "Columns in nodes_df for subgraph 三張里 in prepare_gnn_data: ['vertex', 'type', 'lie_name', 'population', 'land_use_residential_percent', 'land_use_commercial_percent', 'land_use_education_percent', 'ndvi_mean', 'tree_count', 'transit_count', 'area_m2', 'length_m', 'road_class', 'walkability_rule']\n",
      "Columns in nodes_df for subgraph 和平里 in prepare_gnn_data: ['vertex', 'type', 'lie_name', 'population', 'land_use_residential_percent', 'land_use_commercial_percent', 'land_use_education_percent', 'ndvi_mean', 'tree_count', 'transit_count', 'area_m2', 'length_m', 'road_class', 'walkability_rule']\n",
      "Columns in nodes_df for subgraph 雙園里 in prepare_gnn_data: ['vertex', 'type', 'lie_name', 'population', 'land_use_residential_percent', 'land_use_commercial_percent', 'land_use_education_percent', 'ndvi_mean', 'tree_count', 'transit_count', 'area_m2', 'length_m', 'road_class', 'walkability_rule']\n",
      "Columns in nodes_df for subgraph 錦泰里 in prepare_gnn_data: ['vertex', 'type', 'lie_name', 'population', 'land_use_residential_percent', 'land_use_commercial_percent', 'land_use_education_percent', 'ndvi_mean', 'tree_count', 'transit_count', 'area_m2', 'length_m', 'road_class', 'walkability_rule']\n",
      "Columns in nodes_df for subgraph 龍光里 in prepare_gnn_data: ['vertex', 'type', 'lie_name', 'population', 'land_use_residential_percent', 'land_use_commercial_percent', 'land_use_education_percent', 'ndvi_mean', 'tree_count', 'transit_count', 'area_m2', 'length_m', 'road_class', 'walkability_rule']\n",
      "Columns in nodes_df for subgraph 南福里 in prepare_gnn_data: ['vertex', 'type', 'lie_name', 'population', 'land_use_residential_percent', 'land_use_commercial_percent', 'land_use_education_percent', 'ndvi_mean', 'tree_count', 'transit_count', 'area_m2', 'length_m', 'road_class', 'walkability_rule']\n",
      "Columns in nodes_df for subgraph 新龍里 in prepare_gnn_data: ['vertex', 'type', 'lie_name', 'population', 'land_use_residential_percent', 'land_use_commercial_percent', 'land_use_education_percent', 'ndvi_mean', 'tree_count', 'transit_count', 'area_m2', 'length_m', 'road_class', 'walkability_rule']\n",
      "Columns in nodes_df for subgraph 龍雲里 in prepare_gnn_data: ['vertex', 'type', 'lie_name', 'population', 'land_use_residential_percent', 'land_use_commercial_percent', 'land_use_education_percent', 'ndvi_mean', 'tree_count', 'transit_count', 'area_m2', 'length_m', 'road_class', 'walkability_rule']\n",
      "Columns in nodes_df for subgraph 龍興里 in prepare_gnn_data: ['vertex', 'type', 'lie_name', 'population', 'land_use_residential_percent', 'land_use_commercial_percent', 'land_use_education_percent', 'ndvi_mean', 'tree_count', 'transit_count', 'area_m2', 'length_m', 'road_class', 'walkability_rule']\n",
      "Columns in nodes_df for subgraph 龍安里 in prepare_gnn_data: ['vertex', 'type', 'lie_name', 'population', 'land_use_residential_percent', 'land_use_commercial_percent', 'land_use_education_percent', 'ndvi_mean', 'tree_count', 'transit_count', 'area_m2', 'length_m', 'road_class', 'walkability_rule']\n",
      "Columns in nodes_df for subgraph 忠勤里 in prepare_gnn_data: ['vertex', 'type', 'lie_name', 'population', 'land_use_residential_percent', 'land_use_commercial_percent', 'land_use_education_percent', 'ndvi_mean', 'tree_count', 'transit_count', 'area_m2', 'length_m', 'road_class', 'walkability_rule']\n",
      "Columns in nodes_df for subgraph 龍陣里 in prepare_gnn_data: ['vertex', 'type', 'lie_name', 'population', 'land_use_residential_percent', 'land_use_commercial_percent', 'land_use_education_percent', 'ndvi_mean', 'tree_count', 'transit_count', 'area_m2', 'length_m', 'road_class', 'walkability_rule']\n",
      "Columns in nodes_df for subgraph 臨江里 in prepare_gnn_data: ['vertex', 'type', 'lie_name', 'population', 'land_use_residential_percent', 'land_use_commercial_percent', 'land_use_education_percent', 'ndvi_mean', 'tree_count', 'transit_count', 'area_m2', 'length_m', 'road_class', 'walkability_rule']\n",
      "Columns in nodes_df for subgraph 錦安里 in prepare_gnn_data: ['vertex', 'type', 'lie_name', 'population', 'land_use_residential_percent', 'land_use_commercial_percent', 'land_use_education_percent', 'ndvi_mean', 'tree_count', 'transit_count', 'area_m2', 'length_m', 'road_class', 'walkability_rule']\n",
      "Columns in nodes_df for subgraph 嘉興里 in prepare_gnn_data: ['vertex', 'type', 'lie_name', 'population', 'land_use_residential_percent', 'land_use_commercial_percent', 'land_use_education_percent', 'ndvi_mean', 'tree_count', 'transit_count', 'area_m2', 'length_m', 'road_class', 'walkability_rule']\n",
      "Columns in nodes_df for subgraph 新忠里 in prepare_gnn_data: ['vertex', 'type', 'lie_name', 'population', 'land_use_residential_percent', 'land_use_commercial_percent', 'land_use_education_percent', 'ndvi_mean', 'tree_count', 'transit_count', 'area_m2', 'length_m', 'road_class', 'walkability_rule']\n",
      "Columns in nodes_df for subgraph 景勤里 in prepare_gnn_data: ['vertex', 'type', 'lie_name', 'population', 'land_use_residential_percent', 'land_use_commercial_percent', 'land_use_education_percent', 'ndvi_mean', 'tree_count', 'transit_count', 'area_m2', 'length_m', 'road_class', 'walkability_rule']\n",
      "Columns in nodes_df for subgraph 錦華里 in prepare_gnn_data: ['vertex', 'type', 'lie_name', 'population', 'land_use_residential_percent', 'land_use_commercial_percent', 'land_use_education_percent', 'ndvi_mean', 'tree_count', 'transit_count', 'area_m2', 'length_m', 'road_class', 'walkability_rule']\n",
      "Columns in nodes_df for subgraph 日善里 in prepare_gnn_data: ['vertex', 'type', 'lie_name', 'population', 'land_use_residential_percent', 'land_use_commercial_percent', 'land_use_education_percent', 'ndvi_mean', 'tree_count', 'transit_count', 'area_m2', 'length_m', 'road_class', 'walkability_rule']\n",
      "Columns in nodes_df for subgraph 新和里 in prepare_gnn_data: ['vertex', 'type', 'lie_name', 'population', 'land_use_residential_percent', 'land_use_commercial_percent', 'land_use_education_percent', 'ndvi_mean', 'tree_count', 'transit_count', 'area_m2', 'length_m', 'road_class', 'walkability_rule']\n",
      "Columns in nodes_df for subgraph 全安里 in prepare_gnn_data: ['vertex', 'type', 'lie_name', 'population', 'land_use_residential_percent', 'land_use_commercial_percent', 'land_use_education_percent', 'ndvi_mean', 'tree_count', 'transit_count', 'area_m2', 'length_m', 'road_class', 'walkability_rule']\n",
      "Columns in nodes_df for subgraph 永功里 in prepare_gnn_data: ['vertex', 'type', 'lie_name', 'population', 'land_use_residential_percent', 'land_use_commercial_percent', 'land_use_education_percent', 'ndvi_mean', 'tree_count', 'transit_count', 'area_m2', 'length_m', 'road_class', 'walkability_rule']\n",
      "Columns in nodes_df for subgraph 永昌里 in prepare_gnn_data: ['vertex', 'type', 'lie_name', 'population', 'land_use_residential_percent', 'land_use_commercial_percent', 'land_use_education_percent', 'ndvi_mean', 'tree_count', 'transit_count', 'area_m2', 'length_m', 'road_class', 'walkability_rule']\n",
      "Columns in nodes_df for subgraph 和德里 in prepare_gnn_data: ['vertex', 'type', 'lie_name', 'population', 'land_use_residential_percent', 'land_use_commercial_percent', 'land_use_education_percent', 'ndvi_mean', 'tree_count', 'transit_count', 'area_m2', 'length_m', 'road_class', 'walkability_rule']\n",
      "Columns in nodes_df for subgraph 龍生里 in prepare_gnn_data: ['vertex', 'type', 'lie_name', 'population', 'land_use_residential_percent', 'land_use_commercial_percent', 'land_use_education_percent', 'ndvi_mean', 'tree_count', 'transit_count', 'area_m2', 'length_m', 'road_class', 'walkability_rule']\n",
      "Columns in nodes_df for subgraph 法治里 in prepare_gnn_data: ['vertex', 'type', 'lie_name', 'population', 'land_use_residential_percent', 'land_use_commercial_percent', 'land_use_education_percent', 'ndvi_mean', 'tree_count', 'transit_count', 'area_m2', 'length_m', 'road_class', 'walkability_rule']\n",
      "Columns in nodes_df for subgraph 群賢里 in prepare_gnn_data: ['vertex', 'type', 'lie_name', 'population', 'land_use_residential_percent', 'land_use_commercial_percent', 'land_use_education_percent', 'ndvi_mean', 'tree_count', 'transit_count', 'area_m2', 'length_m', 'road_class', 'walkability_rule']\n",
      "Columns in nodes_df for subgraph 群英里 in prepare_gnn_data: ['vertex', 'type', 'lie_name', 'population', 'land_use_residential_percent', 'land_use_commercial_percent', 'land_use_education_percent', 'ndvi_mean', 'tree_count', 'transit_count', 'area_m2', 'length_m', 'road_class', 'walkability_rule']\n",
      "Columns in nodes_df for subgraph 忠德里 in prepare_gnn_data: ['vertex', 'type', 'lie_name', 'population', 'land_use_residential_percent', 'land_use_commercial_percent', 'land_use_education_percent', 'ndvi_mean', 'tree_count', 'transit_count', 'area_m2', 'length_m', 'road_class', 'walkability_rule']\n",
      "Columns in nodes_df for subgraph 雙和里 in prepare_gnn_data: ['vertex', 'type', 'lie_name', 'population', 'land_use_residential_percent', 'land_use_commercial_percent', 'land_use_education_percent', 'ndvi_mean', 'tree_count', 'transit_count', 'area_m2', 'length_m', 'road_class', 'walkability_rule']\n",
      "Columns in nodes_df for subgraph 螢雪里 in prepare_gnn_data: ['vertex', 'type', 'lie_name', 'population', 'land_use_residential_percent', 'land_use_commercial_percent', 'land_use_education_percent', 'ndvi_mean', 'tree_count', 'transit_count', 'area_m2', 'length_m', 'road_class', 'walkability_rule']\n",
      "Columns in nodes_df for subgraph 黎順里 in prepare_gnn_data: ['vertex', 'type', 'lie_name', 'population', 'land_use_residential_percent', 'land_use_commercial_percent', 'land_use_education_percent', 'ndvi_mean', 'tree_count', 'transit_count', 'area_m2', 'length_m', 'road_class', 'walkability_rule']\n",
      "Columns in nodes_df for subgraph 螢圃里 in prepare_gnn_data: ['vertex', 'type', 'lie_name', 'population', 'land_use_residential_percent', 'land_use_commercial_percent', 'land_use_education_percent', 'ndvi_mean', 'tree_count', 'transit_count', 'area_m2', 'length_m', 'road_class', 'walkability_rule']\n",
      "Columns in nodes_df for subgraph 板溪里 in prepare_gnn_data: ['vertex', 'type', 'lie_name', 'population', 'land_use_residential_percent', 'land_use_commercial_percent', 'land_use_education_percent', 'ndvi_mean', 'tree_count', 'transit_count', 'area_m2', 'length_m', 'road_class', 'walkability_rule']\n",
      "Columns in nodes_df for subgraph 古莊里 in prepare_gnn_data: ['vertex', 'type', 'lie_name', 'population', 'land_use_residential_percent', 'land_use_commercial_percent', 'land_use_education_percent', 'ndvi_mean', 'tree_count', 'transit_count', 'area_m2', 'length_m', 'road_class', 'walkability_rule']\n",
      "Columns in nodes_df for subgraph 六合里 in prepare_gnn_data: ['vertex', 'type', 'lie_name', 'population', 'land_use_residential_percent', 'land_use_commercial_percent', 'land_use_education_percent', 'ndvi_mean', 'tree_count', 'transit_count', 'area_m2', 'length_m', 'road_class', 'walkability_rule']\n",
      "Columns in nodes_df for subgraph 惠安里 in prepare_gnn_data: ['vertex', 'type', 'lie_name', 'population', 'land_use_residential_percent', 'land_use_commercial_percent', 'land_use_education_percent', 'ndvi_mean', 'tree_count', 'transit_count', 'area_m2', 'length_m', 'road_class', 'walkability_rule']\n",
      "Columns in nodes_df for subgraph 錦德里 in prepare_gnn_data: ['vertex', 'type', 'lie_name', 'population', 'land_use_residential_percent', 'land_use_commercial_percent', 'land_use_education_percent', 'ndvi_mean', 'tree_count', 'transit_count', 'area_m2', 'length_m', 'road_class', 'walkability_rule']\n",
      "Columns in nodes_df for subgraph 凌霄里 in prepare_gnn_data: ['vertex', 'type', 'lie_name', 'population', 'land_use_residential_percent', 'land_use_commercial_percent', 'land_use_education_percent', 'ndvi_mean', 'tree_count', 'transit_count', 'area_m2', 'length_m', 'road_class', 'walkability_rule']\n",
      "Columns in nodes_df for subgraph 龍泉里 in prepare_gnn_data: ['vertex', 'type', 'lie_name', 'population', 'land_use_residential_percent', 'land_use_commercial_percent', 'land_use_education_percent', 'ndvi_mean', 'tree_count', 'transit_count', 'area_m2', 'length_m', 'road_class', 'walkability_rule']\n",
      "Columns in nodes_df for subgraph 龍坡里 in prepare_gnn_data: ['vertex', 'type', 'lie_name', 'population', 'land_use_residential_percent', 'land_use_commercial_percent', 'land_use_education_percent', 'ndvi_mean', 'tree_count', 'transit_count', 'area_m2', 'length_m', 'road_class', 'walkability_rule']\n",
      "Columns in nodes_df for subgraph 全德里 in prepare_gnn_data: ['vertex', 'type', 'lie_name', 'population', 'land_use_residential_percent', 'land_use_commercial_percent', 'land_use_education_percent', 'ndvi_mean', 'tree_count', 'transit_count', 'area_m2', 'length_m', 'road_class', 'walkability_rule']\n",
      "Columns in nodes_df for subgraph 騰雲里 in prepare_gnn_data: ['vertex', 'type', 'lie_name', 'population', 'land_use_residential_percent', 'land_use_commercial_percent', 'land_use_education_percent', 'ndvi_mean', 'tree_count', 'transit_count', 'area_m2', 'length_m', 'road_class', 'walkability_rule']\n",
      "Columns in nodes_df for subgraph 頂東里 in prepare_gnn_data: ['vertex', 'type', 'lie_name', 'population', 'land_use_residential_percent', 'land_use_commercial_percent', 'land_use_education_percent', 'ndvi_mean', 'tree_count', 'transit_count', 'area_m2', 'length_m', 'road_class', 'walkability_rule']\n",
      "Columns in nodes_df for subgraph 忠貞里 in prepare_gnn_data: ['vertex', 'type', 'lie_name', 'population', 'land_use_residential_percent', 'land_use_commercial_percent', 'land_use_education_percent', 'ndvi_mean', 'tree_count', 'transit_count', 'area_m2', 'length_m', 'road_class', 'walkability_rule']\n",
      "Columns in nodes_df for subgraph 龍淵里 in prepare_gnn_data: ['vertex', 'type', 'lie_name', 'population', 'land_use_residential_percent', 'land_use_commercial_percent', 'land_use_education_percent', 'ndvi_mean', 'tree_count', 'transit_count', 'area_m2', 'length_m', 'road_class', 'walkability_rule']\n",
      "Columns in nodes_df for subgraph 壽德里 in prepare_gnn_data: ['vertex', 'type', 'lie_name', 'population', 'land_use_residential_percent', 'land_use_commercial_percent', 'land_use_education_percent', 'ndvi_mean', 'tree_count', 'transit_count', 'area_m2', 'length_m', 'road_class', 'walkability_rule']\n",
      "Columns in nodes_df for subgraph 臥龍里 in prepare_gnn_data: ['vertex', 'type', 'lie_name', 'population', 'land_use_residential_percent', 'land_use_commercial_percent', 'land_use_education_percent', 'ndvi_mean', 'tree_count', 'transit_count', 'area_m2', 'length_m', 'road_class', 'walkability_rule']\n",
      "Columns in nodes_df for subgraph 虎嘯里 in prepare_gnn_data: ['vertex', 'type', 'lie_name', 'population', 'land_use_residential_percent', 'land_use_commercial_percent', 'land_use_education_percent', 'ndvi_mean', 'tree_count', 'transit_count', 'area_m2', 'length_m', 'road_class', 'walkability_rule']\n",
      "Columns in nodes_df for subgraph 孝德里 in prepare_gnn_data: ['vertex', 'type', 'lie_name', 'population', 'land_use_residential_percent', 'land_use_commercial_percent', 'land_use_education_percent', 'ndvi_mean', 'tree_count', 'transit_count', 'area_m2', 'length_m', 'road_class', 'walkability_rule']\n",
      "Columns in nodes_df for subgraph 黎平里 in prepare_gnn_data: ['vertex', 'type', 'lie_name', 'population', 'land_use_residential_percent', 'land_use_commercial_percent', 'land_use_education_percent', 'ndvi_mean', 'tree_count', 'transit_count', 'area_m2', 'length_m', 'road_class', 'walkability_rule']\n",
      "Columns in nodes_df for subgraph 芳和里 in prepare_gnn_data: ['vertex', 'type', 'lie_name', 'population', 'land_use_residential_percent', 'land_use_commercial_percent', 'land_use_education_percent', 'ndvi_mean', 'tree_count', 'transit_count', 'area_m2', 'length_m', 'road_class', 'walkability_rule']\n",
      "Columns in nodes_df for subgraph 保德里 in prepare_gnn_data: ['vertex', 'type', 'lie_name', 'population', 'land_use_residential_percent', 'land_use_commercial_percent', 'land_use_education_percent', 'ndvi_mean', 'tree_count', 'transit_count', 'area_m2', 'length_m', 'road_class', 'walkability_rule']\n",
      "Columns in nodes_df for subgraph 河堤里 in prepare_gnn_data: ['vertex', 'type', 'lie_name', 'population', 'land_use_residential_percent', 'land_use_commercial_percent', 'land_use_education_percent', 'ndvi_mean', 'tree_count', 'transit_count', 'area_m2', 'length_m', 'road_class', 'walkability_rule']\n",
      "Columns in nodes_df for subgraph 泰和里 in prepare_gnn_data: ['vertex', 'type', 'lie_name', 'population', 'land_use_residential_percent', 'land_use_commercial_percent', 'land_use_education_percent', 'ndvi_mean', 'tree_count', 'transit_count', 'area_m2', 'length_m', 'road_class', 'walkability_rule']\n",
      "Columns in nodes_df for subgraph 網溪里 in prepare_gnn_data: ['vertex', 'type', 'lie_name', 'population', 'land_use_residential_percent', 'land_use_commercial_percent', 'land_use_education_percent', 'ndvi_mean', 'tree_count', 'transit_count', 'area_m2', 'length_m', 'road_class', 'walkability_rule']\n",
      "Columns in nodes_df for subgraph 古風里 in prepare_gnn_data: ['vertex', 'type', 'lie_name', 'population', 'land_use_residential_percent', 'land_use_commercial_percent', 'land_use_education_percent', 'ndvi_mean', 'tree_count', 'transit_count', 'area_m2', 'length_m', 'road_class', 'walkability_rule']\n",
      "Columns in nodes_df for subgraph 黎忠里 in prepare_gnn_data: ['vertex', 'type', 'lie_name', 'population', 'land_use_residential_percent', 'land_use_commercial_percent', 'land_use_education_percent', 'ndvi_mean', 'tree_count', 'transit_count', 'area_m2', 'length_m', 'road_class', 'walkability_rule']\n",
      "Columns in nodes_df for subgraph 銘德里 in prepare_gnn_data: ['vertex', 'type', 'lie_name', 'population', 'land_use_residential_percent', 'land_use_commercial_percent', 'land_use_education_percent', 'ndvi_mean', 'tree_count', 'transit_count', 'area_m2', 'length_m', 'road_class', 'walkability_rule']\n",
      "Columns in nodes_df for subgraph 學府里 in prepare_gnn_data: ['vertex', 'type', 'lie_name', 'population', 'land_use_residential_percent', 'land_use_commercial_percent', 'land_use_education_percent', 'ndvi_mean', 'tree_count', 'transit_count', 'area_m2', 'length_m', 'road_class', 'walkability_rule']\n",
      "Columns in nodes_df for subgraph 黎孝里 in prepare_gnn_data: ['vertex', 'type', 'lie_name', 'population', 'land_use_residential_percent', 'land_use_commercial_percent', 'land_use_education_percent', 'ndvi_mean', 'tree_count', 'transit_count', 'area_m2', 'length_m', 'road_class', 'walkability_rule']\n",
      "Columns in nodes_df for subgraph 大學里 in prepare_gnn_data: ['vertex', 'type', 'lie_name', 'population', 'land_use_residential_percent', 'land_use_commercial_percent', 'land_use_education_percent', 'ndvi_mean', 'tree_count', 'transit_count', 'area_m2', 'length_m', 'road_class', 'walkability_rule']\n",
      "Columns in nodes_df for subgraph 日祥里 in prepare_gnn_data: ['vertex', 'type', 'lie_name', 'population', 'land_use_residential_percent', 'land_use_commercial_percent', 'land_use_education_percent', 'ndvi_mean', 'tree_count', 'transit_count', 'area_m2', 'length_m', 'road_class', 'walkability_rule']\n",
      "Columns in nodes_df for subgraph 興德里 in prepare_gnn_data: ['vertex', 'type', 'lie_name', 'population', 'land_use_residential_percent', 'land_use_commercial_percent', 'land_use_education_percent', 'ndvi_mean', 'tree_count', 'transit_count', 'area_m2', 'length_m', 'road_class', 'walkability_rule']\n",
      "Columns in nodes_df for subgraph 榮德里 in prepare_gnn_data: ['vertex', 'type', 'lie_name', 'population', 'land_use_residential_percent', 'land_use_commercial_percent', 'land_use_education_percent', 'ndvi_mean', 'tree_count', 'transit_count', 'area_m2', 'length_m', 'road_class', 'walkability_rule']\n",
      "Columns in nodes_df for subgraph 華中里 in prepare_gnn_data: ['vertex', 'type', 'lie_name', 'population', 'land_use_residential_percent', 'land_use_commercial_percent', 'land_use_education_percent', 'ndvi_mean', 'tree_count', 'transit_count', 'area_m2', 'length_m', 'road_class', 'walkability_rule']\n",
      "Columns in nodes_df for subgraph 林興里 in prepare_gnn_data: ['vertex', 'type', 'lie_name', 'population', 'land_use_residential_percent', 'land_use_commercial_percent', 'land_use_education_percent', 'ndvi_mean', 'tree_count', 'transit_count', 'area_m2', 'length_m', 'road_class', 'walkability_rule']\n",
      "Columns in nodes_df for subgraph 黎和里 in prepare_gnn_data: ['vertex', 'type', 'lie_name', 'population', 'land_use_residential_percent', 'land_use_commercial_percent', 'land_use_education_percent', 'ndvi_mean', 'tree_count', 'transit_count', 'area_m2', 'length_m', 'road_class', 'walkability_rule']\n",
      "Columns in nodes_df for subgraph 黎元里 in prepare_gnn_data: ['vertex', 'type', 'lie_name', 'population', 'land_use_residential_percent', 'land_use_commercial_percent', 'land_use_education_percent', 'ndvi_mean', 'tree_count', 'transit_count', 'area_m2', 'length_m', 'road_class', 'walkability_rule']\n",
      "Columns in nodes_df for subgraph 黎安里 in prepare_gnn_data: ['vertex', 'type', 'lie_name', 'population', 'land_use_residential_percent', 'land_use_commercial_percent', 'land_use_education_percent', 'ndvi_mean', 'tree_count', 'transit_count', 'area_m2', 'length_m', 'road_class', 'walkability_rule']\n",
      "Columns in nodes_df for subgraph 文盛里 in prepare_gnn_data: ['vertex', 'type', 'lie_name', 'population', 'land_use_residential_percent', 'land_use_commercial_percent', 'land_use_education_percent', 'ndvi_mean', 'tree_count', 'transit_count', 'area_m2', 'length_m', 'road_class', 'walkability_rule']\n",
      "Columns in nodes_df for subgraph 富水里 in prepare_gnn_data: ['vertex', 'type', 'lie_name', 'population', 'land_use_residential_percent', 'land_use_commercial_percent', 'land_use_education_percent', 'ndvi_mean', 'tree_count', 'transit_count', 'area_m2', 'length_m', 'road_class', 'walkability_rule']\n",
      "Columns in nodes_df for subgraph 博嘉里 in prepare_gnn_data: ['vertex', 'type', 'lie_name', 'population', 'land_use_residential_percent', 'land_use_commercial_percent', 'land_use_education_percent', 'ndvi_mean', 'tree_count', 'transit_count', 'area_m2', 'length_m', 'road_class', 'walkability_rule']\n",
      "Columns in nodes_df for subgraph 水源里 in prepare_gnn_data: ['vertex', 'type', 'lie_name', 'population', 'land_use_residential_percent', 'land_use_commercial_percent', 'land_use_education_percent', 'ndvi_mean', 'tree_count', 'transit_count', 'area_m2', 'length_m', 'road_class', 'walkability_rule']\n",
      "Columns in nodes_df for subgraph 興昌里 in prepare_gnn_data: ['vertex', 'type', 'lie_name', 'population', 'land_use_residential_percent', 'land_use_commercial_percent', 'land_use_education_percent', 'ndvi_mean', 'tree_count', 'transit_count', 'area_m2', 'length_m', 'road_class', 'walkability_rule']\n",
      "Columns in nodes_df for subgraph 興泰里 in prepare_gnn_data: ['vertex', 'type', 'lie_name', 'population', 'land_use_residential_percent', 'land_use_commercial_percent', 'land_use_education_percent', 'ndvi_mean', 'tree_count', 'transit_count', 'area_m2', 'length_m', 'road_class', 'walkability_rule']\n",
      "Columns in nodes_df for subgraph 萬年里 in prepare_gnn_data: ['vertex', 'type', 'lie_name', 'population', 'land_use_residential_percent', 'land_use_commercial_percent', 'land_use_education_percent', 'ndvi_mean', 'tree_count', 'transit_count', 'area_m2', 'length_m', 'road_class', 'walkability_rule']\n",
      "Columns in nodes_df for subgraph 興旺里 in prepare_gnn_data: ['vertex', 'type', 'lie_name', 'population', 'land_use_residential_percent', 'land_use_commercial_percent', 'land_use_education_percent', 'ndvi_mean', 'tree_count', 'transit_count', 'area_m2', 'length_m', 'road_class', 'walkability_rule']\n",
      "Columns in nodes_df for subgraph 萬盛里 in prepare_gnn_data: ['vertex', 'type', 'lie_name', 'population', 'land_use_residential_percent', 'land_use_commercial_percent', 'land_use_education_percent', 'ndvi_mean', 'tree_count', 'transit_count', 'area_m2', 'length_m', 'road_class', 'walkability_rule']\n",
      "Columns in nodes_df for subgraph 萬美里 in prepare_gnn_data: ['vertex', 'type', 'lie_name', 'population', 'land_use_residential_percent', 'land_use_commercial_percent', 'land_use_education_percent', 'ndvi_mean', 'tree_count', 'transit_count', 'area_m2', 'length_m', 'road_class', 'walkability_rule']\n",
      "Columns in nodes_df for subgraph 萬和里 in prepare_gnn_data: ['vertex', 'type', 'lie_name', 'population', 'land_use_residential_percent', 'land_use_commercial_percent', 'land_use_education_percent', 'ndvi_mean', 'tree_count', 'transit_count', 'area_m2', 'length_m', 'road_class', 'walkability_rule']\n",
      "Columns in nodes_df for subgraph 興邦里 in prepare_gnn_data: ['vertex', 'type', 'lie_name', 'population', 'land_use_residential_percent', 'land_use_commercial_percent', 'land_use_education_percent', 'ndvi_mean', 'tree_count', 'transit_count', 'area_m2', 'length_m', 'road_class', 'walkability_rule']\n",
      "Columns in nodes_df for subgraph 萬興里 in prepare_gnn_data: ['vertex', 'type', 'lie_name', 'population', 'land_use_residential_percent', 'land_use_commercial_percent', 'land_use_education_percent', 'ndvi_mean', 'tree_count', 'transit_count', 'area_m2', 'length_m', 'road_class', 'walkability_rule']\n",
      "Columns in nodes_df for subgraph 萬祥里 in prepare_gnn_data: ['vertex', 'type', 'lie_name', 'population', 'land_use_residential_percent', 'land_use_commercial_percent', 'land_use_education_percent', 'ndvi_mean', 'tree_count', 'transit_count', 'area_m2', 'length_m', 'road_class', 'walkability_rule']\n",
      "Columns in nodes_df for subgraph 興豐里 in prepare_gnn_data: ['vertex', 'type', 'lie_name', 'population', 'land_use_residential_percent', 'land_use_commercial_percent', 'land_use_education_percent', 'ndvi_mean', 'tree_count', 'transit_count', 'area_m2', 'length_m', 'road_class', 'walkability_rule']\n",
      "Columns in nodes_df for subgraph 萬芳里 in prepare_gnn_data: ['vertex', 'type', 'lie_name', 'population', 'land_use_residential_percent', 'land_use_commercial_percent', 'land_use_education_percent', 'ndvi_mean', 'tree_count', 'transit_count', 'area_m2', 'length_m', 'road_class', 'walkability_rule']\n",
      "Columns in nodes_df for subgraph 萬隆里 in prepare_gnn_data: ['vertex', 'type', 'lie_name', 'population', 'land_use_residential_percent', 'land_use_commercial_percent', 'land_use_education_percent', 'ndvi_mean', 'tree_count', 'transit_count', 'area_m2', 'length_m', 'road_class', 'walkability_rule']\n",
      "Columns in nodes_df for subgraph 興光里 in prepare_gnn_data: ['vertex', 'type', 'lie_name', 'population', 'land_use_residential_percent', 'land_use_commercial_percent', 'land_use_education_percent', 'ndvi_mean', 'tree_count', 'transit_count', 'area_m2', 'length_m', 'road_class', 'walkability_rule']\n",
      "Columns in nodes_df for subgraph 萬有里 in prepare_gnn_data: ['vertex', 'type', 'lie_name', 'population', 'land_use_residential_percent', 'land_use_commercial_percent', 'land_use_education_percent', 'ndvi_mean', 'tree_count', 'transit_count', 'area_m2', 'length_m', 'road_class', 'walkability_rule']\n",
      "Columns in nodes_df for subgraph 興業里 in prepare_gnn_data: ['vertex', 'type', 'lie_name', 'population', 'land_use_residential_percent', 'land_use_commercial_percent', 'land_use_education_percent', 'ndvi_mean', 'tree_count', 'transit_count', 'area_m2', 'length_m', 'road_class', 'walkability_rule']\n",
      "Columns in nodes_df for subgraph 興安里 in prepare_gnn_data: ['vertex', 'type', 'lie_name', 'population', 'land_use_residential_percent', 'land_use_commercial_percent', 'land_use_education_percent', 'ndvi_mean', 'tree_count', 'transit_count', 'area_m2', 'length_m', 'road_class', 'walkability_rule']\n",
      "Columns in nodes_df for subgraph 興得里 in prepare_gnn_data: ['vertex', 'type', 'lie_name', 'population', 'land_use_residential_percent', 'land_use_commercial_percent', 'land_use_education_percent', 'ndvi_mean', 'tree_count', 'transit_count', 'area_m2', 'length_m', 'road_class', 'walkability_rule']\n",
      "Columns in nodes_df for subgraph 景仁里 in prepare_gnn_data: ['vertex', 'type', 'lie_name', 'population', 'land_use_residential_percent', 'land_use_commercial_percent', 'land_use_education_percent', 'ndvi_mean', 'tree_count', 'transit_count', 'area_m2', 'length_m', 'road_class', 'walkability_rule']\n",
      "Columns in nodes_df for subgraph 興福里 in prepare_gnn_data: ['vertex', 'type', 'lie_name', 'population', 'land_use_residential_percent', 'land_use_commercial_percent', 'land_use_education_percent', 'ndvi_mean', 'tree_count', 'transit_count', 'area_m2', 'length_m', 'road_class', 'walkability_rule']\n",
      "Columns in nodes_df for subgraph 景華里 in prepare_gnn_data: ['vertex', 'type', 'lie_name', 'population', 'land_use_residential_percent', 'land_use_commercial_percent', 'land_use_education_percent', 'ndvi_mean', 'tree_count', 'transit_count', 'area_m2', 'length_m', 'road_class', 'walkability_rule']\n",
      "Columns in nodes_df for subgraph 景慶里 in prepare_gnn_data: ['vertex', 'type', 'lie_name', 'population', 'land_use_residential_percent', 'land_use_commercial_percent', 'land_use_education_percent', 'ndvi_mean', 'tree_count', 'transit_count', 'area_m2', 'length_m', 'road_class', 'walkability_rule']\n",
      "Columns in nodes_df for subgraph 政大里 in prepare_gnn_data: ['vertex', 'type', 'lie_name', 'population', 'land_use_residential_percent', 'land_use_commercial_percent', 'land_use_education_percent', 'ndvi_mean', 'tree_count', 'transit_count', 'area_m2', 'length_m', 'road_class', 'walkability_rule']\n",
      "Columns in nodes_df for subgraph 興家里 in prepare_gnn_data: ['vertex', 'type', 'lie_name', 'population', 'land_use_residential_percent', 'land_use_commercial_percent', 'land_use_education_percent', 'ndvi_mean', 'tree_count', 'transit_count', 'area_m2', 'length_m', 'road_class', 'walkability_rule']\n",
      "Columns in nodes_df for subgraph 景東里 in prepare_gnn_data: ['vertex', 'type', 'lie_name', 'population', 'land_use_residential_percent', 'land_use_commercial_percent', 'land_use_education_percent', 'ndvi_mean', 'tree_count', 'transit_count', 'area_m2', 'length_m', 'road_class', 'walkability_rule']\n",
      "Columns in nodes_df for subgraph 木柵里 in prepare_gnn_data: ['vertex', 'type', 'lie_name', 'population', 'land_use_residential_percent', 'land_use_commercial_percent', 'land_use_education_percent', 'ndvi_mean', 'tree_count', 'transit_count', 'area_m2', 'length_m', 'road_class', 'walkability_rule']\n",
      "Columns in nodes_df for subgraph 景美里 in prepare_gnn_data: ['vertex', 'type', 'lie_name', 'population', 'land_use_residential_percent', 'land_use_commercial_percent', 'land_use_education_percent', 'ndvi_mean', 'tree_count', 'transit_count', 'area_m2', 'length_m', 'road_class', 'walkability_rule']\n",
      "Columns in nodes_df for subgraph 明興里 in prepare_gnn_data: ['vertex', 'type', 'lie_name', 'population', 'land_use_residential_percent', 'land_use_commercial_percent', 'land_use_education_percent', 'ndvi_mean', 'tree_count', 'transit_count', 'area_m2', 'length_m', 'road_class', 'walkability_rule']\n",
      "Columns in nodes_df for subgraph 華興里 in prepare_gnn_data: ['vertex', 'type', 'lie_name', 'population', 'land_use_residential_percent', 'land_use_commercial_percent', 'land_use_education_percent', 'ndvi_mean', 'tree_count', 'transit_count', 'area_m2', 'length_m', 'road_class', 'walkability_rule']\n",
      "Columns in nodes_df for subgraph 景行里 in prepare_gnn_data: ['vertex', 'type', 'lie_name', 'population', 'land_use_residential_percent', 'land_use_commercial_percent', 'land_use_education_percent', 'ndvi_mean', 'tree_count', 'transit_count', 'area_m2', 'length_m', 'road_class', 'walkability_rule']\n",
      "Columns in nodes_df for subgraph 明義里 in prepare_gnn_data: ['vertex', 'type', 'lie_name', 'population', 'land_use_residential_percent', 'land_use_commercial_percent', 'land_use_education_percent', 'ndvi_mean', 'tree_count', 'transit_count', 'area_m2', 'length_m', 'road_class', 'walkability_rule']\n",
      "Columns in nodes_df for subgraph 木新里 in prepare_gnn_data: ['vertex', 'type', 'lie_name', 'population', 'land_use_residential_percent', 'land_use_commercial_percent', 'land_use_education_percent', 'ndvi_mean', 'tree_count', 'transit_count', 'area_m2', 'length_m', 'road_class', 'walkability_rule']\n",
      "Columns in nodes_df for subgraph 試院里 in prepare_gnn_data: ['vertex', 'type', 'lie_name', 'population', 'land_use_residential_percent', 'land_use_commercial_percent', 'land_use_education_percent', 'ndvi_mean', 'tree_count', 'transit_count', 'area_m2', 'length_m', 'road_class', 'walkability_rule']\n",
      "Columns in nodes_df for subgraph 忠順里 in prepare_gnn_data: ['vertex', 'type', 'lie_name', 'population', 'land_use_residential_percent', 'land_use_commercial_percent', 'land_use_education_percent', 'ndvi_mean', 'tree_count', 'transit_count', 'area_m2', 'length_m', 'road_class', 'walkability_rule']\n",
      "Columns in nodes_df for subgraph 樟林里 in prepare_gnn_data: ['vertex', 'type', 'lie_name', 'population', 'land_use_residential_percent', 'land_use_commercial_percent', 'land_use_education_percent', 'ndvi_mean', 'tree_count', 'transit_count', 'area_m2', 'length_m', 'road_class', 'walkability_rule']\n",
      "Columns in nodes_df for subgraph 指南里 in prepare_gnn_data: ['vertex', 'type', 'lie_name', 'population', 'land_use_residential_percent', 'land_use_commercial_percent', 'land_use_education_percent', 'ndvi_mean', 'tree_count', 'transit_count', 'area_m2', 'length_m', 'road_class', 'walkability_rule']\n",
      "Columns in nodes_df for subgraph 順興里 in prepare_gnn_data: ['vertex', 'type', 'lie_name', 'population', 'land_use_residential_percent', 'land_use_commercial_percent', 'land_use_education_percent', 'ndvi_mean', 'tree_count', 'transit_count', 'area_m2', 'length_m', 'road_class', 'walkability_rule']\n",
      "Columns in nodes_df for subgraph 樟樹里 in prepare_gnn_data: ['vertex', 'type', 'lie_name', 'population', 'land_use_residential_percent', 'land_use_commercial_percent', 'land_use_education_percent', 'ndvi_mean', 'tree_count', 'transit_count', 'area_m2', 'length_m', 'road_class', 'walkability_rule']\n",
      "Columns in nodes_df for subgraph 樟文里 in prepare_gnn_data: ['vertex', 'type', 'lie_name', 'population', 'land_use_residential_percent', 'land_use_commercial_percent', 'land_use_education_percent', 'ndvi_mean', 'tree_count', 'transit_count', 'area_m2', 'length_m', 'road_class', 'walkability_rule']\n",
      "Columns in nodes_df for subgraph 樟腳里 in prepare_gnn_data: ['vertex', 'type', 'lie_name', 'population', 'land_use_residential_percent', 'land_use_commercial_percent', 'land_use_education_percent', 'ndvi_mean', 'tree_count', 'transit_count', 'area_m2', 'length_m', 'road_class', 'walkability_rule']\n",
      "Columns in nodes_df for subgraph 老泉里 in prepare_gnn_data: ['vertex', 'type', 'lie_name', 'population', 'land_use_residential_percent', 'land_use_commercial_percent', 'land_use_education_percent', 'ndvi_mean', 'tree_count', 'transit_count', 'area_m2', 'length_m', 'road_class', 'walkability_rule']\n",
      "Columns in nodes_df for subgraph 樟新里 in prepare_gnn_data: ['vertex', 'type', 'lie_name', 'population', 'land_use_residential_percent', 'land_use_commercial_percent', 'land_use_education_percent', 'ndvi_mean', 'tree_count', 'transit_count', 'area_m2', 'length_m', 'road_class', 'walkability_rule']\n",
      "Stage 5: Generating interactive Kepler.gl map...\n",
      "User Guide: https://docs.kepler.gl/docs/keplergl-jupyter\n",
      "Loaded configuration from /home/johnny/Iaacthesis/projects/Geojson/GNN_Read_data/kepler.gl.json\n",
      "Map saved to /home/johnny/Iaacthesis/projects/Geojson/GNN_Read_data/walkability_map.html!\n",
      "Interactive map saved at /home/johnny/Iaacthesis/projects/Geojson/GNN_Read_data/walkability_map.html\n",
      "Analysis completed successfully.\n"
     ]
    }
   ],
   "source": [
    "import geopandas as gpd\n",
    "import cudf\n",
    "import cuspatial\n",
    "from shapely.geometry import Point\n",
    "import pandas as pd\n",
    "import os\n",
    "from tqdm import tqdm\n",
    "import cugraph\n",
    "import pickle\n",
    "import torch\n",
    "from torch_geometric.data import Data\n",
    "from torch_geometric.nn import GATConv\n",
    "import numpy as np\n",
    "from keplergl import KeplerGl\n",
    "import json\n",
    "\n",
    "# Define actual file paths (customize these based on your system)\n",
    "# Example assumes a project directory in your home folder: /home/your_username/project_folder/\n",
    "BASE_DIR = \"/home/johnny/Iaacthesis/projects/Geojson/GNN_Read_data\"  # Replace \"your_username\" with your actual username\n",
    "\n",
    "LANDUSE_NDVI_PATH = \"/home/johnny/Iaacthesis/projects/Geojson/GNN_Read_data/neighborhoods_with_ndvi_numerical.geojson\"\n",
    "OSM_BUILDINGS_PATH = \"/home/johnny/Iaacthesis/projects/Geojson/GNN_Read_data/Taipei_Buildings_fulldata.geojson\"\n",
    "OSM_ROADS_PATH = \"/home/johnny/Iaacthesis/projects/Geojson/GNN_Read_data/taipei_segments_cleaned_verified.geoparquet\"\n",
    "OSM_TREES_PATH = \"/home/johnny/Iaacthesis/projects/Geojson/GNN_Read_data/taipei_land.geoparquet\"\n",
    "OSM_TRANSIT_PATH = \"/home/johnny/Iaacthesis/projects/Geojson/GNN_Read_data/taipei_infrastructure.geoparquet\"\n",
    "URBAN_MASTERPLAN_PATH = \"/home/johnny/Iaacthesis/projects/Geojson/GNN_Read_data/Taipei_urban_masterplan.geojson\"\n",
    "SUBGRAPH_DIR = \"/home/johnny/Iaacthesis/projects/Geojson/GNN_Read_data/subgraphs\"\n",
    "CHECKPOINT_DIR = \"/home/johnny/Iaacthesis/projects/Geojson/GNN_Read_data/checkpoints\"\n",
    "\n",
    "# Ensure output directories exist\n",
    "os.makedirs(SUBGRAPH_DIR, exist_ok=True)\n",
    "os.makedirs(CHECKPOINT_DIR, exist_ok=True)\n",
    "\n",
    "# Replace with your actual Mapbox access token\n",
    "MAPBOX_ACCESS_TOKEN = \"your_actual_mapbox_access_token\"  # Get this from mapbox.com\n",
    "\n",
    "### Helper Functions\n",
    "def validate_geometries(gdf, name):\n",
    "    \"\"\"Validate and filter out invalid geometries in a GeoDataFrame.\"\"\"\n",
    "    print(f\"Validating geometries for {name}...\")\n",
    "    gdf = gdf[gdf.geometry.is_valid].reset_index(drop=True)\n",
    "    print(f\"{name} after validation: {len(gdf)} rows\")\n",
    "    return gdf\n",
    "\n",
    "### Stage 1: Data Loading and Preprocessing\n",
    "def load_and_prepare_data():\n",
    "    \"\"\"Load and preprocess urban data for graph construction.\"\"\"\n",
    "    print(\"Stage 1: Loading and preparing data...\")\n",
    "    with tqdm(total=6, desc=\"Loading files\") as pbar:\n",
    "        neighborhoods_gdf = gpd.read_file(LANDUSE_NDVI_PATH, encoding='utf-8-sig')\n",
    "        neighborhoods_gdf = validate_geometries(neighborhoods_gdf, \"neighborhoods\")\n",
    "        pbar.update(1)\n",
    "\n",
    "        buildings_gdf = gpd.read_file(OSM_BUILDINGS_PATH, encoding='utf-8-sig')\n",
    "        buildings_gdf = validate_geometries(buildings_gdf, \"buildings\")\n",
    "        if 'area_m2' not in buildings_gdf.columns:\n",
    "            print(\"Computing area_m2 for buildings...\")\n",
    "            buildings_gdf = buildings_gdf.to_crs('EPSG:3826')  # Projected CRS for accurate area\n",
    "            buildings_gdf['area_m2'] = buildings_gdf.geometry.area\n",
    "            buildings_gdf = buildings_gdf.to_crs('EPSG:4326')  # Back to WGS84 for visualization\n",
    "        pbar.update(1)\n",
    "\n",
    "        roads_gdf = gpd.read_parquet(OSM_ROADS_PATH)\n",
    "        roads_gdf = validate_geometries(roads_gdf, \"roads\")\n",
    "        if roads_gdf.crs.is_geographic:\n",
    "            print(\"Reprojecting roads_gdf to EPSG:3826 for length calculations...\")\n",
    "            roads_gdf = roads_gdf.to_crs('EPSG:3826')\n",
    "        roads_gdf['length_m'] = roads_gdf.geometry.length\n",
    "        pbar.update(1)\n",
    "\n",
    "        trees_gdf = gpd.read_parquet(OSM_TREES_PATH)\n",
    "        trees_gdf = trees_gdf[trees_gdf['subtype'] == 'tree']\n",
    "        trees_gdf = validate_geometries(trees_gdf, \"trees\")\n",
    "        pbar.update(1)\n",
    "\n",
    "        transit_gdf = gpd.read_parquet(OSM_TRANSIT_PATH)\n",
    "        transit_gdf = transit_gdf[transit_gdf['class'].isin(['stop_position', 'bus_stop'])]\n",
    "        transit_gdf = transit_gdf[transit_gdf.geometry.geom_type == 'Point']\n",
    "        transit_gdf = validate_geometries(transit_gdf, \"transit\")\n",
    "        pbar.update(1)\n",
    "\n",
    "        urban_masterplan_gdf = gpd.read_file(URBAN_MASTERPLAN_PATH)\n",
    "        urban_masterplan_gdf = validate_geometries(urban_masterplan_gdf, \"urban_masterplan\")\n",
    "        pbar.update(1)\n",
    "\n",
    "    neighborhoods_geo = cuspatial.from_geopandas(neighborhoods_gdf['geometry'])\n",
    "    trees_geo = cuspatial.from_geopandas(trees_gdf['geometry'])\n",
    "    transit_geo = cuspatial.from_geopandas(transit_gdf['geometry'])\n",
    "\n",
    "    neighborhoods_gdf['tree_count'] = 0\n",
    "    neighborhoods_gdf['transit_count'] = 0\n",
    "    for idx in range(len(neighborhoods_gdf)):\n",
    "        neighborhood_geom = neighborhoods_geo.iloc[idx]\n",
    "        if neighborhood_geom.is_valid:\n",
    "            neighborhood_geo_series = cuspatial.GeoSeries([neighborhood_geom])\n",
    "            neighborhoods_gdf.at[idx, 'tree_count'] = cuspatial.point_in_polygon(trees_geo, neighborhood_geo_series).sum().values[0]\n",
    "            neighborhoods_gdf.at[idx, 'transit_count'] = cuspatial.point_in_polygon(transit_geo, neighborhood_geo_series).sum().values[0]\n",
    "        else:\n",
    "            print(f\"Warning: Invalid geometry at index {idx}\")\n",
    "\n",
    "    return {\n",
    "        'neighborhoods': neighborhoods_gdf,\n",
    "        'buildings': buildings_gdf,\n",
    "        'roads': roads_gdf,\n",
    "        'trees': trees_gdf,\n",
    "        'transit': transit_gdf,\n",
    "        'urban_masterplan': urban_masterplan_gdf\n",
    "    }\n",
    "\n",
    "### Stage 2: Graph Construction\n",
    "def build_graph(data):\n",
    "    \"\"\"Construct subgraphs for each neighborhood with nodes and edges.\"\"\"\n",
    "    print(\"Stage 2: Building graph network...\")\n",
    "    subgraphs = {}\n",
    "    road_network_nodes = []\n",
    "\n",
    "    neighborhoods_gdf = data['neighborhoods']\n",
    "    buildings_gdf = data['buildings']\n",
    "    roads_gdf = data['roads']\n",
    "    trees_gdf = data['trees']\n",
    "    transit_gdf = data['transit']\n",
    "\n",
    "    # Define all feature columns to be included in every node\n",
    "    feature_cols = [\n",
    "        'land_use_residential_percent',\n",
    "        'land_use_commercial_percent',\n",
    "        'land_use_education_percent',\n",
    "        'ndvi_mean',\n",
    "        'tree_count',\n",
    "        'transit_count',\n",
    "        'area_m2',\n",
    "        'length_m'\n",
    "    ]\n",
    "    default_node_data = {col: 0.0 for col in feature_cols}\n",
    "\n",
    "    for idx in tqdm(range(len(neighborhoods_gdf)), desc=\"Building subgraphs\"):\n",
    "        lie_name = neighborhoods_gdf['LIE_NAME'].iloc[idx]\n",
    "        subgraph_path = os.path.join(SUBGRAPH_DIR, f\"subgraph_{lie_name}.pkl\")\n",
    "\n",
    "        if os.path.exists(subgraph_path):\n",
    "            with open(subgraph_path, 'rb') as f:\n",
    "                subgraphs[lie_name] = pickle.load(f)\n",
    "            continue\n",
    "\n",
    "        all_nodes = []\n",
    "        all_edges = []\n",
    "\n",
    "        # Neighborhood node\n",
    "        node_id = f\"neighborhood_{lie_name}\"\n",
    "        node_data = {\n",
    "            'vertex': node_id,\n",
    "            'type': 'neighborhood',\n",
    "            'lie_name': lie_name,\n",
    "            'population': neighborhoods_gdf['2024population'].iloc[idx],\n",
    "            **default_node_data\n",
    "        }\n",
    "        node_data.update({\n",
    "            'land_use_residential_percent': neighborhoods_gdf['land_use_residential_percent'].iloc[idx],\n",
    "            'land_use_commercial_percent': neighborhoods_gdf['land_use_commercial_percent'].iloc[idx],\n",
    "            'land_use_education_percent': neighborhoods_gdf['land_use_education_percent'].iloc[idx],\n",
    "            'ndvi_mean': neighborhoods_gdf['ndvi_mean'].iloc[idx],\n",
    "            'tree_count': neighborhoods_gdf['tree_count'].iloc[idx],\n",
    "            'transit_count': neighborhoods_gdf['transit_count'].iloc[idx]\n",
    "        })\n",
    "        all_nodes.append(node_data)\n",
    "\n",
    "        # Spatial buffer and filtering\n",
    "        buffer_distance = 200  # meters\n",
    "        neigh_geom = neighborhoods_gdf.geometry.iloc[idx]\n",
    "        neigh_buffer = neigh_geom.buffer(buffer_distance)\n",
    "\n",
    "        relevant_buildings = buildings_gdf[buildings_gdf.geometry.within(neigh_buffer)]\n",
    "        relevant_roads = roads_gdf[roads_gdf.geometry.intersects(neigh_buffer)]\n",
    "        relevant_trees = trees_gdf[trees_gdf.geometry.within(neigh_buffer)]\n",
    "        relevant_transit = transit_gdf[transit_gdf.geometry.within(neigh_buffer)]\n",
    "\n",
    "        # Building nodes\n",
    "        for b_idx, building in relevant_buildings.iterrows():\n",
    "            node_id = f\"building_{b_idx}\"\n",
    "            node_data = {\n",
    "                'vertex': node_id,\n",
    "                'type': 'building',\n",
    "                'building_type': building['building'],\n",
    "                **default_node_data\n",
    "            }\n",
    "            node_data['area_m2'] = building['area_m2']\n",
    "            all_nodes.append(node_data)\n",
    "\n",
    "        # Road nodes\n",
    "        road_points = []\n",
    "        for r_idx, road in relevant_roads.iterrows():\n",
    "            geom = road.geometry\n",
    "            if geom.geom_type == 'LineString':\n",
    "                road_points.extend([\n",
    "                    (f\"road_start_{r_idx}\", Point(geom.coords[0])),\n",
    "                    (f\"road_end_{r_idx}\", Point(geom.coords[-1]))\n",
    "                ])\n",
    "\n",
    "        for node_id, geom in road_points:\n",
    "            r_idx = int(node_id.split('_')[2])\n",
    "            road_data = {\n",
    "                'vertex': node_id,\n",
    "                'type': 'road',\n",
    "                'road_class': roads_gdf['class'].iloc[r_idx],\n",
    "                **default_node_data\n",
    "            }\n",
    "            road_data['length_m'] = roads_gdf['length_m'].iloc[r_idx]\n",
    "            all_nodes.append(road_data)\n",
    "            road_network_nodes.append(road_data)\n",
    "\n",
    "        # Tree nodes\n",
    "        for t_idx, tree in relevant_trees.iterrows():\n",
    "            node_id = f\"tree_{t_idx}\"\n",
    "            all_nodes.append({\n",
    "                'vertex': node_id,\n",
    "                'type': 'tree',\n",
    "                **default_node_data\n",
    "            })\n",
    "\n",
    "        # Transit nodes\n",
    "        for t_idx, transit in relevant_transit.iterrows():\n",
    "            node_id = f\"transit_{t_idx}\"\n",
    "            all_nodes.append({\n",
    "                'vertex': node_id,\n",
    "                'type': 'transit',\n",
    "                'class': transit['class'],\n",
    "                **default_node_data\n",
    "            })\n",
    "\n",
    "        # Edge creation\n",
    "        for b_idx, building in relevant_buildings.iterrows():\n",
    "            building_geom = building.geometry\n",
    "            distance = neigh_geom.distance(building_geom)\n",
    "            if distance < 100:\n",
    "                all_edges.append({'src': f\"neighborhood_{lie_name}\", 'dst': f\"building_{b_idx}\", 'weight': distance})\n",
    "\n",
    "        for b_idx, building in relevant_buildings.iterrows():\n",
    "            building_geom = building.geometry\n",
    "            for r_idx, road in relevant_roads.iterrows():\n",
    "                road_geom = road.geometry\n",
    "                distance = building_geom.distance(road_geom)\n",
    "                if distance < 50:\n",
    "                    all_edges.append({'src': f\"building_{b_idx}\", 'dst': f\"road_start_{r_idx}\", 'weight': distance})\n",
    "                    all_edges.append({'src': f\"building_{b_idx}\", 'dst': f\"road_end_{r_idx}\", 'weight': distance})\n",
    "\n",
    "        nodes_df = cudf.DataFrame(all_nodes)\n",
    "        edges_df = cudf.DataFrame(all_edges) if all_edges else None\n",
    "        \n",
    "        # Debug: Print columns for this subgraph\n",
    "        print(f\"Columns in nodes_df for subgraph {lie_name}: {nodes_df.columns.tolist()}\")\n",
    "\n",
    "        subgraphs[lie_name] = {'nodes': nodes_df, 'edges': edges_df}\n",
    "\n",
    "        with open(subgraph_path, 'wb') as f:\n",
    "            pickle.dump(subgraphs[lie_name], f)\n",
    "\n",
    "    return subgraphs, road_network_nodes\n",
    "\n",
    "### Stage 3: Rule-Based Walkability Calculation\n",
    "def compute_walkability_scores(nodes_df):\n",
    "    \"\"\"Calculate rule-based walkability scores for neighborhood nodes.\"\"\"\n",
    "    neighborhood_mask = nodes_df['type'] == 'neighborhood'\n",
    "    neighborhood_df = nodes_df[neighborhood_mask].copy()\n",
    "\n",
    "    if len(neighborhood_df) == 0:\n",
    "        nodes_df['walkability_rule'] = 0.0\n",
    "        return nodes_df\n",
    "\n",
    "    residential = neighborhood_df['land_use_residential_percent']\n",
    "    commercial = neighborhood_df['land_use_commercial_percent']\n",
    "    education = neighborhood_df['land_use_education_percent']\n",
    "    ndvi = neighborhood_df['ndvi_mean'].fillna(0.0)\n",
    "    tree_count = neighborhood_df['tree_count']\n",
    "    transit_count = neighborhood_df['transit_count']\n",
    "\n",
    "    land_use_score = (residential * 0.4 + commercial * 0.3 + education * 0.2) / 100\n",
    "    ndvi_score = ndvi * 0.5\n",
    "    tree_score = (tree_count / 100).clip(upper=1.0) * 0.2\n",
    "    transit_score = (transit_count / 20).clip(upper=1.0) * 0.2\n",
    "\n",
    "    walkability = (land_use_score + ndvi_score * 0.4 + tree_score + transit_score).clip(upper=1.0)\n",
    "    nodes_df['walkability_rule'] = 0.0\n",
    "    nodes_df.loc[neighborhood_mask, 'walkability_rule'] = walkability\n",
    "\n",
    "    return nodes_df\n",
    "\n",
    "def calculate_walkability(subgraphs, neighborhoods_gdf):\n",
    "    \"\"\"Apply walkability scores to subgraphs and update neighborhoods_gdf.\"\"\"\n",
    "    print(\"Stage 3: Calculating rule-based walkability scores...\")\n",
    "    for lie_name, subgraph_data in tqdm(subgraphs.items(), desc=\"Calculating walkability\"):\n",
    "        nodes_df = subgraph_data['nodes']\n",
    "        nodes_df = compute_walkability_scores(nodes_df)\n",
    "        subgraph_data['nodes'] = nodes_df\n",
    "\n",
    "        neighborhood_walkability = nodes_df[nodes_df['type'] == 'neighborhood']['walkability_rule']\n",
    "        if not neighborhood_walkability.empty:\n",
    "            neighborhoods_gdf.loc[neighborhoods_gdf['LIE_NAME'] == lie_name, 'walkability_rule'] = neighborhood_walkability.iloc[0]\n",
    "\n",
    "    return subgraphs\n",
    "\n",
    "### Stage 4: GNN Model with GAT and Validation\n",
    "class GATWalkability(torch.nn.Module):\n",
    "    \"\"\"Graph Attention Network for walkability prediction.\"\"\"\n",
    "    def __init__(self, in_channels, hidden_channels, out_channels):\n",
    "        super(GATWalkability, self).__init__()\n",
    "        self.conv1 = GATConv(in_channels, hidden_channels, heads=8, dropout=0.6)\n",
    "        self.conv2 = GATConv(hidden_channels * 8, out_channels, heads=1, concat=False)\n",
    "\n",
    "    def forward(self, x, edge_index):\n",
    "        x = self.conv1(x, edge_index).relu()\n",
    "        x = self.conv2(x, edge_index)\n",
    "        return x\n",
    "\n",
    "def prepare_gnn_data(subgraphs):\n",
    "    \"\"\"Prepare data for GNN with feature normalization and additional features.\"\"\"\n",
    "    feature_cols = [\n",
    "        'land_use_residential_percent',\n",
    "        'land_use_commercial_percent',\n",
    "        'land_use_education_percent',\n",
    "        'ndvi_mean',\n",
    "        'tree_count',\n",
    "        'transit_count',\n",
    "        'area_m2',\n",
    "        'length_m'\n",
    "    ]\n",
    "\n",
    "    min_values = {col: float('inf') for col in feature_cols}\n",
    "    max_values = {col: float('-inf') for col in feature_cols}\n",
    "\n",
    "    for subgraph_data in subgraphs.values():\n",
    "        nodes_df = subgraph_data['nodes'].to_pandas()\n",
    "        for col in feature_cols:\n",
    "            if col in nodes_df.columns:\n",
    "                col_values = nodes_df[col].fillna(0)\n",
    "                min_values[col] = min(min_values[col], col_values.min())\n",
    "                max_values[col] = max(max_values[col], col_values.max())\n",
    "\n",
    "    data_list = []\n",
    "    for lie_name, subgraph_data in subgraphs.items():\n",
    "        nodes_df = subgraph_data['nodes'].to_pandas()\n",
    "        edges_df = subgraph_data['edges'].to_pandas() if subgraph_data['edges'] is not None else pd.DataFrame()\n",
    "\n",
    "        # Debug: Print columns for this subgraph\n",
    "        print(f\"Columns in nodes_df for subgraph {lie_name} in prepare_gnn_data: {nodes_df.columns.tolist()}\")\n",
    "\n",
    "        node_mapping = {vertex: idx for idx, vertex in enumerate(nodes_df['vertex'])}\n",
    "        nodes_df[feature_cols] = nodes_df[feature_cols].fillna(0)\n",
    "\n",
    "        scaled_nodes_df = nodes_df[feature_cols].copy()\n",
    "        for col in feature_cols:\n",
    "            if max_values[col] > min_values[col]:\n",
    "                scaled_nodes_df[col] = (scaled_nodes_df[col] - min_values[col]) / (max_values[col] - min_values[col])\n",
    "            else:\n",
    "                scaled_nodes_df[col] = 0\n",
    "\n",
    "        x = torch.tensor(scaled_nodes_df.values, dtype=torch.float)\n",
    "\n",
    "        if not edges_df.empty:\n",
    "            edges_df['src_idx'] = edges_df['src'].map(node_mapping)\n",
    "            edges_df['dst_idx'] = edges_df['dst'].map(node_mapping)\n",
    "            edge_index = torch.tensor(edges_df[['src_idx', 'dst_idx']].values.T, dtype=torch.long)\n",
    "        else:\n",
    "            edge_index = torch.tensor([[], []], dtype=torch.long)\n",
    "\n",
    "        y = torch.tensor(nodes_df['walkability_rule'].values, dtype=torch.float)\n",
    "        data_list.append(Data(x=x, edge_index=edge_index, y=y))\n",
    "\n",
    "    return data_list\n",
    "\n",
    "def train_gnn_model(data_list):\n",
    "    \"\"\"Train the GAT model with validation.\"\"\"\n",
    "    print(\"Stage 4: Training GNN model...\")\n",
    "    model = GATWalkability(in_channels=8, hidden_channels=64, out_channels=1)\n",
    "    optimizer = torch.optim.Adam(model.parameters(), lr=0.01)\n",
    "    criterion = torch.nn.MSELoss()\n",
    "\n",
    "    train_data = data_list[:int(0.8 * len(data_list))]\n",
    "    val_data = data_list[int(0.8 * len(data_list)):]\n",
    "\n",
    "    for epoch in tqdm(range(200), desc=\"Training GNN\"):\n",
    "        model.train()\n",
    "        train_loss = 0\n",
    "        for data in train_data:\n",
    "            optimizer.zero_grad()\n",
    "            out = model(data.x, data.edge_index)\n",
    "            loss = criterion(out, data.y.view(-1, 1))\n",
    "            loss.backward()\n",
    "            optimizer.step()\n",
    "            train_loss += loss.item()\n",
    "        train_loss /= len(train_data)\n",
    "\n",
    "        model.eval()\n",
    "        val_loss = 0\n",
    "        with torch.no_grad():\n",
    "            for data in val_data:\n",
    "                out = model(data.x, data.edge_index)\n",
    "                val_loss += criterion(out, data.y.view(-1, 1)).item()\n",
    "        val_loss /= len(val_data)\n",
    "\n",
    "        print(f\"Epoch {epoch+1}, Train Loss: {train_loss:.4f}, Validation Loss: {val_loss:.4f}\")\n",
    "\n",
    "    return model\n",
    "\n",
    "def predict_walkability(subgraphs, model):\n",
    "    \"\"\"Predict walkability scores using the trained GAT model.\"\"\"\n",
    "    for lie_name, subgraph_data in subgraphs.items():\n",
    "        nodes_df = subgraph_data['nodes'].to_pandas()\n",
    "        data = prepare_gnn_data({lie_name: subgraph_data})[0]\n",
    "        \n",
    "        with torch.no_grad():\n",
    "            pred = model(data.x, data.edge_index)\n",
    "        nodes_df['walkability_gnn'] = pred.numpy().flatten()\n",
    "        subgraph_data['nodes'] = cudf.from_pandas(nodes_df)\n",
    "    return subgraphs\n",
    "\n",
    "### Stage 5: Interactive Visualization\n",
    "def create_interactive_map(subgraphs, data):\n",
    "    \"\"\"Generate an interactive Kepler.gl map with multiple urban data layers.\"\"\"\n",
    "    print(\"Stage 5: Generating interactive Kepler.gl map...\")\n",
    "    \n",
    "    # Reproject all GeoDataFrames to EPSG:4326\n",
    "    neighborhoods_gdf = data['neighborhoods'].to_crs('EPSG:4326')\n",
    "    buildings_gdf = data['buildings'].to_crs('EPSG:4326')\n",
    "    roads_gdf = data['roads'].to_crs('EPSG:4326')\n",
    "    trees_gdf = data['trees'].to_crs('EPSG:4326')\n",
    "    transit_gdf = data['transit'].to_crs('EPSG:4326')\n",
    "    urban_masterplan_gdf = data['urban_masterplan'].to_crs('EPSG:4326')\n",
    "\n",
    "    # Update neighborhoods with walkability scores from subgraphs\n",
    "    for lie_name, subgraph_data in subgraphs.items():\n",
    "        nodes_df = subgraph_data['nodes'].to_pandas()\n",
    "        neigh_data = nodes_df[nodes_df['type'] == 'neighborhood'].iloc[0]\n",
    "        neighborhoods_gdf.loc[neighborhoods_gdf['LIE_NAME'] == lie_name, 'walkability_rule'] = neigh_data['walkability_rule']\n",
    "        neighborhoods_gdf.loc[neighborhoods_gdf['LIE_NAME'] == lie_name, 'walkability_gnn'] = neigh_data['walkability_gnn']\n",
    "\n",
    "    # Prepare GeoJSON for each layer with relevant attributes\n",
    "    neighborhoods_geojson = neighborhoods_gdf[['geometry', 'LIE_NAME', 'walkability_rule', 'walkability_gnn', 'tree_count', 'transit_count']].to_json()\n",
    "    buildings_geojson = buildings_gdf[['geometry', 'building', 'area_m2']].to_json()\n",
    "    roads_geojson = roads_gdf[['geometry', 'class', 'length_m']].to_json()\n",
    "    trees_geojson = trees_gdf[['geometry']].to_json()\n",
    "    transit_geojson = transit_gdf[['geometry', 'class']].to_json()\n",
    "    urban_masterplan_geojson = urban_masterplan_gdf[['geometry', 'Category', 'Area']].to_json()\n",
    "\n",
    "    # Initialize Kepler.gl map\n",
    "    map_1 = KeplerGl(height=600, width=800, mapbox_api_access_token=MAPBOX_ACCESS_TOKEN)\n",
    "\n",
    "    # Add all data layers\n",
    "    map_1.add_data(data=neighborhoods_geojson, name=\"Neighborhoods\")\n",
    "    map_1.add_data(data=buildings_geojson, name=\"Buildings\")\n",
    "    map_1.add_data(data=roads_geojson, name=\"Roads\")\n",
    "    map_1.add_data(data=trees_geojson, name=\"Trees\")\n",
    "    map_1.add_data(data=transit_geojson, name=\"Transit\")\n",
    "    map_1.add_data(data=urban_masterplan_geojson, name=\"Urban Masterplan\")\n",
    "\n",
    "    # Load custom configuration if available\n",
    "    CONFIG_PATH = os.path.join(BASE_DIR, \"kepler.gl.json\")\n",
    "    if os.path.exists(CONFIG_PATH):\n",
    "        with open(CONFIG_PATH, 'r') as f:\n",
    "            custom_config = json.load(f)\n",
    "        map_1.config = custom_config\n",
    "        print(f\"Loaded configuration from {CONFIG_PATH}\")\n",
    "    else:\n",
    "        print(\"No configuration file found at kepler.gl.json. Default styling will be applied.\")\n",
    "        print(\"To customize, open the map in Kepler.gl, adjust layers, and export the configuration as kepler.gl.json in the project directory.\")\n",
    "\n",
    "    # Save the map\n",
    "    output_path = os.path.join(BASE_DIR, \"walkability_map.html\")\n",
    "    map_1.save_to_html(file_name=output_path)\n",
    "    print(f\"Interactive map saved at {output_path}\")\n",
    "\n",
    "### Main Execution\n",
    "def main():\n",
    "    \"\"\"Execute the full walkability analysis pipeline.\"\"\"\n",
    "    try:\n",
    "        data = load_and_prepare_data()\n",
    "        subgraphs, road_network_nodes = build_graph(data)\n",
    "        subgraphs = calculate_walkability(subgraphs, data['neighborhoods'])\n",
    "        data_list = prepare_gnn_data(subgraphs)\n",
    "        gnn_model = train_gnn_model(data_list)\n",
    "        subgraphs = predict_walkability(subgraphs, gnn_model)\n",
    "        create_interactive_map(subgraphs, data)\n",
    "        print(\"Analysis completed successfully.\")\n",
    "    except Exception as e:\n",
    "        print(f\"Error during analysis: {e}\")\n",
    "        import traceback\n",
    "        print(traceback.format_exc())\n",
    "\n",
    "if __name__ == \"__main__\":\n",
    "    main()"
   ]
  },
  {
   "cell_type": "code",
   "execution_count": null,
   "metadata": {},
   "outputs": [],
   "source": []
  }
 ],
 "metadata": {
  "kernelspec": {
   "display_name": "rapids_wsl",
   "language": "python",
   "name": "python3"
  },
  "language_info": {
   "codemirror_mode": {
    "name": "ipython",
    "version": 3
   },
   "file_extension": ".py",
   "mimetype": "text/x-python",
   "name": "python",
   "nbconvert_exporter": "python",
   "pygments_lexer": "ipython3",
   "version": "3.12.9"
  }
 },
 "nbformat": 4,
 "nbformat_minor": 2
}
